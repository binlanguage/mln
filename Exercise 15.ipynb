{
 "cells": [
  {
   "cell_type": "code",
   "execution_count": 2,
   "id": "f9891e39",
   "metadata": {
    "ExecuteTime": {
     "end_time": "2024-04-16T01:23:28.143130Z",
     "start_time": "2024-04-16T01:22:58.408693Z"
    }
   },
   "outputs": [],
   "source": [
    "from pathlib import Path\n",
    "\n",
    "import os\n",
    "import matplotlib.pyplot as plt\n",
    "import pandas as pd\n",
    "import numpy as np\n",
    "import tensorflow as tf\n",
    "import keras\n",
    "np.set_printoptions(precision=4)"
   ]
  },
  {
   "cell_type": "markdown",
   "id": "76d676ce",
   "metadata": {},
   "source": [
    "## SketchRNN"
   ]
  },
  {
   "cell_type": "code",
   "execution_count": 90,
   "id": "1e2e9f30",
   "metadata": {
    "ExecuteTime": {
     "end_time": "2024-04-15T00:36:50.218394Z",
     "start_time": "2024-04-15T00:34:19.670722Z"
    }
   },
   "outputs": [
    {
     "name": "stdout",
     "output_type": "stream",
     "text": [
      "Downloading data from http://download.tensorflow.org/data/quickdraw_tutorial_dataset_v1.tar.gz\n",
      "1065301781/1065301781 [==============================] - 132s 0us/step\n"
     ]
    }
   ],
   "source": [
    "\n",
    "DOWNLOAD_ROOT = \"http://download.tensorflow.org/data/\"\n",
    "FILENAME = \"quickdraw_tutorial_dataset_v1.tar.gz\"\n",
    "filepath = keras.utils.get_file(FILENAME,\n",
    "                                DOWNLOAD_ROOT + FILENAME,\n",
    "                                cache_subdir=\"datasets/quickdraw\",\n",
    "                                extract=True)"
   ]
  },
  {
   "cell_type": "code",
   "execution_count": 6,
   "id": "9778ea4d",
   "metadata": {
    "ExecuteTime": {
     "end_time": "2024-04-11T01:55:21.244148Z",
     "start_time": "2024-04-11T01:55:21.238147Z"
    }
   },
   "outputs": [
    {
     "data": {
      "text/plain": [
       "'C:\\\\Users\\\\sec_zca9cu_rw\\\\.keras\\\\datasets/quickdraw\\\\quickdraw_tutorial_dataset_v1.tar.gz'"
      ]
     },
     "execution_count": 6,
     "metadata": {},
     "output_type": "execute_result"
    }
   ],
   "source": [
    "filepath"
   ]
  },
  {
   "cell_type": "code",
   "execution_count": 72,
   "id": "5ba1f8e9",
   "metadata": {
    "ExecuteTime": {
     "end_time": "2024-04-12T01:09:38.371425Z",
     "start_time": "2024-04-12T01:09:37.917921Z"
    }
   },
   "outputs": [],
   "source": [
    "quickdraw_dir = Path(filepath).parent\n",
    "all_files= sorted([str(file) for file in quickdraw_dir.glob(\"*.*\")])\n",
    "train_files = sorted([str(path) for path in quickdraw_dir.glob(\"training.tfrecord-*\")])\n",
    "eval_files = sorted([str(path) for path in quickdraw_dir.glob(\"eval.tfrecord-*\")])"
   ]
  },
  {
   "cell_type": "code",
   "execution_count": 73,
   "id": "d478e50f",
   "metadata": {
    "ExecuteTime": {
     "end_time": "2024-04-12T01:09:39.181942Z",
     "start_time": "2024-04-12T01:09:39.137934Z"
    }
   },
   "outputs": [
    {
     "data": {
      "text/plain": [
       "['C:\\\\Users\\\\sec_zca9cu_rw\\\\.keras\\\\datasets\\\\quickdraw\\\\eval.tfrecord-00000-of-00010',\n",
       " 'C:\\\\Users\\\\sec_zca9cu_rw\\\\.keras\\\\datasets\\\\quickdraw\\\\eval.tfrecord-00001-of-00010',\n",
       " 'C:\\\\Users\\\\sec_zca9cu_rw\\\\.keras\\\\datasets\\\\quickdraw\\\\eval.tfrecord-00002-of-00010',\n",
       " 'C:\\\\Users\\\\sec_zca9cu_rw\\\\.keras\\\\datasets\\\\quickdraw\\\\eval.tfrecord-00003-of-00010',\n",
       " 'C:\\\\Users\\\\sec_zca9cu_rw\\\\.keras\\\\datasets\\\\quickdraw\\\\eval.tfrecord-00004-of-00010',\n",
       " 'C:\\\\Users\\\\sec_zca9cu_rw\\\\.keras\\\\datasets\\\\quickdraw\\\\eval.tfrecord-00005-of-00010',\n",
       " 'C:\\\\Users\\\\sec_zca9cu_rw\\\\.keras\\\\datasets\\\\quickdraw\\\\eval.tfrecord-00006-of-00010',\n",
       " 'C:\\\\Users\\\\sec_zca9cu_rw\\\\.keras\\\\datasets\\\\quickdraw\\\\eval.tfrecord-00007-of-00010',\n",
       " 'C:\\\\Users\\\\sec_zca9cu_rw\\\\.keras\\\\datasets\\\\quickdraw\\\\eval.tfrecord-00008-of-00010',\n",
       " 'C:\\\\Users\\\\sec_zca9cu_rw\\\\.keras\\\\datasets\\\\quickdraw\\\\eval.tfrecord-00009-of-00010',\n",
       " 'C:\\\\Users\\\\sec_zca9cu_rw\\\\.keras\\\\datasets\\\\quickdraw\\\\eval.tfrecord.classes',\n",
       " 'C:\\\\Users\\\\sec_zca9cu_rw\\\\.keras\\\\datasets\\\\quickdraw\\\\training.tfrecord-00000-of-00010',\n",
       " 'C:\\\\Users\\\\sec_zca9cu_rw\\\\.keras\\\\datasets\\\\quickdraw\\\\training.tfrecord-00001-of-00010',\n",
       " 'C:\\\\Users\\\\sec_zca9cu_rw\\\\.keras\\\\datasets\\\\quickdraw\\\\training.tfrecord-00002-of-00010',\n",
       " 'C:\\\\Users\\\\sec_zca9cu_rw\\\\.keras\\\\datasets\\\\quickdraw\\\\training.tfrecord-00003-of-00010',\n",
       " 'C:\\\\Users\\\\sec_zca9cu_rw\\\\.keras\\\\datasets\\\\quickdraw\\\\training.tfrecord-00004-of-00010',\n",
       " 'C:\\\\Users\\\\sec_zca9cu_rw\\\\.keras\\\\datasets\\\\quickdraw\\\\training.tfrecord-00005-of-00010',\n",
       " 'C:\\\\Users\\\\sec_zca9cu_rw\\\\.keras\\\\datasets\\\\quickdraw\\\\training.tfrecord-00006-of-00010',\n",
       " 'C:\\\\Users\\\\sec_zca9cu_rw\\\\.keras\\\\datasets\\\\quickdraw\\\\training.tfrecord-00007-of-00010',\n",
       " 'C:\\\\Users\\\\sec_zca9cu_rw\\\\.keras\\\\datasets\\\\quickdraw\\\\training.tfrecord-00008-of-00010',\n",
       " 'C:\\\\Users\\\\sec_zca9cu_rw\\\\.keras\\\\datasets\\\\quickdraw\\\\training.tfrecord-00009-of-00010',\n",
       " 'C:\\\\Users\\\\sec_zca9cu_rw\\\\.keras\\\\datasets\\\\quickdraw\\\\training.tfrecord.classes']"
      ]
     },
     "execution_count": 73,
     "metadata": {},
     "output_type": "execute_result"
    }
   ],
   "source": [
    "all_files"
   ]
  },
  {
   "cell_type": "code",
   "execution_count": 15,
   "id": "b4ea9841",
   "metadata": {
    "ExecuteTime": {
     "end_time": "2024-04-11T07:11:39.118218Z",
     "start_time": "2024-04-11T07:11:39.110217Z"
    },
    "run_control": {
     "marked": true
    }
   },
   "outputs": [],
   "source": [
    "#读class 文件\n",
    "with open(quickdraw_dir / \"eval.tfrecord.classes\") as test_classes_file:\n",
    "    test_classes = test_classes_file.readlines()\n",
    "    \n",
    "with open(quickdraw_dir / \"training.tfrecord.classes\") as train_classes_file:\n",
    "    train_classes = train_classes_file.readlines()"
   ]
  },
  {
   "cell_type": "code",
   "execution_count": 81,
   "id": "b49ded72",
   "metadata": {
    "ExecuteTime": {
     "end_time": "2024-04-12T01:12:38.434313Z",
     "start_time": "2024-04-12T01:12:38.110051Z"
    },
    "scrolled": true
   },
   "outputs": [
    {
     "data": {
      "text/plain": [
       "345"
      ]
     },
     "execution_count": 81,
     "metadata": {},
     "output_type": "execute_result"
    }
   ],
   "source": [
    "assert test_classes==train_classes #验证测试类别标签和训练标签类别一致\n",
    "class_names = [name.strip().lower() for name in train_classes] #去除类别标签前后空格，转小写\n",
    "len(class_names) #345个分类"
   ]
  },
  {
   "cell_type": "code",
   "execution_count": 42,
   "id": "d9ce3381",
   "metadata": {
    "ExecuteTime": {
     "end_time": "2024-04-11T07:57:49.789127Z",
     "start_time": "2024-04-11T07:57:49.785129Z"
    }
   },
   "outputs": [],
   "source": [
    "def parse(data_batch):\n",
    "    feature_descriptions = {\n",
    "        \"ink\": tf.io.VarLenFeature(dtype=tf.float32),#变长特征\n",
    "        \"shape\": tf.io.FixedLenFeature([2], dtype=tf.int64),#定长特征\n",
    "        \"class_index\": tf.io.FixedLenFeature([1], dtype=tf.int64)\n",
    "    }\n",
    "    examples = tf.io.parse_example(data_batch, feature_descriptions)\n",
    "    flat_sketches = tf.sparse.to_dense(examples[\"ink\"])\n",
    "    sketches = tf.reshape(flat_sketches, shape=[tf.size(data_batch), -1, 3])\n",
    "    lengths = examples[\"shape\"][:, 0]\n",
    "    labels = examples[\"class_index\"][:, 0]\n",
    "    return sketches, lengths, labels"
   ]
  },
  {
   "cell_type": "code",
   "execution_count": 43,
   "id": "3a125b19",
   "metadata": {
    "ExecuteTime": {
     "end_time": "2024-04-11T07:57:50.454714Z",
     "start_time": "2024-04-11T07:57:50.449710Z"
    },
    "run_control": {
     "marked": true
    }
   },
   "outputs": [],
   "source": [
    "def quickdraw_dataset(filepaths, batch_size=32, shuffle_buffer_size=None,\n",
    "                      n_parse_threads=5, n_read_threads=5, cache=False):\n",
    "    dataset = tf.data.TFRecordDataset(filepaths,\n",
    "                                      num_parallel_reads=n_read_threads)\n",
    "    if cache:\n",
    "        dataset = dataset.cache()\n",
    "    if shuffle_buffer_size:\n",
    "        dataset = dataset.shuffle(shuffle_buffer_size)\n",
    "    dataset = dataset.batch(batch_size)\n",
    "    dataset = dataset.map(parse, num_parallel_calls=n_parse_threads)\n",
    "    return dataset.prefetch(1)"
   ]
  },
  {
   "cell_type": "code",
   "execution_count": 74,
   "id": "f43ced2e",
   "metadata": {
    "ExecuteTime": {
     "end_time": "2024-04-12T01:10:24.536185Z",
     "start_time": "2024-04-12T01:10:13.016122Z"
    }
   },
   "outputs": [],
   "source": [
    "examplefile='C:\\\\Users\\\\sec_zca9cu_rw\\\\.keras\\\\datasets\\\\quickdraw\\\\eval.tfrecord-00004-of-00010'\n",
    "dataset = tf.data.TFRecordDataset(examplefile)\n",
    "bytedataset=list(dataset)"
   ]
  },
  {
   "cell_type": "code",
   "execution_count": 75,
   "id": "d71014ed",
   "metadata": {
    "ExecuteTime": {
     "end_time": "2024-04-12T01:10:50.876263Z",
     "start_time": "2024-04-12T01:10:48.179596Z"
    }
   },
   "outputs": [],
   "source": [
    "feature_descriptions = {\n",
    "        \"ink\": tf.io.VarLenFeature(dtype=tf.float32),#变长特征\n",
    "        \"shape\": tf.io.FixedLenFeature([2], dtype=tf.int64),#定长特征\n",
    "        \"class_index\": tf.io.FixedLenFeature([1], dtype=tf.int64)\n",
    "    }\n",
    "dataset_example = tf.io.parse_example(bytedataset, feature_descriptions)"
   ]
  },
  {
   "cell_type": "code",
   "execution_count": 78,
   "id": "deef2b10",
   "metadata": {
    "ExecuteTime": {
     "end_time": "2024-04-12T01:11:10.413341Z",
     "start_time": "2024-04-12T01:11:10.289331Z"
    }
   },
   "outputs": [
    {
     "data": {
      "text/plain": [
       "<tf.Tensor: shape=(34279, 2040), dtype=float32, numpy=\n",
       "array([[-0.0863, -0.0354,  0.    , ...,  0.    ,  0.    ,  0.    ],\n",
       "       [-0.0472, -0.019 ,  0.    , ...,  0.    ,  0.    ,  0.    ],\n",
       "       [-0.0748, -0.0442,  0.    , ...,  0.    ,  0.    ,  0.    ],\n",
       "       ...,\n",
       "       [ 0.1391,  0.0157,  0.    , ...,  0.    ,  0.    ,  0.    ],\n",
       "       [ 0.0235, -0.0714,  0.    , ...,  0.    ,  0.    ,  0.    ],\n",
       "       [ 0.0902, -0.0127,  0.    , ...,  0.    ,  0.    ,  0.    ]],\n",
       "      dtype=float32)>"
      ]
     },
     "execution_count": 78,
     "metadata": {},
     "output_type": "execute_result"
    }
   ],
   "source": [
    "tf.sparse.to_dense(dataset_example[\"ink\"])"
   ]
  },
  {
   "cell_type": "code",
   "execution_count": null,
   "id": "90de832f",
   "metadata": {},
   "outputs": [],
   "source": []
  },
  {
   "cell_type": "code",
   "execution_count": null,
   "id": "a5b5e8a5",
   "metadata": {},
   "outputs": [],
   "source": []
  },
  {
   "cell_type": "markdown",
   "id": "98a12c88",
   "metadata": {},
   "source": [
    "## jsb_chorales"
   ]
  },
  {
   "cell_type": "code",
   "execution_count": 4,
   "id": "05902b77",
   "metadata": {
    "ExecuteTime": {
     "end_time": "2024-04-16T01:24:28.376349Z",
     "start_time": "2024-04-16T01:24:28.345097Z"
    },
    "scrolled": true
   },
   "outputs": [
    {
     "data": {
      "text/plain": [
       "['C:\\\\Users\\\\sec_zca9cu_rw\\\\.keras\\\\datasets\\\\jsb_chorales\\\\test\\\\chorale_305.csv',\n",
       " 'C:\\\\Users\\\\sec_zca9cu_rw\\\\.keras\\\\datasets\\\\jsb_chorales\\\\test\\\\chorale_306.csv',\n",
       " 'C:\\\\Users\\\\sec_zca9cu_rw\\\\.keras\\\\datasets\\\\jsb_chorales\\\\test\\\\chorale_307.csv',\n",
       " 'C:\\\\Users\\\\sec_zca9cu_rw\\\\.keras\\\\datasets\\\\jsb_chorales\\\\test\\\\chorale_308.csv',\n",
       " 'C:\\\\Users\\\\sec_zca9cu_rw\\\\.keras\\\\datasets\\\\jsb_chorales\\\\test\\\\chorale_309.csv',\n",
       " 'C:\\\\Users\\\\sec_zca9cu_rw\\\\.keras\\\\datasets\\\\jsb_chorales\\\\test\\\\chorale_310.csv',\n",
       " 'C:\\\\Users\\\\sec_zca9cu_rw\\\\.keras\\\\datasets\\\\jsb_chorales\\\\test\\\\chorale_311.csv',\n",
       " 'C:\\\\Users\\\\sec_zca9cu_rw\\\\.keras\\\\datasets\\\\jsb_chorales\\\\test\\\\chorale_312.csv',\n",
       " 'C:\\\\Users\\\\sec_zca9cu_rw\\\\.keras\\\\datasets\\\\jsb_chorales\\\\test\\\\chorale_313.csv',\n",
       " 'C:\\\\Users\\\\sec_zca9cu_rw\\\\.keras\\\\datasets\\\\jsb_chorales\\\\test\\\\chorale_314.csv',\n",
       " 'C:\\\\Users\\\\sec_zca9cu_rw\\\\.keras\\\\datasets\\\\jsb_chorales\\\\test\\\\chorale_315.csv',\n",
       " 'C:\\\\Users\\\\sec_zca9cu_rw\\\\.keras\\\\datasets\\\\jsb_chorales\\\\test\\\\chorale_316.csv',\n",
       " 'C:\\\\Users\\\\sec_zca9cu_rw\\\\.keras\\\\datasets\\\\jsb_chorales\\\\test\\\\chorale_317.csv',\n",
       " 'C:\\\\Users\\\\sec_zca9cu_rw\\\\.keras\\\\datasets\\\\jsb_chorales\\\\test\\\\chorale_318.csv',\n",
       " 'C:\\\\Users\\\\sec_zca9cu_rw\\\\.keras\\\\datasets\\\\jsb_chorales\\\\test\\\\chorale_319.csv',\n",
       " 'C:\\\\Users\\\\sec_zca9cu_rw\\\\.keras\\\\datasets\\\\jsb_chorales\\\\test\\\\chorale_320.csv',\n",
       " 'C:\\\\Users\\\\sec_zca9cu_rw\\\\.keras\\\\datasets\\\\jsb_chorales\\\\test\\\\chorale_321.csv',\n",
       " 'C:\\\\Users\\\\sec_zca9cu_rw\\\\.keras\\\\datasets\\\\jsb_chorales\\\\test\\\\chorale_322.csv',\n",
       " 'C:\\\\Users\\\\sec_zca9cu_rw\\\\.keras\\\\datasets\\\\jsb_chorales\\\\test\\\\chorale_323.csv',\n",
       " 'C:\\\\Users\\\\sec_zca9cu_rw\\\\.keras\\\\datasets\\\\jsb_chorales\\\\test\\\\chorale_324.csv',\n",
       " 'C:\\\\Users\\\\sec_zca9cu_rw\\\\.keras\\\\datasets\\\\jsb_chorales\\\\test\\\\chorale_325.csv',\n",
       " 'C:\\\\Users\\\\sec_zca9cu_rw\\\\.keras\\\\datasets\\\\jsb_chorales\\\\test\\\\chorale_326.csv',\n",
       " 'C:\\\\Users\\\\sec_zca9cu_rw\\\\.keras\\\\datasets\\\\jsb_chorales\\\\test\\\\chorale_327.csv',\n",
       " 'C:\\\\Users\\\\sec_zca9cu_rw\\\\.keras\\\\datasets\\\\jsb_chorales\\\\test\\\\chorale_328.csv',\n",
       " 'C:\\\\Users\\\\sec_zca9cu_rw\\\\.keras\\\\datasets\\\\jsb_chorales\\\\test\\\\chorale_329.csv',\n",
       " 'C:\\\\Users\\\\sec_zca9cu_rw\\\\.keras\\\\datasets\\\\jsb_chorales\\\\test\\\\chorale_330.csv',\n",
       " 'C:\\\\Users\\\\sec_zca9cu_rw\\\\.keras\\\\datasets\\\\jsb_chorales\\\\test\\\\chorale_331.csv',\n",
       " 'C:\\\\Users\\\\sec_zca9cu_rw\\\\.keras\\\\datasets\\\\jsb_chorales\\\\test\\\\chorale_332.csv',\n",
       " 'C:\\\\Users\\\\sec_zca9cu_rw\\\\.keras\\\\datasets\\\\jsb_chorales\\\\test\\\\chorale_333.csv',\n",
       " 'C:\\\\Users\\\\sec_zca9cu_rw\\\\.keras\\\\datasets\\\\jsb_chorales\\\\test\\\\chorale_334.csv',\n",
       " 'C:\\\\Users\\\\sec_zca9cu_rw\\\\.keras\\\\datasets\\\\jsb_chorales\\\\test\\\\chorale_335.csv',\n",
       " 'C:\\\\Users\\\\sec_zca9cu_rw\\\\.keras\\\\datasets\\\\jsb_chorales\\\\test\\\\chorale_336.csv',\n",
       " 'C:\\\\Users\\\\sec_zca9cu_rw\\\\.keras\\\\datasets\\\\jsb_chorales\\\\test\\\\chorale_337.csv',\n",
       " 'C:\\\\Users\\\\sec_zca9cu_rw\\\\.keras\\\\datasets\\\\jsb_chorales\\\\test\\\\chorale_338.csv',\n",
       " 'C:\\\\Users\\\\sec_zca9cu_rw\\\\.keras\\\\datasets\\\\jsb_chorales\\\\test\\\\chorale_339.csv',\n",
       " 'C:\\\\Users\\\\sec_zca9cu_rw\\\\.keras\\\\datasets\\\\jsb_chorales\\\\test\\\\chorale_340.csv',\n",
       " 'C:\\\\Users\\\\sec_zca9cu_rw\\\\.keras\\\\datasets\\\\jsb_chorales\\\\test\\\\chorale_341.csv',\n",
       " 'C:\\\\Users\\\\sec_zca9cu_rw\\\\.keras\\\\datasets\\\\jsb_chorales\\\\test\\\\chorale_342.csv',\n",
       " 'C:\\\\Users\\\\sec_zca9cu_rw\\\\.keras\\\\datasets\\\\jsb_chorales\\\\test\\\\chorale_343.csv',\n",
       " 'C:\\\\Users\\\\sec_zca9cu_rw\\\\.keras\\\\datasets\\\\jsb_chorales\\\\test\\\\chorale_344.csv',\n",
       " 'C:\\\\Users\\\\sec_zca9cu_rw\\\\.keras\\\\datasets\\\\jsb_chorales\\\\test\\\\chorale_345.csv',\n",
       " 'C:\\\\Users\\\\sec_zca9cu_rw\\\\.keras\\\\datasets\\\\jsb_chorales\\\\test\\\\chorale_346.csv',\n",
       " 'C:\\\\Users\\\\sec_zca9cu_rw\\\\.keras\\\\datasets\\\\jsb_chorales\\\\test\\\\chorale_347.csv',\n",
       " 'C:\\\\Users\\\\sec_zca9cu_rw\\\\.keras\\\\datasets\\\\jsb_chorales\\\\test\\\\chorale_348.csv',\n",
       " 'C:\\\\Users\\\\sec_zca9cu_rw\\\\.keras\\\\datasets\\\\jsb_chorales\\\\test\\\\chorale_349.csv',\n",
       " 'C:\\\\Users\\\\sec_zca9cu_rw\\\\.keras\\\\datasets\\\\jsb_chorales\\\\test\\\\chorale_350.csv',\n",
       " 'C:\\\\Users\\\\sec_zca9cu_rw\\\\.keras\\\\datasets\\\\jsb_chorales\\\\test\\\\chorale_351.csv',\n",
       " 'C:\\\\Users\\\\sec_zca9cu_rw\\\\.keras\\\\datasets\\\\jsb_chorales\\\\test\\\\chorale_352.csv',\n",
       " 'C:\\\\Users\\\\sec_zca9cu_rw\\\\.keras\\\\datasets\\\\jsb_chorales\\\\test\\\\chorale_353.csv',\n",
       " 'C:\\\\Users\\\\sec_zca9cu_rw\\\\.keras\\\\datasets\\\\jsb_chorales\\\\test\\\\chorale_354.csv',\n",
       " 'C:\\\\Users\\\\sec_zca9cu_rw\\\\.keras\\\\datasets\\\\jsb_chorales\\\\test\\\\chorale_355.csv',\n",
       " 'C:\\\\Users\\\\sec_zca9cu_rw\\\\.keras\\\\datasets\\\\jsb_chorales\\\\test\\\\chorale_356.csv',\n",
       " 'C:\\\\Users\\\\sec_zca9cu_rw\\\\.keras\\\\datasets\\\\jsb_chorales\\\\test\\\\chorale_357.csv',\n",
       " 'C:\\\\Users\\\\sec_zca9cu_rw\\\\.keras\\\\datasets\\\\jsb_chorales\\\\test\\\\chorale_358.csv',\n",
       " 'C:\\\\Users\\\\sec_zca9cu_rw\\\\.keras\\\\datasets\\\\jsb_chorales\\\\test\\\\chorale_359.csv',\n",
       " 'C:\\\\Users\\\\sec_zca9cu_rw\\\\.keras\\\\datasets\\\\jsb_chorales\\\\test\\\\chorale_360.csv',\n",
       " 'C:\\\\Users\\\\sec_zca9cu_rw\\\\.keras\\\\datasets\\\\jsb_chorales\\\\test\\\\chorale_361.csv',\n",
       " 'C:\\\\Users\\\\sec_zca9cu_rw\\\\.keras\\\\datasets\\\\jsb_chorales\\\\test\\\\chorale_362.csv',\n",
       " 'C:\\\\Users\\\\sec_zca9cu_rw\\\\.keras\\\\datasets\\\\jsb_chorales\\\\test\\\\chorale_363.csv',\n",
       " 'C:\\\\Users\\\\sec_zca9cu_rw\\\\.keras\\\\datasets\\\\jsb_chorales\\\\test\\\\chorale_364.csv',\n",
       " 'C:\\\\Users\\\\sec_zca9cu_rw\\\\.keras\\\\datasets\\\\jsb_chorales\\\\test\\\\chorale_365.csv',\n",
       " 'C:\\\\Users\\\\sec_zca9cu_rw\\\\.keras\\\\datasets\\\\jsb_chorales\\\\test\\\\chorale_366.csv',\n",
       " 'C:\\\\Users\\\\sec_zca9cu_rw\\\\.keras\\\\datasets\\\\jsb_chorales\\\\test\\\\chorale_367.csv',\n",
       " 'C:\\\\Users\\\\sec_zca9cu_rw\\\\.keras\\\\datasets\\\\jsb_chorales\\\\test\\\\chorale_368.csv',\n",
       " 'C:\\\\Users\\\\sec_zca9cu_rw\\\\.keras\\\\datasets\\\\jsb_chorales\\\\test\\\\chorale_369.csv',\n",
       " 'C:\\\\Users\\\\sec_zca9cu_rw\\\\.keras\\\\datasets\\\\jsb_chorales\\\\test\\\\chorale_370.csv',\n",
       " 'C:\\\\Users\\\\sec_zca9cu_rw\\\\.keras\\\\datasets\\\\jsb_chorales\\\\test\\\\chorale_371.csv',\n",
       " 'C:\\\\Users\\\\sec_zca9cu_rw\\\\.keras\\\\datasets\\\\jsb_chorales\\\\test\\\\chorale_372.csv',\n",
       " 'C:\\\\Users\\\\sec_zca9cu_rw\\\\.keras\\\\datasets\\\\jsb_chorales\\\\test\\\\chorale_373.csv',\n",
       " 'C:\\\\Users\\\\sec_zca9cu_rw\\\\.keras\\\\datasets\\\\jsb_chorales\\\\test\\\\chorale_374.csv',\n",
       " 'C:\\\\Users\\\\sec_zca9cu_rw\\\\.keras\\\\datasets\\\\jsb_chorales\\\\test\\\\chorale_375.csv',\n",
       " 'C:\\\\Users\\\\sec_zca9cu_rw\\\\.keras\\\\datasets\\\\jsb_chorales\\\\test\\\\chorale_376.csv',\n",
       " 'C:\\\\Users\\\\sec_zca9cu_rw\\\\.keras\\\\datasets\\\\jsb_chorales\\\\test\\\\chorale_377.csv',\n",
       " 'C:\\\\Users\\\\sec_zca9cu_rw\\\\.keras\\\\datasets\\\\jsb_chorales\\\\test\\\\chorale_378.csv',\n",
       " 'C:\\\\Users\\\\sec_zca9cu_rw\\\\.keras\\\\datasets\\\\jsb_chorales\\\\test\\\\chorale_379.csv',\n",
       " 'C:\\\\Users\\\\sec_zca9cu_rw\\\\.keras\\\\datasets\\\\jsb_chorales\\\\test\\\\chorale_380.csv',\n",
       " 'C:\\\\Users\\\\sec_zca9cu_rw\\\\.keras\\\\datasets\\\\jsb_chorales\\\\test\\\\chorale_381.csv']"
      ]
     },
     "execution_count": 4,
     "metadata": {},
     "output_type": "execute_result"
    }
   ],
   "source": [
    "chorales_file = tf.keras.utils.get_file('jsb_chorales', \n",
    "                                       'https://raw.githubusercontent.com/ageron/data/main/jsb_chorales.tgz',\n",
    "                                        untar=True)\n",
    "\n",
    "chorales_root = Path(chorales_file)\n",
    "\n",
    "train_chorales_list=sorted([str(file) for file in chorales_root.glob(\"train/*.csv\")])\n",
    "valid_chorales_list=sorted([str(file) for file in chorales_root.glob(\"valid/*.csv\")])\n",
    "test_chorales_list=sorted([str(file) for file in chorales_root.glob(\"test/*.csv\")])\n",
    "test_chorales_list"
   ]
  },
  {
   "cell_type": "code",
   "execution_count": 5,
   "id": "37f2c759",
   "metadata": {
    "ExecuteTime": {
     "end_time": "2024-04-16T01:24:30.829473Z",
     "start_time": "2024-04-16T01:24:30.813854Z"
    }
   },
   "outputs": [
    {
     "name": "stdout",
     "output_type": "stream",
     "text": [
      "<class 'pandas.core.frame.DataFrame'>\n",
      "RangeIndex: 228 entries, 0 to 227\n",
      "Data columns (total 4 columns):\n",
      " #   Column  Non-Null Count  Dtype\n",
      "---  ------  --------------  -----\n",
      " 0   note0   228 non-null    int64\n",
      " 1   note1   228 non-null    int64\n",
      " 2   note2   228 non-null    int64\n",
      " 3   note3   228 non-null    int64\n",
      "dtypes: int64(4)\n",
      "memory usage: 7.2 KB\n"
     ]
    }
   ],
   "source": [
    "#看下基本数据结构，四个int64列\n",
    "csv_example='C:\\\\Users\\\\sec_zca9cu_rw\\\\.keras\\\\datasets\\\\jsb_chorales\\\\test\\\\chorale_305.csv'\n",
    "\n",
    "df = pd.read_csv(csv_example)\n",
    "df.info()"
   ]
  },
  {
   "cell_type": "code",
   "execution_count": 6,
   "id": "6072501a",
   "metadata": {
    "ExecuteTime": {
     "end_time": "2024-04-16T01:24:35.063968Z",
     "start_time": "2024-04-16T01:24:35.048407Z"
    }
   },
   "outputs": [],
   "source": [
    "#读取csv文件，最后一行做label，其他行做dataset\n",
    "#数据集很小，可以直接用tf.data.Dataset.from_tensor_slices(dict(df))读取内存\n",
    "#experimental.make_csv_dataset 属于高级接口。它支持列类型推断,批处理和重排\n",
    "#experimental.CsvDataset 属于低级接口,提供粒度更细的控制，不支持列类型推断,须指定每个列的类型\n",
    "\n",
    "def csvparse(csvfile):\n",
    "    chorales_notes  = [tf.int64,tf.int64,tf.int64,tf.int64]\n",
    "    dataset = tf.data.experimental.CsvDataset(csvfile, chorales_notes , header=True) #header必须设置为true否则读取不到列类型\n",
    "    label = list(dataset)[-1]\n",
    "    return list(dataset)[:-1],label"
   ]
  },
  {
   "cell_type": "code",
   "execution_count": null,
   "id": "a10d3faa",
   "metadata": {
    "ExecuteTime": {
     "start_time": "2024-04-16T01:24:36.209Z"
    }
   },
   "outputs": [],
   "source": [
    "#拿两个文件列表map测试\n",
    "csv_example=['C:\\\\Users\\\\sec_zca9cu_rw\\\\.keras\\\\datasets\\\\jsb_chorales\\\\test\\\\chorale_305.csv',\n",
    "             'C:\\\\Users\\\\sec_zca9cu_rw\\\\.keras\\\\datasets\\\\jsb_chorales\\\\test\\\\chorale_305.csv']\n",
    "dataset = tf.data.Dataset.from_tensor_slices(csv_example)\n",
    "dataset , label = dataset.map(csvparse)"
   ]
  },
  {
   "cell_type": "code",
   "execution_count": null,
   "id": "e932335a",
   "metadata": {
    "ExecuteTime": {
     "end_time": "2024-04-16T01:13:50.344235Z",
     "start_time": "2024-04-16T01:13:50.344235Z"
    }
   },
   "outputs": [],
   "source": [
    "#创建数据集，读取csv文件列表\n",
    "def create_dataset(csvfiles):\n",
    "    dataset = tf.data.Dataset.from_tensor_slices(csvfiles)#读取文件列表，转换为tf.data\n",
    "    dataset , label = dataset.map(csvparse)\n",
    "    return dataset, label"
   ]
  },
  {
   "cell_type": "code",
   "execution_count": null,
   "id": "8c0c7cac",
   "metadata": {
    "ExecuteTime": {
     "end_time": "2024-04-16T01:13:50.345231Z",
     "start_time": "2024-04-16T01:13:50.345231Z"
    }
   },
   "outputs": [],
   "source": [
    "test_dataset=create_dataset(test_chorales_list)\n",
    "#list[test_dataset]"
   ]
  },
  {
   "cell_type": "code",
   "execution_count": 114,
   "id": "5fa4dd0f",
   "metadata": {
    "ExecuteTime": {
     "end_time": "2024-04-15T00:56:49.062414Z",
     "start_time": "2024-04-15T00:56:49.031354Z"
    }
   },
   "outputs": [
    {
     "name": "stdout",
     "output_type": "stream",
     "text": [
      "[65, 60, 57, 53]\n",
      "[65, 60, 57, 53]\n",
      "[65, 60, 57, 53]\n",
      "[65, 60, 57, 53]\n",
      "[72, 60, 55, 52]\n",
      "[72, 60, 55, 52]\n",
      "[70, 60, 55, 52]\n",
      "[70, 60, 55, 52]\n",
      "[69, 60, 53, 53]\n",
      "[69, 60, 53, 53]\n"
     ]
    }
   ],
   "source": [
    "for line in test_dataset.take(10):\n",
    "    print([item.numpy() for item in line])"
   ]
  },
  {
   "cell_type": "code",
   "execution_count": 121,
   "id": "2d94a160",
   "metadata": {
    "ExecuteTime": {
     "end_time": "2024-04-15T01:06:33.084104Z",
     "start_time": "2024-04-15T01:06:32.869691Z"
    }
   },
   "outputs": [
    {
     "data": {
      "text/plain": [
       "77"
      ]
     },
     "execution_count": 121,
     "metadata": {},
     "output_type": "execute_result"
    }
   ],
   "source": [
    "len(list(test_dataset))"
   ]
  }
 ],
 "metadata": {
  "kernelspec": {
   "display_name": "Python 3 (ipykernel)",
   "language": "python",
   "name": "python3"
  },
  "language_info": {
   "codemirror_mode": {
    "name": "ipython",
    "version": 3
   },
   "file_extension": ".py",
   "mimetype": "text/x-python",
   "name": "python",
   "nbconvert_exporter": "python",
   "pygments_lexer": "ipython3",
   "version": "3.10.10"
  }
 },
 "nbformat": 4,
 "nbformat_minor": 5
}
