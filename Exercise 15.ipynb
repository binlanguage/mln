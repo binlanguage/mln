{
 "cells": [
  {
   "cell_type": "code",
   "execution_count": 8,
   "id": "7184bb3e",
   "metadata": {
    "ExecuteTime": {
     "end_time": "2024-04-11T01:57:46.867624Z",
     "start_time": "2024-04-11T01:57:46.863623Z"
    }
   },
   "outputs": [],
   "source": [
    "from pathlib import Path\n",
    "import os\n",
    "import matplotlib.pyplot as plt\n",
    "import pandas as pd\n",
    "import numpy as np\n",
    "import tensorflow as tf\n",
    "import keras\n",
    "np.set_printoptions(precision=4)"
   ]
  },
  {
   "cell_type": "markdown",
   "id": "b6e42bb1",
   "metadata": {},
   "source": [
    "## SketchRNN"
   ]
  },
  {
   "cell_type": "code",
   "execution_count": 86,
   "id": "45c81b3d",
   "metadata": {
    "ExecuteTime": {
     "end_time": "2024-04-12T01:28:07.132117Z",
     "start_time": "2024-04-12T01:27:19.885255Z"
    }
   },
   "outputs": [
    {
     "name": "stdout",
     "output_type": "stream",
     "text": [
      "Downloading data from http://download.tensorflow.org/data/quickdraw_tutorial_dataset_v1.tar.gz\n",
      "  79986688/1065301781 [=>............................] - ETA: 47s"
     ]
    },
    {
     "ename": "KeyboardInterrupt",
     "evalue": "",
     "output_type": "error",
     "traceback": [
      "\u001b[1;31m---------------------------------------------------------------------------\u001b[0m",
      "\u001b[1;31mKeyboardInterrupt\u001b[0m                         Traceback (most recent call last)",
      "Cell \u001b[1;32mIn[86], line 3\u001b[0m\n\u001b[0;32m      1\u001b[0m DOWNLOAD_ROOT \u001b[38;5;241m=\u001b[39m \u001b[38;5;124m\"\u001b[39m\u001b[38;5;124mhttp://download.tensorflow.org/data/\u001b[39m\u001b[38;5;124m\"\u001b[39m\n\u001b[0;32m      2\u001b[0m FILENAME \u001b[38;5;241m=\u001b[39m \u001b[38;5;124m\"\u001b[39m\u001b[38;5;124mquickdraw_tutorial_dataset_v1.tar.gz\u001b[39m\u001b[38;5;124m\"\u001b[39m\n\u001b[1;32m----> 3\u001b[0m filepath \u001b[38;5;241m=\u001b[39m \u001b[43mkeras\u001b[49m\u001b[38;5;241;43m.\u001b[39;49m\u001b[43mutils\u001b[49m\u001b[38;5;241;43m.\u001b[39;49m\u001b[43mget_file\u001b[49m\u001b[43m(\u001b[49m\u001b[43mFILENAME\u001b[49m\u001b[43m,\u001b[49m\n\u001b[0;32m      4\u001b[0m \u001b[43m                                \u001b[49m\u001b[43mDOWNLOAD_ROOT\u001b[49m\u001b[43m \u001b[49m\u001b[38;5;241;43m+\u001b[39;49m\u001b[43m \u001b[49m\u001b[43mFILENAME\u001b[49m\u001b[43m,\u001b[49m\n\u001b[0;32m      5\u001b[0m \u001b[43m                                \u001b[49m\u001b[43mcache_subdir\u001b[49m\u001b[38;5;241;43m=\u001b[39;49m\u001b[38;5;124;43m\"\u001b[39;49m\u001b[38;5;124;43mdatasets/quickdraw\u001b[39;49m\u001b[38;5;124;43m\"\u001b[39;49m\u001b[43m,\u001b[49m\n\u001b[0;32m      6\u001b[0m \u001b[43m                                \u001b[49m\u001b[43mextract\u001b[49m\u001b[38;5;241;43m=\u001b[39;49m\u001b[38;5;28;43;01mTrue\u001b[39;49;00m\u001b[43m)\u001b[49m\n",
      "File \u001b[1;32m~\\AppData\\Roaming\\Python\\Python310\\site-packages\\keras\\src\\utils\\data_utils.py:347\u001b[0m, in \u001b[0;36mget_file\u001b[1;34m(fname, origin, untar, md5_hash, file_hash, cache_subdir, hash_algorithm, extract, archive_format, cache_dir)\u001b[0m\n\u001b[0;32m    345\u001b[0m \u001b[38;5;28;01mtry\u001b[39;00m:\n\u001b[0;32m    346\u001b[0m     \u001b[38;5;28;01mtry\u001b[39;00m:\n\u001b[1;32m--> 347\u001b[0m         \u001b[43murlretrieve\u001b[49m\u001b[43m(\u001b[49m\u001b[43morigin\u001b[49m\u001b[43m,\u001b[49m\u001b[43m \u001b[49m\u001b[43mfpath\u001b[49m\u001b[43m,\u001b[49m\u001b[43m \u001b[49m\u001b[43mDLProgbar\u001b[49m\u001b[43m(\u001b[49m\u001b[43m)\u001b[49m\u001b[43m)\u001b[49m\n\u001b[0;32m    348\u001b[0m     \u001b[38;5;28;01mexcept\u001b[39;00m urllib\u001b[38;5;241m.\u001b[39merror\u001b[38;5;241m.\u001b[39mHTTPError \u001b[38;5;28;01mas\u001b[39;00m e:\n\u001b[0;32m    349\u001b[0m         \u001b[38;5;28;01mraise\u001b[39;00m \u001b[38;5;167;01mException\u001b[39;00m(error_msg\u001b[38;5;241m.\u001b[39mformat(origin, e\u001b[38;5;241m.\u001b[39mcode, e\u001b[38;5;241m.\u001b[39mmsg))\n",
      "File \u001b[1;32m~\\AppData\\Roaming\\Python\\Python310\\site-packages\\keras\\src\\utils\\data_utils.py:87\u001b[0m, in \u001b[0;36murlretrieve\u001b[1;34m(url, filename, reporthook, data)\u001b[0m\n\u001b[0;32m     85\u001b[0m response \u001b[38;5;241m=\u001b[39m urlopen(url, data)\n\u001b[0;32m     86\u001b[0m \u001b[38;5;28;01mwith\u001b[39;00m \u001b[38;5;28mopen\u001b[39m(filename, \u001b[38;5;124m\"\u001b[39m\u001b[38;5;124mwb\u001b[39m\u001b[38;5;124m\"\u001b[39m) \u001b[38;5;28;01mas\u001b[39;00m fd:\n\u001b[1;32m---> 87\u001b[0m     \u001b[38;5;28;01mfor\u001b[39;00m chunk \u001b[38;5;129;01min\u001b[39;00m chunk_read(response, reporthook\u001b[38;5;241m=\u001b[39mreporthook):\n\u001b[0;32m     88\u001b[0m         fd\u001b[38;5;241m.\u001b[39mwrite(chunk)\n",
      "File \u001b[1;32m~\\AppData\\Roaming\\Python\\Python310\\site-packages\\keras\\src\\utils\\data_utils.py:79\u001b[0m, in \u001b[0;36murlretrieve.<locals>.chunk_read\u001b[1;34m(response, chunk_size, reporthook)\u001b[0m\n\u001b[0;32m     77\u001b[0m count \u001b[38;5;241m+\u001b[39m\u001b[38;5;241m=\u001b[39m \u001b[38;5;241m1\u001b[39m\n\u001b[0;32m     78\u001b[0m \u001b[38;5;28;01mif\u001b[39;00m reporthook \u001b[38;5;129;01mis\u001b[39;00m \u001b[38;5;129;01mnot\u001b[39;00m \u001b[38;5;28;01mNone\u001b[39;00m:\n\u001b[1;32m---> 79\u001b[0m     \u001b[43mreporthook\u001b[49m\u001b[43m(\u001b[49m\u001b[43mcount\u001b[49m\u001b[43m,\u001b[49m\u001b[43m \u001b[49m\u001b[43mchunk_size\u001b[49m\u001b[43m,\u001b[49m\u001b[43m \u001b[49m\u001b[43mtotal_size\u001b[49m\u001b[43m)\u001b[49m\n\u001b[0;32m     80\u001b[0m \u001b[38;5;28;01mif\u001b[39;00m chunk:\n\u001b[0;32m     81\u001b[0m     \u001b[38;5;28;01myield\u001b[39;00m chunk\n",
      "File \u001b[1;32m~\\AppData\\Roaming\\Python\\Python310\\site-packages\\keras\\src\\utils\\data_utils.py:339\u001b[0m, in \u001b[0;36mget_file.<locals>.DLProgbar.__call__\u001b[1;34m(self, block_num, block_size, total_size)\u001b[0m\n\u001b[0;32m    337\u001b[0m \u001b[38;5;28;01melse\u001b[39;00m:\n\u001b[0;32m    338\u001b[0m     \u001b[38;5;28;01mif\u001b[39;00m current \u001b[38;5;241m<\u001b[39m total_size:\n\u001b[1;32m--> 339\u001b[0m         \u001b[38;5;28;43mself\u001b[39;49m\u001b[38;5;241;43m.\u001b[39;49m\u001b[43mprogbar\u001b[49m\u001b[38;5;241;43m.\u001b[39;49m\u001b[43mupdate\u001b[49m\u001b[43m(\u001b[49m\u001b[43mcurrent\u001b[49m\u001b[43m)\u001b[49m\n\u001b[0;32m    340\u001b[0m     \u001b[38;5;28;01melif\u001b[39;00m \u001b[38;5;129;01mnot\u001b[39;00m \u001b[38;5;28mself\u001b[39m\u001b[38;5;241m.\u001b[39mfinished:\n\u001b[0;32m    341\u001b[0m         \u001b[38;5;28mself\u001b[39m\u001b[38;5;241m.\u001b[39mprogbar\u001b[38;5;241m.\u001b[39mupdate(\u001b[38;5;28mself\u001b[39m\u001b[38;5;241m.\u001b[39mprogbar\u001b[38;5;241m.\u001b[39mtarget)\n",
      "File \u001b[1;32m~\\AppData\\Roaming\\Python\\Python310\\site-packages\\keras\\src\\utils\\generic_utils.py:296\u001b[0m, in \u001b[0;36mProgbar.update\u001b[1;34m(self, current, values, finalize)\u001b[0m\n\u001b[0;32m    293\u001b[0m         info \u001b[38;5;241m+\u001b[39m\u001b[38;5;241m=\u001b[39m \u001b[38;5;124m\"\u001b[39m\u001b[38;5;130;01m\\n\u001b[39;00m\u001b[38;5;124m\"\u001b[39m\n\u001b[0;32m    295\u001b[0m     message \u001b[38;5;241m+\u001b[39m\u001b[38;5;241m=\u001b[39m info\n\u001b[1;32m--> 296\u001b[0m     \u001b[43mio_utils\u001b[49m\u001b[38;5;241;43m.\u001b[39;49m\u001b[43mprint_msg\u001b[49m\u001b[43m(\u001b[49m\u001b[43mmessage\u001b[49m\u001b[43m,\u001b[49m\u001b[43m \u001b[49m\u001b[43mline_break\u001b[49m\u001b[38;5;241;43m=\u001b[39;49m\u001b[38;5;28;43;01mFalse\u001b[39;49;00m\u001b[43m)\u001b[49m\n\u001b[0;32m    297\u001b[0m     message \u001b[38;5;241m=\u001b[39m \u001b[38;5;124m\"\u001b[39m\u001b[38;5;124m\"\u001b[39m\n\u001b[0;32m    299\u001b[0m \u001b[38;5;28;01melif\u001b[39;00m \u001b[38;5;28mself\u001b[39m\u001b[38;5;241m.\u001b[39mverbose \u001b[38;5;241m==\u001b[39m \u001b[38;5;241m2\u001b[39m:\n",
      "File \u001b[1;32m~\\AppData\\Roaming\\Python\\Python310\\site-packages\\keras\\src\\utils\\io_utils.py:80\u001b[0m, in \u001b[0;36mprint_msg\u001b[1;34m(message, line_break)\u001b[0m\n\u001b[0;32m     78\u001b[0m         sys\u001b[38;5;241m.\u001b[39mstdout\u001b[38;5;241m.\u001b[39mwrite(message \u001b[38;5;241m+\u001b[39m \u001b[38;5;124m\"\u001b[39m\u001b[38;5;130;01m\\n\u001b[39;00m\u001b[38;5;124m\"\u001b[39m)\n\u001b[0;32m     79\u001b[0m     \u001b[38;5;28;01melse\u001b[39;00m:\n\u001b[1;32m---> 80\u001b[0m         \u001b[43msys\u001b[49m\u001b[38;5;241;43m.\u001b[39;49m\u001b[43mstdout\u001b[49m\u001b[38;5;241;43m.\u001b[39;49m\u001b[43mwrite\u001b[49m\u001b[43m(\u001b[49m\u001b[43mmessage\u001b[49m\u001b[43m)\u001b[49m\n\u001b[0;32m     81\u001b[0m     sys\u001b[38;5;241m.\u001b[39mstdout\u001b[38;5;241m.\u001b[39mflush()\n\u001b[0;32m     82\u001b[0m \u001b[38;5;28;01melse\u001b[39;00m:\n",
      "File \u001b[1;32mC:\\Program Files\\Python310\\lib\\site-packages\\ipykernel\\iostream.py:664\u001b[0m, in \u001b[0;36mOutStream.write\u001b[1;34m(self, string)\u001b[0m\n\u001b[0;32m    662\u001b[0m         \u001b[38;5;28mself\u001b[39m\u001b[38;5;241m.\u001b[39mpub_thread\u001b[38;5;241m.\u001b[39mschedule(\u001b[38;5;28mself\u001b[39m\u001b[38;5;241m.\u001b[39m_flush)\n\u001b[0;32m    663\u001b[0m     \u001b[38;5;28;01melse\u001b[39;00m:\n\u001b[1;32m--> 664\u001b[0m         \u001b[38;5;28;43mself\u001b[39;49m\u001b[38;5;241;43m.\u001b[39;49m\u001b[43m_schedule_flush\u001b[49m\u001b[43m(\u001b[49m\u001b[43m)\u001b[49m\n\u001b[0;32m    666\u001b[0m \u001b[38;5;28;01mreturn\u001b[39;00m \u001b[38;5;28mlen\u001b[39m(string)\n",
      "File \u001b[1;32mC:\\Program Files\\Python310\\lib\\site-packages\\ipykernel\\iostream.py:561\u001b[0m, in \u001b[0;36mOutStream._schedule_flush\u001b[1;34m(self)\u001b[0m\n\u001b[0;32m    558\u001b[0m \u001b[38;5;28;01mdef\u001b[39;00m \u001b[38;5;21m_schedule_in_thread\u001b[39m():\n\u001b[0;32m    559\u001b[0m     \u001b[38;5;28mself\u001b[39m\u001b[38;5;241m.\u001b[39m_io_loop\u001b[38;5;241m.\u001b[39mcall_later(\u001b[38;5;28mself\u001b[39m\u001b[38;5;241m.\u001b[39mflush_interval, \u001b[38;5;28mself\u001b[39m\u001b[38;5;241m.\u001b[39m_flush)\n\u001b[1;32m--> 561\u001b[0m \u001b[38;5;28;43mself\u001b[39;49m\u001b[38;5;241;43m.\u001b[39;49m\u001b[43mpub_thread\u001b[49m\u001b[38;5;241;43m.\u001b[39;49m\u001b[43mschedule\u001b[49m\u001b[43m(\u001b[49m\u001b[43m_schedule_in_thread\u001b[49m\u001b[43m)\u001b[49m\n",
      "File \u001b[1;32mC:\\Program Files\\Python310\\lib\\site-packages\\ipykernel\\iostream.py:267\u001b[0m, in \u001b[0;36mIOPubThread.schedule\u001b[1;34m(self, f)\u001b[0m\n\u001b[0;32m    265\u001b[0m     \u001b[38;5;28mself\u001b[39m\u001b[38;5;241m.\u001b[39m_events\u001b[38;5;241m.\u001b[39mappend(f)\n\u001b[0;32m    266\u001b[0m     \u001b[38;5;66;03m# wake event thread (message content is ignored)\u001b[39;00m\n\u001b[1;32m--> 267\u001b[0m     \u001b[38;5;28;43mself\u001b[39;49m\u001b[38;5;241;43m.\u001b[39;49m\u001b[43m_event_pipe\u001b[49m\u001b[38;5;241;43m.\u001b[39;49m\u001b[43msend\u001b[49m\u001b[43m(\u001b[49m\u001b[38;5;124;43mb\u001b[39;49m\u001b[38;5;124;43m\"\u001b[39;49m\u001b[38;5;124;43m\"\u001b[39;49m\u001b[43m)\u001b[49m\n\u001b[0;32m    268\u001b[0m \u001b[38;5;28;01melse\u001b[39;00m:\n\u001b[0;32m    269\u001b[0m     f()\n",
      "File \u001b[1;32mC:\\Program Files\\Python310\\lib\\site-packages\\zmq\\sugar\\socket.py:696\u001b[0m, in \u001b[0;36mSocket.send\u001b[1;34m(self, data, flags, copy, track, routing_id, group)\u001b[0m\n\u001b[0;32m    689\u001b[0m         data \u001b[38;5;241m=\u001b[39m zmq\u001b[38;5;241m.\u001b[39mFrame(\n\u001b[0;32m    690\u001b[0m             data,\n\u001b[0;32m    691\u001b[0m             track\u001b[38;5;241m=\u001b[39mtrack,\n\u001b[0;32m    692\u001b[0m             copy\u001b[38;5;241m=\u001b[39mcopy \u001b[38;5;129;01mor\u001b[39;00m \u001b[38;5;28;01mNone\u001b[39;00m,\n\u001b[0;32m    693\u001b[0m             copy_threshold\u001b[38;5;241m=\u001b[39m\u001b[38;5;28mself\u001b[39m\u001b[38;5;241m.\u001b[39mcopy_threshold,\n\u001b[0;32m    694\u001b[0m         )\n\u001b[0;32m    695\u001b[0m     data\u001b[38;5;241m.\u001b[39mgroup \u001b[38;5;241m=\u001b[39m group\n\u001b[1;32m--> 696\u001b[0m \u001b[38;5;28;01mreturn\u001b[39;00m \u001b[38;5;28;43msuper\u001b[39;49m\u001b[43m(\u001b[49m\u001b[43m)\u001b[49m\u001b[38;5;241;43m.\u001b[39;49m\u001b[43msend\u001b[49m\u001b[43m(\u001b[49m\u001b[43mdata\u001b[49m\u001b[43m,\u001b[49m\u001b[43m \u001b[49m\u001b[43mflags\u001b[49m\u001b[38;5;241;43m=\u001b[39;49m\u001b[43mflags\u001b[49m\u001b[43m,\u001b[49m\u001b[43m \u001b[49m\u001b[43mcopy\u001b[49m\u001b[38;5;241;43m=\u001b[39;49m\u001b[43mcopy\u001b[49m\u001b[43m,\u001b[49m\u001b[43m \u001b[49m\u001b[43mtrack\u001b[49m\u001b[38;5;241;43m=\u001b[39;49m\u001b[43mtrack\u001b[49m\u001b[43m)\u001b[49m\n",
      "File \u001b[1;32mzmq\\\\backend\\\\cython\\\\socket.pyx:742\u001b[0m, in \u001b[0;36mzmq.backend.cython.socket.Socket.send\u001b[1;34m()\u001b[0m\n",
      "File \u001b[1;32mzmq\\\\backend\\\\cython\\\\socket.pyx:789\u001b[0m, in \u001b[0;36mzmq.backend.cython.socket.Socket.send\u001b[1;34m()\u001b[0m\n",
      "File \u001b[1;32mzmq\\\\backend\\\\cython\\\\socket.pyx:250\u001b[0m, in \u001b[0;36mzmq.backend.cython.socket._send_copy\u001b[1;34m()\u001b[0m\n",
      "File \u001b[1;32mC:\\Program Files\\Python310\\lib\\site-packages\\zmq\\backend\\cython\\checkrc.pxd:13\u001b[0m, in \u001b[0;36mzmq.backend.cython.checkrc._check_rc\u001b[1;34m()\u001b[0m\n",
      "\u001b[1;31mKeyboardInterrupt\u001b[0m: "
     ]
    }
   ],
   "source": [
    "\n",
    "DOWNLOAD_ROOT = \"http://download.tensorflow.org/data/\"\n",
    "FILENAME = \"quickdraw_tutorial_dataset_v1.tar.gz\"\n",
    "filepath = keras.utils.get_file(FILENAME,\n",
    "                                DOWNLOAD_ROOT + FILENAME,\n",
    "                                cache_subdir=\"datasets/quickdraw\",\n",
    "                                extract=True)"
   ]
  },
  {
   "cell_type": "code",
   "execution_count": 6,
   "id": "273dff65",
   "metadata": {
    "ExecuteTime": {
     "end_time": "2024-04-11T01:55:21.244148Z",
     "start_time": "2024-04-11T01:55:21.238147Z"
    }
   },
   "outputs": [
    {
     "data": {
      "text/plain": [
       "'C:\\\\Users\\\\sec_zca9cu_rw\\\\.keras\\\\datasets/quickdraw\\\\quickdraw_tutorial_dataset_v1.tar.gz'"
      ]
     },
     "execution_count": 6,
     "metadata": {},
     "output_type": "execute_result"
    }
   ],
   "source": [
    "filepath"
   ]
  },
  {
   "cell_type": "code",
   "execution_count": 72,
   "id": "f53ed2a5",
   "metadata": {
    "ExecuteTime": {
     "end_time": "2024-04-12T01:09:38.371425Z",
     "start_time": "2024-04-12T01:09:37.917921Z"
    }
   },
   "outputs": [],
   "source": [
    "quickdraw_dir = Path(filepath).parent\n",
    "all_files= sorted([str(file) for file in quickdraw_dir.glob(\"*.*\")])\n",
    "train_files = sorted([str(path) for path in quickdraw_dir.glob(\"training.tfrecord-*\")])\n",
    "eval_files = sorted([str(path) for path in quickdraw_dir.glob(\"eval.tfrecord-*\")])"
   ]
  },
  {
   "cell_type": "code",
   "execution_count": 73,
   "id": "156b4543",
   "metadata": {
    "ExecuteTime": {
     "end_time": "2024-04-12T01:09:39.181942Z",
     "start_time": "2024-04-12T01:09:39.137934Z"
    }
   },
   "outputs": [
    {
     "data": {
      "text/plain": [
       "['C:\\\\Users\\\\sec_zca9cu_rw\\\\.keras\\\\datasets\\\\quickdraw\\\\eval.tfrecord-00000-of-00010',\n",
       " 'C:\\\\Users\\\\sec_zca9cu_rw\\\\.keras\\\\datasets\\\\quickdraw\\\\eval.tfrecord-00001-of-00010',\n",
       " 'C:\\\\Users\\\\sec_zca9cu_rw\\\\.keras\\\\datasets\\\\quickdraw\\\\eval.tfrecord-00002-of-00010',\n",
       " 'C:\\\\Users\\\\sec_zca9cu_rw\\\\.keras\\\\datasets\\\\quickdraw\\\\eval.tfrecord-00003-of-00010',\n",
       " 'C:\\\\Users\\\\sec_zca9cu_rw\\\\.keras\\\\datasets\\\\quickdraw\\\\eval.tfrecord-00004-of-00010',\n",
       " 'C:\\\\Users\\\\sec_zca9cu_rw\\\\.keras\\\\datasets\\\\quickdraw\\\\eval.tfrecord-00005-of-00010',\n",
       " 'C:\\\\Users\\\\sec_zca9cu_rw\\\\.keras\\\\datasets\\\\quickdraw\\\\eval.tfrecord-00006-of-00010',\n",
       " 'C:\\\\Users\\\\sec_zca9cu_rw\\\\.keras\\\\datasets\\\\quickdraw\\\\eval.tfrecord-00007-of-00010',\n",
       " 'C:\\\\Users\\\\sec_zca9cu_rw\\\\.keras\\\\datasets\\\\quickdraw\\\\eval.tfrecord-00008-of-00010',\n",
       " 'C:\\\\Users\\\\sec_zca9cu_rw\\\\.keras\\\\datasets\\\\quickdraw\\\\eval.tfrecord-00009-of-00010',\n",
       " 'C:\\\\Users\\\\sec_zca9cu_rw\\\\.keras\\\\datasets\\\\quickdraw\\\\eval.tfrecord.classes',\n",
       " 'C:\\\\Users\\\\sec_zca9cu_rw\\\\.keras\\\\datasets\\\\quickdraw\\\\training.tfrecord-00000-of-00010',\n",
       " 'C:\\\\Users\\\\sec_zca9cu_rw\\\\.keras\\\\datasets\\\\quickdraw\\\\training.tfrecord-00001-of-00010',\n",
       " 'C:\\\\Users\\\\sec_zca9cu_rw\\\\.keras\\\\datasets\\\\quickdraw\\\\training.tfrecord-00002-of-00010',\n",
       " 'C:\\\\Users\\\\sec_zca9cu_rw\\\\.keras\\\\datasets\\\\quickdraw\\\\training.tfrecord-00003-of-00010',\n",
       " 'C:\\\\Users\\\\sec_zca9cu_rw\\\\.keras\\\\datasets\\\\quickdraw\\\\training.tfrecord-00004-of-00010',\n",
       " 'C:\\\\Users\\\\sec_zca9cu_rw\\\\.keras\\\\datasets\\\\quickdraw\\\\training.tfrecord-00005-of-00010',\n",
       " 'C:\\\\Users\\\\sec_zca9cu_rw\\\\.keras\\\\datasets\\\\quickdraw\\\\training.tfrecord-00006-of-00010',\n",
       " 'C:\\\\Users\\\\sec_zca9cu_rw\\\\.keras\\\\datasets\\\\quickdraw\\\\training.tfrecord-00007-of-00010',\n",
       " 'C:\\\\Users\\\\sec_zca9cu_rw\\\\.keras\\\\datasets\\\\quickdraw\\\\training.tfrecord-00008-of-00010',\n",
       " 'C:\\\\Users\\\\sec_zca9cu_rw\\\\.keras\\\\datasets\\\\quickdraw\\\\training.tfrecord-00009-of-00010',\n",
       " 'C:\\\\Users\\\\sec_zca9cu_rw\\\\.keras\\\\datasets\\\\quickdraw\\\\training.tfrecord.classes']"
      ]
     },
     "execution_count": 73,
     "metadata": {},
     "output_type": "execute_result"
    }
   ],
   "source": [
    "all_files"
   ]
  },
  {
   "cell_type": "code",
   "execution_count": 15,
   "id": "b2e79ae6",
   "metadata": {
    "ExecuteTime": {
     "end_time": "2024-04-11T07:11:39.118218Z",
     "start_time": "2024-04-11T07:11:39.110217Z"
    },
    "run_control": {
     "marked": true
    }
   },
   "outputs": [],
   "source": [
    "#读class 文件\n",
    "with open(quickdraw_dir / \"eval.tfrecord.classes\") as test_classes_file:\n",
    "    test_classes = test_classes_file.readlines()\n",
    "    \n",
    "with open(quickdraw_dir / \"training.tfrecord.classes\") as train_classes_file:\n",
    "    train_classes = train_classes_file.readlines()"
   ]
  },
  {
   "cell_type": "code",
   "execution_count": 81,
   "id": "6392c41a",
   "metadata": {
    "ExecuteTime": {
     "end_time": "2024-04-12T01:12:38.434313Z",
     "start_time": "2024-04-12T01:12:38.110051Z"
    },
    "scrolled": true
   },
   "outputs": [
    {
     "data": {
      "text/plain": [
       "345"
      ]
     },
     "execution_count": 81,
     "metadata": {},
     "output_type": "execute_result"
    }
   ],
   "source": [
    "assert test_classes==train_classes #验证测试类别标签和训练标签类别一致\n",
    "class_names = [name.strip().lower() for name in train_classes] #去除类别标签前后空格，转小写\n",
    "len(class_names) #345个分类"
   ]
  },
  {
   "cell_type": "code",
   "execution_count": 42,
   "id": "aadd18a6",
   "metadata": {
    "ExecuteTime": {
     "end_time": "2024-04-11T07:57:49.789127Z",
     "start_time": "2024-04-11T07:57:49.785129Z"
    }
   },
   "outputs": [],
   "source": [
    "def parse(data_batch):\n",
    "    feature_descriptions = {\n",
    "        \"ink\": tf.io.VarLenFeature(dtype=tf.float32),#变长特征\n",
    "        \"shape\": tf.io.FixedLenFeature([2], dtype=tf.int64),#定长特征\n",
    "        \"class_index\": tf.io.FixedLenFeature([1], dtype=tf.int64)\n",
    "    }\n",
    "    examples = tf.io.parse_example(data_batch, feature_descriptions)\n",
    "    flat_sketches = tf.sparse.to_dense(examples[\"ink\"])\n",
    "    sketches = tf.reshape(flat_sketches, shape=[tf.size(data_batch), -1, 3])\n",
    "    lengths = examples[\"shape\"][:, 0]\n",
    "    labels = examples[\"class_index\"][:, 0]\n",
    "    return sketches, lengths, labels"
   ]
  },
  {
   "cell_type": "code",
   "execution_count": 43,
   "id": "363bab97",
   "metadata": {
    "ExecuteTime": {
     "end_time": "2024-04-11T07:57:50.454714Z",
     "start_time": "2024-04-11T07:57:50.449710Z"
    },
    "run_control": {
     "marked": true
    }
   },
   "outputs": [],
   "source": [
    "def quickdraw_dataset(filepaths, batch_size=32, shuffle_buffer_size=None,\n",
    "                      n_parse_threads=5, n_read_threads=5, cache=False):\n",
    "    dataset = tf.data.TFRecordDataset(filepaths,\n",
    "                                      num_parallel_reads=n_read_threads)\n",
    "    if cache:\n",
    "        dataset = dataset.cache()\n",
    "    if shuffle_buffer_size:\n",
    "        dataset = dataset.shuffle(shuffle_buffer_size)\n",
    "    dataset = dataset.batch(batch_size)\n",
    "    dataset = dataset.map(parse, num_parallel_calls=n_parse_threads)\n",
    "    return dataset.prefetch(1)"
   ]
  },
  {
   "cell_type": "code",
   "execution_count": 74,
   "id": "7781eff3",
   "metadata": {
    "ExecuteTime": {
     "end_time": "2024-04-12T01:10:24.536185Z",
     "start_time": "2024-04-12T01:10:13.016122Z"
    }
   },
   "outputs": [],
   "source": [
    "examplefile='C:\\\\Users\\\\sec_zca9cu_rw\\\\.keras\\\\datasets\\\\quickdraw\\\\eval.tfrecord-00004-of-00010'\n",
    "dataset = tf.data.TFRecordDataset(examplefile)\n",
    "bytedataset=list(dataset)"
   ]
  },
  {
   "cell_type": "code",
   "execution_count": 75,
   "id": "f861c941",
   "metadata": {
    "ExecuteTime": {
     "end_time": "2024-04-12T01:10:50.876263Z",
     "start_time": "2024-04-12T01:10:48.179596Z"
    }
   },
   "outputs": [],
   "source": [
    "feature_descriptions = {\n",
    "        \"ink\": tf.io.VarLenFeature(dtype=tf.float32),#变长特征\n",
    "        \"shape\": tf.io.FixedLenFeature([2], dtype=tf.int64),#定长特征\n",
    "        \"class_index\": tf.io.FixedLenFeature([1], dtype=tf.int64)\n",
    "    }\n",
    "dataset_example = tf.io.parse_example(bytedataset, feature_descriptions)"
   ]
  },
  {
   "cell_type": "code",
   "execution_count": 78,
   "id": "447fde90",
   "metadata": {
    "ExecuteTime": {
     "end_time": "2024-04-12T01:11:10.413341Z",
     "start_time": "2024-04-12T01:11:10.289331Z"
    }
   },
   "outputs": [
    {
     "data": {
      "text/plain": [
       "<tf.Tensor: shape=(34279, 2040), dtype=float32, numpy=\n",
       "array([[-0.0863, -0.0354,  0.    , ...,  0.    ,  0.    ,  0.    ],\n",
       "       [-0.0472, -0.019 ,  0.    , ...,  0.    ,  0.    ,  0.    ],\n",
       "       [-0.0748, -0.0442,  0.    , ...,  0.    ,  0.    ,  0.    ],\n",
       "       ...,\n",
       "       [ 0.1391,  0.0157,  0.    , ...,  0.    ,  0.    ,  0.    ],\n",
       "       [ 0.0235, -0.0714,  0.    , ...,  0.    ,  0.    ,  0.    ],\n",
       "       [ 0.0902, -0.0127,  0.    , ...,  0.    ,  0.    ,  0.    ]],\n",
       "      dtype=float32)>"
      ]
     },
     "execution_count": 78,
     "metadata": {},
     "output_type": "execute_result"
    }
   ],
   "source": [
    "tf.sparse.to_dense(dataset_example[\"ink\"])"
   ]
  },
  {
   "cell_type": "code",
   "execution_count": null,
   "id": "812678ff",
   "metadata": {},
   "outputs": [],
   "source": []
  },
  {
   "cell_type": "code",
   "execution_count": null,
   "id": "9d2ef16e",
   "metadata": {},
   "outputs": [],
   "source": []
  },
  {
   "cell_type": "markdown",
   "id": "1ed9fded",
   "metadata": {},
   "source": [
    "## jsb_chorales"
   ]
  },
  {
   "cell_type": "code",
   "execution_count": 87,
   "id": "5a157080",
   "metadata": {
    "ExecuteTime": {
     "end_time": "2024-04-12T01:28:31.921050Z",
     "start_time": "2024-04-12T01:28:31.911047Z"
    },
    "scrolled": true
   },
   "outputs": [
    {
     "data": {
      "text/plain": [
       "['C:\\\\Users\\\\sec_zca9cu_rw\\\\.keras\\\\datasets\\\\jsb_chorales\\\\test\\\\chorale_305.csv',\n",
       " 'C:\\\\Users\\\\sec_zca9cu_rw\\\\.keras\\\\datasets\\\\jsb_chorales\\\\test\\\\chorale_306.csv',\n",
       " 'C:\\\\Users\\\\sec_zca9cu_rw\\\\.keras\\\\datasets\\\\jsb_chorales\\\\test\\\\chorale_307.csv',\n",
       " 'C:\\\\Users\\\\sec_zca9cu_rw\\\\.keras\\\\datasets\\\\jsb_chorales\\\\test\\\\chorale_308.csv',\n",
       " 'C:\\\\Users\\\\sec_zca9cu_rw\\\\.keras\\\\datasets\\\\jsb_chorales\\\\test\\\\chorale_309.csv',\n",
       " 'C:\\\\Users\\\\sec_zca9cu_rw\\\\.keras\\\\datasets\\\\jsb_chorales\\\\test\\\\chorale_310.csv',\n",
       " 'C:\\\\Users\\\\sec_zca9cu_rw\\\\.keras\\\\datasets\\\\jsb_chorales\\\\test\\\\chorale_311.csv',\n",
       " 'C:\\\\Users\\\\sec_zca9cu_rw\\\\.keras\\\\datasets\\\\jsb_chorales\\\\test\\\\chorale_312.csv',\n",
       " 'C:\\\\Users\\\\sec_zca9cu_rw\\\\.keras\\\\datasets\\\\jsb_chorales\\\\test\\\\chorale_313.csv',\n",
       " 'C:\\\\Users\\\\sec_zca9cu_rw\\\\.keras\\\\datasets\\\\jsb_chorales\\\\test\\\\chorale_314.csv',\n",
       " 'C:\\\\Users\\\\sec_zca9cu_rw\\\\.keras\\\\datasets\\\\jsb_chorales\\\\test\\\\chorale_315.csv',\n",
       " 'C:\\\\Users\\\\sec_zca9cu_rw\\\\.keras\\\\datasets\\\\jsb_chorales\\\\test\\\\chorale_316.csv',\n",
       " 'C:\\\\Users\\\\sec_zca9cu_rw\\\\.keras\\\\datasets\\\\jsb_chorales\\\\test\\\\chorale_317.csv',\n",
       " 'C:\\\\Users\\\\sec_zca9cu_rw\\\\.keras\\\\datasets\\\\jsb_chorales\\\\test\\\\chorale_318.csv',\n",
       " 'C:\\\\Users\\\\sec_zca9cu_rw\\\\.keras\\\\datasets\\\\jsb_chorales\\\\test\\\\chorale_319.csv',\n",
       " 'C:\\\\Users\\\\sec_zca9cu_rw\\\\.keras\\\\datasets\\\\jsb_chorales\\\\test\\\\chorale_320.csv',\n",
       " 'C:\\\\Users\\\\sec_zca9cu_rw\\\\.keras\\\\datasets\\\\jsb_chorales\\\\test\\\\chorale_321.csv',\n",
       " 'C:\\\\Users\\\\sec_zca9cu_rw\\\\.keras\\\\datasets\\\\jsb_chorales\\\\test\\\\chorale_322.csv',\n",
       " 'C:\\\\Users\\\\sec_zca9cu_rw\\\\.keras\\\\datasets\\\\jsb_chorales\\\\test\\\\chorale_323.csv',\n",
       " 'C:\\\\Users\\\\sec_zca9cu_rw\\\\.keras\\\\datasets\\\\jsb_chorales\\\\test\\\\chorale_324.csv',\n",
       " 'C:\\\\Users\\\\sec_zca9cu_rw\\\\.keras\\\\datasets\\\\jsb_chorales\\\\test\\\\chorale_325.csv',\n",
       " 'C:\\\\Users\\\\sec_zca9cu_rw\\\\.keras\\\\datasets\\\\jsb_chorales\\\\test\\\\chorale_326.csv',\n",
       " 'C:\\\\Users\\\\sec_zca9cu_rw\\\\.keras\\\\datasets\\\\jsb_chorales\\\\test\\\\chorale_327.csv',\n",
       " 'C:\\\\Users\\\\sec_zca9cu_rw\\\\.keras\\\\datasets\\\\jsb_chorales\\\\test\\\\chorale_328.csv',\n",
       " 'C:\\\\Users\\\\sec_zca9cu_rw\\\\.keras\\\\datasets\\\\jsb_chorales\\\\test\\\\chorale_329.csv',\n",
       " 'C:\\\\Users\\\\sec_zca9cu_rw\\\\.keras\\\\datasets\\\\jsb_chorales\\\\test\\\\chorale_330.csv',\n",
       " 'C:\\\\Users\\\\sec_zca9cu_rw\\\\.keras\\\\datasets\\\\jsb_chorales\\\\test\\\\chorale_331.csv',\n",
       " 'C:\\\\Users\\\\sec_zca9cu_rw\\\\.keras\\\\datasets\\\\jsb_chorales\\\\test\\\\chorale_332.csv',\n",
       " 'C:\\\\Users\\\\sec_zca9cu_rw\\\\.keras\\\\datasets\\\\jsb_chorales\\\\test\\\\chorale_333.csv',\n",
       " 'C:\\\\Users\\\\sec_zca9cu_rw\\\\.keras\\\\datasets\\\\jsb_chorales\\\\test\\\\chorale_334.csv',\n",
       " 'C:\\\\Users\\\\sec_zca9cu_rw\\\\.keras\\\\datasets\\\\jsb_chorales\\\\test\\\\chorale_335.csv',\n",
       " 'C:\\\\Users\\\\sec_zca9cu_rw\\\\.keras\\\\datasets\\\\jsb_chorales\\\\test\\\\chorale_336.csv',\n",
       " 'C:\\\\Users\\\\sec_zca9cu_rw\\\\.keras\\\\datasets\\\\jsb_chorales\\\\test\\\\chorale_337.csv',\n",
       " 'C:\\\\Users\\\\sec_zca9cu_rw\\\\.keras\\\\datasets\\\\jsb_chorales\\\\test\\\\chorale_338.csv',\n",
       " 'C:\\\\Users\\\\sec_zca9cu_rw\\\\.keras\\\\datasets\\\\jsb_chorales\\\\test\\\\chorale_339.csv',\n",
       " 'C:\\\\Users\\\\sec_zca9cu_rw\\\\.keras\\\\datasets\\\\jsb_chorales\\\\test\\\\chorale_340.csv',\n",
       " 'C:\\\\Users\\\\sec_zca9cu_rw\\\\.keras\\\\datasets\\\\jsb_chorales\\\\test\\\\chorale_341.csv',\n",
       " 'C:\\\\Users\\\\sec_zca9cu_rw\\\\.keras\\\\datasets\\\\jsb_chorales\\\\test\\\\chorale_342.csv',\n",
       " 'C:\\\\Users\\\\sec_zca9cu_rw\\\\.keras\\\\datasets\\\\jsb_chorales\\\\test\\\\chorale_343.csv',\n",
       " 'C:\\\\Users\\\\sec_zca9cu_rw\\\\.keras\\\\datasets\\\\jsb_chorales\\\\test\\\\chorale_344.csv',\n",
       " 'C:\\\\Users\\\\sec_zca9cu_rw\\\\.keras\\\\datasets\\\\jsb_chorales\\\\test\\\\chorale_345.csv',\n",
       " 'C:\\\\Users\\\\sec_zca9cu_rw\\\\.keras\\\\datasets\\\\jsb_chorales\\\\test\\\\chorale_346.csv',\n",
       " 'C:\\\\Users\\\\sec_zca9cu_rw\\\\.keras\\\\datasets\\\\jsb_chorales\\\\test\\\\chorale_347.csv',\n",
       " 'C:\\\\Users\\\\sec_zca9cu_rw\\\\.keras\\\\datasets\\\\jsb_chorales\\\\test\\\\chorale_348.csv',\n",
       " 'C:\\\\Users\\\\sec_zca9cu_rw\\\\.keras\\\\datasets\\\\jsb_chorales\\\\test\\\\chorale_349.csv',\n",
       " 'C:\\\\Users\\\\sec_zca9cu_rw\\\\.keras\\\\datasets\\\\jsb_chorales\\\\test\\\\chorale_350.csv',\n",
       " 'C:\\\\Users\\\\sec_zca9cu_rw\\\\.keras\\\\datasets\\\\jsb_chorales\\\\test\\\\chorale_351.csv',\n",
       " 'C:\\\\Users\\\\sec_zca9cu_rw\\\\.keras\\\\datasets\\\\jsb_chorales\\\\test\\\\chorale_352.csv',\n",
       " 'C:\\\\Users\\\\sec_zca9cu_rw\\\\.keras\\\\datasets\\\\jsb_chorales\\\\test\\\\chorale_353.csv',\n",
       " 'C:\\\\Users\\\\sec_zca9cu_rw\\\\.keras\\\\datasets\\\\jsb_chorales\\\\test\\\\chorale_354.csv',\n",
       " 'C:\\\\Users\\\\sec_zca9cu_rw\\\\.keras\\\\datasets\\\\jsb_chorales\\\\test\\\\chorale_355.csv',\n",
       " 'C:\\\\Users\\\\sec_zca9cu_rw\\\\.keras\\\\datasets\\\\jsb_chorales\\\\test\\\\chorale_356.csv',\n",
       " 'C:\\\\Users\\\\sec_zca9cu_rw\\\\.keras\\\\datasets\\\\jsb_chorales\\\\test\\\\chorale_357.csv',\n",
       " 'C:\\\\Users\\\\sec_zca9cu_rw\\\\.keras\\\\datasets\\\\jsb_chorales\\\\test\\\\chorale_358.csv',\n",
       " 'C:\\\\Users\\\\sec_zca9cu_rw\\\\.keras\\\\datasets\\\\jsb_chorales\\\\test\\\\chorale_359.csv',\n",
       " 'C:\\\\Users\\\\sec_zca9cu_rw\\\\.keras\\\\datasets\\\\jsb_chorales\\\\test\\\\chorale_360.csv',\n",
       " 'C:\\\\Users\\\\sec_zca9cu_rw\\\\.keras\\\\datasets\\\\jsb_chorales\\\\test\\\\chorale_361.csv',\n",
       " 'C:\\\\Users\\\\sec_zca9cu_rw\\\\.keras\\\\datasets\\\\jsb_chorales\\\\test\\\\chorale_362.csv',\n",
       " 'C:\\\\Users\\\\sec_zca9cu_rw\\\\.keras\\\\datasets\\\\jsb_chorales\\\\test\\\\chorale_363.csv',\n",
       " 'C:\\\\Users\\\\sec_zca9cu_rw\\\\.keras\\\\datasets\\\\jsb_chorales\\\\test\\\\chorale_364.csv',\n",
       " 'C:\\\\Users\\\\sec_zca9cu_rw\\\\.keras\\\\datasets\\\\jsb_chorales\\\\test\\\\chorale_365.csv',\n",
       " 'C:\\\\Users\\\\sec_zca9cu_rw\\\\.keras\\\\datasets\\\\jsb_chorales\\\\test\\\\chorale_366.csv',\n",
       " 'C:\\\\Users\\\\sec_zca9cu_rw\\\\.keras\\\\datasets\\\\jsb_chorales\\\\test\\\\chorale_367.csv',\n",
       " 'C:\\\\Users\\\\sec_zca9cu_rw\\\\.keras\\\\datasets\\\\jsb_chorales\\\\test\\\\chorale_368.csv',\n",
       " 'C:\\\\Users\\\\sec_zca9cu_rw\\\\.keras\\\\datasets\\\\jsb_chorales\\\\test\\\\chorale_369.csv',\n",
       " 'C:\\\\Users\\\\sec_zca9cu_rw\\\\.keras\\\\datasets\\\\jsb_chorales\\\\test\\\\chorale_370.csv',\n",
       " 'C:\\\\Users\\\\sec_zca9cu_rw\\\\.keras\\\\datasets\\\\jsb_chorales\\\\test\\\\chorale_371.csv',\n",
       " 'C:\\\\Users\\\\sec_zca9cu_rw\\\\.keras\\\\datasets\\\\jsb_chorales\\\\test\\\\chorale_372.csv',\n",
       " 'C:\\\\Users\\\\sec_zca9cu_rw\\\\.keras\\\\datasets\\\\jsb_chorales\\\\test\\\\chorale_373.csv',\n",
       " 'C:\\\\Users\\\\sec_zca9cu_rw\\\\.keras\\\\datasets\\\\jsb_chorales\\\\test\\\\chorale_374.csv',\n",
       " 'C:\\\\Users\\\\sec_zca9cu_rw\\\\.keras\\\\datasets\\\\jsb_chorales\\\\test\\\\chorale_375.csv',\n",
       " 'C:\\\\Users\\\\sec_zca9cu_rw\\\\.keras\\\\datasets\\\\jsb_chorales\\\\test\\\\chorale_376.csv',\n",
       " 'C:\\\\Users\\\\sec_zca9cu_rw\\\\.keras\\\\datasets\\\\jsb_chorales\\\\test\\\\chorale_377.csv',\n",
       " 'C:\\\\Users\\\\sec_zca9cu_rw\\\\.keras\\\\datasets\\\\jsb_chorales\\\\test\\\\chorale_378.csv',\n",
       " 'C:\\\\Users\\\\sec_zca9cu_rw\\\\.keras\\\\datasets\\\\jsb_chorales\\\\test\\\\chorale_379.csv',\n",
       " 'C:\\\\Users\\\\sec_zca9cu_rw\\\\.keras\\\\datasets\\\\jsb_chorales\\\\test\\\\chorale_380.csv',\n",
       " 'C:\\\\Users\\\\sec_zca9cu_rw\\\\.keras\\\\datasets\\\\jsb_chorales\\\\test\\\\chorale_381.csv']"
      ]
     },
     "execution_count": 87,
     "metadata": {},
     "output_type": "execute_result"
    }
   ],
   "source": [
    "chorales_file = tf.keras.utils.get_file('jsb_chorales', \n",
    "                                       'https://raw.githubusercontent.com/ageron/data/main/jsb_chorales.tgz',\n",
    "                                        untar=True)\n",
    "\n",
    "chorales_root = pathlib.Path(chorales_file)\n",
    "\n",
    "train_chorales_list=sorted([str(file) for file in chorales_root.glob(\"train/*.csv\")])\n",
    "valid_chorales_list=sorted([str(file) for file in chorales_root.glob(\"valid/*.csv\")])\n",
    "test_chorales_list=sorted([str(file) for file in chorales_root.glob(\"test/*.csv\")])\n",
    "test_chorales_list"
   ]
  },
  {
   "cell_type": "code",
   "execution_count": 89,
   "id": "3fc8cb65",
   "metadata": {
    "ExecuteTime": {
     "end_time": "2024-04-12T01:28:44.744241Z",
     "start_time": "2024-04-12T01:28:44.741243Z"
    }
   },
   "outputs": [],
   "source": [
    "def csvparse(csvfile):\n",
    "    "
   ]
  },
  {
   "cell_type": "code",
   "execution_count": null,
   "id": "f081e4f5",
   "metadata": {},
   "outputs": [],
   "source": [
    "def create_dataset(csvfiles):\n",
    "    dataset = tf.data.Dataset.from_tensor_slices(csvfiles)\n",
    "    dataset = dataset.map(csvparse)\n",
    "    return dataset"
   ]
  }
 ],
 "metadata": {
  "kernelspec": {
   "display_name": "Python 3 (ipykernel)",
   "language": "python",
   "name": "python3"
  },
  "language_info": {
   "codemirror_mode": {
    "name": "ipython",
    "version": 3
   },
   "file_extension": ".py",
   "mimetype": "text/x-python",
   "name": "python",
   "nbconvert_exporter": "python",
   "pygments_lexer": "ipython3",
   "version": "3.10.10"
  }
 },
 "nbformat": 4,
 "nbformat_minor": 5
}
