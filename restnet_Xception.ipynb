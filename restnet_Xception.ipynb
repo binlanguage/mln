{
 "cells": [
  {
   "cell_type": "code",
   "execution_count": 20,
   "id": "1640d847",
   "metadata": {
    "ExecuteTime": {
     "end_time": "2024-03-18T08:47:42.659724Z",
     "start_time": "2024-03-18T08:47:42.593727Z"
    },
    "run_control": {
     "marked": false
    }
   },
   "outputs": [],
   "source": [
    "import numpy as np\n",
    "import matplotlib.pyplot as plt\n",
    "import tensorflow as tf \n",
    "import keras\n",
    "import os\n",
    "import pandas as pd  \n",
    "import tensorflow_datasets as tfds\n",
    "\n",
    "keras.backend.clear_session()\n",
    "tf.random.set_seed(42)\n",
    "np.random.seed(42)"
   ]
  },
  {
   "cell_type": "markdown",
   "id": "473a2eb9",
   "metadata": {},
   "source": [
    "## 用xception 预训练 tf_flowers数据集"
   ]
  },
  {
   "cell_type": "code",
   "execution_count": 6,
   "id": "e36e44ff",
   "metadata": {
    "ExecuteTime": {
     "end_time": "2024-03-18T08:33:03.670850Z",
     "start_time": "2024-03-18T08:33:03.624847Z"
    }
   },
   "outputs": [
    {
     "name": "stderr",
     "output_type": "stream",
     "text": [
      "WARNING:absl:options.experimental_threading is deprecated. Use options.threading instead.\n",
      "WARNING:absl:options.experimental_threading is deprecated. Use options.threading instead.\n"
     ]
    },
    {
     "name": "stdout",
     "output_type": "stream",
     "text": [
      "{'train': <tfds.core.SplitInfo num_examples=3670>}\n"
     ]
    }
   ],
   "source": [
    "\n",
    "dataset, info = tfds.load(\"tf_flowers\", as_supervised=True, with_info=True)\n",
    "print(info.splits)\n",
    "#只有\"train\"训练集，没有测试集和验证集，所以需要分割训练集。\n",
    "\n",
    "dataset_size = info.splits[\"train\"].num_examples\n",
    "class_names = info.features[\"label\"].names \n",
    "n_classes = info.features[\"label\"].num_classes"
   ]
  },
  {
   "cell_type": "code",
   "execution_count": 3,
   "id": "681e2827",
   "metadata": {
    "ExecuteTime": {
     "end_time": "2024-03-18T08:26:10.415209Z",
     "start_time": "2024-03-18T08:26:08.503118Z"
    }
   },
   "outputs": [
    {
     "name": "stderr",
     "output_type": "stream",
     "text": [
      "WARNING:absl:options.experimental_threading is deprecated. Use options.threading instead.\n",
      "WARNING:absl:options.experimental_threading is deprecated. Use options.threading instead.\n",
      "WARNING:absl:options.experimental_threading is deprecated. Use options.threading instead.\n",
      "WARNING:absl:options.experimental_threading is deprecated. Use options.threading instead.\n",
      "WARNING:absl:options.experimental_threading is deprecated. Use options.threading instead.\n",
      "WARNING:absl:options.experimental_threading is deprecated. Use options.threading instead.\n"
     ]
    },
    {
     "name": "stdout",
     "output_type": "stream",
     "text": [
      "train_set: 2752\n",
      "valid_set: 551\n",
      "test_set: 367\n"
     ]
    }
   ],
   "source": [
    "train_set,valid_set,test_set = tfds.load(\"tf_flowers\", \n",
    "                                         split=[\"train[:75%]\", \"train[75%:90%]\", \"train[:10%]\"],\n",
    "                                         as_supervised=True)\n",
    "print(\"train_set:\",len(list(train_set)))\n",
    "print(\"valid_set:\",len(list(valid_set)))\n",
    "print(\"test_set:\",len(list(test_set)))"
   ]
  },
  {
   "cell_type": "code",
   "execution_count": 4,
   "id": "d90b51aa",
   "metadata": {
    "ExecuteTime": {
     "end_time": "2024-03-18T08:26:19.779499Z",
     "start_time": "2024-03-18T08:26:19.707499Z"
    }
   },
   "outputs": [],
   "source": [
    "def preprocess(image, label):\n",
    "    resized_image = tf.image.resize(image, [224, 224])\n",
    "    final_image = keras.applications.xception.preprocess_input(resized_image)\n",
    "    return final_image, label\n",
    "\n",
    "batch_size = 32\n",
    "train_set = train_set.shuffle(1000)\n",
    "train_set = train_set.map(preprocess).batch(batch_size).prefetch(1)\n",
    "valid_set = valid_set.map(preprocess).batch(batch_size).prefetch(1)\n",
    "test_set = test_set.map(preprocess).batch(batch_size).prefetch(1) \n",
    "\n",
    "#如果想做数据增强，可以修改训练集的预处理函数，给训练图片添加一些转换。\n",
    "#使用tf.image.random_crop()随机裁剪图片，\n",
    "#使用tf.image.random_flip_left_right()做随机水平翻转"
   ]
  },
  {
   "cell_type": "code",
   "execution_count": 11,
   "id": "3ef5c23a",
   "metadata": {
    "ExecuteTime": {
     "end_time": "2024-03-18T08:38:18.730431Z",
     "start_time": "2024-03-18T08:38:17.492336Z"
    },
    "run_control": {
     "marked": true
    }
   },
   "outputs": [],
   "source": [
    "#加载一个在 ImageNet 上预训练的 Xception 模型。\n",
    "#通过设定include_top=False，排除模型的顶层,默认模型接受299*299图片，删除重新添加input适配 none*none\n",
    "#排除了全局平均池化层和紧密输出层。我们然后根据基本模型的输出\n",
    "#添加自己的全局平均池化层，然后添加紧密输出层，默认1000类，现在五类。\n",
    "base_model = keras.applications.xception.Xception(weights=\"imagenet\",\n",
    "                                                  include_top=False)\n",
    "avg = keras.layers.GlobalAveragePooling2D()(base_model.output)\n",
    "output = keras.layers.Dense(n_classes, activation=\"softmax\")(avg)\n",
    "model = keras.Model(inputs=base_model.input, outputs=output)"
   ]
  },
  {
   "cell_type": "code",
   "execution_count": 18,
   "id": "410fb702",
   "metadata": {
    "ExecuteTime": {
     "end_time": "2024-03-18T08:42:42.488991Z",
     "start_time": "2024-03-18T08:42:42.484991Z"
    }
   },
   "outputs": [
    {
     "data": {
      "text/plain": [
       "<KerasTensor: shape=(None, None, None, 3) dtype=float32 (created by layer 'input_3')>"
      ]
     },
     "execution_count": 18,
     "metadata": {},
     "output_type": "execute_result"
    }
   ],
   "source": [
    "model.input"
   ]
  },
  {
   "cell_type": "code",
   "execution_count": 17,
   "id": "ad13e75c",
   "metadata": {
    "ExecuteTime": {
     "end_time": "2024-03-18T08:42:29.301523Z",
     "start_time": "2024-03-18T08:42:29.296520Z"
    }
   },
   "outputs": [],
   "source": [
    "#冻结模型参数，因为我们的模型直接使用了基本模型的层，而不是base_model对象\n",
    "#设置base_model.trainable=False没有任何效果。\n",
    "for layer in base_model.layers:\n",
    "    layer.trainable = False"
   ]
  },
  {
   "cell_type": "code",
   "execution_count": null,
   "id": "15305985",
   "metadata": {},
   "outputs": [],
   "source": []
  }
 ],
 "metadata": {
  "kernelspec": {
   "display_name": "Python 3 (ipykernel)",
   "language": "python",
   "name": "python3"
  },
  "language_info": {
   "codemirror_mode": {
    "name": "ipython",
    "version": 3
   },
   "file_extension": ".py",
   "mimetype": "text/x-python",
   "name": "python",
   "nbconvert_exporter": "python",
   "pygments_lexer": "ipython3",
   "version": "3.10.10"
  }
 },
 "nbformat": 4,
 "nbformat_minor": 5
}
