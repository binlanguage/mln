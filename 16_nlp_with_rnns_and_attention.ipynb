{
 "cells": [
  {
   "cell_type": "code",
   "execution_count": 2,
   "id": "457345ff",
   "metadata": {
    "ExecuteTime": {
     "end_time": "2024-05-13T00:54:31.274353Z",
     "start_time": "2024-05-13T00:54:01.652422Z"
    }
   },
   "outputs": [
    {
     "name": "stderr",
     "output_type": "stream",
     "text": [
      "2024-05-16 11:06:16.906539: E external/local_xla/xla/stream_executor/cuda/cuda_dnn.cc:9261] Unable to register cuDNN factory: Attempting to register factory for plugin cuDNN when one has already been registered\n",
      "2024-05-16 11:06:16.906603: E external/local_xla/xla/stream_executor/cuda/cuda_fft.cc:607] Unable to register cuFFT factory: Attempting to register factory for plugin cuFFT when one has already been registered\n",
      "2024-05-16 11:06:17.165501: E external/local_xla/xla/stream_executor/cuda/cuda_blas.cc:1515] Unable to register cuBLAS factory: Attempting to register factory for plugin cuBLAS when one has already been registered\n",
      "2024-05-16 11:06:17.850911: I tensorflow/core/platform/cpu_feature_guard.cc:182] This TensorFlow binary is optimized to use available CPU instructions in performance-critical operations.\n",
      "To enable the following instructions: AVX2 FMA, in other operations, rebuild TensorFlow with the appropriate compiler flags.\n",
      "2024-05-16 11:06:23.236087: W tensorflow/compiler/tf2tensorrt/utils/py_utils.cc:38] TF-TRT Warning: Could not find TensorRT\n"
     ]
    }
   ],
   "source": [
    "from pathlib import Path\n",
    "import os\n",
    "import matplotlib.pyplot as plt\n",
    "import pandas as pd\n",
    "import numpy as np\n",
    "import tensorflow as tf\n",
    "import keras\n",
    "np.set_printoptions(precision=4)"
   ]
  },
  {
   "cell_type": "code",
   "execution_count": 11,
   "id": "9c056e74",
   "metadata": {
    "ExecuteTime": {
     "end_time": "2024-04-28T07:01:22.549778Z",
     "start_time": "2024-04-28T07:01:22.534154Z"
    }
   },
   "outputs": [],
   "source": [
    "shakespeare_url = \"https://raw.githubusercontent.com/karpathy/char-rnn/master/data/tinyshakespeare/input.txt\"\n",
    "filepath = keras.utils.get_file(\"shakespeare.txt\", shakespeare_url)\n",
    "with open(filepath) as f:\n",
    "    shakespeare_text = f.read()"
   ]
  },
  {
   "cell_type": "code",
   "execution_count": 12,
   "id": "c9ddf70f",
   "metadata": {
    "ExecuteTime": {
     "end_time": "2024-04-28T07:01:23.081045Z",
     "start_time": "2024-04-28T07:01:22.909162Z"
    }
   },
   "outputs": [],
   "source": [
    "#将每个字符编码为一个整数\n",
    "tokenizer = keras.preprocessing.text.Tokenizer(char_level=True)\n",
    "#设置char_level=True，以得到字符级别的编码，而不是默认的单词级别的编码\n",
    "tokenizer.fit_on_texts([shakespeare_text])"
   ]
  },
  {
   "cell_type": "code",
   "execution_count": 13,
   "id": "5fef08bb",
   "metadata": {
    "ExecuteTime": {
     "end_time": "2024-04-28T07:01:23.331051Z",
     "start_time": "2024-04-28T07:01:23.315427Z"
    }
   },
   "outputs": [
    {
     "data": {
      "text/plain": [
       "[[20, 14, 19, 25]]"
      ]
     },
     "execution_count": 13,
     "metadata": {},
     "output_type": "execute_result"
    }
   ],
   "source": [
    "tokenizer.texts_to_sequences([\"Fuck\"])"
   ]
  },
  {
   "cell_type": "code",
   "execution_count": 14,
   "id": "2b800706",
   "metadata": {
    "ExecuteTime": {
     "end_time": "2024-04-28T07:01:24.223131Z",
     "start_time": "2024-04-28T07:01:24.207509Z"
    }
   },
   "outputs": [
    {
     "data": {
      "text/plain": [
       "['f u c k']"
      ]
     },
     "execution_count": 14,
     "metadata": {},
     "output_type": "execute_result"
    }
   ],
   "source": [
    "tokenizer.sequences_to_texts([[20, 14, 19, 25]])"
   ]
  },
  {
   "cell_type": "markdown",
   "id": "d7663717",
   "metadata": {},
   "source": [
    "## 将序列数据集切分成多个窗口"
   ]
  },
  {
   "cell_type": "code",
   "execution_count": 15,
   "id": "b264088d",
   "metadata": {
    "ExecuteTime": {
     "end_time": "2024-04-28T07:01:25.707550Z",
     "start_time": "2024-04-28T07:01:25.504419Z"
    }
   },
   "outputs": [],
   "source": [
    "#对完整文本做编码，将每个字符都用 ID 来表示（减 1 使 ID 从 0 到 38，而不是 1 到 39）\n",
    "[encoded] = np.array(tokenizer.texts_to_sequences([shakespeare_text])) - 1\n",
    "\n",
    "dataset_size=len(encoded)"
   ]
  },
  {
   "cell_type": "code",
   "execution_count": 16,
   "id": "c491564c",
   "metadata": {
    "ExecuteTime": {
     "end_time": "2024-04-28T07:01:26.004436Z",
     "start_time": "2024-04-28T07:01:25.988810Z"
    }
   },
   "outputs": [],
   "source": [
    "#将前 90% 的文本作为训练集（剩下的作为验证集和测试集）\n",
    "train_size = dataset_size * 90 // 100\n",
    "dataset = tf.data.Dataset.from_tensor_slices(encoded[:train_size])\n"
   ]
  },
  {
   "cell_type": "code",
   "execution_count": 17,
   "id": "405fc68c",
   "metadata": {
    "ExecuteTime": {
     "end_time": "2024-04-28T07:01:26.707578Z",
     "start_time": "2024-04-28T07:01:26.691955Z"
    },
    "run_control": {
     "marked": true
    }
   },
   "outputs": [],
   "source": [
    "#调用window()方法创建一个短文本窗口的数据集\n",
    "#RNN 学不到任何长度超过n_steps的规律，所以n_steps不要太短\n",
    "n_steps = 100\n",
    "window_length = n_steps + 1 # target = input 向前移动 1 个字符\n",
    "dataset = dataset.window(window_length, shift=1, drop_remainder=True)\n",
    "\n",
    "#为了获得可能的最大训练集,设定shift=1，第一个窗口包含字符 0 到 100，第二个窗口包含字符 1 到 101\n",
    "#为了确保所有窗口是准确的 101 个字符长度，设置drop_remainder=True"
   ]
  },
  {
   "cell_type": "code",
   "execution_count": 20,
   "id": "06b7ccef",
   "metadata": {
    "ExecuteTime": {
     "end_time": "2024-04-28T07:01:40.807786Z",
     "start_time": "2024-04-28T07:01:40.745288Z"
    },
    "scrolled": true
   },
   "outputs": [],
   "source": [
    "#batch(window_length)对于每个固定长度窗口，得到一个独立的张量，flat_map 再打平这些张量，组成数据集\n",
    "#shuffle 打散这些窗口\n",
    "#对窗口做批次，分割输入（前 100 个字符）和目标（最后一个字符）\n",
    "\n",
    "dataset = dataset.flat_map(lambda window: window.batch(window_length))\n",
    "batch_size = 32\n",
    "dataset = dataset.shuffle(10000).batch(batch_size)\n",
    "dataset = dataset.map(lambda windows: (windows[:, :-1], windows[:, 1:]))"
   ]
  },
  {
   "cell_type": "code",
   "execution_count": 21,
   "id": "01e71d00",
   "metadata": {
    "ExecuteTime": {
     "end_time": "2024-04-28T07:01:42.354704Z",
     "start_time": "2024-04-28T07:01:41.542186Z"
    }
   },
   "outputs": [
    {
     "data": {
      "image/png": "[encoded data removed]",
      "text/plain": [
       "<IPython.core.display.Image object>"
      ]
     },
     "execution_count": 21,
     "metadata": {
      "image/png": {
       "width": 640
      }
     },
     "output_type": "execute_result"
    }
   ],
   "source": [
    "from IPython import display\n",
    "display.Image(\"https://hands1ml.apachecn.org/img/847ef99a515939c6266e9a184ac7e061.png\",width=640)"
   ]
  },
  {
   "cell_type": "code",
   "execution_count": 22,
   "id": "6c99b801",
   "metadata": {
    "ExecuteTime": {
     "end_time": "2024-04-28T07:01:42.385955Z",
     "start_time": "2024-04-28T07:01:42.354704Z"
    }
   },
   "outputs": [],
   "source": [
    "#独热编码输入字符，再预提取\n",
    "max_id=39\n",
    "dataset = dataset.map(\n",
    "    lambda X_batch, Y_batch: (tf.one_hot(X_batch, depth=max_id), Y_batch))\n",
    "dataset = dataset.prefetch(1) \n"
   ]
  },
  {
   "cell_type": "markdown",
   "id": "d8a5d23c",
   "metadata": {},
   "source": [
    "## 搭建并训练 Char-RNN 模型"
   ]
  },
  {
   "cell_type": "code",
   "execution_count": null,
   "id": "e38f5be4",
   "metadata": {
    "ExecuteTime": {
     "start_time": "2024-04-29T01:24:37.417Z"
    },
    "scrolled": true
   },
   "outputs": [
    {
     "name": "stdout",
     "output_type": "stream",
     "text": [
      "Epoch 1/20\n",
      "  31367/Unknown - 2824s 90ms/step - loss: 0.9717 - accuracy: 0.7279WARNING:tensorflow:Early stopping conditioned on metric `val_loss` which is not available. Available metrics are: loss,accuracy\n",
      "31368/31368 [==============================] - 2824s 90ms/step - loss: 0.9717 - accuracy: 0.7279\n",
      "Epoch 2/20\n",
      "31367/31368 [============================>.] - ETA: 0s - loss: 0.9483 - accuracy: 0.7297WARNING:tensorflow:Early stopping conditioned on metric `val_loss` which is not available. Available metrics are: loss,accuracy\n",
      "31368/31368 [==============================] - 2898s 92ms/step - loss: 0.9483 - accuracy: 0.7297\n",
      "Epoch 3/20\n",
      "31367/31368 [============================>.] - ETA: 0s - loss: 1.0064 - accuracy: 0.7051WARNING:tensorflow:Early stopping conditioned on metric `val_loss` which is not available. Available metrics are: loss,accuracy\n",
      "31368/31368 [==============================] - 2772s 88ms/step - loss: 1.0063 - accuracy: 0.7051\n",
      "Epoch 4/20\n",
      "31367/31368 [============================>.] - ETA: 0s - loss: 1.0486 - accuracy: 0.6872WARNING:tensorflow:Early stopping conditioned on metric `val_loss` which is not available. Available metrics are: loss,accuracy\n",
      "31368/31368 [==============================] - 2810s 90ms/step - loss: 1.0486 - accuracy: 0.6872\n",
      "Epoch 5/20\n",
      "31368/31368 [==============================] - ETA: 0s - loss: 1.0891 - accuracy: 0.6719WARNING:tensorflow:Early stopping conditioned on metric `val_loss` which is not available. Available metrics are: loss,accuracy\n",
      "31368/31368 [==============================] - 2777s 88ms/step - loss: 1.0891 - accuracy: 0.6719\n",
      "Epoch 6/20\n",
      "29757/31368 [===========================>..] - ETA: 2:23 - loss: 1.1102 - accuracy: 0.6630"
     ]
    }
   ],
   "source": [
    "#每个单元对输入（dropout）和隐藏态（recurrent_dropout）的丢弃率是 20%\n",
    "#输出层是一个时间分布的紧密层，有 39 个单元（max_id）\n",
    "\n",
    "model = keras.models.Sequential([\n",
    "    keras.layers.GRU(128, return_sequences=True, input_shape=[None, max_id],\n",
    "                     dropout=0, recurrent_dropout=0),\n",
    "    keras.layers.GRU(128, return_sequences=True,\n",
    "                     dropout=0, recurrent_dropout=0),\n",
    "    keras.layers.TimeDistributed(keras.layers.Dense(max_id,\n",
    "                                                    activation=\"softmax\"))\n",
    "])\n",
    "\n",
    "optimizer = keras.optimizers.Nadam(learning_rate=1e-3)\n",
    "model.compile(loss=\"sparse_categorical_crossentropy\", optimizer=optimizer,\n",
    "              metrics=[\"accuracy\"])\n",
    "\n",
    "callback=keras.callbacks.EarlyStopping(patience=5,restore_best_weights=True)\n",
    "history = model.fit(dataset, epochs=20,callbacks=callback)"
   ]
  },
  {
   "cell_type": "markdown",
   "id": "2ae4d259",
   "metadata": {
    "run_control": {
     "marked": true
    }
   },
   "source": [
    "# 用编码器-解码器做机器翻译\n"
   ]
  },
  {
   "cell_type": "code",
   "execution_count": 23,
   "id": "5f9a23a1",
   "metadata": {
    "ExecuteTime": {
     "end_time": "2024-05-14T05:43:32.263020Z",
     "start_time": "2024-05-14T05:43:28.372341Z"
    }
   },
   "outputs": [
    {
     "data": {
      "image/png": "[encoded data removed]",
      "text/plain": [
       "<IPython.core.display.Image object>"
      ]
     },
     "execution_count": 23,
     "metadata": {
      "image/png": {
       "width": 640
      }
     },
     "output_type": "execute_result"
    }
   ],
   "source": [
    "#训练时\n",
    "from IPython import display\n",
    "display.Image(\"https://hands1ml.apachecn.org/img/aef8aa3fde805533d8461794f1548f17.png\",width=640)"
   ]
  },
  {
   "cell_type": "code",
   "execution_count": 43,
   "id": "99134cc2",
   "metadata": {
    "ExecuteTime": {
     "end_time": "2024-05-06T01:56:22.733281Z",
     "start_time": "2024-05-06T01:56:21.905154Z"
    }
   },
   "outputs": [
    {
     "data": {
      "image/png": "[encoded data removed]",
      "text/plain": [
       "<IPython.core.display.Image object>"
      ]
     },
     "execution_count": 43,
     "metadata": {
      "image/png": {
       "width": 640
      }
     },
     "output_type": "execute_result"
    }
   ],
   "source": [
    "#推断时,没有目标语句输入进解码器。只是输入解码器前一步的输出，另外需要一个嵌入查找表，图中没有展示\n",
    "display.Image(\"https://hands1ml.apachecn.org/img/1e702f782691c1e3f0d0a177fb02d497.png\",width=640)\n"
   ]
  },
  {
   "cell_type": "code",
   "execution_count": 7,
   "id": "e20eb92e",
   "metadata": {
    "ExecuteTime": {
     "end_time": "2024-05-14T03:16:47.805289Z",
     "start_time": "2024-05-14T03:16:47.524037Z"
    }
   },
   "outputs": [],
   "source": [
    "url = \"https://storage.googleapis.com/download.tensorflow.org/data/spa-eng.zip\"\n",
    "path = tf.keras.utils.get_file(\"spa-eng.zip\", origin=url, cache_dir=\"datasets\",\n",
    "                               extract=True)\n",
    "text = (Path(path).with_name(\"spa-eng\") / \"spa.txt\").read_text(encoding='utf-8')"
   ]
  },
  {
   "cell_type": "code",
   "execution_count": 8,
   "id": "28a80885",
   "metadata": {
    "ExecuteTime": {
     "end_time": "2024-05-14T05:14:32.940073Z",
     "start_time": "2024-05-14T05:14:32.611942Z"
    }
   },
   "outputs": [],
   "source": [
    "text = text.replace(\"¡\", \"\").replace(\"¿\", \"\")\n",
    "pairs = [line.split(\"\\t\") for line in text.splitlines()]\n",
    "np.random.seed(42)  # extra code – ensures reproducibility on CPU\n",
    "np.random.shuffle(pairs)\n",
    "sentences_en, sentences_es = zip(*pairs)  # separates the pairs into 2 lists"
   ]
  },
  {
   "cell_type": "code",
   "execution_count": 9,
   "id": "fb1c13cc",
   "metadata": {
    "ExecuteTime": {
     "end_time": "2024-05-14T05:44:27.719040Z",
     "start_time": "2024-05-14T05:44:18.326222Z"
    },
    "scrolled": true
   },
   "outputs": [],
   "source": [
    "vocab_size = 1000\n",
    "max_length = 50\n",
    "text_vec_layer_en = tf.keras.layers.TextVectorization(\n",
    "    vocab_size, output_sequence_length=max_length)\n",
    "text_vec_layer_es = tf.keras.layers.TextVectorization(\n",
    "    vocab_size, output_sequence_length=max_length)\n",
    "text_vec_layer_en.adapt(sentences_en)\n",
    "text_vec_layer_es.adapt([f\"startofseq {s} endofseq\" for s in sentences_es])\n",
    "#西语格式为['startofseq Qué aburrimiento! endofseq',\n",
    "#          'startofseq Adoro el deporte. endofseq',...]"
   ]
  },
  {
   "cell_type": "code",
   "execution_count": 6,
   "id": "e36d4733",
   "metadata": {
    "ExecuteTime": {
     "end_time": "2024-05-14T05:51:13.020611Z",
     "start_time": "2024-05-14T05:51:13.004989Z"
    }
   },
   "outputs": [
    {
     "data": {
      "text/plain": [
       "['', '[UNK]', 'startofseq', 'endofseq', 'de', 'que', 'a', 'no', 'tom', 'la']"
      ]
     },
     "execution_count": 6,
     "metadata": {},
     "output_type": "execute_result"
    }
   ],
   "source": [
    "text_vec_layer_en.get_vocabulary()[:10]\n",
    "text_vec_layer_es.get_vocabulary()[:10]"
   ]
  },
  {
   "cell_type": "code",
   "execution_count": 10,
   "id": "c4ed35bd",
   "metadata": {
    "ExecuteTime": {
     "end_time": "2024-05-14T06:02:36.488593Z",
     "start_time": "2024-05-14T06:02:35.457335Z"
    }
   },
   "outputs": [
    {
     "name": "stderr",
     "output_type": "stream",
     "text": [
      "2024-05-16 11:07:31.098700: I external/local_tsl/tsl/platform/default/subprocess.cc:304] Start cannot spawn child process: No such file or directory\n"
     ]
    }
   ],
   "source": [
    "X_train = tf.constant(sentences_en[:100_000]) #:100_000==:100000\n",
    "X_valid = tf.constant(sentences_en[100_000:]) #一共118964句子，最后18964句为验证集\n",
    "\n",
    "#解码器数据是sos开头的西语单词\n",
    "#解码器标签是eos结尾的西语，单词转换为int id\n",
    "X_train_dec = tf.constant([f\"startofseq {s}\" for s in sentences_es[:100_000]])\n",
    "X_valid_dec = tf.constant([f\"startofseq {s}\" for s in sentences_es[100_000:]])\n",
    "Y_train = text_vec_layer_es([f\"{s} endofseq\" for s in sentences_es[:100_000]])\n",
    "Y_valid = text_vec_layer_es([f\"{s} endofseq\" for s in sentences_es[100_000:]])"
   ]
  },
  {
   "cell_type": "code",
   "execution_count": 11,
   "id": "7cb74d0f",
   "metadata": {
    "ExecuteTime": {
     "end_time": "2024-05-14T06:10:44.320418Z",
     "start_time": "2024-05-14T06:10:44.304790Z"
    }
   },
   "outputs": [],
   "source": [
    "\n",
    "tf.random.set_seed(42)  # extra code – ensures reproducibility on CPU\n",
    "encoder_inputs = tf.keras.layers.Input(shape=[], dtype=tf.string)\n",
    "decoder_inputs = tf.keras.layers.Input(shape=[], dtype=tf.string)"
   ]
  },
  {
   "cell_type": "code",
   "execution_count": 12,
   "id": "591928b3",
   "metadata": {
    "ExecuteTime": {
     "end_time": "2024-05-14T06:14:14.189497Z",
     "start_time": "2024-05-14T06:14:14.126990Z"
    }
   },
   "outputs": [],
   "source": [
    "embed_size = 128\n",
    "encoder_input_ids = text_vec_layer_en(encoder_inputs)\n",
    "decoder_input_ids = text_vec_layer_es(decoder_inputs)\n",
    "encoder_embedding_layer = tf.keras.layers.Embedding(vocab_size, embed_size,\n",
    "                                                    mask_zero=True)\n",
    "decoder_embedding_layer = tf.keras.layers.Embedding(vocab_size, embed_size,\n",
    "                                                    mask_zero=True)\n",
    "encoder_embeddings = encoder_embedding_layer(encoder_input_ids)\n",
    "decoder_embeddings = decoder_embedding_layer(decoder_input_ids)\n",
    "\n",
    "#定义编码解码器的embedding lookup"
   ]
  },
  {
   "cell_type": "code",
   "execution_count": 12,
   "id": "bdee8dcd",
   "metadata": {
    "ExecuteTime": {
     "start_time": "2024-05-14T06:14:14.760Z"
    }
   },
   "outputs": [],
   "source": [
    "#定义编码解码器RNN\n",
    "\n",
    "encoder = tf.keras.layers.LSTM(512, return_state=True)\n",
    "encoder_outputs, *encoder_state = encoder(encoder_embeddings)\n",
    "\n",
    "decoder = tf.keras.layers.LSTM(512, return_sequences=True)\n",
    "decoder_outputs = decoder(decoder_embeddings, initial_state=encoder_state)"
   ]
  },
  {
   "cell_type": "code",
   "execution_count": 13,
   "id": "0520969f",
   "metadata": {
    "ExecuteTime": {
     "end_time": "2024-05-14T06:16:27.647448Z",
     "start_time": "2024-05-14T06:16:27.616197Z"
    }
   },
   "outputs": [],
   "source": [
    "#定义解码输出\n",
    "output_layer = tf.keras.layers.Dense(vocab_size, activation=\"softmax\")#是否可以考虑做采样softmax\n",
    "Y_proba = output_layer(decoder_outputs)"
   ]
  },
  {
   "cell_type": "code",
   "execution_count": 14,
   "id": "d76b79ed",
   "metadata": {
    "ExecuteTime": {
     "end_time": "2024-05-14T06:16:47.110424Z",
     "start_time": "2024-05-14T06:16:28.319344Z"
    },
    "scrolled": true
   },
   "outputs": [
    {
     "name": "stdout",
     "output_type": "stream",
     "text": [
      "Epoch 1/10\n"
     ]
    },
    {
     "name": "stderr",
     "output_type": "stream",
     "text": [
      "2024-05-14 18:57:19.360326: W tensorflow/core/common_runtime/type_inference.cc:339] Type inference failed. This indicates an invalid graph that escaped type checking. Error message: INVALID_ARGUMENT: expected compatible input types, but input 1:\n",
      "type_id: TFT_OPTIONAL\n",
      "args {\n",
      "  type_id: TFT_PRODUCT\n",
      "  args {\n",
      "    type_id: TFT_TENSOR\n",
      "    args {\n",
      "      type_id: TFT_INT32\n",
      "    }\n",
      "  }\n",
      "}\n",
      " is neither a subtype nor a supertype of the combined inputs preceding it:\n",
      "type_id: TFT_OPTIONAL\n",
      "args {\n",
      "  type_id: TFT_PRODUCT\n",
      "  args {\n",
      "    type_id: TFT_TENSOR\n",
      "    args {\n",
      "      type_id: TFT_FLOAT\n",
      "    }\n",
      "  }\n",
      "}\n",
      "\n",
      "\tfor Tuple type infernce function 0\n",
      "\twhile inferring type of node 'cond_36/output/_23'\n",
      "2024-05-14 18:57:27.582974: I external/local_xla/xla/stream_executor/cuda/cuda_dnn.cc:454] Loaded cuDNN version 8907\n",
      "2024-05-14 18:57:30.345568: I external/local_xla/xla/service/service.cc:168] XLA service 0x7f9a2c032ae0 initialized for platform CUDA (this does not guarantee that XLA will be used). Devices:\n",
      "2024-05-14 18:57:30.345608: I external/local_xla/xla/service/service.cc:176]   StreamExecutor device (0): NVIDIA GeForce RTX 3070 Ti, Compute Capability 8.6\n",
      "2024-05-14 18:57:30.583297: I tensorflow/compiler/mlir/tensorflow/utils/dump_mlir_util.cc:269] disabling MLIR crash reproducer, set env var `MLIR_CRASH_REPRODUCER_DIRECTORY` to enable.\n",
      "WARNING: All log messages before absl::InitializeLog() is called are written to STDERR\n",
      "I0000 00:00:1715684251.010305     178 device_compiler.h:186] Compiled cluster using XLA!  This line is logged at most once for the lifetime of the process.\n"
     ]
    },
    {
     "name": "stdout",
     "output_type": "stream",
     "text": [
      "3125/3125 [==============================] - 159s 45ms/step - loss: 2.9021 - accuracy: 0.4294 - val_loss: 2.1538 - val_accuracy: 0.5263\n",
      "Epoch 2/10\n",
      "3125/3125 [==============================] - 129s 41ms/step - loss: 1.8296 - accuracy: 0.5773 - val_loss: 1.6377 - val_accuracy: 0.6133\n",
      "Epoch 3/10\n",
      "3125/3125 [==============================] - 131s 42ms/step - loss: 1.4159 - accuracy: 0.6518 - val_loss: 1.4149 - val_accuracy: 0.6566\n",
      "Epoch 4/10\n",
      "3125/3125 [==============================] - 130s 42ms/step - loss: 1.1841 - accuracy: 0.6985 - val_loss: 1.3240 - val_accuracy: 0.6747\n",
      "Epoch 5/10\n",
      "3125/3125 [==============================] - 130s 42ms/step - loss: 1.0196 - accuracy: 0.7319 - val_loss: 1.2842 - val_accuracy: 0.6828\n",
      "Epoch 6/10\n",
      "3125/3125 [==============================] - 132s 42ms/step - loss: 0.8858 - accuracy: 0.7604 - val_loss: 1.2774 - val_accuracy: 0.6859\n",
      "Epoch 7/10\n",
      "3125/3125 [==============================] - 128s 41ms/step - loss: 0.7723 - accuracy: 0.7863 - val_loss: 1.2953 - val_accuracy: 0.6862\n",
      "Epoch 8/10\n",
      "3125/3125 [==============================] - 132s 42ms/step - loss: 0.6728 - accuracy: 0.8095 - val_loss: 1.3181 - val_accuracy: 0.6859\n",
      "Epoch 9/10\n",
      "3125/3125 [==============================] - 135s 43ms/step - loss: 0.5878 - accuracy: 0.8307 - val_loss: 1.3629 - val_accuracy: 0.6824\n",
      "Epoch 10/10\n",
      "3125/3125 [==============================] - 135s 43ms/step - loss: 0.5158 - accuracy: 0.8488 - val_loss: 1.4069 - val_accuracy: 0.6813\n"
     ]
    },
    {
     "data": {
      "text/plain": [
       "<keras.src.callbacks.History at 0x7f9ad62a3fa0>"
      ]
     },
     "execution_count": 14,
     "metadata": {},
     "output_type": "execute_result"
    }
   ],
   "source": [
    "model = tf.keras.Model(inputs=[encoder_inputs, decoder_inputs],\n",
    "                       outputs=[Y_proba])\n",
    "model.compile(loss=\"sparse_categorical_crossentropy\", optimizer=\"nadam\",\n",
    "              metrics=[\"accuracy\"])\n",
    "model.fit((X_train, X_train_dec), Y_train, epochs=10,\n",
    "          validation_data=((X_valid, X_valid_dec), Y_valid))"
   ]
  },
  {
   "cell_type": "code",
   "execution_count": 18,
   "id": "68fe623e-8f59-41f4-8cff-2bd552af647d",
   "metadata": {},
   "outputs": [
    {
     "name": "stderr",
     "output_type": "stream",
     "text": [
      "W0000 00:00:1715838501.060257      89 op_level_cost_estimator.cc:699] Error in PredictCost() for the op: op: \"Softmax\" attr { key: \"T\" value { type: DT_FLOAT } } inputs { dtype: DT_FLOAT shape { unknown_rank: true } } device { type: \"GPU\" vendor: \"NVIDIA\" model: \"NVIDIA GeForce RTX 3070 Ti\" frequency: 1770 num_cores: 48 environment { key: \"architecture\" value: \"8.6\" } environment { key: \"cuda\" value: \"12020\" } environment { key: \"cudnn\" value: \"8904\" } num_registers: 65536 l1_cache_size: 24576 l2_cache_size: 4194304 shared_memory_size_per_multiprocessor: 102400 memory_size: 5644484608 bandwidth: 608064000 } outputs { dtype: DT_FLOAT shape { unknown_rank: true } }\n"
     ]
    },
    {
     "name": "stdout",
     "output_type": "stream",
     "text": [
      "1/1 [==============================] - 3s 3s/step\n",
      "1/1 [==============================] - 0s 37ms/step\n",
      "1/1 [==============================] - 0s 42ms/step\n",
      "1/1 [==============================] - 0s 44ms/step\n",
      "1/1 [==============================] - 0s 39ms/step\n"
     ]
    },
    {
     "data": {
      "text/plain": [
       "'me gusta el fútbol'"
      ]
     },
     "execution_count": 18,
     "metadata": {},
     "output_type": "execute_result"
    }
   ],
   "source": [
    "def translate(sentence_en):\n",
    "    translation = \"\"\n",
    "    for word_idx in range(max_length):\n",
    "        X = np.array([sentence_en])  # encoder input \n",
    "        X_dec = np.array([\"startofseq \" + translation])  # decoder input\n",
    "        y_proba = model.predict((X, X_dec))[0, word_idx]  # last token's probas\n",
    "        predicted_word_id = np.argmax(y_proba)\n",
    "        predicted_word = text_vec_layer_es.get_vocabulary()[predicted_word_id]\n",
    "        if predicted_word == \"endofseq\":\n",
    "            break\n",
    "        translation += \" \" + predicted_word\n",
    "    return translation.strip() #去除首尾空格\n",
    "\n",
    "translate(\"I like soccer\")"
   ]
  },
  {
   "cell_type": "markdown",
   "id": "f4d6db82",
   "metadata": {},
   "source": [
    "## 双向 RNN\n"
   ]
  },
  {
   "cell_type": "code",
   "execution_count": 25,
   "id": "08a74ebc",
   "metadata": {
    "ExecuteTime": {
     "end_time": "2024-05-14T05:43:41.841290Z",
     "start_time": "2024-05-14T05:43:40.716275Z"
    }
   },
   "outputs": [
    {
     "data": {
      "image/png": "[encoded data removed]",
      "text/plain": [
       "<IPython.core.display.Image object>"
      ]
     },
     "execution_count": 25,
     "metadata": {
      "image/png": {
       "width": 512
      }
     },
     "output_type": "execute_result"
    }
   ],
   "source": [
    "display.Image(\"https://hands1ml.apachecn.org/img/498e45d619e08c8fc7acff449bfb27de.png\",width=512)"
   ]
  },
  {
   "cell_type": "code",
   "execution_count": 13,
   "id": "68143c17",
   "metadata": {
    "ExecuteTime": {
     "end_time": "2024-05-06T01:09:12.796149Z",
     "start_time": "2024-05-06T01:09:12.764903Z"
    }
   },
   "outputs": [],
   "source": [
    "#在keras.layers.Bidirectional层中包一个循环层,双向GRU\n",
    "tf.random.set_seed(42)  # extra code – ensures reproducibility on CPU\n",
    "encoder = tf.keras.layers.Bidirectional(\n",
    "    tf.keras.layers.LSTM(256, return_state=True))\n",
    "encoder_outputs, *encoder_state = encoder(encoder_embeddings)\n",
    "encoder_state = [tf.concat(encoder_state[::2], axis=-1),  # short-term (0 & 2)\n",
    "                 tf.concat(encoder_state[1::2], axis=-1)]  # long-term (1 & 3)\n"
   ]
  },
  {
   "cell_type": "code",
   "execution_count": 14,
   "id": "e460ca9c-801c-4d21-81eb-a78456300458",
   "metadata": {
    "scrolled": true
   },
   "outputs": [
    {
     "name": "stdout",
     "output_type": "stream",
     "text": [
      "Epoch 1/10\n"
     ]
    },
    {
     "name": "stderr",
     "output_type": "stream",
     "text": [
      "2024-05-16 11:08:16.139352: W tensorflow/core/common_runtime/type_inference.cc:339] Type inference failed. This indicates an invalid graph that escaped type checking. Error message: INVALID_ARGUMENT: expected compatible input types, but input 1:\n",
      "type_id: TFT_OPTIONAL\n",
      "args {\n",
      "  type_id: TFT_PRODUCT\n",
      "  args {\n",
      "    type_id: TFT_TENSOR\n",
      "    args {\n",
      "      type_id: TFT_INT32\n",
      "    }\n",
      "  }\n",
      "}\n",
      " is neither a subtype nor a supertype of the combined inputs preceding it:\n",
      "type_id: TFT_OPTIONAL\n",
      "args {\n",
      "  type_id: TFT_PRODUCT\n",
      "  args {\n",
      "    type_id: TFT_TENSOR\n",
      "    args {\n",
      "      type_id: TFT_FLOAT\n",
      "    }\n",
      "  }\n",
      "}\n",
      "\n",
      "\tfor Tuple type infernce function 0\n",
      "\twhile inferring type of node 'cond_36/output/_23'\n",
      "2024-05-16 11:08:24.759962: I external/local_xla/xla/stream_executor/cuda/cuda_dnn.cc:454] Loaded cuDNN version 8907\n",
      "2024-05-16 11:08:27.477565: I external/local_xla/xla/service/service.cc:168] XLA service 0x7fcb6cbad550 initialized for platform CUDA (this does not guarantee that XLA will be used). Devices:\n",
      "2024-05-16 11:08:27.477603: I external/local_xla/xla/service/service.cc:176]   StreamExecutor device (0): NVIDIA GeForce RTX 3070 Ti, Compute Capability 8.6\n",
      "2024-05-16 11:08:27.739440: I tensorflow/compiler/mlir/tensorflow/utils/dump_mlir_util.cc:269] disabling MLIR crash reproducer, set env var `MLIR_CRASH_REPRODUCER_DIRECTORY` to enable.\n",
      "WARNING: All log messages before absl::InitializeLog() is called are written to STDERR\n",
      "I0000 00:00:1715828908.148461     184 device_compiler.h:186] Compiled cluster using XLA!  This line is logged at most once for the lifetime of the process.\n"
     ]
    },
    {
     "name": "stdout",
     "output_type": "stream",
     "text": [
      "3125/3125 [==============================] - 198s 57ms/step - loss: 2.7629 - accuracy: 0.4507 - val_loss: 1.9913 - val_accuracy: 0.5530\n",
      "Epoch 2/10\n",
      "3125/3125 [==============================] - 163s 52ms/step - loss: 1.6924 - accuracy: 0.6033 - val_loss: 1.5409 - val_accuracy: 0.6309\n",
      "Epoch 3/10\n",
      "3125/3125 [==============================] - 165s 53ms/step - loss: 1.3327 - accuracy: 0.6699 - val_loss: 1.3616 - val_accuracy: 0.6669\n",
      "Epoch 4/10\n",
      "3125/3125 [==============================] - 161s 52ms/step - loss: 1.1340 - accuracy: 0.7093 - val_loss: 1.2852 - val_accuracy: 0.6815\n",
      "Epoch 5/10\n",
      "3125/3125 [==============================] - 163s 52ms/step - loss: 0.9901 - accuracy: 0.7391 - val_loss: 1.2536 - val_accuracy: 0.6894\n",
      "Epoch 6/10\n",
      "3125/3125 [==============================] - 161s 52ms/step - loss: 0.8748 - accuracy: 0.7633 - val_loss: 1.2539 - val_accuracy: 0.6907\n",
      "Epoch 7/10\n",
      "3125/3125 [==============================] - 159s 51ms/step - loss: 0.7768 - accuracy: 0.7855 - val_loss: 1.2736 - val_accuracy: 0.6908\n",
      "Epoch 8/10\n",
      "3125/3125 [==============================] - 166s 53ms/step - loss: 0.6913 - accuracy: 0.8050 - val_loss: 1.2899 - val_accuracy: 0.6911\n",
      "Epoch 9/10\n",
      "3125/3125 [==============================] - 160s 51ms/step - loss: 0.6171 - accuracy: 0.8232 - val_loss: 1.3263 - val_accuracy: 0.6892\n",
      "Epoch 10/10\n",
      "3125/3125 [==============================] - 159s 51ms/step - loss: 0.5527 - accuracy: 0.8390 - val_loss: 1.3689 - val_accuracy: 0.6855\n"
     ]
    },
    {
     "data": {
      "text/plain": [
       "<keras.src.callbacks.History at 0x7fcb8c0f9bd0>"
      ]
     },
     "execution_count": 14,
     "metadata": {},
     "output_type": "execute_result"
    }
   ],
   "source": [
    "# extra code — completes the model and trains it\n",
    "decoder = tf.keras.layers.LSTM(512, return_sequences=True)\n",
    "decoder_outputs = decoder(decoder_embeddings, initial_state=encoder_state)\n",
    "output_layer = tf.keras.layers.Dense(vocab_size, activation=\"softmax\")\n",
    "Y_proba = output_layer(decoder_outputs)\n",
    "model = tf.keras.Model(inputs=[encoder_inputs, decoder_inputs],\n",
    "                       outputs=[Y_proba])\n",
    "\n",
    "model.compile(loss=\"sparse_categorical_crossentropy\", optimizer=\"nadam\",\n",
    "              metrics=[\"accuracy\"])\n",
    "model.fit((X_train, X_train_dec), Y_train, epochs=10,\n",
    "          validation_data=((X_valid, X_valid_dec), Y_valid))"
   ]
  },
  {
   "cell_type": "markdown",
   "id": "f37f1a76",
   "metadata": {},
   "source": [
    "## 集束搜索\n"
   ]
  },
  {
   "cell_type": "markdown",
   "id": "b4947d5c",
   "metadata": {},
   "source": [
    "\n",
    "它跟踪k个最大概率的句子列表，在每个解码器步骤延长一个词，然后再关注其中k个最大概率的句子\n",
    "参数k被称为集束宽度。\n",
    "\n",
    "使用宽度为 3 的集束搜索，用模型来翻译句子Comment vas-tu?。在第一个解码步骤，模型会输出每个可能词的估计概率。假设前 3 个词的估计概率是How（估计概率是 75%）、What（3%）、You（1%）。\n",
    "\n",
    "然后，创建三个模型的复制，预测每个句子的下一个词。第一个模型会预测How后面的词，假设结果是 36% 为will、32% 为are、16% 为do，等等。第二个模型会预测What后面的词：50% 为are，等等。假设词典有 10000 个词，每个模型会输出 10000 个概率。\n",
    "\n",
    "然后，计算 30000 个含有两个词的句子的概率。将条件概率相乘。例如，How will的概率是75% × 36% = 27%。计算完 30000 个概率之后，只保留概率最大的 3 个。假设是How will（27%）、How are（24%）、How do（12%）。现在How will的概率最大，但How are并没有被删掉。\n",
    "\n",
    "接着，重复同样的过程：用三个模型预测这三个句子的接下来的词，再计算 30000 个含有三个词的句子的概率。假设前三名是How are you（10%）、How do you（8%）、How will you（2%）。再下一步的前三名是How do you do（7%）、How are you <eos>（6%）、How are you doing（3%）。注意，How will被淘汰了"
   ]
  },
  {
   "cell_type": "markdown",
   "id": "0be2cbb9-d03c-4fc1-bf2d-12c3fca1dd56",
   "metadata": {},
   "source": [
    "# 注意力机制"
   ]
  },
  {
   "cell_type": "code",
   "execution_count": 15,
   "id": "f1f228f1-5545-4781-a861-b19f75b70fd5",
   "metadata": {},
   "outputs": [],
   "source": [
    "tf.random.set_seed(42)  # extra code – ensures reproducibility on CPU\n",
    "encoder = tf.keras.layers.Bidirectional(\n",
    "    tf.keras.layers.LSTM(256, return_sequences=True, return_state=True))\n",
    "#to feed all the encoder's outputs to the Attention layers，must add return_sequences=True to the encoder\n",
    "\n",
    "encoder_outputs, *encoder_state = encoder(encoder_embeddings)\n",
    "encoder_state = [tf.concat(encoder_state[::2], axis=-1),  # short-term (0 & 2)\n",
    "                 tf.concat(encoder_state[1::2], axis=-1)]  # long-term (1 & 3)\n",
    "decoder = tf.keras.layers.LSTM(512, return_sequences=True)\n",
    "decoder_outputs = decoder(decoder_embeddings, initial_state=encoder_state)"
   ]
  },
  {
   "cell_type": "code",
   "execution_count": 16,
   "id": "2e0283e3-ff9e-49e5-8b51-0a7b0d0fd257",
   "metadata": {},
   "outputs": [],
   "source": [
    "attention_layer = tf.keras.layers.Attention()\n",
    "attention_outputs = attention_layer([decoder_outputs, encoder_outputs])\n",
    "output_layer = tf.keras.layers.Dense(vocab_size, activation=\"softmax\")\n",
    "Y_proba = output_layer(attention_outputs)"
   ]
  },
  {
   "cell_type": "code",
   "execution_count": 17,
   "id": "5c68a55d-1eaf-4197-af3c-7a4c644377fa",
   "metadata": {},
   "outputs": [
    {
     "name": "stdout",
     "output_type": "stream",
     "text": [
      "Epoch 1/10\n"
     ]
    },
    {
     "name": "stderr",
     "output_type": "stream",
     "text": [
      "WARNING: All log messages before absl::InitializeLog() is called are written to STDERR\n",
      "W0000 00:00:1715830554.629560      89 op_level_cost_estimator.cc:699] Error in PredictCost() for the op: op: \"Softmax\" attr { key: \"T\" value { type: DT_FLOAT } } inputs { dtype: DT_FLOAT shape { unknown_rank: true } } device { type: \"GPU\" vendor: \"NVIDIA\" model: \"NVIDIA GeForce RTX 3070 Ti\" frequency: 1770 num_cores: 48 environment { key: \"architecture\" value: \"8.6\" } environment { key: \"cuda\" value: \"12020\" } environment { key: \"cudnn\" value: \"8904\" } num_registers: 65536 l1_cache_size: 24576 l2_cache_size: 4194304 shared_memory_size_per_multiprocessor: 102400 memory_size: 5644484608 bandwidth: 608064000 } outputs { dtype: DT_FLOAT shape { unknown_rank: true } }\n"
     ]
    },
    {
     "name": "stdout",
     "output_type": "stream",
     "text": [
      "3124/3125 [============================>.] - ETA: 0s - loss: 2.2539 - accuracy: 0.5384"
     ]
    },
    {
     "name": "stderr",
     "output_type": "stream",
     "text": [
      "W0000 00:00:1715830724.612577      89 op_level_cost_estimator.cc:699] Error in PredictCost() for the op: op: \"Softmax\" attr { key: \"T\" value { type: DT_FLOAT } } inputs { dtype: DT_FLOAT shape { unknown_rank: true } } device { type: \"GPU\" vendor: \"NVIDIA\" model: \"NVIDIA GeForce RTX 3070 Ti\" frequency: 1770 num_cores: 48 environment { key: \"architecture\" value: \"8.6\" } environment { key: \"cuda\" value: \"12020\" } environment { key: \"cudnn\" value: \"8904\" } num_registers: 65536 l1_cache_size: 24576 l2_cache_size: 4194304 shared_memory_size_per_multiprocessor: 102400 memory_size: 5644484608 bandwidth: 608064000 } outputs { dtype: DT_FLOAT shape { unknown_rank: true } }\n"
     ]
    },
    {
     "name": "stdout",
     "output_type": "stream",
     "text": [
      "3125/3125 [==============================] - 191s 58ms/step - loss: 2.2537 - accuracy: 0.5384 - val_loss: 1.5439 - val_accuracy: 0.6454\n",
      "Epoch 2/10\n",
      "3125/3125 [==============================] - 164s 53ms/step - loss: 1.3817 - accuracy: 0.6748 - val_loss: 1.3430 - val_accuracy: 0.6823\n",
      "Epoch 3/10\n",
      "3125/3125 [==============================] - 164s 52ms/step - loss: 1.1976 - accuracy: 0.7092 - val_loss: 1.2598 - val_accuracy: 0.6996\n",
      "Epoch 4/10\n",
      "3125/3125 [==============================] - 164s 52ms/step - loss: 1.0772 - accuracy: 0.7321 - val_loss: 1.2273 - val_accuracy: 0.7079\n",
      "Epoch 5/10\n",
      "3125/3125 [==============================] - 164s 52ms/step - loss: 0.9817 - accuracy: 0.7512 - val_loss: 1.2204 - val_accuracy: 0.7105\n",
      "Epoch 6/10\n",
      "3125/3125 [==============================] - 164s 52ms/step - loss: 0.9008 - accuracy: 0.7675 - val_loss: 1.2307 - val_accuracy: 0.7103\n",
      "Epoch 7/10\n",
      "3125/3125 [==============================] - 164s 52ms/step - loss: 0.8337 - accuracy: 0.7813 - val_loss: 1.2436 - val_accuracy: 0.7131\n",
      "Epoch 8/10\n",
      "3125/3125 [==============================] - 163s 52ms/step - loss: 0.7736 - accuracy: 0.7944 - val_loss: 1.2637 - val_accuracy: 0.7127\n",
      "Epoch 9/10\n",
      "3125/3125 [==============================] - 164s 53ms/step - loss: 0.7221 - accuracy: 0.8056 - val_loss: 1.2907 - val_accuracy: 0.7105\n",
      "Epoch 10/10\n",
      "3125/3125 [==============================] - 163s 52ms/step - loss: 0.6761 - accuracy: 0.8161 - val_loss: 1.3315 - val_accuracy: 0.7094\n"
     ]
    },
    {
     "data": {
      "text/plain": [
       "<keras.src.callbacks.History at 0x7fcb4abf9a80>"
      ]
     },
     "execution_count": 17,
     "metadata": {},
     "output_type": "execute_result"
    }
   ],
   "source": [
    "model = tf.keras.Model(inputs=[encoder_inputs, decoder_inputs],\n",
    "                       outputs=[Y_proba])\n",
    "model.compile(loss=\"sparse_categorical_crossentropy\", optimizer=\"nadam\",\n",
    "              metrics=[\"accuracy\"])\n",
    "model.fit((X_train, X_train_dec), Y_train, epochs=10,\n",
    "          validation_data=((X_valid, X_valid_dec), Y_valid))"
   ]
  },
  {
   "cell_type": "code",
   "execution_count": 19,
   "id": "265e41c6-8d61-482f-81bb-0c47b7c3033c",
   "metadata": {},
   "outputs": [
    {
     "name": "stdout",
     "output_type": "stream",
     "text": [
      "1/1 [==============================] - 0s 49ms/step\n",
      "1/1 [==============================] - 0s 41ms/step\n",
      "1/1 [==============================] - 0s 38ms/step\n",
      "1/1 [==============================] - 0s 43ms/step\n",
      "1/1 [==============================] - 0s 44ms/step\n",
      "1/1 [==============================] - 0s 41ms/step\n",
      "1/1 [==============================] - 0s 39ms/step\n",
      "1/1 [==============================] - 0s 39ms/step\n",
      "1/1 [==============================] - 0s 46ms/step\n",
      "1/1 [==============================] - 0s 43ms/step\n",
      "1/1 [==============================] - 0s 39ms/step\n"
     ]
    },
    {
     "data": {
      "text/plain": [
       "'me gustan el fútbol y también ir a la playa'"
      ]
     },
     "execution_count": 19,
     "metadata": {},
     "output_type": "execute_result"
    }
   ],
   "source": [
    " translate(\"I like soccer and also going to the beach\")\n"
   ]
  },
  {
   "cell_type": "code",
   "execution_count": null,
   "id": "8fb22ad7-6cc0-4d59-b37c-77bfbf5488bd",
   "metadata": {},
   "outputs": [],
   "source": []
  }
 ],
 "metadata": {
  "kernelspec": {
   "display_name": "Python 3 (ipykernel)",
   "language": "python",
   "name": "python3"
  },
  "language_info": {
   "codemirror_mode": {
    "name": "ipython",
    "version": 3
   },
   "file_extension": ".py",
   "mimetype": "text/x-python",
   "name": "python",
   "nbconvert_exporter": "python",
   "pygments_lexer": "ipython3",
   "version": "3.10.12"
  }
 },
 "nbformat": 4,
 "nbformat_minor": 5
}
