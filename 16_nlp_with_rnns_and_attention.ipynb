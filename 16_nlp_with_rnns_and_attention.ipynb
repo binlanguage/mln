{
 "cells": [
  {
   "cell_type": "code",
   "execution_count": 1,
   "id": "544c8c82",
   "metadata": {
    "ExecuteTime": {
     "end_time": "2024-04-28T01:20:49.116159Z",
     "start_time": "2024-04-28T01:20:40.314876Z"
    }
   },
   "outputs": [],
   "source": [
    "from pathlib import Path\n",
    "import os\n",
    "import matplotlib.pyplot as plt\n",
    "import pandas as pd\n",
    "import numpy as np\n",
    "import tensorflow as tf\n",
    "import keras\n",
    "np.set_printoptions(precision=4)"
   ]
  },
  {
   "cell_type": "code",
   "execution_count": 2,
   "id": "e764fbce",
   "metadata": {
    "ExecuteTime": {
     "end_time": "2024-04-28T01:20:49.147411Z",
     "start_time": "2024-04-28T01:20:49.116159Z"
    }
   },
   "outputs": [],
   "source": [
    "shakespeare_url = \"https://raw.githubusercontent.com/karpathy/char-rnn/master/data/tinyshakespeare/input.txt\"\n",
    "filepath = keras.utils.get_file(\"shakespeare.txt\", shakespeare_url)\n",
    "with open(filepath) as f:\n",
    "    shakespeare_text = f.read()"
   ]
  },
  {
   "cell_type": "code",
   "execution_count": 3,
   "id": "2b7a0872",
   "metadata": {
    "ExecuteTime": {
     "end_time": "2024-04-28T01:20:49.303659Z",
     "start_time": "2024-04-28T01:20:49.147411Z"
    }
   },
   "outputs": [],
   "source": [
    "#将每个字符编码为一个整数\n",
    "tokenizer = keras.preprocessing.text.Tokenizer(char_level=True)\n",
    "#设置char_level=True，以得到字符级别的编码，而不是默认的单词级别的编码\n",
    "tokenizer.fit_on_texts([shakespeare_text])"
   ]
  },
  {
   "cell_type": "code",
   "execution_count": 4,
   "id": "9b2e62e6",
   "metadata": {
    "ExecuteTime": {
     "end_time": "2024-04-28T01:20:49.319287Z",
     "start_time": "2024-04-28T01:20:49.303659Z"
    }
   },
   "outputs": [
    {
     "data": {
      "text/plain": [
       "[[20, 14, 19, 25]]"
      ]
     },
     "execution_count": 4,
     "metadata": {},
     "output_type": "execute_result"
    }
   ],
   "source": [
    "tokenizer.texts_to_sequences([\"Fuck\"])"
   ]
  },
  {
   "cell_type": "code",
   "execution_count": 5,
   "id": "bf3d345c",
   "metadata": {
    "ExecuteTime": {
     "end_time": "2024-04-28T01:20:49.334910Z",
     "start_time": "2024-04-28T01:20:49.319287Z"
    }
   },
   "outputs": [
    {
     "data": {
      "text/plain": [
       "['f u c k']"
      ]
     },
     "execution_count": 5,
     "metadata": {},
     "output_type": "execute_result"
    }
   ],
   "source": [
    "tokenizer.sequences_to_texts([[20, 14, 19, 25]])"
   ]
  },
  {
   "cell_type": "markdown",
   "id": "c5444033",
   "metadata": {},
   "source": [
    "## 将序列数据集切分成多个窗口"
   ]
  },
  {
   "cell_type": "code",
   "execution_count": 6,
   "id": "c7d2890e",
   "metadata": {
    "ExecuteTime": {
     "end_time": "2024-04-28T01:20:49.538033Z",
     "start_time": "2024-04-28T01:20:49.334910Z"
    }
   },
   "outputs": [],
   "source": [
    "#对完整文本做编码，将每个字符都用 ID 来表示（减 1 使 ID 从 0 到 38，而不是 1 到 39）\n",
    "[encoded] = np.array(tokenizer.texts_to_sequences([shakespeare_text])) - 1\n",
    "\n",
    "dataset_size=len(encoded)"
   ]
  },
  {
   "cell_type": "code",
   "execution_count": 7,
   "id": "99c0825a",
   "metadata": {
    "ExecuteTime": {
     "end_time": "2024-04-28T01:20:49.569283Z",
     "start_time": "2024-04-28T01:20:49.538033Z"
    }
   },
   "outputs": [],
   "source": [
    "#将前 90% 的文本作为训练集（剩下的作为验证集和测试集）\n",
    "train_size = dataset_size * 90 // 100\n",
    "dataset = tf.data.Dataset.from_tensor_slices(encoded[:train_size])\n"
   ]
  },
  {
   "cell_type": "code",
   "execution_count": 8,
   "id": "96be71d5",
   "metadata": {
    "ExecuteTime": {
     "end_time": "2024-04-28T01:20:49.584913Z",
     "start_time": "2024-04-28T01:20:49.569283Z"
    }
   },
   "outputs": [],
   "source": [
    "#调用window()方法创建一个短文本窗口的数据集\n",
    "#RNN 学不到任何长度超过n_steps的规律，所以n_steps不要太短\n",
    "n_steps = 100\n",
    "window_length = n_steps + 1 # target = input 向前移动 1 个字符\n",
    "dataset = dataset.window(window_length, shift=1, drop_remainder=True)\n",
    "\n",
    "#为了获得可能的最大训练集,设定shift=1，第一个窗口包含字符 0 到 100，第二个窗口包含字符 1 到 101\n",
    "#为了确保所有窗口是准确的 101 个字符长度（为了不做填充而创建批次），设置drop_remainder=True"
   ]
  },
  {
   "cell_type": "code",
   "execution_count": 9,
   "id": "a6381d57",
   "metadata": {
    "ExecuteTime": {
     "end_time": "2024-04-28T01:20:49.647408Z",
     "start_time": "2024-04-28T01:20:49.584913Z"
    },
    "scrolled": true
   },
   "outputs": [],
   "source": [
    "#batch(window_length)对于每个固定长度窗口，得到一个独立的张量，flat_map 再打平这些张量，组成数据集\n",
    "#shuffle 打散这些窗口\n",
    "#对窗口做批次，分割输入（前 100 个字符）和目标（最后一个字符）\n",
    "\n",
    "dataset = dataset.flat_map(lambda window: window.batch(window_length))\n",
    "batch_size = 32\n",
    "dataset = dataset.shuffle(10000).batch(batch_size)\n",
    "dataset = dataset.map(lambda windows: (windows[:, :-1], windows[:, 1:])"
   ]
  },
  {
   "cell_type": "code",
   "execution_count": 10,
   "id": "fcec3968",
   "metadata": {
    "ExecuteTime": {
     "end_time": "2024-04-28T01:20:50.647405Z",
     "start_time": "2024-04-28T01:20:49.647408Z"
    }
   },
   "outputs": [
    {
     "data": {
      "image/png": "[encoded data removed]",
      "text/plain": [
       "<IPython.core.display.Image object>"
      ]
     },
     "execution_count": 10,
     "metadata": {
      "image/png": {
       "width": 640
      }
     },
     "output_type": "execute_result"
    }
   ],
   "source": [
    "from IPython import display\n",
    "display.Image(\"https://hands1ml.apachecn.org/img/847ef99a515939c6266e9a184ac7e061.png\",width=640)"
   ]
  },
  {
   "cell_type": "code",
   "execution_count": 11,
   "id": "dadf2645",
   "metadata": {
    "ExecuteTime": {
     "end_time": "2024-04-28T01:32:16.585766Z",
     "start_time": "2024-04-28T01:32:16.538891Z"
    }
   },
   "outputs": [],
   "source": [
    "#独热编码输入字符，再预提取\n",
    "max_id=39\n",
    "dataset = dataset.map(\n",
    "    lambda X_batch, Y_batch: (tf.one_hot(X_batch, depth=max_id), Y_batch))\n",
    "dataset = dataset.prefetch(1) \n"
   ]
  },
  {
   "cell_type": "markdown",
   "id": "2945dd8f",
   "metadata": {},
   "source": [
    "## 搭建并训练 Char-RNN 模型"
   ]
  },
  {
   "cell_type": "code",
   "execution_count": null,
   "id": "a1162a15",
   "metadata": {
    "ExecuteTime": {
     "start_time": "2024-04-28T02:32:13.889Z"
    }
   },
   "outputs": [
    {
     "name": "stdout",
     "output_type": "stream",
     "text": [
      "Epoch 1/20\n",
      "   3353/Unknown - 622s 184ms/step - loss: 1.7559"
     ]
    }
   ],
   "source": [
    "#每个单元对输入（dropout）和隐藏态（recurrent_dropout）的丢弃率是 20%\n",
    "#输出层是一个时间分布的紧密层，有 39 个单元（max_id）\n",
    "\n",
    "model = keras.models.Sequential([\n",
    "    keras.layers.GRU(128, return_sequences=True, input_shape=[None, max_id],\n",
    "                     dropout=0.2, recurrent_dropout=0.2),\n",
    "    keras.layers.GRU(128, return_sequences=True,\n",
    "                     dropout=0.2, recurrent_dropout=0.2),\n",
    "    keras.layers.TimeDistributed(keras.layers.Dense(max_id,\n",
    "                                                    activation=\"softmax\"))\n",
    "])\n",
    "model.compile(loss=\"sparse_categorical_crossentropy\", optimizer=\"Adam\")\n",
    "history = model.fit(dataset, epochs=20)"
   ]
  },
  {
   "cell_type": "code",
   "execution_count": null,
   "id": "ad21ed4c",
   "metadata": {},
   "outputs": [],
   "source": []
  }
 ],
 "metadata": {
  "kernelspec": {
   "display_name": "Python 3 (ipykernel)",
   "language": "python",
   "name": "python3"
  },
  "language_info": {
   "codemirror_mode": {
    "name": "ipython",
    "version": 3
   },
   "file_extension": ".py",
   "mimetype": "text/x-python",
   "name": "python",
   "nbconvert_exporter": "python",
   "pygments_lexer": "ipython3",
   "version": "3.10.10"
  }
 },
 "nbformat": 4,
 "nbformat_minor": 5
}
