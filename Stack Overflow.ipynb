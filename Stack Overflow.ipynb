{
 "cells": [
  {
   "cell_type": "markdown",
   "id": "afcfedc8",
   "metadata": {},
   "source": [
    "# Stack Overflow problem"
   ]
  },
  {
   "cell_type": "code",
   "execution_count": 1,
   "id": "d47f3fd4",
   "metadata": {
    "ExecuteTime": {
     "end_time": "2024-05-07T07:41:20.363300Z",
     "start_time": "2024-05-07T07:40:39.844397Z"
    }
   },
   "outputs": [],
   "source": [
    "from tensorflow.keras import utils\n",
    "import pathlib\n",
    "\n",
    "data_url = 'https://storage.googleapis.com/download.tensorflow.org/data/stack_overflow_16k.tar.gz'\n",
    "\n",
    "dataset_dir = utils.get_file(\n",
    "    origin=data_url,\n",
    "    untar=True,\n",
    "    cache_dir='stack_overflow',\n",
    "    cache_subdir='')\n",
    "\n",
    "dataset_dir = pathlib.Path(dataset_dir).parent"
   ]
  },
  {
   "cell_type": "code",
   "execution_count": 3,
   "id": "a0f5d940",
   "metadata": {
    "ExecuteTime": {
     "end_time": "2024-05-07T07:41:33.738162Z",
     "start_time": "2024-05-07T07:41:33.722534Z"
    }
   },
   "outputs": [
    {
     "data": {
      "text/plain": [
       "[WindowsPath('/tmp/.keras/README.md'),\n",
       " WindowsPath('/tmp/.keras/stack_overflow_16k.tar.gz'),\n",
       " WindowsPath('/tmp/.keras/test'),\n",
       " WindowsPath('/tmp/.keras/train')]"
      ]
     },
     "execution_count": 3,
     "metadata": {},
     "output_type": "execute_result"
    }
   ],
   "source": [
    "#注意文件夹，只有train和test，valid数据集需从train数据集中分离\n",
    "train_dir = dataset_dir/'train'\n",
    "test_dir=dataset_dir/'test'\n",
    "list(dataset_dir.iterdir())"
   ]
  },
  {
   "cell_type": "code",
   "execution_count": 4,
   "id": "4bfa8f19",
   "metadata": {
    "ExecuteTime": {
     "end_time": "2024-05-07T07:41:41.472492Z",
     "start_time": "2024-05-07T07:41:40.285003Z"
    }
   },
   "outputs": [
    {
     "name": "stdout",
     "output_type": "stream",
     "text": [
      "Found 8000 files belonging to 4 classes.\n",
      "Using 6400 files for training.\n",
      "Found 8000 files belonging to 4 classes.\n",
      "Using 1600 files for validation.\n",
      "Found 8000 files belonging to 4 classes.\n"
     ]
    }
   ],
   "source": [
    "batch_size = 32\n",
    "seed = 42\n",
    "#拆分训练集和验证集\n",
    "#保持seed一致，或者都shuffle=false\n",
    "\n",
    "raw_train_ds = utils.text_dataset_from_directory(\n",
    "    train_dir,\n",
    "    batch_size=batch_size,\n",
    "    validation_split=0.2,\n",
    "    subset='training',\n",
    "    seed=seed)\n",
    "\n",
    "raw_val_ds = utils.text_dataset_from_directory(\n",
    "    train_dir,\n",
    "    batch_size=batch_size,\n",
    "    validation_split=0.2,\n",
    "    subset='validation',\n",
    "    seed=seed)\n",
    "\n",
    "raw_test_ds = utils.text_dataset_from_directory(\n",
    "    test_dir,\n",
    "    batch_size=batch_size,\n",
    "    seed=seed)"
   ]
  },
  {
   "cell_type": "code",
   "execution_count": 16,
   "id": "17a44e16",
   "metadata": {
    "ExecuteTime": {
     "end_time": "2024-05-07T07:46:13.569260Z",
     "start_time": "2024-05-07T07:46:13.553636Z"
    }
   },
   "outputs": [
    {
     "name": "stdout",
     "output_type": "stream",
     "text": [
      "Label 0 corresponds to csharp\n",
      "Label 1 corresponds to java\n",
      "Label 2 corresponds to javascript\n",
      "Label 3 corresponds to python\n"
     ]
    }
   ],
   "source": [
    "for i, label in enumerate(raw_train_ds.class_names):\n",
    "    print(\"Label\", i, \"corresponds to\", label)\n",
    "    \n",
    "num_labels=4"
   ]
  },
  {
   "cell_type": "code",
   "execution_count": 9,
   "id": "a5935b57",
   "metadata": {
    "ExecuteTime": {
     "end_time": "2024-05-07T07:43:19.175541Z",
     "start_time": "2024-05-07T07:43:19.159918Z"
    },
    "run_control": {
     "marked": true
    }
   },
   "outputs": [],
   "source": [
    "#对数据进行标准化、词例化和向量化\n",
    "#文本转换为小写，按空格分割，向量化模式为int\n",
    "\n",
    "from tensorflow.keras.layers import TextVectorization\n",
    "\n",
    "VOCAB_SIZE =  10000 #词汇量\n",
    "MAX_SEQUENCE_LENGTH = 250 #最大序列长度\n",
    "\n",
    "int_vectorize_layer = TextVectorization(\n",
    "    max_tokens=VOCAB_SIZE,\n",
    "    output_mode='int',\n",
    "    output_sequence_length=MAX_SEQUENCE_LENGTH)"
   ]
  },
  {
   "cell_type": "code",
   "execution_count": null,
   "id": "1dc431cf",
   "metadata": {},
   "outputs": [],
   "source": [
    "#调用 TextVectorization.adapt 以使预处理层的状态适合数据集。这会使模型构建字符串到整数的索引。\n",
    "train_text = raw_train_ds.map(lambda text, labels: text)\n",
    "int_vectorize_layer.adapt(train_text)"
   ]
  },
  {
   "cell_type": "code",
   "execution_count": 28,
   "id": "e9f332e0",
   "metadata": {
    "ExecuteTime": {
     "end_time": "2024-05-07T07:51:52.998212Z",
     "start_time": "2024-05-07T07:51:52.904461Z"
    }
   },
   "outputs": [],
   "source": [
    "import tensorflow as tf\n",
    "\n",
    "def int_vectorize_text(text, label):\n",
    "    text = tf.expand_dims(text, -1)\n",
    "    return int_vectorize_layer(text), label\n",
    "\n",
    "int_train_ds = raw_train_ds.map(int_vectorize_text)\n",
    "int_val_ds = raw_val_ds.map(int_vectorize_text)\n",
    "int_test_ds = raw_test_ds.map(int_vectorize_text)"
   ]
  },
  {
   "cell_type": "code",
   "execution_count": 30,
   "id": "2aaea87f",
   "metadata": {
    "ExecuteTime": {
     "end_time": "2024-05-07T07:51:57.880657Z",
     "start_time": "2024-05-07T07:51:57.833782Z"
    }
   },
   "outputs": [],
   "source": [
    "import keras  \n",
    "\n",
    "model = keras.Sequential([\n",
    "      keras.layers.Embedding(VOCAB_SIZE, 64, mask_zero=True),\n",
    "      keras.layers.Conv1D(64, 5, padding=\"valid\", activation=\"relu\", strides=2),\n",
    "      keras.layers.GlobalMaxPooling1D(),\n",
    "      keras.layers.Dense(num_labels)\n",
    "])"
   ]
  },
  {
   "cell_type": "code",
   "execution_count": 31,
   "id": "dcd22cb8",
   "metadata": {
    "ExecuteTime": {
     "end_time": "2024-05-07T07:52:44.296454Z",
     "start_time": "2024-05-07T07:51:57.880657Z"
    }
   },
   "outputs": [
    {
     "name": "stdout",
     "output_type": "stream",
     "text": [
      "Epoch 1/5\n",
      "200/200 [==============================] - 10s 45ms/step - loss: 1.5142 - accuracy: 0.4006 - val_loss: 1.1818 - val_accuracy: 0.4000\n",
      "Epoch 2/5\n",
      "200/200 [==============================] - 9s 45ms/step - loss: 1.0036 - accuracy: 0.4266 - val_loss: 1.0380 - val_accuracy: 0.4913\n",
      "Epoch 3/5\n",
      "200/200 [==============================] - 9s 44ms/step - loss: 0.6260 - accuracy: 0.7936 - val_loss: 1.1434 - val_accuracy: 0.6388\n",
      "Epoch 4/5\n",
      "200/200 [==============================] - 9s 45ms/step - loss: 0.5786 - accuracy: 0.8125 - val_loss: 1.2864 - val_accuracy: 0.6631\n",
      "Epoch 5/5\n",
      "200/200 [==============================] - 9s 44ms/step - loss: 0.2711 - accuracy: 0.9656 - val_loss: 1.9074 - val_accuracy: 0.7044\n"
     ]
    }
   ],
   "source": [
    "model.compile(\n",
    "    loss=\"sparse_categorical_crossentropy\",\n",
    "    optimizer='adam',\n",
    "    metrics=['accuracy'])\n",
    "history = model.fit(int_train_ds, validation_data=int_val_ds, epochs=5)"
   ]
  },
  {
   "cell_type": "code",
   "execution_count": null,
   "id": "0e544f6a",
   "metadata": {},
   "outputs": [],
   "source": []
  }
 ],
 "metadata": {
  "kernelspec": {
   "display_name": "Python 3 (ipykernel)",
   "language": "python",
   "name": "python3"
  },
  "language_info": {
   "codemirror_mode": {
    "name": "ipython",
    "version": 3
   },
   "file_extension": ".py",
   "mimetype": "text/x-python",
   "name": "python",
   "nbconvert_exporter": "python",
   "pygments_lexer": "ipython3",
   "version": "3.10.10"
  }
 },
 "nbformat": 4,
 "nbformat_minor": 5
}
