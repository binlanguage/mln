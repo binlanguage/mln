{
 "cells": [
  {
   "cell_type": "code",
   "execution_count": 1,
   "id": "6631a9c4",
   "metadata": {
    "ExecuteTime": {
     "end_time": "2024-03-18T00:54:12.918655Z",
     "start_time": "2024-03-18T00:53:51.394264Z"
    },
    "run_control": {
     "marked": false
    }
   },
   "outputs": [],
   "source": [
    "from sklearn.datasets import load_sample_image\n",
    "import numpy as np\n",
    "import matplotlib.pyplot as plt\n",
    "import tensorflow as tf \n",
    "import keras\n",
    "import os\n",
    "import pandas as pd  "
   ]
  },
  {
   "cell_type": "markdown",
   "id": "847fd1a9",
   "metadata": {},
   "source": [
    "## 用xception 预训练 tf_flowers数据集"
   ]
  },
  {
   "cell_type": "code",
   "execution_count": 25,
   "id": "ba138bb4",
   "metadata": {
    "ExecuteTime": {
     "end_time": "2024-03-18T01:22:20.002176Z",
     "start_time": "2024-03-18T01:22:19.955170Z"
    }
   },
   "outputs": [
    {
     "name": "stderr",
     "output_type": "stream",
     "text": [
      "WARNING:absl:options.experimental_threading is deprecated. Use options.threading instead.\n",
      "WARNING:absl:options.experimental_threading is deprecated. Use options.threading instead.\n"
     ]
    },
    {
     "data": {
      "text/plain": [
       "{'train': <tfds.core.SplitInfo num_examples=3670>}"
      ]
     },
     "execution_count": 25,
     "metadata": {},
     "output_type": "execute_result"
    }
   ],
   "source": [
    "import tensorflow_datasets as tfds\n",
    "\n",
    "dataset, info = tfds.load(\"tf_flowers\", as_supervised=True, with_info=True)\n",
    "info.splits\n",
    "#只有\"train\"训练集，没有测试集和验证集，所以需要分割训练集。"
   ]
  },
  {
   "cell_type": "code",
   "execution_count": 47,
   "id": "bb006ffa",
   "metadata": {
    "ExecuteTime": {
     "end_time": "2024-03-18T01:42:12.972711Z",
     "start_time": "2024-03-18T01:42:11.041528Z"
    }
   },
   "outputs": [
    {
     "name": "stderr",
     "output_type": "stream",
     "text": [
      "WARNING:absl:options.experimental_threading is deprecated. Use options.threading instead.\n",
      "WARNING:absl:options.experimental_threading is deprecated. Use options.threading instead.\n",
      "WARNING:absl:options.experimental_threading is deprecated. Use options.threading instead.\n",
      "WARNING:absl:options.experimental_threading is deprecated. Use options.threading instead.\n",
      "WARNING:absl:options.experimental_threading is deprecated. Use options.threading instead.\n",
      "WARNING:absl:options.experimental_threading is deprecated. Use options.threading instead.\n"
     ]
    },
    {
     "name": "stdout",
     "output_type": "stream",
     "text": [
      "train_set: 2752\n",
      "valid_set: 551\n",
      "test_set: 367\n"
     ]
    }
   ],
   "source": [
    "train_set,valid_set,test_set = tfds.load(\"tf_flowers\", \n",
    "                                         split=[\"train[:75%]\", \"train[75%:90%]\", \"train[:10%]\"],\n",
    "                                         as_supervised=True)\n",
    "print(\"train_set:\",len(list(train_set)))\n",
    "print(\"valid_set:\",len(list(valid_set)))\n",
    "print(\"test_set:\",len(list(test_set)))"
   ]
  },
  {
   "cell_type": "code",
   "execution_count": 48,
   "id": "89f18aed",
   "metadata": {
    "ExecuteTime": {
     "end_time": "2024-03-18T01:43:17.334206Z",
     "start_time": "2024-03-18T01:43:17.212056Z"
    }
   },
   "outputs": [],
   "source": [
    "def preprocess(image, label):\n",
    "    resized_image = tf.image.resize(image, [224, 224])\n",
    "    final_image = keras.applications.xception.preprocess_input(resized_image)\n",
    "    return final_image, label\n",
    "\n",
    "batch_size = 32\n",
    "train_set = train_set.shuffle(1000)\n",
    "train_set = train_set.map(preprocess).batch(batch_size).prefetch(1)\n",
    "valid_set = valid_set.map(preprocess).batch(batch_size).prefetch(1)\n",
    "test_set = test_set.map(preprocess).batch(batch_size).prefetch(1) "
   ]
  },
  {
   "cell_type": "code",
   "execution_count": null,
   "id": "8aa4abd7",
   "metadata": {},
   "outputs": [],
   "source": []
  }
 ],
 "metadata": {
  "kernelspec": {
   "display_name": "Python 3 (ipykernel)",
   "language": "python",
   "name": "python3"
  },
  "language_info": {
   "codemirror_mode": {
    "name": "ipython",
    "version": 3
   },
   "file_extension": ".py",
   "mimetype": "text/x-python",
   "name": "python",
   "nbconvert_exporter": "python",
   "pygments_lexer": "ipython3",
   "version": "3.10.10"
  }
 },
 "nbformat": 4,
 "nbformat_minor": 5
}
