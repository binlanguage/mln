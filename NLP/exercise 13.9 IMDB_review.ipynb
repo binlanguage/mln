{
 "cells": [
  {
   "cell_type": "code",
   "execution_count": 2,
   "id": "18b33c6b",
   "metadata": {
    "ExecuteTime": {
     "end_time": "2024-05-13T00:40:05.116791Z",
     "start_time": "2024-05-13T00:39:55.425381Z"
    }
   },
   "outputs": [],
   "source": [
    "# exercise 13.9\n",
    "#下载 Large Movie Review Dataset，它包含 50000 条 IMDB 的影评。数据分为两个目录，train和test，\n",
    "#每个包含 12500 条正面评价和 12500 条负面评价。每条评价都存在独立的文本文件中。\n",
    "\n",
    "import matplotlib.pyplot as plt\n",
    "import os\n",
    "import re\n",
    "import shutil\n",
    "import string\n",
    "import tensorflow as tf\n",
    "import keras\n",
    "import numpy as np\n",
    "import pandas as pd\n",
    "from tensorflow.keras import layers\n",
    "from tensorflow.keras import losses"
   ]
  },
  {
   "cell_type": "code",
   "execution_count": 3,
   "id": "de8013d4",
   "metadata": {
    "ExecuteTime": {
     "end_time": "2024-05-10T00:38:15.917353Z",
     "start_time": "2024-05-10T00:33:02.353431Z"
    }
   },
   "outputs": [
    {
     "name": "stdout",
     "output_type": "stream",
     "text": [
      "Downloading data from https://ai.stanford.edu/~amaas/data/sentiment/aclImdb_v1.tar.gz\n",
      "84125825/84125825 [==============================] - 107s 1us/step\n"
     ]
    }
   ],
   "source": [
    "url = \"https://ai.stanford.edu/~amaas/data/sentiment/aclImdb_v1.tar.gz\"\n",
    "\n",
    "dataset = tf.keras.utils.get_file(\"aclImdb_v1\", url,\n",
    "                                    untar=True, cache_dir='.',\n",
    "                                    cache_subdir='')\n",
    "\n",
    "dataset_dir = os.path.join(os.path.dirname(dataset), 'aclImdb')"
   ]
  },
  {
   "cell_type": "code",
   "execution_count": 4,
   "id": "c67cdcd2",
   "metadata": {
    "ExecuteTime": {
     "end_time": "2024-05-10T00:38:20.841284Z",
     "start_time": "2024-05-10T00:38:20.825659Z"
    },
    "run_control": {
     "marked": true
    }
   },
   "outputs": [
    {
     "data": {
      "text/plain": [
       "['imdb.vocab', 'imdbEr.txt', 'README', 'test', 'train']"
      ]
     },
     "execution_count": 4,
     "metadata": {},
     "output_type": "execute_result"
    }
   ],
   "source": [
    "#获取目录结构\n",
    "os.listdir(dataset_dir)"
   ]
  },
  {
   "cell_type": "code",
   "execution_count": 5,
   "id": "21211300",
   "metadata": {
    "ExecuteTime": {
     "end_time": "2024-05-10T00:38:24.218307Z",
     "start_time": "2024-05-10T00:38:24.202687Z"
    }
   },
   "outputs": [
    {
     "data": {
      "text/plain": [
       "['labeledBow.feat',\n",
       " 'neg',\n",
       " 'pos',\n",
       " 'unsup',\n",
       " 'unsupBow.feat',\n",
       " 'urls_neg.txt',\n",
       " 'urls_pos.txt',\n",
       " 'urls_unsup.txt']"
      ]
     },
     "execution_count": 5,
     "metadata": {},
     "output_type": "execute_result"
    }
   ],
   "source": [
    "#train目录结构\n",
    "train_dir = os.path.join(dataset_dir, 'train')\n",
    "os.listdir(train_dir)"
   ]
  },
  {
   "cell_type": "code",
   "execution_count": 6,
   "id": "5964dc6c",
   "metadata": {
    "ExecuteTime": {
     "end_time": "2024-05-10T00:38:25.202690Z",
     "start_time": "2024-05-10T00:38:25.187067Z"
    }
   },
   "outputs": [
    {
     "name": "stdout",
     "output_type": "stream",
     "text": [
      "Rachel Griffiths writes and directs this award winning short film. A heartwarming story about coping with grief and cherishing the memory of those we've loved and lost. Although, only 15 minutes long, Griffiths manages to capture so much emotion and truth onto film in the short space of time. Bud Tingwell gives a touching performance as Will, a widower struggling to cope with his wife's death. Will is confronted by the harsh reality of loneliness and helplessness as he proceeds to take care of Ruth's pet cow, Tulip. The film displays the grief and responsibility one feels for those they have loved and lost. Good cinematography, great direction, and superbly acted. It will bring tears to all those who have lost a loved one, and survived.\n"
     ]
    }
   ],
   "source": [
    "#随机读取一条评论\n",
    "sample_file = os.path.join(train_dir, 'pos/1181_9.txt')\n",
    "with open(sample_file) as f:\n",
    "    print(f.read())"
   ]
  },
  {
   "cell_type": "code",
   "execution_count": null,
   "id": "9d12316a",
   "metadata": {
    "ExecuteTime": {
     "end_time": "2024-05-10T00:38:59.216657Z",
     "start_time": "2024-05-10T00:38:59.076034Z"
    },
    "scrolled": true
   },
   "outputs": [],
   "source": [
    "# 正面负面评论分别位于  aclImdb/train/pos 和 aclImdb/train/neg\n",
    "# 删除unsup \n",
    "remove_dir = os.path.join(train_dir, 'unsup')\n",
    "shutil.rmtree(remove_dir)"
   ]
  },
  {
   "cell_type": "code",
   "execution_count": 12,
   "id": "f07d8fa7",
   "metadata": {
    "ExecuteTime": {
     "end_time": "2024-05-10T00:39:37.342332Z",
     "start_time": "2024-05-10T00:39:37.326706Z"
    }
   },
   "outputs": [
    {
     "data": {
      "text/plain": [
       "['labeledBow.feat',\n",
       " 'neg',\n",
       " 'pos',\n",
       " 'unsupBow.feat',\n",
       " 'urls_neg.txt',\n",
       " 'urls_pos.txt',\n",
       " 'urls_unsup.txt']"
      ]
     },
     "execution_count": 12,
     "metadata": {},
     "output_type": "execute_result"
    }
   ],
   "source": [
    "#没有unsup文件夹了\n",
    "os.listdir(train_dir)"
   ]
  },
  {
   "cell_type": "code",
   "execution_count": 13,
   "id": "9f958bb7",
   "metadata": {
    "ExecuteTime": {
     "end_time": "2024-05-10T00:40:39.664207Z",
     "start_time": "2024-05-10T00:40:38.320450Z"
    }
   },
   "outputs": [
    {
     "name": "stdout",
     "output_type": "stream",
     "text": [
      "Found 25000 files belonging to 2 classes.\n",
      "Using 20000 files for training.\n"
     ]
    }
   ],
   "source": [
    "#文件夹有train test数据集，缺少valid数据集\n",
    "#通过validation_split 参数，使用 80:20 拆分训练数据来创建验证集。\n",
    "#使用 text_dataset_from_directory 工具进行二元分类，不同文件夹的文本即对应不同标签\n",
    "batch_size = 32\n",
    "seed = 42\n",
    "\n",
    "raw_train_ds = tf.keras.utils.text_dataset_from_directory(\n",
    "    train_dir, \n",
    "    batch_size=batch_size, \n",
    "    validation_split=0.2, \n",
    "    subset='training', \n",
    "    seed=seed)"
   ]
  },
  {
   "cell_type": "code",
   "execution_count": 14,
   "id": "f2e725bd",
   "metadata": {
    "ExecuteTime": {
     "end_time": "2024-05-10T00:40:41.916222Z",
     "start_time": "2024-05-10T00:40:41.744351Z"
    },
    "scrolled": true
   },
   "outputs": [
    {
     "name": "stdout",
     "output_type": "stream",
     "text": [
      "Review b'\"Pandemonium\" is a horror movie spoof that comes off more stupid than funny. Believe me when I tell you, I love comedies. Especially comedy spoofs. \"Airplane\", \"The Naked Gun\" trilogy, \"Blazing Saddles\", \"High Anxiety\", and \"Spaceballs\" are some of my favorite comedies that spoof a particular genre. \"Pandemonium\" is not up there with those films. Most of the scenes in this movie had me sitting there in stunned silence because the movie wasn\\'t all that funny. There are a few laughs in the film, but when you watch a comedy, you expect to laugh a lot more than a few times and that\\'s all this film has going for it. Geez, \"Scream\" had more laughs than this film and that was more of a horror film. How bizarre is that?<br /><br />*1/2 (out of four)'\n",
      "Label 0\n",
      "Review b\"David Mamet is a very interesting and a very un-equal director. His first movie 'House of Games' was the one I liked best, and it set a series of films with characters whose perspective of life changes as they get into complicated situations, and so does the perspective of the viewer.<br /><br />So is 'Homicide' which from the title tries to set the mind of the viewer to the usual crime drama. The principal characters are two cops, one Jewish and one Irish who deal with a racially charged area. The murder of an old Jewish shop owner who proves to be an ancient veteran of the Israeli Independence war triggers the Jewish identity in the mind and heart of the Jewish detective.<br /><br />This is were the flaws of the film are the more obvious. The process of awakening is theatrical and hard to believe, the group of Jewish militants is operatic, and the way the detective eventually walks to the final violent confrontation is pathetic. The end of the film itself is Mamet-like smart, but disappoints from a human emotional perspective.<br /><br />Joe Mantegna and William Macy give strong performances, but the flaws of the story are too evident to be easily compensated.\"\n",
      "Label 0\n",
      "Review b'Great documentary about the lives of NY firefighters during the worst terrorist attack of all time.. That reason alone is why this should be a must see collectors item.. What shocked me was not only the attacks, but the\"High Fat Diet\" and physical appearance of some of these firefighters. I think a lot of Doctors would agree with me that,in the physical shape they were in, some of these firefighters would NOT of made it to the 79th floor carrying over 60 lbs of gear. Having said that i now have a greater respect for firefighters and i realize becoming a firefighter is a life altering job. The French have a history of making great documentary\\'s and that is what this is, a Great Documentary.....'\n",
      "Label 1\n"
     ]
    }
   ],
   "source": [
    "#取一批raw_train 数据（32个），打印三个\n",
    "for text_batch, label_batch in raw_train_ds.take(1):\n",
    "    for i in range(3):\n",
    "        print(\"Review\", text_batch.numpy()[i])\n",
    "        print(\"Label\", label_batch.numpy()[i])"
   ]
  },
  {
   "cell_type": "code",
   "execution_count": 15,
   "id": "a59310a8",
   "metadata": {
    "ExecuteTime": {
     "end_time": "2024-05-10T00:40:49.309091Z",
     "start_time": "2024-05-10T00:40:49.293465Z"
    }
   },
   "outputs": [
    {
     "data": {
      "text/plain": [
       "['neg', 'pos']"
      ]
     },
     "execution_count": 15,
     "metadata": {},
     "output_type": "execute_result"
    }
   ],
   "source": [
    "#通过文件名和label名，确定label 0 表示 neg，label 1 表示 pos\n",
    "raw_train_ds.class_names"
   ]
  },
  {
   "cell_type": "code",
   "execution_count": 16,
   "id": "8632a94e",
   "metadata": {
    "ExecuteTime": {
     "end_time": "2024-05-10T00:40:52.561066Z",
     "start_time": "2024-05-10T00:40:51.248554Z"
    }
   },
   "outputs": [
    {
     "name": "stdout",
     "output_type": "stream",
     "text": [
      "Found 25000 files belonging to 2 classes.\n",
      "Using 5000 files for validation.\n"
     ]
    }
   ],
   "source": [
    "#取验证集,确保和之前获取训练集函数使用一样的seed\n",
    "raw_val_ds = tf.keras.utils.text_dataset_from_directory(\n",
    "    train_dir, \n",
    "    batch_size=batch_size, \n",
    "    validation_split=0.2, \n",
    "    subset='validation', \n",
    "    seed=seed)"
   ]
  },
  {
   "cell_type": "code",
   "execution_count": 17,
   "id": "3e6f3452",
   "metadata": {
    "ExecuteTime": {
     "end_time": "2024-05-10T00:40:58.453962Z",
     "start_time": "2024-05-10T00:40:57.110161Z"
    }
   },
   "outputs": [
    {
     "name": "stdout",
     "output_type": "stream",
     "text": [
      "Found 25000 files belonging to 2 classes.\n"
     ]
    }
   ],
   "source": [
    "#测试集 25000个\n",
    "test_dir=os.path.join(dataset_dir,\"test\")\n",
    "raw_test_ds = tf.keras.utils.text_dataset_from_directory(\n",
    "    test_dir, \n",
    "    batch_size=batch_size)"
   ]
  },
  {
   "cell_type": "code",
   "execution_count": 18,
   "id": "060c6bff",
   "metadata": {
    "ExecuteTime": {
     "end_time": "2024-05-10T00:41:03.018732Z",
     "start_time": "2024-05-10T00:41:03.003111Z"
    }
   },
   "outputs": [],
   "source": [
    "# 使用tf.keras.layers.TextVectorization 层对数据进行标准化、词例化和向量化\n",
    "# 为在训练和测试时间对数据进行相同的预处理，将 TextVectorization 层直接包含在模型中\n",
    "# 定义标准输入函数，处理大小写和换行符\n",
    "\n",
    "def custom_standardization(input_data):\n",
    "    lowercase = tf.strings.lower(input_data) #小写处理\n",
    "    stripped_html = tf.strings.regex_replace(lowercase, '<br />', ' ') #把<br /> 替换为空格\n",
    "    return tf.strings.regex_replace(stripped_html,\n",
    "                                    '[%s]' % re.escape(string.punctuation),'')\n",
    "\n",
    "#最后一行表示将所有标点符号正则转译为空符号"
   ]
  },
  {
   "cell_type": "code",
   "execution_count": 19,
   "id": "492f9f36",
   "metadata": {
    "ExecuteTime": {
     "end_time": "2024-05-10T00:41:23.512818Z",
     "start_time": "2024-05-10T00:41:23.481583Z"
    }
   },
   "outputs": [],
   "source": [
    "#创建一个 TextVectorization 层，该层对我们的数据进行标准化、词例化和向量化。\n",
    "#调用了之前定义的标准化函数\n",
    "#将 output_mode 设置为 int 以便为每个词例创建唯一的整数索引。\n",
    "\n",
    "max_features = 10000\n",
    "sequence_length = 250\n",
    "\n",
    "vectorize_layer = layers.TextVectorization(\n",
    "    standardize=custom_standardization,\n",
    "    max_tokens=max_features,\n",
    "    output_mode='int',\n",
    "    output_sequence_length=sequence_length)"
   ]
  },
  {
   "cell_type": "code",
   "execution_count": 20,
   "id": "bd3275ac",
   "metadata": {
    "ExecuteTime": {
     "end_time": "2024-05-10T00:41:38.493093Z",
     "start_time": "2024-05-10T00:41:24.840948Z"
    }
   },
   "outputs": [],
   "source": [
    "#调用 adapt 以使预处理层的状态适合数据集。使模型构建字符串到整数的索引。\n",
    "#对raw_train_ds 做map，去除标签\n",
    "train_text = raw_train_ds.map(lambda x, y: x)\n",
    "vectorize_layer.adapt(train_text)"
   ]
  },
  {
   "cell_type": "code",
   "execution_count": 21,
   "id": "5e32b4d3",
   "metadata": {
    "ExecuteTime": {
     "end_time": "2024-05-10T00:41:40.868093Z",
     "start_time": "2024-05-10T00:41:40.618095Z"
    },
    "run_control": {
     "marked": true
    }
   },
   "outputs": [
    {
     "name": "stdout",
     "output_type": "stream",
     "text": [
      "Review tf.Tensor(b'Great movie - especially the music - Etta James - \"At Last\". This speaks volumes when you have finally found that special someone.', shape=(), dtype=string)\n",
      "Label neg\n"
     ]
    }
   ],
   "source": [
    "#创建一个函数来查看使用该层预处理一些数据的结果\n",
    "def vectorize_text(text, label):\n",
    "    text = tf.expand_dims(text, -1) #原始数据加一个维度\n",
    "    return vectorize_layer(text), label #多出来的维度就是label\n",
    "\n",
    "#每次执行下一个batch ，32个review加label\n",
    "text_batch, label_batch = next(iter(raw_train_ds))\n",
    "first_review, first_label = text_batch[0], label_batch[0]\n",
    "print(\"Review\", first_review)\n",
    "print(\"Label\", raw_train_ds.class_names[first_label])\n"
   ]
  },
  {
   "cell_type": "code",
   "execution_count": 22,
   "id": "738e86ba",
   "metadata": {
    "ExecuteTime": {
     "end_time": "2024-05-10T00:41:55.733943Z",
     "start_time": "2024-05-10T00:41:55.265198Z"
    }
   },
   "outputs": [
    {
     "name": "stdout",
     "output_type": "stream",
     "text": [
      "Vectorized review (<tf.Tensor: shape=(1, 250), dtype=int64, numpy=\n",
      "array([[  86,   17,  260,    2,  222,    1,  571,   31,  229,   11, 2418,\n",
      "           1,   51,   22,   25,  404,  251,   12,  306,  282,    0,    0,\n",
      "           0,    0,    0,    0,    0,    0,    0,    0,    0,    0,    0,\n",
      "           0,    0,    0,    0,    0,    0,    0,    0,    0,    0,    0,\n",
      "           0,    0,    0,    0,    0,    0,    0,    0,    0,    0,    0,\n",
      "           0,    0,    0,    0,    0,    0,    0,    0,    0,    0,    0,\n",
      "           0,    0,    0,    0,    0,    0,    0,    0,    0,    0,    0,\n",
      "           0,    0,    0,    0,    0,    0,    0,    0,    0,    0,    0,\n",
      "           0,    0,    0,    0,    0,    0,    0,    0,    0,    0,    0,\n",
      "           0,    0,    0,    0,    0,    0,    0,    0,    0,    0,    0,\n",
      "           0,    0,    0,    0,    0,    0,    0,    0,    0,    0,    0,\n",
      "           0,    0,    0,    0,    0,    0,    0,    0,    0,    0,    0,\n",
      "           0,    0,    0,    0,    0,    0,    0,    0,    0,    0,    0,\n",
      "           0,    0,    0,    0,    0,    0,    0,    0,    0,    0,    0,\n",
      "           0,    0,    0,    0,    0,    0,    0,    0,    0,    0,    0,\n",
      "           0,    0,    0,    0,    0,    0,    0,    0,    0,    0,    0,\n",
      "           0,    0,    0,    0,    0,    0,    0,    0,    0,    0,    0,\n",
      "           0,    0,    0,    0,    0,    0,    0,    0,    0,    0,    0,\n",
      "           0,    0,    0,    0,    0,    0,    0,    0,    0,    0,    0,\n",
      "           0,    0,    0,    0,    0,    0,    0,    0,    0,    0,    0,\n",
      "           0,    0,    0,    0,    0,    0,    0,    0,    0,    0,    0,\n",
      "           0,    0,    0,    0,    0,    0,    0,    0,    0,    0,    0,\n",
      "           0,    0,    0,    0,    0,    0,    0,    0]], dtype=int64)>, <tf.Tensor: shape=(), dtype=int32, numpy=0>)\n"
     ]
    }
   ],
   "source": [
    "print(\"Vectorized review\", vectorize_text(first_review, first_label))"
   ]
  },
  {
   "cell_type": "code",
   "execution_count": 23,
   "id": "672eda22",
   "metadata": {
    "ExecuteTime": {
     "end_time": "2024-05-10T00:41:59.017349Z",
     "start_time": "2024-05-10T00:41:58.986096Z"
    }
   },
   "outputs": [
    {
     "data": {
      "text/plain": [
       "'silent'"
      ]
     },
     "execution_count": 23,
     "metadata": {},
     "output_type": "execute_result"
    }
   ],
   "source": [
    "#该层上调用 .get_vocabulary() 来查找每个整数对应的词例（字符串）\n",
    "vectorize_layer.get_vocabulary()[1287]"
   ]
  },
  {
   "cell_type": "code",
   "execution_count": 24,
   "id": "2db7fffe",
   "metadata": {
    "ExecuteTime": {
     "end_time": "2024-05-10T00:42:00.251729Z",
     "start_time": "2024-05-10T00:42:00.220478Z"
    }
   },
   "outputs": [
    {
     "data": {
      "text/plain": [
       "10000"
      ]
     },
     "execution_count": 24,
     "metadata": {},
     "output_type": "execute_result"
    }
   ],
   "source": [
    "#一共一万个词汇，对应vectorize_layer 的max_feature\n",
    "len(vectorize_layer.get_vocabulary())"
   ]
  },
  {
   "cell_type": "code",
   "execution_count": 25,
   "id": "e50f920b",
   "metadata": {
    "ExecuteTime": {
     "end_time": "2024-05-10T00:42:02.222836Z",
     "start_time": "2024-05-10T00:42:02.097836Z"
    }
   },
   "outputs": [],
   "source": [
    "#转换训练集，验证集，测试集\n",
    "\n",
    "train_ds = raw_train_ds.map(vectorize_text)\n",
    "val_ds = raw_val_ds.map(vectorize_text)\n",
    "test_ds = raw_test_ds.map(vectorize_text)"
   ]
  },
  {
   "cell_type": "code",
   "execution_count": 26,
   "id": "bd8e6604",
   "metadata": {
    "ExecuteTime": {
     "end_time": "2024-05-10T00:42:03.254088Z",
     "start_time": "2024-05-10T00:42:03.207215Z"
    },
    "run_control": {
     "marked": false
    }
   },
   "outputs": [],
   "source": [
    "#加buffersize，将数据保存在可用内存中\n",
    "\n",
    "AUTOTUNE = tf.data.AUTOTUNE\n",
    "\n",
    "train_ds = train_ds.cache().prefetch(buffer_size=AUTOTUNE)\n",
    "val_ds = val_ds.cache().prefetch(buffer_size=AUTOTUNE)\n",
    "test_ds = test_ds.cache().prefetch(buffer_size=AUTOTUNE)"
   ]
  },
  {
   "cell_type": "code",
   "execution_count": 29,
   "id": "d46e74fc",
   "metadata": {
    "ExecuteTime": {
     "end_time": "2024-05-10T00:43:38.839983Z",
     "start_time": "2024-05-10T00:43:38.777484Z"
    }
   },
   "outputs": [
    {
     "name": "stdout",
     "output_type": "stream",
     "text": [
      "Model: \"sequential_1\"\n",
      "_________________________________________________________________\n",
      " Layer (type)                Output Shape              Param #   \n",
      "=================================================================\n",
      " embedding_1 (Embedding)     (None, None, 64)          640064    \n",
      "                                                                 \n",
      " dropout_1 (Dropout)         (None, None, 64)          0         \n",
      "                                                                 \n",
      " conv1d_1 (Conv1D)           (None, None, 64)          20544     \n",
      "                                                                 \n",
      " global_average_pooling1d_1  (None, 64)                0         \n",
      "  (GlobalAveragePooling1D)                                       \n",
      "                                                                 \n",
      " dense_1 (Dense)             (None, 1)                 65        \n",
      "                                                                 \n",
      "=================================================================\n",
      "Total params: 660673 (2.52 MB)\n",
      "Trainable params: 660673 (2.52 MB)\n",
      "Non-trainable params: 0 (0.00 Byte)\n",
      "_________________________________________________________________\n"
     ]
    }
   ],
   "source": [
    "#创建模型\n",
    "#Embedding 层。此层采用整数编码的评论，并查找每个单词索引的嵌入向量。\n",
    "#这些向量是通过模型训练学习到的。向量向输出数组增加了一个维度\n",
    "#得到的维度为：(batch, sequence, embedding)\n",
    "\n",
    "#GlobalAveragePooling1D 将通过对序列维度求平均值来为每个样本返回一个定长输出向量\n",
    "#这允许模型以尽可能最简单的方式处理变长输入\n",
    "\n",
    "embedding_dim = 64\n",
    "model = tf.keras.Sequential([\n",
    "    layers.Embedding(max_features + 1, embedding_dim,mask_zero=True),\n",
    "    layers.Dropout(0.2),\n",
    "    layers.Conv1D(64, 5, padding=\"valid\", activation=\"relu\", strides=2),\n",
    "    #layers.GlobalMaxPooling1D(),\n",
    "    layers.GlobalAveragePooling1D(),\n",
    "    #layers.Dropout(0.2),\n",
    "    layers.Dense(1)\n",
    "])\n",
    "model.summary()"
   ]
  },
  {
   "cell_type": "code",
   "execution_count": 33,
   "id": "c5da1700",
   "metadata": {
    "ExecuteTime": {
     "end_time": "2024-05-10T00:50:33.699077Z",
     "start_time": "2024-05-10T00:49:17.591883Z"
    },
    "scrolled": true
   },
   "outputs": [
    {
     "name": "stdout",
     "output_type": "stream",
     "text": [
      "Epoch 1/5\n",
      "625/625 [==============================] - 16s 24ms/step - loss: 0.5049 - binary_accuracy: 0.9546 - val_loss: 2.5150 - val_binary_accuracy: 0.8292\n",
      "Epoch 2/5\n",
      "625/625 [==============================] - 15s 24ms/step - loss: 0.4278 - binary_accuracy: 0.9621 - val_loss: 1.8142 - val_binary_accuracy: 0.8676\n",
      "Epoch 3/5\n",
      "625/625 [==============================] - 15s 24ms/step - loss: 0.3636 - binary_accuracy: 0.9672 - val_loss: 1.7862 - val_binary_accuracy: 0.8664\n",
      "Epoch 4/5\n",
      "625/625 [==============================] - 15s 24ms/step - loss: 0.3177 - binary_accuracy: 0.9703 - val_loss: 1.9841 - val_binary_accuracy: 0.8390\n",
      "Epoch 5/5\n",
      "625/625 [==============================] - 15s 24ms/step - loss: 0.8900 - binary_accuracy: 0.9321 - val_loss: 1.8579 - val_binary_accuracy: 0.8564\n"
     ]
    }
   ],
   "source": [
    "keras.backend.clear_session()\n",
    "tf.random.set_seed(42)\n",
    "np.random.seed(42)\n",
    " \n",
    "optimizer = keras.optimizers.Adam()\n",
    "\n",
    "model.compile(loss=losses.BinaryCrossentropy(from_logits=False), #二元交叉熵\n",
    "              optimizer=optimizer,\n",
    "              metrics=tf.metrics.BinaryAccuracy(threshold=0.0))\n",
    "    \n",
    "early_stopping_cb = keras.callbacks.EarlyStopping(patience=10,restore_best_weights=True)\n",
    "\n",
    "callbacks = [early_stopping_cb]\n",
    "\n",
    "epochs = 5\n",
    "history = model.fit(\n",
    "    train_ds,\n",
    "    validation_data=val_ds,\n",
    "    epochs=epochs)#, callbacks=callbacks)"
   ]
  },
  {
   "cell_type": "code",
   "execution_count": 34,
   "id": "540c58f1",
   "metadata": {
    "ExecuteTime": {
     "end_time": "2024-05-10T00:50:59.967593Z",
     "start_time": "2024-05-10T00:50:40.466463Z"
    }
   },
   "outputs": [
    {
     "data": {
      "image/svg+xml": [
       "<?xml version=\"1.0\" encoding=\"utf-8\" standalone=\"no\"?>\n",
       "<!DOCTYPE svg PUBLIC \"-//W3C//DTD SVG 1.1//EN\"\n",
       "  \"http://www.w3.org/Graphics/SVG/1.1/DTD/svg11.dtd\">\n",
       "<svg xmlns:xlink=\"http://www.w3.org/1999/xlink\" width=\"394.423125pt\" height=\"297.190125pt\" viewBox=\"0 0 394.423125 297.190125\" xmlns=\"http://www.w3.org/2000/svg\" version=\"1.1\">\n",
       " <metadata>\n",
       "  <rdf:RDF xmlns:dc=\"http://purl.org/dc/elements/1.1/\" xmlns:cc=\"http://creativecommons.org/ns#\" xmlns:rdf=\"http://www.w3.org/1999/02/22-rdf-syntax-ns#\">\n",
       "   <cc:Work>\n",
       "    <dc:type rdf:resource=\"http://purl.org/dc/dcmitype/StillImage\"/>\n",
       "    <dc:date>2024-05-10T08:50:40.732088</dc:date>\n",
       "    <dc:format>image/svg+xml</dc:format>\n",
       "    <dc:creator>\n",
       "     <cc:Agent>\n",
       "      <dc:title>Matplotlib v3.8.0, https://matplotlib.org/</dc:title>\n",
       "     </cc:Agent>\n",
       "    </dc:creator>\n",
       "   </cc:Work>\n",
       "  </rdf:RDF>\n",
       " </metadata>\n",
       " <defs>\n",
       "  <style type=\"text/css\">*{stroke-linejoin: round; stroke-linecap: butt}</style>\n",
       " </defs>\n",
       " <g id=\"figure_1\">\n",
       "  <g id=\"patch_1\">\n",
       "   <path d=\"M 0 297.190125 \n",
       "L 394.423125 297.190125 \n",
       "L 394.423125 0 \n",
       "L 0 0 \n",
       "z\n",
       "\" style=\"fill: #ffffff\"/>\n",
       "  </g>\n",
       "  <g id=\"axes_1\">\n",
       "   <g id=\"patch_2\">\n",
       "    <path d=\"M 30.103125 273.312 \n",
       "L 387.223125 273.312 \n",
       "L 387.223125 7.2 \n",
       "L 30.103125 7.2 \n",
       "z\n",
       "\" style=\"fill: #ffffff\"/>\n",
       "   </g>\n",
       "   <g id=\"matplotlib.axis_1\">\n",
       "    <g id=\"xtick_1\">\n",
       "     <g id=\"line2d_1\">\n",
       "      <path d=\"M 46.335852 273.312 \n",
       "L 46.335852 7.2 \n",
       "\" clip-path=\"url(#pa26bb26b82)\" style=\"fill: none; stroke: #b0b0b0; stroke-width: 0.8; stroke-linecap: square\"/>\n",
       "     </g>\n",
       "     <g id=\"line2d_2\">\n",
       "      <defs>\n",
       "       <path id=\"m9581501837\" d=\"M 0 0 \n",
       "L 0 3.5 \n",
       "\" style=\"stroke: #000000; stroke-width: 0.8\"/>\n",
       "      </defs>\n",
       "      <g>\n",
       "       <use xlink:href=\"#m9581501837\" x=\"46.335852\" y=\"273.312\" style=\"stroke: #000000; stroke-width: 0.8\"/>\n",
       "      </g>\n",
       "     </g>\n",
       "     <g id=\"text_1\">\n",
       "      <!-- 0.0 -->\n",
       "      <g transform=\"translate(38.38429 287.910437) scale(0.1 -0.1)\">\n",
       "       <defs>\n",
       "        <path id=\"DejaVuSans-30\" d=\"M 2034 4250 \n",
       "Q 1547 4250 1301 3770 \n",
       "Q 1056 3291 1056 2328 \n",
       "Q 1056 1369 1301 889 \n",
       "Q 1547 409 2034 409 \n",
       "Q 2525 409 2770 889 \n",
       "Q 3016 1369 3016 2328 \n",
       "Q 3016 3291 2770 3770 \n",
       "Q 2525 4250 2034 4250 \n",
       "z\n",
       "M 2034 4750 \n",
       "Q 2819 4750 3233 4129 \n",
       "Q 3647 3509 3647 2328 \n",
       "Q 3647 1150 3233 529 \n",
       "Q 2819 -91 2034 -91 \n",
       "Q 1250 -91 836 529 \n",
       "Q 422 1150 422 2328 \n",
       "Q 422 3509 836 4129 \n",
       "Q 1250 4750 2034 4750 \n",
       "z\n",
       "\" transform=\"scale(0.015625)\"/>\n",
       "        <path id=\"DejaVuSans-2e\" d=\"M 684 794 \n",
       "L 1344 794 \n",
       "L 1344 0 \n",
       "L 684 0 \n",
       "L 684 794 \n",
       "z\n",
       "\" transform=\"scale(0.015625)\"/>\n",
       "       </defs>\n",
       "       <use xlink:href=\"#DejaVuSans-30\"/>\n",
       "       <use xlink:href=\"#DejaVuSans-2e\" x=\"63.623047\"/>\n",
       "       <use xlink:href=\"#DejaVuSans-30\" x=\"95.410156\"/>\n",
       "      </g>\n",
       "     </g>\n",
       "    </g>\n",
       "    <g id=\"xtick_2\">\n",
       "     <g id=\"line2d_3\">\n",
       "      <path d=\"M 86.91767 273.312 \n",
       "L 86.91767 7.2 \n",
       "\" clip-path=\"url(#pa26bb26b82)\" style=\"fill: none; stroke: #b0b0b0; stroke-width: 0.8; stroke-linecap: square\"/>\n",
       "     </g>\n",
       "     <g id=\"line2d_4\">\n",
       "      <g>\n",
       "       <use xlink:href=\"#m9581501837\" x=\"86.91767\" y=\"273.312\" style=\"stroke: #000000; stroke-width: 0.8\"/>\n",
       "      </g>\n",
       "     </g>\n",
       "     <g id=\"text_2\">\n",
       "      <!-- 0.5 -->\n",
       "      <g transform=\"translate(78.966108 287.910437) scale(0.1 -0.1)\">\n",
       "       <defs>\n",
       "        <path id=\"DejaVuSans-35\" d=\"M 691 4666 \n",
       "L 3169 4666 \n",
       "L 3169 4134 \n",
       "L 1269 4134 \n",
       "L 1269 2991 \n",
       "Q 1406 3038 1543 3061 \n",
       "Q 1681 3084 1819 3084 \n",
       "Q 2600 3084 3056 2656 \n",
       "Q 3513 2228 3513 1497 \n",
       "Q 3513 744 3044 326 \n",
       "Q 2575 -91 1722 -91 \n",
       "Q 1428 -91 1123 -41 \n",
       "Q 819 9 494 109 \n",
       "L 494 744 \n",
       "Q 775 591 1075 516 \n",
       "Q 1375 441 1709 441 \n",
       "Q 2250 441 2565 725 \n",
       "Q 2881 1009 2881 1497 \n",
       "Q 2881 1984 2565 2268 \n",
       "Q 2250 2553 1709 2553 \n",
       "Q 1456 2553 1204 2497 \n",
       "Q 953 2441 691 2322 \n",
       "L 691 4666 \n",
       "z\n",
       "\" transform=\"scale(0.015625)\"/>\n",
       "       </defs>\n",
       "       <use xlink:href=\"#DejaVuSans-30\"/>\n",
       "       <use xlink:href=\"#DejaVuSans-2e\" x=\"63.623047\"/>\n",
       "       <use xlink:href=\"#DejaVuSans-35\" x=\"95.410156\"/>\n",
       "      </g>\n",
       "     </g>\n",
       "    </g>\n",
       "    <g id=\"xtick_3\">\n",
       "     <g id=\"line2d_5\">\n",
       "      <path d=\"M 127.499489 273.312 \n",
       "L 127.499489 7.2 \n",
       "\" clip-path=\"url(#pa26bb26b82)\" style=\"fill: none; stroke: #b0b0b0; stroke-width: 0.8; stroke-linecap: square\"/>\n",
       "     </g>\n",
       "     <g id=\"line2d_6\">\n",
       "      <g>\n",
       "       <use xlink:href=\"#m9581501837\" x=\"127.499489\" y=\"273.312\" style=\"stroke: #000000; stroke-width: 0.8\"/>\n",
       "      </g>\n",
       "     </g>\n",
       "     <g id=\"text_3\">\n",
       "      <!-- 1.0 -->\n",
       "      <g transform=\"translate(119.547926 287.910437) scale(0.1 -0.1)\">\n",
       "       <defs>\n",
       "        <path id=\"DejaVuSans-31\" d=\"M 794 531 \n",
       "L 1825 531 \n",
       "L 1825 4091 \n",
       "L 703 3866 \n",
       "L 703 4441 \n",
       "L 1819 4666 \n",
       "L 2450 4666 \n",
       "L 2450 531 \n",
       "L 3481 531 \n",
       "L 3481 0 \n",
       "L 794 0 \n",
       "L 794 531 \n",
       "z\n",
       "\" transform=\"scale(0.015625)\"/>\n",
       "       </defs>\n",
       "       <use xlink:href=\"#DejaVuSans-31\"/>\n",
       "       <use xlink:href=\"#DejaVuSans-2e\" x=\"63.623047\"/>\n",
       "       <use xlink:href=\"#DejaVuSans-30\" x=\"95.410156\"/>\n",
       "      </g>\n",
       "     </g>\n",
       "    </g>\n",
       "    <g id=\"xtick_4\">\n",
       "     <g id=\"line2d_7\">\n",
       "      <path d=\"M 168.081307 273.312 \n",
       "L 168.081307 7.2 \n",
       "\" clip-path=\"url(#pa26bb26b82)\" style=\"fill: none; stroke: #b0b0b0; stroke-width: 0.8; stroke-linecap: square\"/>\n",
       "     </g>\n",
       "     <g id=\"line2d_8\">\n",
       "      <g>\n",
       "       <use xlink:href=\"#m9581501837\" x=\"168.081307\" y=\"273.312\" style=\"stroke: #000000; stroke-width: 0.8\"/>\n",
       "      </g>\n",
       "     </g>\n",
       "     <g id=\"text_4\">\n",
       "      <!-- 1.5 -->\n",
       "      <g transform=\"translate(160.129744 287.910437) scale(0.1 -0.1)\">\n",
       "       <use xlink:href=\"#DejaVuSans-31\"/>\n",
       "       <use xlink:href=\"#DejaVuSans-2e\" x=\"63.623047\"/>\n",
       "       <use xlink:href=\"#DejaVuSans-35\" x=\"95.410156\"/>\n",
       "      </g>\n",
       "     </g>\n",
       "    </g>\n",
       "    <g id=\"xtick_5\">\n",
       "     <g id=\"line2d_9\">\n",
       "      <path d=\"M 208.663125 273.312 \n",
       "L 208.663125 7.2 \n",
       "\" clip-path=\"url(#pa26bb26b82)\" style=\"fill: none; stroke: #b0b0b0; stroke-width: 0.8; stroke-linecap: square\"/>\n",
       "     </g>\n",
       "     <g id=\"line2d_10\">\n",
       "      <g>\n",
       "       <use xlink:href=\"#m9581501837\" x=\"208.663125\" y=\"273.312\" style=\"stroke: #000000; stroke-width: 0.8\"/>\n",
       "      </g>\n",
       "     </g>\n",
       "     <g id=\"text_5\">\n",
       "      <!-- 2.0 -->\n",
       "      <g transform=\"translate(200.711562 287.910437) scale(0.1 -0.1)\">\n",
       "       <defs>\n",
       "        <path id=\"DejaVuSans-32\" d=\"M 1228 531 \n",
       "L 3431 531 \n",
       "L 3431 0 \n",
       "L 469 0 \n",
       "L 469 531 \n",
       "Q 828 903 1448 1529 \n",
       "Q 2069 2156 2228 2338 \n",
       "Q 2531 2678 2651 2914 \n",
       "Q 2772 3150 2772 3378 \n",
       "Q 2772 3750 2511 3984 \n",
       "Q 2250 4219 1831 4219 \n",
       "Q 1534 4219 1204 4116 \n",
       "Q 875 4013 500 3803 \n",
       "L 500 4441 \n",
       "Q 881 4594 1212 4672 \n",
       "Q 1544 4750 1819 4750 \n",
       "Q 2544 4750 2975 4387 \n",
       "Q 3406 4025 3406 3419 \n",
       "Q 3406 3131 3298 2873 \n",
       "Q 3191 2616 2906 2266 \n",
       "Q 2828 2175 2409 1742 \n",
       "Q 1991 1309 1228 531 \n",
       "z\n",
       "\" transform=\"scale(0.015625)\"/>\n",
       "       </defs>\n",
       "       <use xlink:href=\"#DejaVuSans-32\"/>\n",
       "       <use xlink:href=\"#DejaVuSans-2e\" x=\"63.623047\"/>\n",
       "       <use xlink:href=\"#DejaVuSans-30\" x=\"95.410156\"/>\n",
       "      </g>\n",
       "     </g>\n",
       "    </g>\n",
       "    <g id=\"xtick_6\">\n",
       "     <g id=\"line2d_11\">\n",
       "      <path d=\"M 249.244943 273.312 \n",
       "L 249.244943 7.2 \n",
       "\" clip-path=\"url(#pa26bb26b82)\" style=\"fill: none; stroke: #b0b0b0; stroke-width: 0.8; stroke-linecap: square\"/>\n",
       "     </g>\n",
       "     <g id=\"line2d_12\">\n",
       "      <g>\n",
       "       <use xlink:href=\"#m9581501837\" x=\"249.244943\" y=\"273.312\" style=\"stroke: #000000; stroke-width: 0.8\"/>\n",
       "      </g>\n",
       "     </g>\n",
       "     <g id=\"text_6\">\n",
       "      <!-- 2.5 -->\n",
       "      <g transform=\"translate(241.293381 287.910437) scale(0.1 -0.1)\">\n",
       "       <use xlink:href=\"#DejaVuSans-32\"/>\n",
       "       <use xlink:href=\"#DejaVuSans-2e\" x=\"63.623047\"/>\n",
       "       <use xlink:href=\"#DejaVuSans-35\" x=\"95.410156\"/>\n",
       "      </g>\n",
       "     </g>\n",
       "    </g>\n",
       "    <g id=\"xtick_7\">\n",
       "     <g id=\"line2d_13\">\n",
       "      <path d=\"M 289.826761 273.312 \n",
       "L 289.826761 7.2 \n",
       "\" clip-path=\"url(#pa26bb26b82)\" style=\"fill: none; stroke: #b0b0b0; stroke-width: 0.8; stroke-linecap: square\"/>\n",
       "     </g>\n",
       "     <g id=\"line2d_14\">\n",
       "      <g>\n",
       "       <use xlink:href=\"#m9581501837\" x=\"289.826761\" y=\"273.312\" style=\"stroke: #000000; stroke-width: 0.8\"/>\n",
       "      </g>\n",
       "     </g>\n",
       "     <g id=\"text_7\">\n",
       "      <!-- 3.0 -->\n",
       "      <g transform=\"translate(281.875199 287.910437) scale(0.1 -0.1)\">\n",
       "       <defs>\n",
       "        <path id=\"DejaVuSans-33\" d=\"M 2597 2516 \n",
       "Q 3050 2419 3304 2112 \n",
       "Q 3559 1806 3559 1356 \n",
       "Q 3559 666 3084 287 \n",
       "Q 2609 -91 1734 -91 \n",
       "Q 1441 -91 1130 -33 \n",
       "Q 819 25 488 141 \n",
       "L 488 750 \n",
       "Q 750 597 1062 519 \n",
       "Q 1375 441 1716 441 \n",
       "Q 2309 441 2620 675 \n",
       "Q 2931 909 2931 1356 \n",
       "Q 2931 1769 2642 2001 \n",
       "Q 2353 2234 1838 2234 \n",
       "L 1294 2234 \n",
       "L 1294 2753 \n",
       "L 1863 2753 \n",
       "Q 2328 2753 2575 2939 \n",
       "Q 2822 3125 2822 3475 \n",
       "Q 2822 3834 2567 4026 \n",
       "Q 2313 4219 1838 4219 \n",
       "Q 1578 4219 1281 4162 \n",
       "Q 984 4106 628 3988 \n",
       "L 628 4550 \n",
       "Q 988 4650 1302 4700 \n",
       "Q 1616 4750 1894 4750 \n",
       "Q 2613 4750 3031 4423 \n",
       "Q 3450 4097 3450 3541 \n",
       "Q 3450 3153 3228 2886 \n",
       "Q 3006 2619 2597 2516 \n",
       "z\n",
       "\" transform=\"scale(0.015625)\"/>\n",
       "       </defs>\n",
       "       <use xlink:href=\"#DejaVuSans-33\"/>\n",
       "       <use xlink:href=\"#DejaVuSans-2e\" x=\"63.623047\"/>\n",
       "       <use xlink:href=\"#DejaVuSans-30\" x=\"95.410156\"/>\n",
       "      </g>\n",
       "     </g>\n",
       "    </g>\n",
       "    <g id=\"xtick_8\">\n",
       "     <g id=\"line2d_15\">\n",
       "      <path d=\"M 330.40858 273.312 \n",
       "L 330.40858 7.2 \n",
       "\" clip-path=\"url(#pa26bb26b82)\" style=\"fill: none; stroke: #b0b0b0; stroke-width: 0.8; stroke-linecap: square\"/>\n",
       "     </g>\n",
       "     <g id=\"line2d_16\">\n",
       "      <g>\n",
       "       <use xlink:href=\"#m9581501837\" x=\"330.40858\" y=\"273.312\" style=\"stroke: #000000; stroke-width: 0.8\"/>\n",
       "      </g>\n",
       "     </g>\n",
       "     <g id=\"text_8\">\n",
       "      <!-- 3.5 -->\n",
       "      <g transform=\"translate(322.457017 287.910437) scale(0.1 -0.1)\">\n",
       "       <use xlink:href=\"#DejaVuSans-33\"/>\n",
       "       <use xlink:href=\"#DejaVuSans-2e\" x=\"63.623047\"/>\n",
       "       <use xlink:href=\"#DejaVuSans-35\" x=\"95.410156\"/>\n",
       "      </g>\n",
       "     </g>\n",
       "    </g>\n",
       "    <g id=\"xtick_9\">\n",
       "     <g id=\"line2d_17\">\n",
       "      <path d=\"M 370.990398 273.312 \n",
       "L 370.990398 7.2 \n",
       "\" clip-path=\"url(#pa26bb26b82)\" style=\"fill: none; stroke: #b0b0b0; stroke-width: 0.8; stroke-linecap: square\"/>\n",
       "     </g>\n",
       "     <g id=\"line2d_18\">\n",
       "      <g>\n",
       "       <use xlink:href=\"#m9581501837\" x=\"370.990398\" y=\"273.312\" style=\"stroke: #000000; stroke-width: 0.8\"/>\n",
       "      </g>\n",
       "     </g>\n",
       "     <g id=\"text_9\">\n",
       "      <!-- 4.0 -->\n",
       "      <g transform=\"translate(363.038835 287.910437) scale(0.1 -0.1)\">\n",
       "       <defs>\n",
       "        <path id=\"DejaVuSans-34\" d=\"M 2419 4116 \n",
       "L 825 1625 \n",
       "L 2419 1625 \n",
       "L 2419 4116 \n",
       "z\n",
       "M 2253 4666 \n",
       "L 3047 4666 \n",
       "L 3047 1625 \n",
       "L 3713 1625 \n",
       "L 3713 1100 \n",
       "L 3047 1100 \n",
       "L 3047 0 \n",
       "L 2419 0 \n",
       "L 2419 1100 \n",
       "L 313 1100 \n",
       "L 313 1709 \n",
       "L 2253 4666 \n",
       "z\n",
       "\" transform=\"scale(0.015625)\"/>\n",
       "       </defs>\n",
       "       <use xlink:href=\"#DejaVuSans-34\"/>\n",
       "       <use xlink:href=\"#DejaVuSans-2e\" x=\"63.623047\"/>\n",
       "       <use xlink:href=\"#DejaVuSans-30\" x=\"95.410156\"/>\n",
       "      </g>\n",
       "     </g>\n",
       "    </g>\n",
       "   </g>\n",
       "   <g id=\"matplotlib.axis_2\">\n",
       "    <g id=\"ytick_1\">\n",
       "     <g id=\"line2d_19\">\n",
       "      <path d=\"M 30.103125 241.144373 \n",
       "L 387.223125 241.144373 \n",
       "\" clip-path=\"url(#pa26bb26b82)\" style=\"fill: none; stroke: #b0b0b0; stroke-width: 0.8; stroke-linecap: square\"/>\n",
       "     </g>\n",
       "     <g id=\"line2d_20\">\n",
       "      <defs>\n",
       "       <path id=\"m49f239ed8e\" d=\"M 0 0 \n",
       "L -3.5 0 \n",
       "\" style=\"stroke: #000000; stroke-width: 0.8\"/>\n",
       "      </defs>\n",
       "      <g>\n",
       "       <use xlink:href=\"#m49f239ed8e\" x=\"30.103125\" y=\"241.144373\" style=\"stroke: #000000; stroke-width: 0.8\"/>\n",
       "      </g>\n",
       "     </g>\n",
       "     <g id=\"text_10\">\n",
       "      <!-- 0.5 -->\n",
       "      <g transform=\"translate(7.2 244.943591) scale(0.1 -0.1)\">\n",
       "       <use xlink:href=\"#DejaVuSans-30\"/>\n",
       "       <use xlink:href=\"#DejaVuSans-2e\" x=\"63.623047\"/>\n",
       "       <use xlink:href=\"#DejaVuSans-35\" x=\"95.410156\"/>\n",
       "      </g>\n",
       "     </g>\n",
       "    </g>\n",
       "    <g id=\"ytick_2\">\n",
       "     <g id=\"line2d_21\">\n",
       "      <path d=\"M 30.103125 186.095119 \n",
       "L 387.223125 186.095119 \n",
       "\" clip-path=\"url(#pa26bb26b82)\" style=\"fill: none; stroke: #b0b0b0; stroke-width: 0.8; stroke-linecap: square\"/>\n",
       "     </g>\n",
       "     <g id=\"line2d_22\">\n",
       "      <g>\n",
       "       <use xlink:href=\"#m49f239ed8e\" x=\"30.103125\" y=\"186.095119\" style=\"stroke: #000000; stroke-width: 0.8\"/>\n",
       "      </g>\n",
       "     </g>\n",
       "     <g id=\"text_11\">\n",
       "      <!-- 1.0 -->\n",
       "      <g transform=\"translate(7.2 189.894338) scale(0.1 -0.1)\">\n",
       "       <use xlink:href=\"#DejaVuSans-31\"/>\n",
       "       <use xlink:href=\"#DejaVuSans-2e\" x=\"63.623047\"/>\n",
       "       <use xlink:href=\"#DejaVuSans-30\" x=\"95.410156\"/>\n",
       "      </g>\n",
       "     </g>\n",
       "    </g>\n",
       "    <g id=\"ytick_3\">\n",
       "     <g id=\"line2d_23\">\n",
       "      <path d=\"M 30.103125 131.045865 \n",
       "L 387.223125 131.045865 \n",
       "\" clip-path=\"url(#pa26bb26b82)\" style=\"fill: none; stroke: #b0b0b0; stroke-width: 0.8; stroke-linecap: square\"/>\n",
       "     </g>\n",
       "     <g id=\"line2d_24\">\n",
       "      <g>\n",
       "       <use xlink:href=\"#m49f239ed8e\" x=\"30.103125\" y=\"131.045865\" style=\"stroke: #000000; stroke-width: 0.8\"/>\n",
       "      </g>\n",
       "     </g>\n",
       "     <g id=\"text_12\">\n",
       "      <!-- 1.5 -->\n",
       "      <g transform=\"translate(7.2 134.845084) scale(0.1 -0.1)\">\n",
       "       <use xlink:href=\"#DejaVuSans-31\"/>\n",
       "       <use xlink:href=\"#DejaVuSans-2e\" x=\"63.623047\"/>\n",
       "       <use xlink:href=\"#DejaVuSans-35\" x=\"95.410156\"/>\n",
       "      </g>\n",
       "     </g>\n",
       "    </g>\n",
       "    <g id=\"ytick_4\">\n",
       "     <g id=\"line2d_25\">\n",
       "      <path d=\"M 30.103125 75.996612 \n",
       "L 387.223125 75.996612 \n",
       "\" clip-path=\"url(#pa26bb26b82)\" style=\"fill: none; stroke: #b0b0b0; stroke-width: 0.8; stroke-linecap: square\"/>\n",
       "     </g>\n",
       "     <g id=\"line2d_26\">\n",
       "      <g>\n",
       "       <use xlink:href=\"#m49f239ed8e\" x=\"30.103125\" y=\"75.996612\" style=\"stroke: #000000; stroke-width: 0.8\"/>\n",
       "      </g>\n",
       "     </g>\n",
       "     <g id=\"text_13\">\n",
       "      <!-- 2.0 -->\n",
       "      <g transform=\"translate(7.2 79.79583) scale(0.1 -0.1)\">\n",
       "       <use xlink:href=\"#DejaVuSans-32\"/>\n",
       "       <use xlink:href=\"#DejaVuSans-2e\" x=\"63.623047\"/>\n",
       "       <use xlink:href=\"#DejaVuSans-30\" x=\"95.410156\"/>\n",
       "      </g>\n",
       "     </g>\n",
       "    </g>\n",
       "    <g id=\"ytick_5\">\n",
       "     <g id=\"line2d_27\">\n",
       "      <path d=\"M 30.103125 20.947358 \n",
       "L 387.223125 20.947358 \n",
       "\" clip-path=\"url(#pa26bb26b82)\" style=\"fill: none; stroke: #b0b0b0; stroke-width: 0.8; stroke-linecap: square\"/>\n",
       "     </g>\n",
       "     <g id=\"line2d_28\">\n",
       "      <g>\n",
       "       <use xlink:href=\"#m49f239ed8e\" x=\"30.103125\" y=\"20.947358\" style=\"stroke: #000000; stroke-width: 0.8\"/>\n",
       "      </g>\n",
       "     </g>\n",
       "     <g id=\"text_14\">\n",
       "      <!-- 2.5 -->\n",
       "      <g transform=\"translate(7.2 24.746577) scale(0.1 -0.1)\">\n",
       "       <use xlink:href=\"#DejaVuSans-32\"/>\n",
       "       <use xlink:href=\"#DejaVuSans-2e\" x=\"63.623047\"/>\n",
       "       <use xlink:href=\"#DejaVuSans-35\" x=\"95.410156\"/>\n",
       "      </g>\n",
       "     </g>\n",
       "    </g>\n",
       "   </g>\n",
       "   <g id=\"line2d_29\">\n",
       "    <path d=\"M 46.335852 240.605102 \n",
       "L 127.499489 249.097603 \n",
       "L 208.663125 256.16646 \n",
       "L 289.826761 261.216 \n",
       "L 370.990398 198.20948 \n",
       "\" clip-path=\"url(#pa26bb26b82)\" style=\"fill: none; stroke: #1f77b4; stroke-width: 1.5; stroke-linecap: square\"/>\n",
       "   </g>\n",
       "   <g id=\"line2d_30\">\n",
       "    <path d=\"M 46.335852 191.088088 \n",
       "L 127.499489 190.273355 \n",
       "L 208.663125 189.700846 \n",
       "L 289.826761 189.370548 \n",
       "L 370.990398 193.570808 \n",
       "\" clip-path=\"url(#pa26bb26b82)\" style=\"fill: none; stroke: #ff7f0e; stroke-width: 1.5; stroke-linecap: square\"/>\n",
       "   </g>\n",
       "   <g id=\"line2d_31\">\n",
       "    <path d=\"M 46.335852 19.296 \n",
       "L 127.499489 96.4535 \n",
       "L 208.663125 99.533567 \n",
       "L 289.826761 77.745434 \n",
       "L 370.990398 91.639389 \n",
       "\" clip-path=\"url(#pa26bb26b82)\" style=\"fill: none; stroke: #2ca02c; stroke-width: 1.5; stroke-linecap: square\"/>\n",
       "   </g>\n",
       "   <g id=\"line2d_32\">\n",
       "    <path d=\"M 46.335852 204.899941 \n",
       "L 127.499489 200.672159 \n",
       "L 208.663125 200.804279 \n",
       "L 289.826761 203.82098 \n",
       "L 370.990398 201.905263 \n",
       "\" clip-path=\"url(#pa26bb26b82)\" style=\"fill: none; stroke: #d62728; stroke-width: 1.5; stroke-linecap: square\"/>\n",
       "   </g>\n",
       "   <g id=\"patch_3\">\n",
       "    <path d=\"M 30.103125 273.312 \n",
       "L 30.103125 7.2 \n",
       "\" style=\"fill: none; stroke: #000000; stroke-width: 0.8; stroke-linejoin: miter; stroke-linecap: square\"/>\n",
       "   </g>\n",
       "   <g id=\"patch_4\">\n",
       "    <path d=\"M 387.223125 273.312 \n",
       "L 387.223125 7.2 \n",
       "\" style=\"fill: none; stroke: #000000; stroke-width: 0.8; stroke-linejoin: miter; stroke-linecap: square\"/>\n",
       "   </g>\n",
       "   <g id=\"patch_5\">\n",
       "    <path d=\"M 30.103125 273.312 \n",
       "L 387.223125 273.312 \n",
       "\" style=\"fill: none; stroke: #000000; stroke-width: 0.8; stroke-linejoin: miter; stroke-linecap: square\"/>\n",
       "   </g>\n",
       "   <g id=\"patch_6\">\n",
       "    <path d=\"M 30.103125 7.2 \n",
       "L 387.223125 7.2 \n",
       "\" style=\"fill: none; stroke: #000000; stroke-width: 0.8; stroke-linejoin: miter; stroke-linecap: square\"/>\n",
       "   </g>\n",
       "   <g id=\"legend_1\">\n",
       "    <g id=\"patch_7\">\n",
       "     <path d=\"M 246.6575 74.746875 \n",
       "L 380.223125 74.746875 \n",
       "Q 382.223125 74.746875 382.223125 72.746875 \n",
       "L 382.223125 14.2 \n",
       "Q 382.223125 12.2 380.223125 12.2 \n",
       "L 246.6575 12.2 \n",
       "Q 244.6575 12.2 244.6575 14.2 \n",
       "L 244.6575 72.746875 \n",
       "Q 244.6575 74.746875 246.6575 74.746875 \n",
       "z\n",
       "\" style=\"fill: #ffffff; opacity: 0.8; stroke: #cccccc; stroke-linejoin: miter\"/>\n",
       "    </g>\n",
       "    <g id=\"line2d_33\">\n",
       "     <path d=\"M 248.6575 20.298437 \n",
       "L 258.6575 20.298437 \n",
       "L 268.6575 20.298437 \n",
       "\" style=\"fill: none; stroke: #1f77b4; stroke-width: 1.5; stroke-linecap: square\"/>\n",
       "    </g>\n",
       "    <g id=\"text_15\">\n",
       "     <!-- loss -->\n",
       "     <g transform=\"translate(276.6575 23.798437) scale(0.1 -0.1)\">\n",
       "      <defs>\n",
       "       <path id=\"DejaVuSans-6c\" d=\"M 603 4863 \n",
       "L 1178 4863 \n",
       "L 1178 0 \n",
       "L 603 0 \n",
       "L 603 4863 \n",
       "z\n",
       "\" transform=\"scale(0.015625)\"/>\n",
       "       <path id=\"DejaVuSans-6f\" d=\"M 1959 3097 \n",
       "Q 1497 3097 1228 2736 \n",
       "Q 959 2375 959 1747 \n",
       "Q 959 1119 1226 758 \n",
       "Q 1494 397 1959 397 \n",
       "Q 2419 397 2687 759 \n",
       "Q 2956 1122 2956 1747 \n",
       "Q 2956 2369 2687 2733 \n",
       "Q 2419 3097 1959 3097 \n",
       "z\n",
       "M 1959 3584 \n",
       "Q 2709 3584 3137 3096 \n",
       "Q 3566 2609 3566 1747 \n",
       "Q 3566 888 3137 398 \n",
       "Q 2709 -91 1959 -91 \n",
       "Q 1206 -91 779 398 \n",
       "Q 353 888 353 1747 \n",
       "Q 353 2609 779 3096 \n",
       "Q 1206 3584 1959 3584 \n",
       "z\n",
       "\" transform=\"scale(0.015625)\"/>\n",
       "       <path id=\"DejaVuSans-73\" d=\"M 2834 3397 \n",
       "L 2834 2853 \n",
       "Q 2591 2978 2328 3040 \n",
       "Q 2066 3103 1784 3103 \n",
       "Q 1356 3103 1142 2972 \n",
       "Q 928 2841 928 2578 \n",
       "Q 928 2378 1081 2264 \n",
       "Q 1234 2150 1697 2047 \n",
       "L 1894 2003 \n",
       "Q 2506 1872 2764 1633 \n",
       "Q 3022 1394 3022 966 \n",
       "Q 3022 478 2636 193 \n",
       "Q 2250 -91 1575 -91 \n",
       "Q 1294 -91 989 -36 \n",
       "Q 684 19 347 128 \n",
       "L 347 722 \n",
       "Q 666 556 975 473 \n",
       "Q 1284 391 1588 391 \n",
       "Q 1994 391 2212 530 \n",
       "Q 2431 669 2431 922 \n",
       "Q 2431 1156 2273 1281 \n",
       "Q 2116 1406 1581 1522 \n",
       "L 1381 1569 \n",
       "Q 847 1681 609 1914 \n",
       "Q 372 2147 372 2553 \n",
       "Q 372 3047 722 3315 \n",
       "Q 1072 3584 1716 3584 \n",
       "Q 2034 3584 2315 3537 \n",
       "Q 2597 3491 2834 3397 \n",
       "z\n",
       "\" transform=\"scale(0.015625)\"/>\n",
       "      </defs>\n",
       "      <use xlink:href=\"#DejaVuSans-6c\"/>\n",
       "      <use xlink:href=\"#DejaVuSans-6f\" x=\"27.783203\"/>\n",
       "      <use xlink:href=\"#DejaVuSans-73\" x=\"88.964844\"/>\n",
       "      <use xlink:href=\"#DejaVuSans-73\" x=\"141.064453\"/>\n",
       "     </g>\n",
       "    </g>\n",
       "    <g id=\"line2d_34\">\n",
       "     <path d=\"M 248.6575 34.976562 \n",
       "L 258.6575 34.976562 \n",
       "L 268.6575 34.976562 \n",
       "\" style=\"fill: none; stroke: #ff7f0e; stroke-width: 1.5; stroke-linecap: square\"/>\n",
       "    </g>\n",
       "    <g id=\"text_16\">\n",
       "     <!-- binary_accuracy -->\n",
       "     <g transform=\"translate(276.6575 38.476562) scale(0.1 -0.1)\">\n",
       "      <defs>\n",
       "       <path id=\"DejaVuSans-62\" d=\"M 3116 1747 \n",
       "Q 3116 2381 2855 2742 \n",
       "Q 2594 3103 2138 3103 \n",
       "Q 1681 3103 1420 2742 \n",
       "Q 1159 2381 1159 1747 \n",
       "Q 1159 1113 1420 752 \n",
       "Q 1681 391 2138 391 \n",
       "Q 2594 391 2855 752 \n",
       "Q 3116 1113 3116 1747 \n",
       "z\n",
       "M 1159 2969 \n",
       "Q 1341 3281 1617 3432 \n",
       "Q 1894 3584 2278 3584 \n",
       "Q 2916 3584 3314 3078 \n",
       "Q 3713 2572 3713 1747 \n",
       "Q 3713 922 3314 415 \n",
       "Q 2916 -91 2278 -91 \n",
       "Q 1894 -91 1617 61 \n",
       "Q 1341 213 1159 525 \n",
       "L 1159 0 \n",
       "L 581 0 \n",
       "L 581 4863 \n",
       "L 1159 4863 \n",
       "L 1159 2969 \n",
       "z\n",
       "\" transform=\"scale(0.015625)\"/>\n",
       "       <path id=\"DejaVuSans-69\" d=\"M 603 3500 \n",
       "L 1178 3500 \n",
       "L 1178 0 \n",
       "L 603 0 \n",
       "L 603 3500 \n",
       "z\n",
       "M 603 4863 \n",
       "L 1178 4863 \n",
       "L 1178 4134 \n",
       "L 603 4134 \n",
       "L 603 4863 \n",
       "z\n",
       "\" transform=\"scale(0.015625)\"/>\n",
       "       <path id=\"DejaVuSans-6e\" d=\"M 3513 2113 \n",
       "L 3513 0 \n",
       "L 2938 0 \n",
       "L 2938 2094 \n",
       "Q 2938 2591 2744 2837 \n",
       "Q 2550 3084 2163 3084 \n",
       "Q 1697 3084 1428 2787 \n",
       "Q 1159 2491 1159 1978 \n",
       "L 1159 0 \n",
       "L 581 0 \n",
       "L 581 3500 \n",
       "L 1159 3500 \n",
       "L 1159 2956 \n",
       "Q 1366 3272 1645 3428 \n",
       "Q 1925 3584 2291 3584 \n",
       "Q 2894 3584 3203 3211 \n",
       "Q 3513 2838 3513 2113 \n",
       "z\n",
       "\" transform=\"scale(0.015625)\"/>\n",
       "       <path id=\"DejaVuSans-61\" d=\"M 2194 1759 \n",
       "Q 1497 1759 1228 1600 \n",
       "Q 959 1441 959 1056 \n",
       "Q 959 750 1161 570 \n",
       "Q 1363 391 1709 391 \n",
       "Q 2188 391 2477 730 \n",
       "Q 2766 1069 2766 1631 \n",
       "L 2766 1759 \n",
       "L 2194 1759 \n",
       "z\n",
       "M 3341 1997 \n",
       "L 3341 0 \n",
       "L 2766 0 \n",
       "L 2766 531 \n",
       "Q 2569 213 2275 61 \n",
       "Q 1981 -91 1556 -91 \n",
       "Q 1019 -91 701 211 \n",
       "Q 384 513 384 1019 \n",
       "Q 384 1609 779 1909 \n",
       "Q 1175 2209 1959 2209 \n",
       "L 2766 2209 \n",
       "L 2766 2266 \n",
       "Q 2766 2663 2505 2880 \n",
       "Q 2244 3097 1772 3097 \n",
       "Q 1472 3097 1187 3025 \n",
       "Q 903 2953 641 2809 \n",
       "L 641 3341 \n",
       "Q 956 3463 1253 3523 \n",
       "Q 1550 3584 1831 3584 \n",
       "Q 2591 3584 2966 3190 \n",
       "Q 3341 2797 3341 1997 \n",
       "z\n",
       "\" transform=\"scale(0.015625)\"/>\n",
       "       <path id=\"DejaVuSans-72\" d=\"M 2631 2963 \n",
       "Q 2534 3019 2420 3045 \n",
       "Q 2306 3072 2169 3072 \n",
       "Q 1681 3072 1420 2755 \n",
       "Q 1159 2438 1159 1844 \n",
       "L 1159 0 \n",
       "L 581 0 \n",
       "L 581 3500 \n",
       "L 1159 3500 \n",
       "L 1159 2956 \n",
       "Q 1341 3275 1631 3429 \n",
       "Q 1922 3584 2338 3584 \n",
       "Q 2397 3584 2469 3576 \n",
       "Q 2541 3569 2628 3553 \n",
       "L 2631 2963 \n",
       "z\n",
       "\" transform=\"scale(0.015625)\"/>\n",
       "       <path id=\"DejaVuSans-79\" d=\"M 2059 -325 \n",
       "Q 1816 -950 1584 -1140 \n",
       "Q 1353 -1331 966 -1331 \n",
       "L 506 -1331 \n",
       "L 506 -850 \n",
       "L 844 -850 \n",
       "Q 1081 -850 1212 -737 \n",
       "Q 1344 -625 1503 -206 \n",
       "L 1606 56 \n",
       "L 191 3500 \n",
       "L 800 3500 \n",
       "L 1894 763 \n",
       "L 2988 3500 \n",
       "L 3597 3500 \n",
       "L 2059 -325 \n",
       "z\n",
       "\" transform=\"scale(0.015625)\"/>\n",
       "       <path id=\"DejaVuSans-5f\" d=\"M 3263 -1063 \n",
       "L 3263 -1509 \n",
       "L -63 -1509 \n",
       "L -63 -1063 \n",
       "L 3263 -1063 \n",
       "z\n",
       "\" transform=\"scale(0.015625)\"/>\n",
       "       <path id=\"DejaVuSans-63\" d=\"M 3122 3366 \n",
       "L 3122 2828 \n",
       "Q 2878 2963 2633 3030 \n",
       "Q 2388 3097 2138 3097 \n",
       "Q 1578 3097 1268 2742 \n",
       "Q 959 2388 959 1747 \n",
       "Q 959 1106 1268 751 \n",
       "Q 1578 397 2138 397 \n",
       "Q 2388 397 2633 464 \n",
       "Q 2878 531 3122 666 \n",
       "L 3122 134 \n",
       "Q 2881 22 2623 -34 \n",
       "Q 2366 -91 2075 -91 \n",
       "Q 1284 -91 818 406 \n",
       "Q 353 903 353 1747 \n",
       "Q 353 2603 823 3093 \n",
       "Q 1294 3584 2113 3584 \n",
       "Q 2378 3584 2631 3529 \n",
       "Q 2884 3475 3122 3366 \n",
       "z\n",
       "\" transform=\"scale(0.015625)\"/>\n",
       "       <path id=\"DejaVuSans-75\" d=\"M 544 1381 \n",
       "L 544 3500 \n",
       "L 1119 3500 \n",
       "L 1119 1403 \n",
       "Q 1119 906 1312 657 \n",
       "Q 1506 409 1894 409 \n",
       "Q 2359 409 2629 706 \n",
       "Q 2900 1003 2900 1516 \n",
       "L 2900 3500 \n",
       "L 3475 3500 \n",
       "L 3475 0 \n",
       "L 2900 0 \n",
       "L 2900 538 \n",
       "Q 2691 219 2414 64 \n",
       "Q 2138 -91 1772 -91 \n",
       "Q 1169 -91 856 284 \n",
       "Q 544 659 544 1381 \n",
       "z\n",
       "M 1991 3584 \n",
       "L 1991 3584 \n",
       "z\n",
       "\" transform=\"scale(0.015625)\"/>\n",
       "      </defs>\n",
       "      <use xlink:href=\"#DejaVuSans-62\"/>\n",
       "      <use xlink:href=\"#DejaVuSans-69\" x=\"63.476562\"/>\n",
       "      <use xlink:href=\"#DejaVuSans-6e\" x=\"91.259766\"/>\n",
       "      <use xlink:href=\"#DejaVuSans-61\" x=\"154.638672\"/>\n",
       "      <use xlink:href=\"#DejaVuSans-72\" x=\"215.917969\"/>\n",
       "      <use xlink:href=\"#DejaVuSans-79\" x=\"257.03125\"/>\n",
       "      <use xlink:href=\"#DejaVuSans-5f\" x=\"316.210938\"/>\n",
       "      <use xlink:href=\"#DejaVuSans-61\" x=\"366.210938\"/>\n",
       "      <use xlink:href=\"#DejaVuSans-63\" x=\"427.490234\"/>\n",
       "      <use xlink:href=\"#DejaVuSans-63\" x=\"482.470703\"/>\n",
       "      <use xlink:href=\"#DejaVuSans-75\" x=\"537.451172\"/>\n",
       "      <use xlink:href=\"#DejaVuSans-72\" x=\"600.830078\"/>\n",
       "      <use xlink:href=\"#DejaVuSans-61\" x=\"641.943359\"/>\n",
       "      <use xlink:href=\"#DejaVuSans-63\" x=\"703.222656\"/>\n",
       "      <use xlink:href=\"#DejaVuSans-79\" x=\"758.203125\"/>\n",
       "     </g>\n",
       "    </g>\n",
       "    <g id=\"line2d_35\">\n",
       "     <path d=\"M 248.6575 49.932812 \n",
       "L 258.6575 49.932812 \n",
       "L 268.6575 49.932812 \n",
       "\" style=\"fill: none; stroke: #2ca02c; stroke-width: 1.5; stroke-linecap: square\"/>\n",
       "    </g>\n",
       "    <g id=\"text_17\">\n",
       "     <!-- val_loss -->\n",
       "     <g transform=\"translate(276.6575 53.432812) scale(0.1 -0.1)\">\n",
       "      <defs>\n",
       "       <path id=\"DejaVuSans-76\" d=\"M 191 3500 \n",
       "L 800 3500 \n",
       "L 1894 563 \n",
       "L 2988 3500 \n",
       "L 3597 3500 \n",
       "L 2284 0 \n",
       "L 1503 0 \n",
       "L 191 3500 \n",
       "z\n",
       "\" transform=\"scale(0.015625)\"/>\n",
       "      </defs>\n",
       "      <use xlink:href=\"#DejaVuSans-76\"/>\n",
       "      <use xlink:href=\"#DejaVuSans-61\" x=\"59.179688\"/>\n",
       "      <use xlink:href=\"#DejaVuSans-6c\" x=\"120.458984\"/>\n",
       "      <use xlink:href=\"#DejaVuSans-5f\" x=\"148.242188\"/>\n",
       "      <use xlink:href=\"#DejaVuSans-6c\" x=\"198.242188\"/>\n",
       "      <use xlink:href=\"#DejaVuSans-6f\" x=\"226.025391\"/>\n",
       "      <use xlink:href=\"#DejaVuSans-73\" x=\"287.207031\"/>\n",
       "      <use xlink:href=\"#DejaVuSans-73\" x=\"339.306641\"/>\n",
       "     </g>\n",
       "    </g>\n",
       "    <g id=\"line2d_36\">\n",
       "     <path d=\"M 248.6575 64.889062 \n",
       "L 258.6575 64.889062 \n",
       "L 268.6575 64.889062 \n",
       "\" style=\"fill: none; stroke: #d62728; stroke-width: 1.5; stroke-linecap: square\"/>\n",
       "    </g>\n",
       "    <g id=\"text_18\">\n",
       "     <!-- val_binary_accuracy -->\n",
       "     <g transform=\"translate(276.6575 68.389062) scale(0.1 -0.1)\">\n",
       "      <use xlink:href=\"#DejaVuSans-76\"/>\n",
       "      <use xlink:href=\"#DejaVuSans-61\" x=\"59.179688\"/>\n",
       "      <use xlink:href=\"#DejaVuSans-6c\" x=\"120.458984\"/>\n",
       "      <use xlink:href=\"#DejaVuSans-5f\" x=\"148.242188\"/>\n",
       "      <use xlink:href=\"#DejaVuSans-62\" x=\"198.242188\"/>\n",
       "      <use xlink:href=\"#DejaVuSans-69\" x=\"261.71875\"/>\n",
       "      <use xlink:href=\"#DejaVuSans-6e\" x=\"289.501953\"/>\n",
       "      <use xlink:href=\"#DejaVuSans-61\" x=\"352.880859\"/>\n",
       "      <use xlink:href=\"#DejaVuSans-72\" x=\"414.160156\"/>\n",
       "      <use xlink:href=\"#DejaVuSans-79\" x=\"455.273438\"/>\n",
       "      <use xlink:href=\"#DejaVuSans-5f\" x=\"514.453125\"/>\n",
       "      <use xlink:href=\"#DejaVuSans-61\" x=\"564.453125\"/>\n",
       "      <use xlink:href=\"#DejaVuSans-63\" x=\"625.732422\"/>\n",
       "      <use xlink:href=\"#DejaVuSans-63\" x=\"680.712891\"/>\n",
       "      <use xlink:href=\"#DejaVuSans-75\" x=\"735.693359\"/>\n",
       "      <use xlink:href=\"#DejaVuSans-72\" x=\"799.072266\"/>\n",
       "      <use xlink:href=\"#DejaVuSans-61\" x=\"840.185547\"/>\n",
       "      <use xlink:href=\"#DejaVuSans-63\" x=\"901.464844\"/>\n",
       "      <use xlink:href=\"#DejaVuSans-79\" x=\"956.445312\"/>\n",
       "     </g>\n",
       "    </g>\n",
       "   </g>\n",
       "  </g>\n",
       " </g>\n",
       " <defs>\n",
       "  <clipPath id=\"pa26bb26b82\">\n",
       "   <rect x=\"30.103125\" y=\"7.2\" width=\"357.12\" height=\"266.112\"/>\n",
       "  </clipPath>\n",
       " </defs>\n",
       "</svg>\n"
      ],
      "text/plain": [
       "<Figure size 640x480 with 1 Axes>"
      ]
     },
     "metadata": {},
     "output_type": "display_data"
    },
    {
     "name": "stdout",
     "output_type": "stream",
     "text": [
      "782/782 - 19s - loss: 2.1341 - binary_accuracy: 0.8377 - 19s/epoch - 25ms/step\n"
     ]
    },
    {
     "data": {
      "text/plain": [
       "[2.134084701538086, 0.8376799821853638]"
      ]
     },
     "execution_count": 34,
     "metadata": {},
     "output_type": "execute_result"
    }
   ],
   "source": [
    "pd.DataFrame(history.history).plot() \n",
    "plt.grid(True)\n",
    "plt.show()\n",
    "model.evaluate(test_ds,verbose=2)"
   ]
  },
  {
   "cell_type": "code",
   "execution_count": 35,
   "id": "c24a2499",
   "metadata": {
    "ExecuteTime": {
     "end_time": "2024-05-10T00:51:19.394174Z",
     "start_time": "2024-05-10T00:50:59.967593Z"
    }
   },
   "outputs": [
    {
     "name": "stdout",
     "output_type": "stream",
     "text": [
      "782/782 [==============================] - 19s 24ms/step - loss: 0.5233 - accuracy: 0.8377\n"
     ]
    },
    {
     "data": {
      "text/plain": [
       "[0.5233199596405029, 0.8376799821853638]"
      ]
     },
     "execution_count": 35,
     "metadata": {},
     "output_type": "execute_result"
    }
   ],
   "source": [
    "#原有模型基础上，改造为能直接处理原始字符的模型\n",
    "#将vectorize_layer加入原有模型的最上层\n",
    "\n",
    "export_model = tf.keras.Sequential([\n",
    "    vectorize_layer,\n",
    "    model,\n",
    "    layers.Activation('sigmoid')\n",
    "])\n",
    "\n",
    "\n",
    "# bce 概率值值域范围 [0, 1]\n",
    "#则应该设置为 from_logits=False，否则设置为True\n",
    "\n",
    "export_model.compile(\n",
    "    loss=losses.BinaryCrossentropy(from_logits=False), optimizer=\"nadam\", metrics=['accuracy']\n",
    ")\n",
    "\n",
    "# 直接评估，无需拟合，使用raw数据集\n",
    "export_model.evaluate(raw_test_ds)\n"
   ]
  },
  {
   "cell_type": "code",
   "execution_count": 36,
   "id": "a33ae2ce",
   "metadata": {
    "ExecuteTime": {
     "end_time": "2024-05-10T00:51:23.380541Z",
     "start_time": "2024-05-10T00:51:23.177416Z"
    },
    "scrolled": true
   },
   "outputs": [
    {
     "name": "stdout",
     "output_type": "stream",
     "text": [
      "1/1 [==============================] - 0s 141ms/step\n"
     ]
    },
    {
     "data": {
      "text/plain": [
       "array([[0.64689285],\n",
       "       [0.3574646 ],\n",
       "       [0.25093666]], dtype=float32)"
      ]
     },
     "execution_count": 36,
     "metadata": {},
     "output_type": "execute_result"
    }
   ],
   "source": [
    "examples = [\n",
    "  \"The movie was great!\",\n",
    "  \"The movie was okay.\",\n",
    "  \"The movie was terrible...\"\n",
    "]\n",
    "\n",
    "export_model.predict(examples)"
   ]
  },
  {
   "cell_type": "markdown",
   "id": "126f1d60",
   "metadata": {},
   "source": [
    "## TF HUB"
   ]
  },
  {
   "cell_type": "code",
   "execution_count": 4,
   "id": "722b05e9",
   "metadata": {
    "ExecuteTime": {
     "end_time": "2024-05-13T00:40:15.214544Z",
     "start_time": "2024-05-13T00:40:14.480173Z"
    }
   },
   "outputs": [],
   "source": [
    "#用TF_hub 处理embedding \n",
    "\n",
    "import os\n",
    "import numpy as np\n",
    "\n",
    "import tensorflow as tf\n",
    "import tensorflow_hub as hub\n",
    "import tensorflow_datasets as tfds"
   ]
  },
  {
   "cell_type": "code",
   "execution_count": 39,
   "id": "818a4d91",
   "metadata": {
    "ExecuteTime": {
     "end_time": "2024-05-11T00:58:58.706937Z",
     "start_time": "2024-05-11T00:58:58.691313Z"
    }
   },
   "outputs": [
    {
     "name": "stdout",
     "output_type": "stream",
     "text": [
      "GPU is NOT AVAILABLE\n"
     ]
    }
   ],
   "source": [
    "print(\"GPU is\", \"available\" if tf.config.list_physical_devices(\"GPU\") else \"NOT AVAILABLE\")\n"
   ]
  },
  {
   "cell_type": "code",
   "execution_count": 6,
   "id": "2e0380c3",
   "metadata": {
    "ExecuteTime": {
     "end_time": "2024-05-13T00:40:42.070182Z",
     "start_time": "2024-05-13T00:40:41.927505Z"
    },
    "scrolled": false
   },
   "outputs": [
    {
     "name": "stderr",
     "output_type": "stream",
     "text": [
      "WARNING:absl:options.experimental_threading is deprecated. Use options.threading instead.\n",
      "WARNING:absl:options.experimental_threading is deprecated. Use options.threading instead.\n",
      "WARNING:absl:options.experimental_threading is deprecated. Use options.threading instead.\n",
      "WARNING:absl:options.experimental_threading is deprecated. Use options.threading instead.\n",
      "WARNING:absl:options.experimental_threading is deprecated. Use options.threading instead.\n",
      "WARNING:absl:options.experimental_threading is deprecated. Use options.threading instead.\n"
     ]
    }
   ],
   "source": [
    "#使用标准数据集\n",
    "train_data, validation_data, test_data = tfds.load(\n",
    "    name=\"imdb_reviews\", \n",
    "    split=('train[:60%]', 'train[60%:]', 'test'),\n",
    "    as_supervised=True)"
   ]
  },
  {
   "cell_type": "code",
   "execution_count": 7,
   "id": "94c69bf5",
   "metadata": {
    "ExecuteTime": {
     "end_time": "2024-05-13T00:41:55.158229Z",
     "start_time": "2024-05-13T00:41:55.126980Z"
    }
   },
   "outputs": [],
   "source": [
    "train_data=train_data.shuffle(10000).batch(512)\n",
    "validation_data=validation_data.shuffle(10000).batch(512)\n",
    "test_data=test_data.shuffle(10000).batch(512)\n",
    "\n",
    "AUTOTUNE = tf.data.AUTOTUNE\n",
    "\n",
    "train_data = train_data.cache().prefetch(buffer_size=AUTOTUNE)\n",
    "validation_data = validation_data.cache().prefetch(buffer_size=AUTOTUNE)\n",
    "test_data = test_data.cache().prefetch(buffer_size=AUTOTUNE)"
   ]
  },
  {
   "cell_type": "markdown",
   "id": "580cae81",
   "metadata": {},
   "source": [
    "google/nnlm-en-dim50/2 可将句子拆分为词例，嵌入每个词例，然后组合嵌入向量\n",
    "\n",
    "google/nnlm-en-dim128/2 - 基于与 google/nnlm-en-dim50/2 相同的数据并使用相同的 NNLM 架构进行训练，但具有更大的嵌入向量维度。\n",
    "\n",
    "google/nnlm-en-dim128-with-normalization/2 - 与 google/nnlm-en-dim128/2 相同，但具有额外的文本归一化，例如移除标点符号。如果文本包含附加字符或标点符号，这会有所帮助。\n",
    "\n",
    "google/universal-sentence-encoder/4 - 一个可产生 512 维嵌入向量的大得多的模型，使用深度平均网络 (DAN) 编码器训练。\n",
    "\n",
    "embeding更大维度的嵌入向量可以改进任务，但可能需要更长的时间来训练模型。"
   ]
  },
  {
   "cell_type": "code",
   "execution_count": 52,
   "id": "26942e2c",
   "metadata": {
    "ExecuteTime": {
     "end_time": "2024-05-11T01:17:11.139868Z",
     "start_time": "2024-05-11T01:17:10.296113Z"
    },
    "scrolled": true
   },
   "outputs": [
    {
     "data": {
      "text/plain": [
       "<tf.Tensor: shape=(3, 50), dtype=float32, numpy=\n",
       "array([[ 6.53866887e-01,  4.16128516e-01,  3.27893086e-02,\n",
       "         1.86483651e-01, -3.13032329e-01, -1.68874860e-01,\n",
       "         4.72123884e-02,  5.54777160e-02, -6.68088198e-01,\n",
       "         3.75170738e-01,  1.55744404e-01, -2.13741809e-02,\n",
       "         1.07529223e-01,  1.25133052e-01, -1.01238206e-01,\n",
       "        -4.39927906e-01, -4.55595165e-01, -7.09834620e-02,\n",
       "         1.81323647e-01, -6.68889523e-01, -6.25920370e-02,\n",
       "        -2.76034594e-01,  6.06147110e-01,  2.78416157e-01,\n",
       "        -2.05840290e-01,  1.19187042e-01, -9.47852433e-01,\n",
       "         4.38334197e-01,  4.70661044e-01, -2.58364767e-01,\n",
       "        -4.88546520e-01, -1.67859122e-01,  2.71252751e-01,\n",
       "        -4.41983014e-01, -2.36122295e-01,  1.09489478e-01,\n",
       "         4.95491713e-01,  1.47909030e-01,  2.45034203e-01,\n",
       "        -6.38907194e-01, -8.64069536e-02,  5.26332140e-01,\n",
       "        -8.07210803e-02,  9.62513313e-02, -3.53074819e-01,\n",
       "        -6.76786721e-01, -5.46558142e-01, -4.40590918e-01,\n",
       "         1.75188005e-01,  5.61058000e-02],\n",
       "       [ 5.92232823e-01,  3.38676274e-02, -6.93060011e-02,\n",
       "         8.95748973e-01,  2.83499986e-01, -9.56983417e-02,\n",
       "         2.03607678e-01, -3.74301076e-01, -3.50271583e-01,\n",
       "         4.29075420e-01,  1.63491949e-01,  1.49173483e-01,\n",
       "         6.14820095e-03,  2.81853601e-03, -4.77498591e-01,\n",
       "        -1.77075922e-01, -4.39156801e-01,  2.80609485e-02,\n",
       "         2.58265108e-01, -7.63927162e-01,  5.94663061e-02,\n",
       "        -3.15763318e-04,  7.54817069e-01, -1.35730440e-02,\n",
       "        -1.61540717e-01,  4.32911217e-01, -1.33540463e+00,\n",
       "        -4.35258215e-03, -6.72810376e-02, -7.15593278e-01,\n",
       "        -3.89626890e-01,  2.81374007e-01,  7.62113452e-01,\n",
       "        -1.47702068e-01, -6.09785676e-01,  5.27645111e-01,\n",
       "         2.60460764e-01,  1.14149839e-01,  2.77553380e-01,\n",
       "        -2.76690781e-01, -1.67149827e-01,  2.22304344e-01,\n",
       "        -4.13637668e-01,  4.25052285e-01, -8.30124021e-02,\n",
       "         1.94165379e-01, -4.65805978e-01, -4.82481241e-01,\n",
       "         6.88864216e-02, -2.51713872e-01],\n",
       "       [ 1.74630642e+00,  5.37602864e-02,  1.88579246e-01,\n",
       "         8.68275404e-01, -4.39516790e-02, -3.17572117e-01,\n",
       "        -5.03137633e-02, -3.10632009e-02, -7.85193205e-01,\n",
       "         3.88830215e-01, -9.58463401e-02,  1.35133332e-02,\n",
       "         1.89112112e-01,  2.13173196e-01, -2.20197693e-01,\n",
       "        -3.56602073e-01,  1.14981867e-01, -8.36101547e-02,\n",
       "         2.65311986e-01, -6.72589600e-01,  5.57785109e-02,\n",
       "        -3.17522079e-01,  7.53440320e-01,  2.55965829e-01,\n",
       "        -4.51707214e-01,  3.67736846e-01, -1.48024976e+00,\n",
       "         1.01126559e-01,  5.10319769e-01, -5.79236686e-01,\n",
       "        -7.26031363e-01,  2.88236678e-01,  4.19222713e-02,\n",
       "        -2.37291932e-01, -5.03371418e-01,  2.68688768e-01,\n",
       "         3.78059953e-01,  1.03869721e-01, -6.10129684e-02,\n",
       "        -7.13103652e-01, -1.53218836e-01,  8.67139176e-02,\n",
       "        -5.78173518e-01,  7.93487355e-02, -5.40430605e-01,\n",
       "        -3.18105042e-01, -4.08413261e-01, -1.72017604e-01,\n",
       "         5.60787208e-02,  1.51601583e-01]], dtype=float32)>"
      ]
     },
     "execution_count": 52,
     "metadata": {},
     "output_type": "execute_result"
    }
   ],
   "source": [
    "embedding = \"https://tfhub.dev/google/nnlm-en-dim50/2\"\n",
    "hub_layer = hub.KerasLayer(embedding, input_shape=[], \n",
    "                           dtype=tf.string, trainable=True)\n",
    "hub_layer(train_examples_batch[:3]) #输出前三个训练集对应的向量"
   ]
  },
  {
   "cell_type": "code",
   "execution_count": 100,
   "id": "a4ee42f6",
   "metadata": {
    "ExecuteTime": {
     "end_time": "2024-03-08T01:45:32.206410Z",
     "start_time": "2024-03-08T01:45:32.159402Z"
    }
   },
   "outputs": [
    {
     "name": "stdout",
     "output_type": "stream",
     "text": [
      "Model: \"sequential\"\n",
      "_________________________________________________________________\n",
      " Layer (type)                Output Shape              Param #   \n",
      "=================================================================\n",
      " keras_layer_2 (KerasLayer)  (None, 50)                48190600  \n",
      "                                                                 \n",
      " dropout (Dropout)           (None, 50)                0         \n",
      "                                                                 \n",
      " dense (Dense)               (None, 16)                816       \n",
      "                                                                 \n",
      " dropout_1 (Dropout)         (None, 16)                0         \n",
      "                                                                 \n",
      " dense_1 (Dense)             (None, 1)                 17        \n",
      "                                                                 \n",
      "=================================================================\n",
      "Total params: 48191433 (183.84 MB)\n",
      "Trainable params: 48191433 (183.84 MB)\n",
      "Non-trainable params: 0 (0.00 Byte)\n",
      "_________________________________________________________________\n"
     ]
    }
   ],
   "source": [
    "model = tf.keras.Sequential()\n",
    "model.add(hub_layer)\n",
    "model.add(tf.keras.layers.Dropout(rate=0.2))\n",
    "model.add(tf.keras.layers.Dense(16))\n",
    "model.add(tf.keras.layers.Dropout(rate=0.2))\n",
    "model.add(tf.keras.layers.Dense(1))\n",
    "\n",
    "model.summary()"
   ]
  },
  {
   "cell_type": "code",
   "execution_count": 101,
   "id": "8289626e",
   "metadata": {
    "ExecuteTime": {
     "end_time": "2024-03-08T01:49:08.205759Z",
     "start_time": "2024-03-08T01:45:36.073938Z"
    },
    "scrolled": true
   },
   "outputs": [
    {
     "name": "stdout",
     "output_type": "stream",
     "text": [
      "Epoch 1/100\n",
      "3/3 [==============================] - 7s 3s/step - loss: 0.6701 - accuracy: 0.5458 - val_loss: 0.6437 - val_accuracy: 0.5351\n",
      "Epoch 2/100\n",
      "3/3 [==============================] - 6s 2s/step - loss: 0.6185 - accuracy: 0.5939 - val_loss: 0.6064 - val_accuracy: 0.5833\n",
      "Epoch 3/100\n",
      "3/3 [==============================] - 6s 2s/step - loss: 0.5669 - accuracy: 0.6543 - val_loss: 0.5708 - val_accuracy: 0.6340\n",
      "Epoch 4/100\n",
      "3/3 [==============================] - 6s 2s/step - loss: 0.5176 - accuracy: 0.7035 - val_loss: 0.5372 - val_accuracy: 0.6844\n",
      "Epoch 5/100\n",
      "3/3 [==============================] - 6s 2s/step - loss: 0.4701 - accuracy: 0.7556 - val_loss: 0.5062 - val_accuracy: 0.7291\n",
      "Epoch 6/100\n",
      "3/3 [==============================] - 6s 2s/step - loss: 0.4237 - accuracy: 0.8148 - val_loss: 0.4782 - val_accuracy: 0.7651\n",
      "Epoch 7/100\n",
      "3/3 [==============================] - 6s 2s/step - loss: 0.3866 - accuracy: 0.8453 - val_loss: 0.4530 - val_accuracy: 0.7891\n",
      "Epoch 8/100\n",
      "3/3 [==============================] - 6s 2s/step - loss: 0.3497 - accuracy: 0.8833 - val_loss: 0.4308 - val_accuracy: 0.8044\n",
      "Epoch 9/100\n",
      "3/3 [==============================] - 6s 2s/step - loss: 0.3159 - accuracy: 0.9089 - val_loss: 0.4114 - val_accuracy: 0.8183\n",
      "Epoch 10/100\n",
      "3/3 [==============================] - 5s 2s/step - loss: 0.2886 - accuracy: 0.9247 - val_loss: 0.3944 - val_accuracy: 0.8286\n",
      "Epoch 11/100\n",
      "3/3 [==============================] - 6s 2s/step - loss: 0.2621 - accuracy: 0.9409 - val_loss: 0.3798 - val_accuracy: 0.8374\n",
      "Epoch 12/100\n",
      "3/3 [==============================] - 6s 2s/step - loss: 0.2401 - accuracy: 0.9497 - val_loss: 0.3673 - val_accuracy: 0.8429\n",
      "Epoch 13/100\n",
      "3/3 [==============================] - 6s 2s/step - loss: 0.2187 - accuracy: 0.9597 - val_loss: 0.3566 - val_accuracy: 0.8481\n",
      "Epoch 14/100\n",
      "3/3 [==============================] - 6s 2s/step - loss: 0.2003 - accuracy: 0.9675 - val_loss: 0.3474 - val_accuracy: 0.8529\n",
      "Epoch 15/100\n",
      "3/3 [==============================] - 6s 2s/step - loss: 0.1853 - accuracy: 0.9717 - val_loss: 0.3397 - val_accuracy: 0.8557\n",
      "Epoch 16/100\n",
      "3/3 [==============================] - 5s 2s/step - loss: 0.1708 - accuracy: 0.9752 - val_loss: 0.3332 - val_accuracy: 0.8592\n",
      "Epoch 17/100\n",
      "3/3 [==============================] - 5s 2s/step - loss: 0.1594 - accuracy: 0.9780 - val_loss: 0.3277 - val_accuracy: 0.8601\n",
      "Epoch 18/100\n",
      "3/3 [==============================] - 6s 2s/step - loss: 0.1476 - accuracy: 0.9813 - val_loss: 0.3231 - val_accuracy: 0.8623\n",
      "Epoch 19/100\n",
      "3/3 [==============================] - 6s 2s/step - loss: 0.1374 - accuracy: 0.9845 - val_loss: 0.3194 - val_accuracy: 0.8634\n",
      "Epoch 20/100\n",
      "3/3 [==============================] - 6s 2s/step - loss: 0.1285 - accuracy: 0.9835 - val_loss: 0.3163 - val_accuracy: 0.8645\n",
      "Epoch 21/100\n",
      "3/3 [==============================] - 6s 2s/step - loss: 0.1204 - accuracy: 0.9875 - val_loss: 0.3137 - val_accuracy: 0.8650\n",
      "Epoch 22/100\n",
      "3/3 [==============================] - 5s 2s/step - loss: 0.1127 - accuracy: 0.9879 - val_loss: 0.3118 - val_accuracy: 0.8661\n",
      "Epoch 23/100\n",
      "3/3 [==============================] - 5s 2s/step - loss: 0.1064 - accuracy: 0.9890 - val_loss: 0.3102 - val_accuracy: 0.8666\n",
      "Epoch 24/100\n",
      "3/3 [==============================] - 6s 2s/step - loss: 0.1002 - accuracy: 0.9901 - val_loss: 0.3090 - val_accuracy: 0.8671\n",
      "Epoch 25/100\n",
      "3/3 [==============================] - 6s 2s/step - loss: 0.0953 - accuracy: 0.9912 - val_loss: 0.3081 - val_accuracy: 0.8671\n",
      "Epoch 26/100\n",
      "3/3 [==============================] - 6s 2s/step - loss: 0.0902 - accuracy: 0.9923 - val_loss: 0.3075 - val_accuracy: 0.8669\n",
      "Epoch 27/100\n",
      "3/3 [==============================] - 6s 2s/step - loss: 0.0847 - accuracy: 0.9929 - val_loss: 0.3072 - val_accuracy: 0.8669\n",
      "Epoch 28/100\n",
      "3/3 [==============================] - 6s 2s/step - loss: 0.0806 - accuracy: 0.9932 - val_loss: 0.3070 - val_accuracy: 0.8684\n",
      "Epoch 29/100\n",
      "3/3 [==============================] - 5s 2s/step - loss: 0.0762 - accuracy: 0.9926 - val_loss: 0.3071 - val_accuracy: 0.8681\n",
      "Epoch 30/100\n",
      "3/3 [==============================] - 5s 2s/step - loss: 0.0724 - accuracy: 0.9940 - val_loss: 0.3074 - val_accuracy: 0.8685\n",
      "Epoch 31/100\n",
      "3/3 [==============================] - 5s 2s/step - loss: 0.0693 - accuracy: 0.9937 - val_loss: 0.3078 - val_accuracy: 0.8683\n",
      "Epoch 32/100\n",
      "3/3 [==============================] - 5s 2s/step - loss: 0.0659 - accuracy: 0.9952 - val_loss: 0.3083 - val_accuracy: 0.8681\n",
      "Epoch 33/100\n",
      "3/3 [==============================] - 5s 2s/step - loss: 0.0628 - accuracy: 0.9959 - val_loss: 0.3089 - val_accuracy: 0.8682\n",
      "Epoch 34/100\n",
      "3/3 [==============================] - 5s 2s/step - loss: 0.0601 - accuracy: 0.9951 - val_loss: 0.3096 - val_accuracy: 0.8680\n",
      "Epoch 35/100\n",
      "3/3 [==============================] - 5s 2s/step - loss: 0.0576 - accuracy: 0.9956 - val_loss: 0.3105 - val_accuracy: 0.8684\n",
      "Epoch 36/100\n",
      "3/3 [==============================] - 5s 2s/step - loss: 0.0549 - accuracy: 0.9968 - val_loss: 0.3113 - val_accuracy: 0.8683\n",
      "Epoch 37/100\n",
      "3/3 [==============================] - 5s 2s/step - loss: 0.0526 - accuracy: 0.9963 - val_loss: 0.3123 - val_accuracy: 0.8678\n",
      "Epoch 38/100\n",
      "3/3 [==============================] - 6s 2s/step - loss: 0.0508 - accuracy: 0.9969 - val_loss: 0.3134 - val_accuracy: 0.8682\n"
     ]
    }
   ],
   "source": [
    "keras.backend.clear_session()\n",
    "tf.random.set_seed(42)\n",
    "np.random.seed(42)\n",
    "\n",
    "model.compile(optimizer='nadam',\n",
    "              loss=tf.keras.losses.BinaryCrossentropy(from_logits=True),\n",
    "              metrics=['accuracy'])\n",
    "\n",
    "early_stopping_cb = keras.callbacks.EarlyStopping(patience=10,restore_best_weights=True)\n",
    "\n",
    "callbacks = [early_stopping_cb]\n",
    "\n",
    "model.fit(train_data,epochs=100,validation_data=validation_data,callbacks=callbacks)\n"
   ]
  },
  {
   "cell_type": "code",
   "execution_count": 12,
   "id": "cb6b4286",
   "metadata": {
    "ExecuteTime": {
     "end_time": "2024-05-13T00:50:55.654577Z",
     "start_time": "2024-05-13T00:45:23.506155Z"
    }
   },
   "outputs": [
    {
     "name": "stdout",
     "output_type": "stream",
     "text": [
      "Epoch 1/10\n",
      "30/30 [==============================] - 36s 1s/step - loss: 0.6432 - accuracy: 0.7389 - val_loss: 0.5651 - val_accuracy: 0.8134\n",
      "Epoch 2/10\n",
      "30/30 [==============================] - 32s 1s/step - loss: 0.5023 - accuracy: 0.8183 - val_loss: 0.4425 - val_accuracy: 0.8355\n",
      "Epoch 3/10\n",
      "30/30 [==============================] - 32s 1s/step - loss: 0.4133 - accuracy: 0.8344 - val_loss: 0.3827 - val_accuracy: 0.8472\n",
      "Epoch 4/10\n",
      "30/30 [==============================] - 32s 1s/step - loss: 0.3710 - accuracy: 0.8443 - val_loss: 0.3550 - val_accuracy: 0.8528\n",
      "Epoch 5/10\n",
      "30/30 [==============================] - 32s 1s/step - loss: 0.3501 - accuracy: 0.8527 - val_loss: 0.3413 - val_accuracy: 0.8572\n",
      "Epoch 6/10\n",
      "30/30 [==============================] - 32s 1s/step - loss: 0.3388 - accuracy: 0.8558 - val_loss: 0.3339 - val_accuracy: 0.8601\n",
      "Epoch 7/10\n",
      "30/30 [==============================] - 32s 1s/step - loss: 0.3320 - accuracy: 0.8563 - val_loss: 0.3296 - val_accuracy: 0.8610\n",
      "Epoch 8/10\n",
      "30/30 [==============================] - 32s 1s/step - loss: 0.3276 - accuracy: 0.8581 - val_loss: 0.3269 - val_accuracy: 0.8614\n",
      "Epoch 9/10\n",
      "30/30 [==============================] - 32s 1s/step - loss: 0.3246 - accuracy: 0.8585 - val_loss: 0.3252 - val_accuracy: 0.8625\n",
      "Epoch 10/10\n",
      "30/30 [==============================] - 32s 1s/step - loss: 0.3223 - accuracy: 0.8591 - val_loss: 0.3240 - val_accuracy: 0.8630\n"
     ]
    },
    {
     "data": {
      "text/plain": [
       "<keras.src.callbacks.History at 0x1f328025000>"
      ]
     },
     "execution_count": 12,
     "metadata": {},
     "output_type": "execute_result"
    }
   ],
   "source": [
    "model = tf.keras.Sequential([\n",
    "    hub.KerasLayer(\"https://tfhub.dev/google/universal-sentence-encoder/4\",\n",
    "                   trainable=False, dtype=tf.string, input_shape=[]),\n",
    "    tf.keras.layers.Dense(64, activation=\"relu\"),\n",
    "    tf.keras.layers.Dense(1, activation=\"sigmoid\")\n",
    "])\n",
    "\n",
    "model.compile(loss=\"binary_crossentropy\", optimizer=\"nadam\",\n",
    "              metrics=[\"accuracy\"])\n",
    "\n",
    "model.fit(train_data,epochs=10,validation_data=validation_data)"
   ]
  },
  {
   "cell_type": "code",
   "execution_count": 23,
   "id": "b132ddde",
   "metadata": {
    "ExecuteTime": {
     "end_time": "2024-05-13T02:50:53.299541Z",
     "start_time": "2024-05-13T02:50:53.221415Z"
    }
   },
   "outputs": [
    {
     "name": "stdout",
     "output_type": "stream",
     "text": [
      "1/1 [==============================] - 0s 31ms/step\n"
     ]
    },
    {
     "data": {
      "text/plain": [
       "array([[0.8769645]], dtype=float32)"
      ]
     },
     "execution_count": 23,
     "metadata": {},
     "output_type": "execute_result"
    }
   ],
   "source": [
    "model.predict([\n",
    "  \"The movie was wonderful !!!\"\n",
    "])"
   ]
  },
  {
   "cell_type": "code",
   "execution_count": null,
   "id": "ad22a7b5",
   "metadata": {},
   "outputs": [],
   "source": []
  }
 ],
 "metadata": {
  "kernelspec": {
   "display_name": "Python 3 (ipykernel)",
   "language": "python",
   "name": "python3"
  },
  "language_info": {
   "codemirror_mode": {
    "name": "ipython",
    "version": 3
   },
   "file_extension": ".py",
   "mimetype": "text/x-python",
   "name": "python",
   "nbconvert_exporter": "python",
   "pygments_lexer": "ipython3",
   "version": "3.10.10"
  }
 },
 "nbformat": 4,
 "nbformat_minor": 5
}
