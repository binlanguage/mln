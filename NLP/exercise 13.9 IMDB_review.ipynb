{
 "cells": [
  {
   "cell_type": "code",
   "execution_count": 15,
   "id": "fdc4e3a4",
   "metadata": {
    "ExecuteTime": {
     "end_time": "2024-03-08T00:08:52.296514Z",
     "start_time": "2024-03-08T00:08:52.293514Z"
    }
   },
   "outputs": [],
   "source": [
    "# exercise 13.9\n",
    "#下载 Large Movie Review Dataset，它包含 50000 条 IMDB 的影评。数据分为两个目录，train和test，\n",
    "#每个包含 12500 条正面评价和 12500 条负面评价。每条评价都存在独立的文本文件中。\n",
    "\n",
    "import matplotlib.pyplot as plt\n",
    "import os\n",
    "import re\n",
    "import shutil\n",
    "import string\n",
    "import tensorflow as tf\n",
    "import keras\n",
    "import numpy as np\n",
    "import pandas as pd\n",
    "from tensorflow.keras import layers\n",
    "from tensorflow.keras import losses"
   ]
  },
  {
   "cell_type": "code",
   "execution_count": 17,
   "id": "b9e61f72",
   "metadata": {
    "ExecuteTime": {
     "end_time": "2024-03-08T00:09:00.975363Z",
     "start_time": "2024-03-08T00:09:00.970359Z"
    },
    "run_control": {
     "marked": true
    }
   },
   "outputs": [
    {
     "data": {
      "text/plain": [
       "['imdbEr.txt', 'imdb.vocab', 'test', 'train', 'README']"
      ]
     },
     "execution_count": 17,
     "metadata": {},
     "output_type": "execute_result"
    }
   ],
   "source": [
    "url = \"https://ai.stanford.edu/~amaas/data/sentiment/aclImdb_v1.tar.gz\"\n",
    "\n",
    "dataset = tf.keras.utils.get_file(\"aclImdb_v1\", url,\n",
    "                                    untar=True, cache_dir='.',\n",
    "                                    cache_subdir='')\n",
    "\n",
    "dataset_dir = os.path.join(os.path.dirname(dataset), 'aclImdb')\n",
    "\n",
    "#获取目录结构\n",
    "os.listdir(dataset_dir)\n"
   ]
  },
  {
   "cell_type": "code",
   "execution_count": 18,
   "id": "7fc5c053",
   "metadata": {
    "ExecuteTime": {
     "end_time": "2024-03-08T00:09:10.164333Z",
     "start_time": "2024-03-08T00:09:10.159324Z"
    }
   },
   "outputs": [
    {
     "data": {
      "text/plain": [
       "['labeledBow.feat',\n",
       " 'neg',\n",
       " 'unsupBow.feat',\n",
       " 'urls_pos.txt',\n",
       " 'pos',\n",
       " 'urls_neg.txt',\n",
       " 'urls_unsup.txt',\n",
       " 'unsup']"
      ]
     },
     "execution_count": 18,
     "metadata": {},
     "output_type": "execute_result"
    }
   ],
   "source": [
    "#train目录结构\n",
    "train_dir = os.path.join(dataset_dir, 'train')\n",
    "os.listdir(train_dir)"
   ]
  },
  {
   "cell_type": "code",
   "execution_count": 19,
   "id": "13ef33e8",
   "metadata": {
    "ExecuteTime": {
     "end_time": "2024-03-07T06:17:46.820130Z",
     "start_time": "2024-03-07T06:17:46.813134Z"
    }
   },
   "outputs": [
    {
     "name": "stdout",
     "output_type": "stream",
     "text": [
      "Rachel Griffiths writes and directs this award winning short film. A heartwarming story about coping with grief and cherishing the memory of those we've loved and lost. Although, only 15 minutes long, Griffiths manages to capture so much emotion and truth onto film in the short space of time. Bud Tingwell gives a touching performance as Will, a widower struggling to cope with his wife's death. Will is confronted by the harsh reality of loneliness and helplessness as he proceeds to take care of Ruth's pet cow, Tulip. The film displays the grief and responsibility one feels for those they have loved and lost. Good cinematography, great direction, and superbly acted. It will bring tears to all those who have lost a loved one, and survived.\n"
     ]
    }
   ],
   "source": [
    "#随机读取一条评论\n",
    "sample_file = os.path.join(train_dir, 'pos/1181_9.txt')\n",
    "with open(sample_file) as f:\n",
    "    print(f.read())"
   ]
  },
  {
   "cell_type": "code",
   "execution_count": 20,
   "id": "e0e54267",
   "metadata": {
    "ExecuteTime": {
     "end_time": "2024-03-07T06:19:42.184423Z",
     "start_time": "2024-03-07T06:19:42.045417Z"
    }
   },
   "outputs": [],
   "source": [
    "\n",
    "# 正面负面评论分别位于  aclImdb/train/pos 和 aclImdb/train/neg\n",
    "# 删除unsup \n",
    "remove_dir = os.path.join(train_dir, 'unsup')\n",
    "shutil.rmtree(remove_dir)\n"
   ]
  },
  {
   "cell_type": "code",
   "execution_count": 21,
   "id": "66be9329",
   "metadata": {
    "ExecuteTime": {
     "end_time": "2024-03-07T06:19:59.877917Z",
     "start_time": "2024-03-07T06:19:59.873916Z"
    }
   },
   "outputs": [
    {
     "data": {
      "text/plain": [
       "['labeledBow.feat',\n",
       " 'neg',\n",
       " 'unsupBow.feat',\n",
       " 'urls_pos.txt',\n",
       " 'pos',\n",
       " 'urls_neg.txt',\n",
       " 'urls_unsup.txt']"
      ]
     },
     "execution_count": 21,
     "metadata": {},
     "output_type": "execute_result"
    }
   ],
   "source": [
    "#没有unsup文件夹了\n",
    "os.listdir(train_dir)"
   ]
  },
  {
   "cell_type": "code",
   "execution_count": 22,
   "id": "e7d50331",
   "metadata": {
    "ExecuteTime": {
     "end_time": "2024-03-08T00:09:27.728753Z",
     "start_time": "2024-03-08T00:09:26.391187Z"
    }
   },
   "outputs": [
    {
     "name": "stdout",
     "output_type": "stream",
     "text": [
      "Found 25000 files belonging to 2 classes.\n",
      "Using 20000 files for training.\n"
     ]
    }
   ],
   "source": [
    "#文件夹有train test数据集，缺少valid数据集\n",
    "#通过validation_split 参数，使用 80:20 拆分训练数据来创建验证集。\n",
    "#使用 text_dataset_from_directory 工具进行二元分类，不同文件夹的文本即对应不同标签\n",
    "batch_size = 32\n",
    "seed = 42\n",
    "\n",
    "raw_train_ds = tf.keras.utils.text_dataset_from_directory(\n",
    "    train_dir, \n",
    "    batch_size=batch_size, \n",
    "    validation_split=0.2, \n",
    "    subset='training', \n",
    "    seed=seed)"
   ]
  },
  {
   "cell_type": "code",
   "execution_count": 17,
   "id": "d90e3c81",
   "metadata": {
    "ExecuteTime": {
     "end_time": "2024-03-07T06:26:01.477379Z",
     "start_time": "2024-03-07T06:26:01.219301Z"
    },
    "scrolled": true
   },
   "outputs": [
    {
     "name": "stdout",
     "output_type": "stream",
     "text": [
      "Review b'\"Pandemonium\" is a horror movie spoof that comes off more stupid than funny. Believe me when I tell you, I love comedies. Especially comedy spoofs. \"Airplane\", \"The Naked Gun\" trilogy, \"Blazing Saddles\", \"High Anxiety\", and \"Spaceballs\" are some of my favorite comedies that spoof a particular genre. \"Pandemonium\" is not up there with those films. Most of the scenes in this movie had me sitting there in stunned silence because the movie wasn\\'t all that funny. There are a few laughs in the film, but when you watch a comedy, you expect to laugh a lot more than a few times and that\\'s all this film has going for it. Geez, \"Scream\" had more laughs than this film and that was more of a horror film. How bizarre is that?<br /><br />*1/2 (out of four)'\n",
      "Label 0\n",
      "Review b\"David Mamet is a very interesting and a very un-equal director. His first movie 'House of Games' was the one I liked best, and it set a series of films with characters whose perspective of life changes as they get into complicated situations, and so does the perspective of the viewer.<br /><br />So is 'Homicide' which from the title tries to set the mind of the viewer to the usual crime drama. The principal characters are two cops, one Jewish and one Irish who deal with a racially charged area. The murder of an old Jewish shop owner who proves to be an ancient veteran of the Israeli Independence war triggers the Jewish identity in the mind and heart of the Jewish detective.<br /><br />This is were the flaws of the film are the more obvious. The process of awakening is theatrical and hard to believe, the group of Jewish militants is operatic, and the way the detective eventually walks to the final violent confrontation is pathetic. The end of the film itself is Mamet-like smart, but disappoints from a human emotional perspective.<br /><br />Joe Mantegna and William Macy give strong performances, but the flaws of the story are too evident to be easily compensated.\"\n",
      "Label 0\n",
      "Review b'Great documentary about the lives of NY firefighters during the worst terrorist attack of all time.. That reason alone is why this should be a must see collectors item.. What shocked me was not only the attacks, but the\"High Fat Diet\" and physical appearance of some of these firefighters. I think a lot of Doctors would agree with me that,in the physical shape they were in, some of these firefighters would NOT of made it to the 79th floor carrying over 60 lbs of gear. Having said that i now have a greater respect for firefighters and i realize becoming a firefighter is a life altering job. The French have a history of making great documentary\\'s and that is what this is, a Great Documentary.....'\n",
      "Label 1\n"
     ]
    }
   ],
   "source": [
    "#取一批raw_train 数据（32个），打印三个\n",
    "for text_batch, label_batch in raw_train_ds.take(1):\n",
    "    for i in range(3):\n",
    "        print(\"Review\", text_batch.numpy()[i])\n",
    "        print(\"Label\", label_batch.numpy()[i])"
   ]
  },
  {
   "cell_type": "code",
   "execution_count": 23,
   "id": "0141d1a7",
   "metadata": {
    "ExecuteTime": {
     "end_time": "2024-03-07T06:28:15.577461Z",
     "start_time": "2024-03-07T06:28:15.573460Z"
    }
   },
   "outputs": [
    {
     "data": {
      "text/plain": [
       "['neg', 'pos']"
      ]
     },
     "execution_count": 23,
     "metadata": {},
     "output_type": "execute_result"
    }
   ],
   "source": [
    "#通过文件名和label名，确定label 0 表示 neg，label 1 表示 pos\n",
    "raw_train_ds.class_names"
   ]
  },
  {
   "cell_type": "code",
   "execution_count": 24,
   "id": "5b53f597",
   "metadata": {
    "ExecuteTime": {
     "end_time": "2024-03-08T00:10:12.814097Z",
     "start_time": "2024-03-08T00:10:11.495886Z"
    }
   },
   "outputs": [
    {
     "name": "stdout",
     "output_type": "stream",
     "text": [
      "Found 25000 files belonging to 2 classes.\n",
      "Using 5000 files for validation.\n"
     ]
    }
   ],
   "source": [
    "#取验证集,确保和之前获取训练集函数使用一样的seed\n",
    "raw_val_ds = tf.keras.utils.text_dataset_from_directory(\n",
    "    train_dir, \n",
    "    batch_size=batch_size, \n",
    "    validation_split=0.2, \n",
    "    subset='validation', \n",
    "    seed=seed)"
   ]
  },
  {
   "cell_type": "code",
   "execution_count": 25,
   "id": "06a4ec43",
   "metadata": {
    "ExecuteTime": {
     "end_time": "2024-03-08T00:10:16.085551Z",
     "start_time": "2024-03-08T00:10:14.756472Z"
    }
   },
   "outputs": [
    {
     "name": "stdout",
     "output_type": "stream",
     "text": [
      "Found 25000 files belonging to 2 classes.\n"
     ]
    }
   ],
   "source": [
    "#测试集 25000个\n",
    "test_dir=os.path.join(dataset_dir,\"test\")\n",
    "raw_test_ds = tf.keras.utils.text_dataset_from_directory(\n",
    "    test_dir, \n",
    "    batch_size=batch_size)"
   ]
  },
  {
   "cell_type": "code",
   "execution_count": 26,
   "id": "519de24d",
   "metadata": {
    "ExecuteTime": {
     "end_time": "2024-03-08T00:10:17.993000Z",
     "start_time": "2024-03-08T00:10:17.988001Z"
    }
   },
   "outputs": [],
   "source": [
    "# 使用tf.keras.layers.TextVectorization 层对数据进行标准化、词例化和向量化\n",
    "# 为在训练和测试时间对数据进行相同的预处理，将 TextVectorization 层直接包含在模型中\n",
    "# 定义标准输入函数，处理大小写和换行符\n",
    "\n",
    "def custom_standardization(input_data):\n",
    "    lowercase = tf.strings.lower(input_data) #小写处理\n",
    "    stripped_html = tf.strings.regex_replace(lowercase, '<br />', ' ') #把<br /> 替换为空格\n",
    "    return tf.strings.regex_replace(stripped_html,\n",
    "                                    '[%s]' % re.escape(string.punctuation),'')\n",
    "\n",
    "#最后一行表示将所有标点符号正则转译为空符号"
   ]
  },
  {
   "cell_type": "code",
   "execution_count": 27,
   "id": "f21f2825",
   "metadata": {
    "ExecuteTime": {
     "end_time": "2024-03-08T00:11:07.604047Z",
     "start_time": "2024-03-08T00:11:07.597044Z"
    }
   },
   "outputs": [],
   "source": [
    "#创建一个 TextVectorization 层，该层对我们的数据进行标准化、词例化和向量化。\n",
    "#调用了之前定义的标准化函数\n",
    "#将 output_mode 设置为 int 以便为每个词例创建唯一的整数索引。\n",
    "\n",
    "max_features = 10000\n",
    "sequence_length = 250\n",
    "\n",
    "vectorize_layer = layers.TextVectorization(\n",
    "    standardize=custom_standardization,\n",
    "    max_tokens=max_features,\n",
    "    output_mode='int',\n",
    "    output_sequence_length=sequence_length)"
   ]
  },
  {
   "cell_type": "code",
   "execution_count": 28,
   "id": "7d3a1920",
   "metadata": {
    "ExecuteTime": {
     "end_time": "2024-03-08T00:11:25.544471Z",
     "start_time": "2024-03-08T00:11:11.043329Z"
    }
   },
   "outputs": [],
   "source": [
    "#调用 adapt 以使预处理层的状态适合数据集。使模型构建字符串到整数的索引。\n",
    "#对raw_train_ds 做map，去除标签\n",
    "train_text = raw_train_ds.map(lambda x, y: x)\n",
    "vectorize_layer.adapt(train_text)"
   ]
  },
  {
   "cell_type": "code",
   "execution_count": 29,
   "id": "b2b44b32",
   "metadata": {
    "ExecuteTime": {
     "end_time": "2024-03-08T00:13:57.763998Z",
     "start_time": "2024-03-08T00:13:57.524990Z"
    },
    "run_control": {
     "marked": true
    }
   },
   "outputs": [
    {
     "name": "stdout",
     "output_type": "stream",
     "text": [
      "Review tf.Tensor(b\"The 60\\xc2\\xb4s is a well balanced mini series between historical facts and a good plot. In four deliveries, we follow a north American family, with 3 members. But we don't only see them. We also follow the story of several characters as a black reverend, an extremist student leader, and a soldier in Vietnam. The filmography is just extraordinary. In the first chapters, we see some shots of the Vietnam war, in between the scenes. The next chapter, doesn't start where the last one finished, it starts some time after, giving us a little mystery on what happened. In general, The 60\\xc2\\xb4s mini series, is a must see, not only for hippies fanatics, but for everyone with little curiosity about the topic.\", shape=(), dtype=string)\n",
      "Label pos\n"
     ]
    }
   ],
   "source": [
    "#创建一个函数来查看使用该层预处理一些数据的结果\n",
    "def vectorize_text(text, label):\n",
    "    text = tf.expand_dims(text, -1) #原始数据加一个维度\n",
    "    return vectorize_layer(text), label #多出来的维度就是label\n",
    "\n",
    "#每次执行下一个batch ，32个review加label\n",
    "text_batch, label_batch = next(iter(raw_train_ds))\n",
    "first_review, first_label = text_batch[0], label_batch[0]\n",
    "print(\"Review\", first_review)\n",
    "print(\"Label\", raw_train_ds.class_names[first_label])\n"
   ]
  },
  {
   "cell_type": "code",
   "execution_count": 30,
   "id": "050cf7a4",
   "metadata": {
    "ExecuteTime": {
     "end_time": "2024-03-07T07:03:38.822905Z",
     "start_time": "2024-03-07T07:03:38.814904Z"
    }
   },
   "outputs": [
    {
     "name": "stdout",
     "output_type": "stream",
     "text": [
      "Vectorized review (<tf.Tensor: shape=(1, 250), dtype=int64, numpy=\n",
      "array([[   2,    1,    7,    4,   73, 7844, 4199,  200,  188, 1397, 2232,\n",
      "           3,    4,   49,  111,    8,  695,    1,   71,  821,    4, 2324,\n",
      "         312,  215,   16,  452, 1038,   18,   71,   89,   61,   67,   93,\n",
      "          71,   77,  821,    2,   63,    5,  440,  100,   14,    4,  321,\n",
      "           1,   33,    1, 1528, 2032,    3,    4, 1560,    8, 2503,    2,\n",
      "        7382,    7,   40, 2735,    8,    2,   83, 9141,   71,   67,   46,\n",
      "         647,    5,    2, 2503,  329,    8,  188,    2,  136,    2,  357,\n",
      "        4745,  144,  368,  114,    2,  229,   28, 1752,    9,  501,   46,\n",
      "          58,  101,  725,  167,    4,  112,  743,   20,   48,  553,    8,\n",
      "         776,    2,    1, 4199,  200,    7,    4,  219,   67,   21,   61,\n",
      "          15, 6115, 9349,   18,   15,  302,   16,  112, 3496,   42,    2,\n",
      "        2936,    0,    0,    0,    0,    0,    0,    0,    0,    0,    0,\n",
      "           0,    0,    0,    0,    0,    0,    0,    0,    0,    0,    0,\n",
      "           0,    0,    0,    0,    0,    0,    0,    0,    0,    0,    0,\n",
      "           0,    0,    0,    0,    0,    0,    0,    0,    0,    0,    0,\n",
      "           0,    0,    0,    0,    0,    0,    0,    0,    0,    0,    0,\n",
      "           0,    0,    0,    0,    0,    0,    0,    0,    0,    0,    0,\n",
      "           0,    0,    0,    0,    0,    0,    0,    0,    0,    0,    0,\n",
      "           0,    0,    0,    0,    0,    0,    0,    0,    0,    0,    0,\n",
      "           0,    0,    0,    0,    0,    0,    0,    0,    0,    0,    0,\n",
      "           0,    0,    0,    0,    0,    0,    0,    0,    0,    0,    0,\n",
      "           0,    0,    0,    0,    0,    0,    0,    0,    0,    0,    0,\n",
      "           0,    0,    0,    0,    0,    0,    0,    0]])>, <tf.Tensor: shape=(), dtype=int32, numpy=1>)\n"
     ]
    }
   ],
   "source": [
    "print(\"Vectorized review\", vectorize_text(first_review, first_label))"
   ]
  },
  {
   "cell_type": "code",
   "execution_count": 31,
   "id": "9255628d",
   "metadata": {
    "ExecuteTime": {
     "end_time": "2024-03-07T07:04:46.379384Z",
     "start_time": "2024-03-07T07:04:46.359386Z"
    }
   },
   "outputs": [
    {
     "data": {
      "text/plain": [
       "'silent'"
      ]
     },
     "execution_count": 31,
     "metadata": {},
     "output_type": "execute_result"
    }
   ],
   "source": [
    "#该层上调用 .get_vocabulary() 来查找每个整数对应的词例（字符串）\n",
    "vectorize_layer.get_vocabulary()[1287]"
   ]
  },
  {
   "cell_type": "code",
   "execution_count": 32,
   "id": "f5fb192d",
   "metadata": {
    "ExecuteTime": {
     "end_time": "2024-03-07T07:05:24.817453Z",
     "start_time": "2024-03-07T07:05:24.796453Z"
    }
   },
   "outputs": [
    {
     "data": {
      "text/plain": [
       "10000"
      ]
     },
     "execution_count": 32,
     "metadata": {},
     "output_type": "execute_result"
    }
   ],
   "source": [
    "#一共一万个词汇，对应vectorize_layer 的max_feature\n",
    "len(vectorize_layer.get_vocabulary())"
   ]
  },
  {
   "cell_type": "code",
   "execution_count": 33,
   "id": "5d567547",
   "metadata": {
    "ExecuteTime": {
     "end_time": "2024-03-08T00:16:20.619077Z",
     "start_time": "2024-03-08T00:16:20.502069Z"
    }
   },
   "outputs": [],
   "source": [
    "#转换训练集，验证集，测试集\n",
    "\n",
    "train_ds = raw_train_ds.map(vectorize_text)\n",
    "val_ds = raw_val_ds.map(vectorize_text)\n",
    "test_ds = raw_test_ds.map(vectorize_text)"
   ]
  },
  {
   "cell_type": "code",
   "execution_count": 34,
   "id": "1851e19c",
   "metadata": {
    "ExecuteTime": {
     "end_time": "2024-03-08T00:16:22.894166Z",
     "start_time": "2024-03-08T00:16:22.886163Z"
    },
    "run_control": {
     "marked": false
    }
   },
   "outputs": [],
   "source": [
    "#加buffersize，将数据保存在可用内存中\n",
    "\n",
    "AUTOTUNE = tf.data.AUTOTUNE\n",
    "\n",
    "train_ds = train_ds.cache().prefetch(buffer_size=AUTOTUNE)\n",
    "val_ds = val_ds.cache().prefetch(buffer_size=AUTOTUNE)\n",
    "test_ds = test_ds.cache().prefetch(buffer_size=AUTOTUNE)"
   ]
  },
  {
   "cell_type": "code",
   "execution_count": 35,
   "id": "12e3ca36",
   "metadata": {
    "ExecuteTime": {
     "end_time": "2024-03-08T01:37:35.935426Z",
     "start_time": "2024-03-08T01:37:35.892421Z"
    }
   },
   "outputs": [
    {
     "name": "stdout",
     "output_type": "stream",
     "text": [
      "Model: \"sequential\"\n",
      "_________________________________________________________________\n",
      " Layer (type)                Output Shape              Param #   \n",
      "=================================================================\n",
      " embedding (Embedding)       (None, None, 16)          160016    \n",
      "                                                                 \n",
      " dropout (Dropout)           (None, None, 16)          0         \n",
      "                                                                 \n",
      " global_average_pooling1d (  (None, 16)                0         \n",
      " GlobalAveragePooling1D)                                         \n",
      "                                                                 \n",
      " dropout_1 (Dropout)         (None, 16)                0         \n",
      "                                                                 \n",
      " dense (Dense)               (None, 1)                 17        \n",
      "                                                                 \n",
      "=================================================================\n",
      "Total params: 160033 (625.13 KB)\n",
      "Trainable params: 160033 (625.13 KB)\n",
      "Non-trainable params: 0 (0.00 Byte)\n",
      "_________________________________________________________________\n"
     ]
    }
   ],
   "source": [
    "#创建模型\n",
    "#Embedding 层。此层采用整数编码的评论，并查找每个单词索引的嵌入向量。\n",
    "#这些向量是通过模型训练学习到的。向量向输出数组增加了一个维度\n",
    "#得到的维度为：(batch, sequence, embedding)\n",
    "\n",
    "#GlobalAveragePooling1D 将通过对序列维度求平均值来为每个样本返回一个定长输出向量\n",
    "#这允许模型以尽可能最简单的方式处理变长输入\n",
    "\n",
    "embedding_dim = 16\n",
    "model = tf.keras.Sequential([\n",
    "    layers.Embedding(max_features + 1, embedding_dim),\n",
    "    layers.Dropout(0.2),\n",
    "    layers.GlobalAveragePooling1D(),\n",
    "    layers.Dropout(0.2),\n",
    "    layers.Dense(1)\n",
    "])\n",
    "model.summary()"
   ]
  },
  {
   "cell_type": "code",
   "execution_count": 39,
   "id": "d444229f",
   "metadata": {
    "ExecuteTime": {
     "end_time": "2024-03-08T01:44:41.385294Z",
     "start_time": "2024-03-08T01:43:54.005755Z"
    },
    "scrolled": true
   },
   "outputs": [
    {
     "name": "stdout",
     "output_type": "stream",
     "text": [
      "Epoch 1/100\n",
      "625/625 [==============================] - 36s 56ms/step - loss: 0.1575 - binary_accuracy: 0.8467 - val_loss: 0.5682 - val_binary_accuracy: 0.8132\n",
      "Epoch 2/100\n",
      "625/625 [==============================] - 9s 15ms/step - loss: 0.1529 - binary_accuracy: 0.8632 - val_loss: 0.6082 - val_binary_accuracy: 0.8090\n",
      "Epoch 3/100\n",
      "625/625 [==============================] - 9s 15ms/step - loss: 0.1426 - binary_accuracy: 0.8724 - val_loss: 0.6572 - val_binary_accuracy: 0.8124\n",
      "Epoch 4/100\n",
      "625/625 [==============================] - 10s 15ms/step - loss: 0.1317 - binary_accuracy: 0.8773 - val_loss: 0.6930 - val_binary_accuracy: 0.8226\n",
      "Epoch 5/100\n",
      "625/625 [==============================] - 10s 15ms/step - loss: 0.1305 - binary_accuracy: 0.8816 - val_loss: 0.7276 - val_binary_accuracy: 0.8214\n",
      "Epoch 6/100\n",
      "625/625 [==============================] - 10s 15ms/step - loss: 0.1271 - binary_accuracy: 0.8888 - val_loss: 0.7420 - val_binary_accuracy: 0.8272\n",
      "Epoch 7/100\n",
      "625/625 [==============================] - 10s 15ms/step - loss: 0.1197 - binary_accuracy: 0.8914 - val_loss: 0.7705 - val_binary_accuracy: 0.8306\n",
      "Epoch 8/100\n",
      "625/625 [==============================] - 9s 15ms/step - loss: 0.1166 - binary_accuracy: 0.8968 - val_loss: 0.8153 - val_binary_accuracy: 0.8282\n",
      "Epoch 9/100\n",
      "625/625 [==============================] - 9s 15ms/step - loss: 0.1093 - binary_accuracy: 0.9046 - val_loss: 0.8439 - val_binary_accuracy: 0.8372\n",
      "Epoch 10/100\n",
      "625/625 [==============================] - 9s 15ms/step - loss: 0.1031 - binary_accuracy: 0.9081 - val_loss: 0.8715 - val_binary_accuracy: 0.8372\n",
      "Epoch 11/100\n",
      "625/625 [==============================] - 9s 15ms/step - loss: 0.1013 - binary_accuracy: 0.9140 - val_loss: 0.9128 - val_binary_accuracy: 0.8432\n",
      "Epoch 12/100\n",
      "625/625 [==============================] - 9s 15ms/step - loss: 0.1037 - binary_accuracy: 0.9149 - val_loss: 0.9480 - val_binary_accuracy: 0.8408\n",
      "Epoch 13/100\n",
      "625/625 [==============================] - 10s 15ms/step - loss: 0.0988 - binary_accuracy: 0.9204 - val_loss: 0.9860 - val_binary_accuracy: 0.8410\n",
      "Epoch 14/100\n",
      "625/625 [==============================] - 9s 15ms/step - loss: 0.1055 - binary_accuracy: 0.9221 - val_loss: 1.0462 - val_binary_accuracy: 0.8526\n",
      "Epoch 15/100\n",
      "625/625 [==============================] - 9s 15ms/step - loss: 0.1404 - binary_accuracy: 0.9162 - val_loss: 1.0284 - val_binary_accuracy: 0.8444\n",
      "Epoch 16/100\n",
      "625/625 [==============================] - 9s 15ms/step - loss: 0.1014 - binary_accuracy: 0.9280 - val_loss: 1.0327 - val_binary_accuracy: 0.8448\n",
      "Epoch 17/100\n",
      "625/625 [==============================] - 9s 15ms/step - loss: 0.1085 - binary_accuracy: 0.9302 - val_loss: 1.0283 - val_binary_accuracy: 0.8416\n",
      "Epoch 18/100\n",
      "625/625 [==============================] - 10s 15ms/step - loss: 0.0910 - binary_accuracy: 0.9299 - val_loss: 1.0308 - val_binary_accuracy: 0.8380\n",
      "Epoch 19/100\n",
      "625/625 [==============================] - 10s 15ms/step - loss: 0.0878 - binary_accuracy: 0.9311 - val_loss: 1.0392 - val_binary_accuracy: 0.8418\n",
      "Epoch 20/100\n",
      "625/625 [==============================] - 9s 15ms/step - loss: 0.0832 - binary_accuracy: 0.9331 - val_loss: 1.0713 - val_binary_accuracy: 0.8394\n",
      "Epoch 21/100\n",
      "625/625 [==============================] - 9s 15ms/step - loss: 0.0818 - binary_accuracy: 0.9338 - val_loss: 1.1063 - val_binary_accuracy: 0.8430\n",
      "Epoch 22/100\n",
      "625/625 [==============================] - 10s 15ms/step - loss: 0.0777 - binary_accuracy: 0.9366 - val_loss: 1.0983 - val_binary_accuracy: 0.8448\n",
      "Epoch 23/100\n",
      "625/625 [==============================] - 9s 15ms/step - loss: 0.0768 - binary_accuracy: 0.9383 - val_loss: 1.1276 - val_binary_accuracy: 0.8412\n",
      "Epoch 24/100\n",
      "625/625 [==============================] - 10s 15ms/step - loss: 0.0759 - binary_accuracy: 0.9414 - val_loss: 1.1465 - val_binary_accuracy: 0.8444\n"
     ]
    }
   ],
   "source": [
    "keras.backend.clear_session()\n",
    "tf.random.set_seed(42)\n",
    "np.random.seed(42)\n",
    " \n",
    "optimizer = keras.optimizers.Nadam()\n",
    "\n",
    "model.compile(loss=losses.BinaryCrossentropy(from_logits=False), #二元交叉熵\n",
    "              optimizer=optimizer,\n",
    "              metrics=tf.metrics.BinaryAccuracy(threshold=0.0))\n",
    "    \n",
    "early_stopping_cb = keras.callbacks.EarlyStopping(monitor=\"val_binary_accuracy\",patience=10,restore_best_weights=True)\n",
    "\n",
    "callbacks = [early_stopping_cb]\n",
    "\n",
    "epochs = 100\n",
    "history = model.fit(\n",
    "    train_ds,\n",
    "    validation_data=val_ds,\n",
    "    epochs=epochs, callbacks=callbacks)"
   ]
  },
  {
   "cell_type": "code",
   "execution_count": 40,
   "id": "1b90d027",
   "metadata": {
    "ExecuteTime": {
     "end_time": "2024-03-08T01:44:57.056525Z",
     "start_time": "2024-03-08T01:44:56.191405Z"
    }
   },
   "outputs": [
    {
     "data": {
      "image/png": "[encoded data removed]",
      "text/plain": [
       "<Figure size 640x480 with 1 Axes>"
      ]
     },
     "metadata": {},
     "output_type": "display_data"
    },
    {
     "name": "stdout",
     "output_type": "stream",
     "text": [
      "782/782 - 4s - loss: 1.2411 - binary_accuracy: 0.8349 - 4s/epoch - 5ms/step\n"
     ]
    },
    {
     "data": {
      "text/plain": [
       "[1.2410783767700195, 0.8349199891090393]"
      ]
     },
     "execution_count": 40,
     "metadata": {},
     "output_type": "execute_result"
    }
   ],
   "source": [
    "pd.DataFrame(history.history).plot() \n",
    "plt.grid(True)\n",
    "plt.show()\n",
    "model.evaluate(test_ds,verbose=2)"
   ]
  },
  {
   "cell_type": "code",
   "execution_count": 41,
   "id": "0e1a956e",
   "metadata": {
    "ExecuteTime": {
     "end_time": "2024-03-07T07:53:11.209568Z",
     "start_time": "2024-03-07T07:52:52.877500Z"
    }
   },
   "outputs": [
    {
     "name": "stdout",
     "output_type": "stream",
     "text": [
      "782/782 [==============================] - 6s 8ms/step - loss: 0.4075 - accuracy: 0.8349\n"
     ]
    },
    {
     "data": {
      "text/plain": [
       "[0.407532274723053, 0.8349199891090393]"
      ]
     },
     "execution_count": 41,
     "metadata": {},
     "output_type": "execute_result"
    }
   ],
   "source": [
    "#原有模型基础上，改造为能直接处理原始字符的模型\n",
    "#将vectorize_layer加入原有模型的最上层\n",
    "\n",
    "export_model = tf.keras.Sequential([\n",
    "    vectorize_layer,\n",
    "    model,\n",
    "    layers.Activation('sigmoid')\n",
    "])\n",
    "\n",
    "\n",
    "# bce 概率值值域范围 [0, 1]\n",
    "#则应该设置为 from_logits=False，否则设置为True\n",
    "\n",
    "export_model.compile(\n",
    "    loss=losses.BinaryCrossentropy(from_logits=False), optimizer=\"nadam\", metrics=['accuracy']\n",
    ")\n",
    "\n",
    "# 直接评估，无需拟合，使用raw数据集\n",
    "export_model.evaluate(raw_test_ds)\n"
   ]
  },
  {
   "cell_type": "code",
   "execution_count": 43,
   "id": "432d0881",
   "metadata": {
    "ExecuteTime": {
     "end_time": "2024-03-07T08:07:00.243824Z",
     "start_time": "2024-03-07T08:07:00.132817Z"
    },
    "scrolled": true
   },
   "outputs": [
    {
     "name": "stdout",
     "output_type": "stream",
     "text": [
      "1/1 [==============================] - 0s 31ms/step\n"
     ]
    },
    {
     "data": {
      "text/plain": [
       "array([[0.64414287],\n",
       "       [0.56766653],\n",
       "       [0.54935235]], dtype=float32)"
      ]
     },
     "execution_count": 43,
     "metadata": {},
     "output_type": "execute_result"
    }
   ],
   "source": [
    "examples = [\n",
    "  \"The movie was great!\",\n",
    "  \"The movie was okay.\",\n",
    "  \"The movie was terrible...\"\n",
    "]\n",
    "\n",
    "export_model.predict(examples)"
   ]
  },
  {
   "cell_type": "markdown",
   "id": "e9e1366c",
   "metadata": {},
   "source": [
    "## TF HUB"
   ]
  },
  {
   "cell_type": "code",
   "execution_count": 3,
   "id": "91339ebf",
   "metadata": {
    "ExecuteTime": {
     "end_time": "2024-03-07T08:59:28.348477Z",
     "start_time": "2024-03-07T08:59:27.514254Z"
    }
   },
   "outputs": [
    {
     "name": "stderr",
     "output_type": "stream",
     "text": [
      "/tmp/tf-venv/lib/python3.10/site-packages/tqdm/auto.py:21: TqdmWarning: IProgress not found. Please update jupyter and ipywidgets. See https://ipywidgets.readthedocs.io/en/stable/user_install.html\n",
      "  from .autonotebook import tqdm as notebook_tqdm\n"
     ]
    }
   ],
   "source": [
    "#用TF_hub 处理embedding \n",
    "\n",
    "import os\n",
    "import numpy as np\n",
    "\n",
    "import tensorflow as tf\n",
    "import tensorflow_hub as hub\n",
    "import tensorflow_datasets as tfds"
   ]
  },
  {
   "cell_type": "code",
   "execution_count": 4,
   "id": "3f82fbae",
   "metadata": {
    "ExecuteTime": {
     "end_time": "2024-03-07T08:59:29.325134Z",
     "start_time": "2024-03-07T08:59:29.318133Z"
    }
   },
   "outputs": [
    {
     "name": "stdout",
     "output_type": "stream",
     "text": [
      "GPU is available\n"
     ]
    },
    {
     "name": "stderr",
     "output_type": "stream",
     "text": [
      "2024-05-09 19:16:09.668513: I external/local_xla/xla/stream_executor/cuda/cuda_executor.cc:887] could not open file to read NUMA node: /sys/bus/pci/devices/0000:01:00.0/numa_node\n",
      "Your kernel may have been built without NUMA support.\n",
      "2024-05-09 19:16:10.928714: I external/local_xla/xla/stream_executor/cuda/cuda_executor.cc:887] could not open file to read NUMA node: /sys/bus/pci/devices/0000:01:00.0/numa_node\n",
      "Your kernel may have been built without NUMA support.\n",
      "2024-05-09 19:16:10.929886: I external/local_xla/xla/stream_executor/cuda/cuda_executor.cc:887] could not open file to read NUMA node: /sys/bus/pci/devices/0000:01:00.0/numa_node\n",
      "Your kernel may have been built without NUMA support.\n"
     ]
    }
   ],
   "source": [
    "print(\"GPU is\", \"available\" if tf.config.list_physical_devices(\"GPU\") else \"NOT AVAILABLE\")"
   ]
  },
  {
   "cell_type": "code",
   "execution_count": 5,
   "id": "bfc11903",
   "metadata": {
    "ExecuteTime": {
     "end_time": "2024-03-08T00:19:51.536814Z",
     "start_time": "2024-03-08T00:19:51.417805Z"
    }
   },
   "outputs": [
    {
     "name": "stderr",
     "output_type": "stream",
     "text": [
      "2024-05-09 19:16:16.093878: I external/local_xla/xla/stream_executor/cuda/cuda_executor.cc:887] could not open file to read NUMA node: /sys/bus/pci/devices/0000:01:00.0/numa_node\n",
      "Your kernel may have been built without NUMA support.\n",
      "2024-05-09 19:16:16.094754: I external/local_xla/xla/stream_executor/cuda/cuda_executor.cc:887] could not open file to read NUMA node: /sys/bus/pci/devices/0000:01:00.0/numa_node\n",
      "Your kernel may have been built without NUMA support.\n",
      "2024-05-09 19:16:16.095639: I external/local_xla/xla/stream_executor/cuda/cuda_executor.cc:887] could not open file to read NUMA node: /sys/bus/pci/devices/0000:01:00.0/numa_node\n",
      "Your kernel may have been built without NUMA support.\n",
      "2024-05-09 19:16:20.546849: I external/local_xla/xla/stream_executor/cuda/cuda_executor.cc:887] could not open file to read NUMA node: /sys/bus/pci/devices/0000:01:00.0/numa_node\n",
      "Your kernel may have been built without NUMA support.\n",
      "2024-05-09 19:16:20.547629: I external/local_xla/xla/stream_executor/cuda/cuda_executor.cc:887] could not open file to read NUMA node: /sys/bus/pci/devices/0000:01:00.0/numa_node\n",
      "Your kernel may have been built without NUMA support.\n",
      "2024-05-09 19:16:20.547645: I tensorflow/core/common_runtime/gpu/gpu_device.cc:2022] Could not identify NUMA node of platform GPU id 0, defaulting to 0.  Your kernel may not have been built with NUMA support.\n",
      "2024-05-09 19:16:20.548453: I external/local_xla/xla/stream_executor/cuda/cuda_executor.cc:887] could not open file to read NUMA node: /sys/bus/pci/devices/0000:01:00.0/numa_node\n",
      "Your kernel may have been built without NUMA support.\n",
      "2024-05-09 19:16:20.548493: I tensorflow/core/common_runtime/gpu/gpu_device.cc:1929] Created device /job:localhost/replica:0/task:0/device:GPU:0 with 5383 MB memory:  -> device: 0, name: NVIDIA GeForce RTX 3070 Ti, pci bus id: 0000:01:00.0, compute capability: 8.6\n",
      "WARNING:absl:options.experimental_threading is deprecated. Use options.threading instead.\n",
      "WARNING:absl:options.experimental_threading is deprecated. Use options.threading instead.\n",
      "WARNING:absl:options.experimental_threading is deprecated. Use options.threading instead.\n",
      "WARNING:absl:options.experimental_threading is deprecated. Use options.threading instead.\n",
      "WARNING:absl:options.experimental_threading is deprecated. Use options.threading instead.\n",
      "WARNING:absl:options.experimental_threading is deprecated. Use options.threading instead.\n"
     ]
    }
   ],
   "source": [
    "#使用标准数据集\n",
    "\n",
    "train_data, validation_data, test_data = tfds.load(\n",
    "    name=\"imdb_reviews\", \n",
    "    split=('train[:60%]', 'train[60%:]', 'test'),\n",
    "    as_supervised=True)"
   ]
  },
  {
   "cell_type": "code",
   "execution_count": 6,
   "id": "1dad4ef3",
   "metadata": {
    "ExecuteTime": {
     "end_time": "2024-03-07T08:59:33.424717Z",
     "start_time": "2024-03-07T08:59:33.359713Z"
    }
   },
   "outputs": [],
   "source": [
    "train_examples_batch, train_labels_batch = next(iter(train_data.batch(10)))\n",
    "train_labels_batch\n",
    "\n",
    "AUTOTUNE = tf.data.AUTOTUNE\n",
    "\n",
    "train_data = train_data.cache().prefetch(buffer_size=AUTOTUNE)\n",
    "validation_data = validation_data.cache().prefetch(buffer_size=AUTOTUNE)\n",
    "test_data = test_data.cache().prefetch(buffer_size=AUTOTUNE)"
   ]
  },
  {
   "cell_type": "markdown",
   "id": "db925c16",
   "metadata": {},
   "source": [
    "google/nnlm-en-dim50/2 可将句子拆分为词例，嵌入每个词例，然后组合嵌入向量\n",
    "\n",
    "google/nnlm-en-dim128/2 - 基于与 google/nnlm-en-dim50/2 相同的数据并使用相同的 NNLM 架构进行训练，但具有更大的嵌入向量维度。\n",
    "\n",
    "google/nnlm-en-dim128-with-normalization/2 - 与 google/nnlm-en-dim128/2 相同，但具有额外的文本归一化，例如移除标点符号。如果文本包含附加字符或标点符号，这会有所帮助。\n",
    "\n",
    "google/universal-sentence-encoder/4 - 一个可产生 512 维嵌入向量的大得多的模型，使用深度平均网络 (DAN) 编码器训练。\n",
    "\n",
    "embeding更大维度的嵌入向量可以改进任务，但可能需要更长的时间来训练模型。"
   ]
  },
  {
   "cell_type": "code",
   "execution_count": 8,
   "id": "7b09ec43",
   "metadata": {
    "ExecuteTime": {
     "end_time": "2024-03-07T09:14:04.568664Z",
     "start_time": "2024-03-07T09:14:03.932624Z"
    },
    "scrolled": true
   },
   "outputs": [
    {
     "name": "stderr",
     "output_type": "stream",
     "text": [
      "2024-05-09 19:17:33.046073: I external/local_tsl/tsl/platform/default/subprocess.cc:304] Start cannot spawn child process: No such file or directory\n"
     ]
    },
    {
     "data": {
      "text/plain": [
       "<tf.Tensor: shape=(3, 128), dtype=float32, numpy=\n",
       "array([[ 1.15015066e+00,  7.80130103e-02,  9.26615447e-02,\n",
       "         2.83361435e-01,  9.67164431e-03, -1.49186060e-01,\n",
       "         3.35665733e-01, -3.50244790e-01, -8.28830618e-03,\n",
       "        -1.87714081e-02, -3.33069824e-02, -6.33094192e-01,\n",
       "        -3.75421256e-01, -2.77732849e-01, -9.66175571e-02,\n",
       "         1.72553629e-01, -1.33676574e-01,  3.80765870e-02,\n",
       "        -2.75138199e-01,  4.94762301e-01,  3.93051840e-02,\n",
       "         1.34496227e-01, -2.70728230e-01,  1.78942848e-02,\n",
       "        -2.41071522e-01,  2.71089785e-02,  1.02333419e-01,\n",
       "        -1.06628530e-01,  5.24298586e-02,  1.19170472e-01,\n",
       "        -6.67077256e-03,  3.39231521e-01,  1.13014966e-01,\n",
       "         1.06842585e-01,  3.91571134e-01, -1.89536288e-01,\n",
       "        -1.74000353e-01, -1.06444150e-01, -1.34200439e-01,\n",
       "         1.73583925e-01, -2.77695060e-01, -4.33591381e-02,\n",
       "        -3.91500629e-02, -1.98340893e-01,  2.74854712e-02,\n",
       "         2.76702970e-01,  1.40702844e-01, -3.14256102e-01,\n",
       "         2.47569270e-02, -1.67308271e-01,  8.21740180e-02,\n",
       "        -9.56841931e-02, -2.57335782e-01,  3.72914791e-01,\n",
       "        -2.21059948e-01, -2.14436904e-01, -5.83256371e-02,\n",
       "         1.50036931e-01, -1.67723849e-01, -8.02809969e-02,\n",
       "        -2.11373478e-01, -3.98310134e-03,  6.34767562e-02,\n",
       "         6.65169135e-02,  9.25245956e-02,  1.13278836e-01,\n",
       "        -1.00958914e-01, -2.20176265e-01,  3.49875271e-01,\n",
       "         4.98270988e-02, -1.59279123e-01,  2.82199979e-01,\n",
       "         4.36919406e-02,  1.83730368e-02, -7.30237504e-03,\n",
       "         1.22521020e-01, -5.63407578e-02, -2.07715452e-01,\n",
       "        -2.37706840e-01,  1.89738169e-01,  1.00460403e-01,\n",
       "        -2.07205519e-01, -2.70957381e-01,  3.19231898e-02,\n",
       "        -5.62466234e-02,  3.81587483e-02, -1.47694111e-01,\n",
       "         1.41778007e-01,  9.03146207e-01,  8.36536646e-01,\n",
       "        -2.31574401e-01,  2.83275247e-01,  1.09397285e-01,\n",
       "        -2.45359987e-01,  8.62814263e-02,  2.20005468e-01,\n",
       "         1.32306606e-01,  1.03527168e-02,  1.06135800e-01,\n",
       "        -5.05982805e-03, -4.26607914e-02, -1.62250139e-02,\n",
       "         3.30362767e-01,  2.33826548e-01,  9.50708613e-02,\n",
       "        -3.50534409e-01, -1.20180815e-01,  6.44739494e-02,\n",
       "        -2.22685337e-01,  7.50750676e-02, -2.80554742e-01,\n",
       "        -1.96979865e-02, -2.63545483e-01, -3.05303425e-01,\n",
       "        -4.47771885e-02, -2.46705145e-01,  1.19343020e-01,\n",
       "         8.74264613e-02, -2.25616526e-02,  1.70262560e-01,\n",
       "         7.61279315e-02, -3.06843042e-01, -5.01325391e-02,\n",
       "         3.45908701e-01, -1.52095477e-03, -2.55828023e-01,\n",
       "         1.65855348e-01, -2.58007646e-02],\n",
       "       [ 1.52354681e+00,  3.32376845e-02,  1.66283786e-01,\n",
       "         3.49779069e-01,  1.16703980e-01, -1.37402400e-01,\n",
       "         2.24335313e-01, -2.52213806e-01,  6.18566684e-02,\n",
       "         1.49286509e-01,  2.26167157e-01, -4.01730150e-01,\n",
       "        -3.85119438e-01, -1.24227524e-01, -2.31498361e-01,\n",
       "         1.82310224e-01, -8.79664347e-02, -3.30210887e-02,\n",
       "        -3.57700974e-01,  6.12851739e-01,  2.80654997e-01,\n",
       "         1.88463345e-01, -9.48799923e-02, -6.51391596e-03,\n",
       "        -4.95846197e-02, -1.12557530e-01,  2.30208546e-01,\n",
       "        -2.94450019e-02, -1.71247810e-01,  5.84451742e-02,\n",
       "        -7.85206407e-02,  1.85191795e-01,  1.74413934e-01,\n",
       "         4.44407575e-02,  2.35947460e-01,  7.82060176e-02,\n",
       "        -1.22543544e-01, -4.02029991e-01,  3.57941315e-02,\n",
       "         2.91599393e-01, -1.16091929e-01, -5.04460782e-02,\n",
       "        -1.24564804e-02, -1.52101457e-01,  4.88304086e-02,\n",
       "         2.45040268e-01,  1.88039511e-01,  5.93084991e-02,\n",
       "        -1.52169779e-01,  1.44652352e-01,  1.41917989e-01,\n",
       "         1.01835154e-01, -6.39419258e-02,  1.74528375e-01,\n",
       "        -3.32837850e-01, -2.24371374e-01, -1.61553305e-02,\n",
       "        -5.11539355e-02,  2.01643839e-01,  7.71175101e-02,\n",
       "        -1.81447983e-01,  7.32667968e-02,  2.72182435e-01,\n",
       "        -1.49451241e-01, -4.97367680e-02,  7.49207288e-02,\n",
       "         5.87207219e-03, -1.47187814e-01,  2.22975716e-01,\n",
       "        -1.18601754e-01, -3.09471488e-01,  1.94988668e-01,\n",
       "         4.72114161e-02, -1.37738690e-01, -1.47181541e-01,\n",
       "         1.92691281e-01, -2.37557683e-02, -3.08101147e-01,\n",
       "         6.72790557e-02,  8.87041166e-02,  2.61804104e-01,\n",
       "        -4.71980534e-02,  5.65208010e-02, -4.13714685e-02,\n",
       "         9.23642050e-03, -6.09218925e-02, -4.92727429e-01,\n",
       "         1.33994892e-01,  1.11824167e+00,  5.58933198e-01,\n",
       "        -3.65284905e-02,  1.47231638e-01, -4.77895103e-02,\n",
       "        -1.74497068e-01,  1.81616247e-01,  8.93370286e-02,\n",
       "         1.38356417e-01, -1.68069720e-01, -7.78260604e-02,\n",
       "         8.74290168e-02,  1.35343811e-02,  6.48171380e-02,\n",
       "         3.71694893e-01,  9.74644721e-02,  6.03579469e-02,\n",
       "        -1.52941838e-01, -2.27041915e-01,  1.17899261e-01,\n",
       "        -3.28250021e-01,  1.63627818e-01, -5.73002875e-01,\n",
       "        -2.16464903e-02, -2.74008632e-01, -2.00568393e-01,\n",
       "        -4.26811650e-02, -4.34408396e-01, -4.22911607e-02,\n",
       "        -8.21549166e-03, -1.38496226e-02,  9.50264409e-02,\n",
       "         2.34699517e-01, -2.57590443e-01,  1.18056901e-01,\n",
       "         1.75433099e-01, -6.00582622e-02, -2.59853303e-01,\n",
       "         5.85031174e-02,  5.13857305e-02],\n",
       "       [ 1.03975034e+00, -7.72260502e-02,  2.05223799e-01,\n",
       "         1.54514685e-01,  1.17602721e-01, -4.73863035e-02,\n",
       "         4.12470140e-02, -1.53671829e-02, -9.24506783e-02,\n",
       "        -2.16789823e-02,  6.67373613e-02, -2.43153378e-01,\n",
       "        -2.22204477e-01, -3.11305940e-01, -1.81535244e-01,\n",
       "         1.72068905e-02, -3.29752535e-01, -1.44480420e-02,\n",
       "        -1.42682299e-01,  9.24719095e-01, -9.42482799e-02,\n",
       "         2.44870290e-01, -5.73925488e-03,  1.79381445e-01,\n",
       "         5.30688874e-02, -8.69900882e-02, -4.91938107e-02,\n",
       "        -1.58877820e-01,  3.49446423e-02,  6.05077632e-02,\n",
       "         7.57769346e-02, -9.34731439e-02,  2.20445365e-01,\n",
       "         5.70709147e-02,  1.56069279e-01, -9.64625403e-02,\n",
       "        -6.01739921e-02, -2.20777780e-01, -2.50988882e-02,\n",
       "         1.89113796e-01,  9.18956622e-02, -6.30337000e-02,\n",
       "        -1.31969795e-01,  1.51280746e-01,  5.45298904e-02,\n",
       "         9.53609217e-03,  9.16176885e-02,  6.85973316e-02,\n",
       "         3.23405825e-02, -1.08352326e-01,  8.81479308e-02,\n",
       "         1.21273868e-01,  1.30856603e-01,  3.43390673e-01,\n",
       "         3.14019062e-02, -2.42935047e-01, -1.69348821e-01,\n",
       "         1.71476305e-01,  1.80512920e-01,  1.14522185e-02,\n",
       "        -3.34674299e-01,  9.32157412e-02, -1.13504425e-01,\n",
       "         7.02534243e-02, -8.03108960e-02,  3.71657349e-02,\n",
       "        -9.59925726e-02,  1.11907676e-01,  3.27881962e-01,\n",
       "        -1.34251207e-01, -3.07931434e-02, -1.62432209e-01,\n",
       "         5.62633686e-02,  6.59982935e-02, -8.46172124e-02,\n",
       "         2.69845605e-01,  2.46733859e-01, -1.07384622e-01,\n",
       "        -2.94824084e-03,  9.82785150e-02,  1.91690549e-01,\n",
       "        -2.52420548e-03, -7.64007568e-02, -6.55274242e-02,\n",
       "         3.64099517e-02, -1.93919808e-01, -3.17655057e-01,\n",
       "        -5.13524972e-02,  5.24596512e-01,  7.87500739e-02,\n",
       "        -6.81840107e-02,  1.64156541e-01,  6.18895032e-02,\n",
       "        -1.24722071e-01,  2.36907050e-01,  1.63341358e-01,\n",
       "         3.27721745e-01,  1.30028114e-01,  2.49234304e-01,\n",
       "         5.66367805e-02,  2.63878852e-01, -2.12772384e-01,\n",
       "         1.84145927e-01,  1.33621454e-01,  1.05241783e-01,\n",
       "        -1.52703486e-02,  1.91373602e-02,  1.48221329e-01,\n",
       "        -3.00121695e-01, -1.87495336e-01, -3.24985869e-02,\n",
       "         7.47555271e-02, -1.38561845e-01, -4.58047241e-02,\n",
       "         1.79673463e-01, -1.05470836e-01,  1.44995064e-01,\n",
       "        -7.56355468e-04,  1.19935170e-01,  1.95416082e-02,\n",
       "        -7.95775950e-02, -4.10803050e-01,  3.79540361e-02,\n",
       "        -1.09539656e-02, -1.40515938e-01, -3.37521046e-01,\n",
       "         5.34588434e-02, -5.96690811e-02]], dtype=float32)>"
      ]
     },
     "execution_count": 8,
     "metadata": {},
     "output_type": "execute_result"
    }
   ],
   "source": [
    "embedding = \"https://tfhub.dev/google/nnlm-en-dim128-with-normalization/2\"\n",
    "hub_layer = hub.KerasLayer(embedding, input_shape=[], \n",
    "                           dtype=tf.string, trainable=True)\n",
    "hub_layer(train_examples_batch[:3]) #输出前三个训练集对应的向量"
   ]
  },
  {
   "cell_type": "code",
   "execution_count": 9,
   "id": "a9fef4d8",
   "metadata": {
    "ExecuteTime": {
     "end_time": "2024-03-08T01:45:32.206410Z",
     "start_time": "2024-03-08T01:45:32.159402Z"
    }
   },
   "outputs": [
    {
     "name": "stdout",
     "output_type": "stream",
     "text": [
      "Model: \"sequential\"\n",
      "_________________________________________________________________\n",
      " Layer (type)                Output Shape              Param #   \n",
      "=================================================================\n",
      " keras_layer (KerasLayer)    (None, 128)               124642688 \n",
      "                                                                 \n",
      " dropout (Dropout)           (None, 128)               0         \n",
      "                                                                 \n",
      " dense (Dense)               (None, 16)                2064      \n",
      "                                                                 \n",
      " dropout_1 (Dropout)         (None, 16)                0         \n",
      "                                                                 \n",
      " dense_1 (Dense)             (None, 1)                 17        \n",
      "                                                                 \n",
      "=================================================================\n",
      "Total params: 124644769 (475.48 MB)\n",
      "Trainable params: 124644769 (475.48 MB)\n",
      "Non-trainable params: 0 (0.00 Byte)\n",
      "_________________________________________________________________\n"
     ]
    }
   ],
   "source": [
    "model = tf.keras.Sequential()\n",
    "model.add(hub_layer)\n",
    "model.add(tf.keras.layers.Dropout(rate=0.2))\n",
    "model.add(tf.keras.layers.Dense(16))\n",
    "model.add(tf.keras.layers.Dropout(rate=0.2))\n",
    "model.add(tf.keras.layers.Dense(1))\n",
    "\n",
    "model.summary()"
   ]
  },
  {
   "cell_type": "code",
   "execution_count": 10,
   "id": "4689f837",
   "metadata": {
    "ExecuteTime": {
     "end_time": "2024-03-08T01:49:08.205759Z",
     "start_time": "2024-03-08T01:45:36.073938Z"
    },
    "scrolled": true
   },
   "outputs": [
    {
     "name": "stdout",
     "output_type": "stream",
     "text": [
      "Epoch 1/100\n"
     ]
    },
    {
     "name": "stderr",
     "output_type": "stream",
     "text": [
      "2024-05-09 19:17:59.612478: I external/local_xla/xla/service/service.cc:168] XLA service 0x7f6e298536e0 initialized for platform CUDA (this does not guarantee that XLA will be used). Devices:\n",
      "2024-05-09 19:17:59.612548: I external/local_xla/xla/service/service.cc:176]   StreamExecutor device (0): NVIDIA GeForce RTX 3070 Ti, Compute Capability 8.6\n",
      "2024-05-09 19:17:59.875985: I tensorflow/compiler/mlir/tensorflow/utils/dump_mlir_util.cc:269] disabling MLIR crash reproducer, set env var `MLIR_CRASH_REPRODUCER_DIRECTORY` to enable.\n",
      "2024-05-09 19:18:00.928202: I external/local_xla/xla/stream_executor/cuda/cuda_dnn.cc:454] Loaded cuDNN version 8907\n",
      "WARNING: All log messages before absl::InitializeLog() is called are written to STDERR\n",
      "I0000 00:00:1715253481.245072     265 device_compiler.h:186] Compiled cluster using XLA!  This line is logged at most once for the lifetime of the process.\n"
     ]
    },
    {
     "name": "stdout",
     "output_type": "stream",
     "text": [
      "      3/Unknown - 12s 247ms/step - loss: 0.6777 - accuracy: 0.5380"
     ]
    },
    {
     "name": "stderr",
     "output_type": "stream",
     "text": [
      "2024-05-09 19:18:02.372631: I tensorflow/core/framework/local_rendezvous.cc:421] Local rendezvous recv item cancelled. Key hash: 15405501027766204862\n",
      "2024-05-09 19:18:02.372801: I tensorflow/core/framework/local_rendezvous.cc:421] Local rendezvous recv item cancelled. Key hash: 11816094705413129182\n",
      "2024-05-09 19:18:02.372812: I tensorflow/core/framework/local_rendezvous.cc:421] Local rendezvous recv item cancelled. Key hash: 11062488617278568108\n",
      "2024-05-09 19:18:03.399919: I tensorflow/core/framework/local_rendezvous.cc:425] Local rendezvous send item cancelled. Key hash: 2222700901374841154\n",
      "2024-05-09 19:18:03.399969: I tensorflow/core/framework/local_rendezvous.cc:421] Local rendezvous recv item cancelled. Key hash: 13116720455948078591\n"
     ]
    },
    {
     "name": "stdout",
     "output_type": "stream",
     "text": [
      "3/3 [==============================] - 14s 1s/step - loss: 0.6777 - accuracy: 0.5380 - val_loss: 0.6460 - val_accuracy: 0.5355\n",
      "Epoch 2/100\n",
      "3/3 [==============================] - 1s 578ms/step - loss: 0.6482 - accuracy: 0.5633 - val_loss: 0.6233 - val_accuracy: 0.5548\n",
      "Epoch 3/100\n",
      "3/3 [==============================] - 2s 581ms/step - loss: 0.6202 - accuracy: 0.5917 - val_loss: 0.5996 - val_accuracy: 0.6122\n",
      "Epoch 4/100\n",
      "3/3 [==============================] - 1s 567ms/step - loss: 0.5871 - accuracy: 0.6323 - val_loss: 0.5746 - val_accuracy: 0.6467\n",
      "Epoch 5/100\n",
      "3/3 [==============================] - 2s 580ms/step - loss: 0.5566 - accuracy: 0.6743 - val_loss: 0.5490 - val_accuracy: 0.6678\n",
      "Epoch 6/100\n",
      "3/3 [==============================] - 2s 600ms/step - loss: 0.5240 - accuracy: 0.7083 - val_loss: 0.5235 - val_accuracy: 0.7041\n",
      "Epoch 7/100\n",
      "3/3 [==============================] - 2s 645ms/step - loss: 0.4922 - accuracy: 0.7435 - val_loss: 0.4984 - val_accuracy: 0.7361\n",
      "Epoch 8/100\n",
      "3/3 [==============================] - 1s 592ms/step - loss: 0.4608 - accuracy: 0.7733 - val_loss: 0.4739 - val_accuracy: 0.7692\n",
      "Epoch 9/100\n",
      "3/3 [==============================] - 2s 581ms/step - loss: 0.4292 - accuracy: 0.8028 - val_loss: 0.4506 - val_accuracy: 0.7938\n",
      "Epoch 10/100\n",
      "3/3 [==============================] - 2s 626ms/step - loss: 0.3992 - accuracy: 0.8311 - val_loss: 0.4281 - val_accuracy: 0.7999\n",
      "Epoch 11/100\n",
      "3/3 [==============================] - 1s 567ms/step - loss: 0.3702 - accuracy: 0.8475 - val_loss: 0.4074 - val_accuracy: 0.8151\n",
      "Epoch 12/100\n",
      "3/3 [==============================] - 2s 597ms/step - loss: 0.3418 - accuracy: 0.8675 - val_loss: 0.3888 - val_accuracy: 0.8354\n",
      "Epoch 13/100\n",
      "3/3 [==============================] - 2s 597ms/step - loss: 0.3182 - accuracy: 0.8824 - val_loss: 0.3716 - val_accuracy: 0.8421\n",
      "Epoch 14/100\n",
      "3/3 [==============================] - 2s 668ms/step - loss: 0.2919 - accuracy: 0.8959 - val_loss: 0.3563 - val_accuracy: 0.8472\n",
      "Epoch 15/100\n",
      "3/3 [==============================] - 1s 562ms/step - loss: 0.2679 - accuracy: 0.9063 - val_loss: 0.3431 - val_accuracy: 0.8549\n",
      "Epoch 16/100\n",
      "3/3 [==============================] - 2s 576ms/step - loss: 0.2494 - accuracy: 0.9148 - val_loss: 0.3313 - val_accuracy: 0.8593\n",
      "Epoch 17/100\n",
      "3/3 [==============================] - 1s 585ms/step - loss: 0.2304 - accuracy: 0.9219 - val_loss: 0.3213 - val_accuracy: 0.8641\n",
      "Epoch 18/100\n",
      "3/3 [==============================] - 2s 617ms/step - loss: 0.2125 - accuracy: 0.9322 - val_loss: 0.3125 - val_accuracy: 0.8654\n",
      "Epoch 19/100\n",
      "3/3 [==============================] - 1s 575ms/step - loss: 0.1951 - accuracy: 0.9395 - val_loss: 0.3050 - val_accuracy: 0.8681\n",
      "Epoch 20/100\n",
      "3/3 [==============================] - 2s 575ms/step - loss: 0.1798 - accuracy: 0.9439 - val_loss: 0.2987 - val_accuracy: 0.8735\n",
      "Epoch 21/100\n",
      "3/3 [==============================] - 2s 630ms/step - loss: 0.1672 - accuracy: 0.9481 - val_loss: 0.2936 - val_accuracy: 0.8750\n",
      "Epoch 22/100\n",
      "3/3 [==============================] - 2s 626ms/step - loss: 0.1517 - accuracy: 0.9580 - val_loss: 0.2888 - val_accuracy: 0.8751\n",
      "Epoch 23/100\n",
      "3/3 [==============================] - 1s 567ms/step - loss: 0.1406 - accuracy: 0.9595 - val_loss: 0.2850 - val_accuracy: 0.8761\n",
      "Epoch 24/100\n",
      "3/3 [==============================] - 2s 600ms/step - loss: 0.1284 - accuracy: 0.9652 - val_loss: 0.2822 - val_accuracy: 0.8781\n",
      "Epoch 25/100\n",
      "3/3 [==============================] - 2s 608ms/step - loss: 0.1202 - accuracy: 0.9686 - val_loss: 0.2797 - val_accuracy: 0.8790\n",
      "Epoch 26/100\n",
      "3/3 [==============================] - 2s 655ms/step - loss: 0.1097 - accuracy: 0.9724 - val_loss: 0.2777 - val_accuracy: 0.8795\n",
      "Epoch 27/100\n",
      "3/3 [==============================] - 2s 588ms/step - loss: 0.1009 - accuracy: 0.9752 - val_loss: 0.2764 - val_accuracy: 0.8809\n",
      "Epoch 28/100\n",
      "3/3 [==============================] - 2s 604ms/step - loss: 0.0938 - accuracy: 0.9773 - val_loss: 0.2755 - val_accuracy: 0.8827\n",
      "Epoch 29/100\n",
      "3/3 [==============================] - 2s 610ms/step - loss: 0.0855 - accuracy: 0.9815 - val_loss: 0.2749 - val_accuracy: 0.8820\n",
      "Epoch 30/100\n",
      "3/3 [==============================] - 2s 653ms/step - loss: 0.0794 - accuracy: 0.9827 - val_loss: 0.2747 - val_accuracy: 0.8825\n",
      "Epoch 31/100\n",
      "3/3 [==============================] - 1s 497ms/step - loss: 0.0736 - accuracy: 0.9847 - val_loss: 0.2749 - val_accuracy: 0.8839\n",
      "Epoch 32/100\n",
      "3/3 [==============================] - 1s 468ms/step - loss: 0.0676 - accuracy: 0.9875 - val_loss: 0.2754 - val_accuracy: 0.8839\n",
      "Epoch 33/100\n",
      "3/3 [==============================] - 1s 502ms/step - loss: 0.0638 - accuracy: 0.9880 - val_loss: 0.2760 - val_accuracy: 0.8841\n",
      "Epoch 34/100\n",
      "3/3 [==============================] - 1s 464ms/step - loss: 0.0583 - accuracy: 0.9897 - val_loss: 0.2770 - val_accuracy: 0.8843\n",
      "Epoch 35/100\n",
      "3/3 [==============================] - 1s 526ms/step - loss: 0.0539 - accuracy: 0.9917 - val_loss: 0.2782 - val_accuracy: 0.8845\n",
      "Epoch 36/100\n",
      "3/3 [==============================] - 1s 434ms/step - loss: 0.0497 - accuracy: 0.9922 - val_loss: 0.2795 - val_accuracy: 0.8847\n",
      "Epoch 37/100\n",
      "3/3 [==============================] - 1s 482ms/step - loss: 0.0465 - accuracy: 0.9930 - val_loss: 0.2812 - val_accuracy: 0.8843\n",
      "Epoch 38/100\n",
      "3/3 [==============================] - 1s 490ms/step - loss: 0.0432 - accuracy: 0.9939 - val_loss: 0.2827 - val_accuracy: 0.8847\n",
      "Epoch 39/100\n",
      "3/3 [==============================] - 1s 433ms/step - loss: 0.0397 - accuracy: 0.9948 - val_loss: 0.2848 - val_accuracy: 0.8847\n",
      "Epoch 40/100\n",
      "3/3 [==============================] - 2s 620ms/step - loss: 0.0365 - accuracy: 0.9958 - val_loss: 0.2861 - val_accuracy: 0.8840\n"
     ]
    }
   ],
   "source": [
    "keras.backend.clear_session()\n",
    "tf.random.set_seed(42)\n",
    "np.random.seed(42)\n",
    "\n",
    "model.compile(optimizer='nadam',\n",
    "              loss=tf.keras.losses.BinaryCrossentropy(from_logits=True),\n",
    "              metrics=['accuracy'])\n",
    "\n",
    "early_stopping_cb = keras.callbacks.EarlyStopping(patience=10,restore_best_weights=True)\n",
    "\n",
    "callbacks = [early_stopping_cb]\n",
    "\n",
    "history = model.fit(train_data.shuffle(10000).batch(5000),\n",
    "                    epochs=100,\n",
    "                    validation_data=validation_data.batch(512),\n",
    "                    callbacks=callbacks)\n"
   ]
  },
  {
   "cell_type": "code",
   "execution_count": 14,
   "id": "3c07d4b0",
   "metadata": {
    "ExecuteTime": {
     "end_time": "2024-03-08T01:49:24.879771Z",
     "start_time": "2024-03-08T01:49:19.563430Z"
    }
   },
   "outputs": [
    {
     "data": {
      "image/png": "[encoded data removed]",
      "text/plain": [
       "<Figure size 640x480 with 1 Axes>"
      ]
     },
     "metadata": {},
     "output_type": "display_data"
    },
    {
     "name": "stdout",
     "output_type": "stream",
     "text": [
      "49/49 - 7s - loss: 0.3119 - accuracy: 0.8601 - 7s/epoch - 147ms/step\n"
     ]
    },
    {
     "name": "stderr",
     "output_type": "stream",
     "text": [
      "2024-05-09 19:26:12.572596: I tensorflow/core/framework/local_rendezvous.cc:421] Local rendezvous recv item cancelled. Key hash: 272202354583925085\n",
      "2024-05-09 19:26:12.572642: I tensorflow/core/framework/local_rendezvous.cc:421] Local rendezvous recv item cancelled. Key hash: 7081884725511003367\n",
      "2024-05-09 19:26:12.572653: I tensorflow/core/framework/local_rendezvous.cc:421] Local rendezvous recv item cancelled. Key hash: 13116720455948078591\n",
      "2024-05-09 19:26:12.572658: I tensorflow/core/framework/local_rendezvous.cc:421] Local rendezvous recv item cancelled. Key hash: 17042561793615019451\n",
      "2024-05-09 19:26:12.572663: I tensorflow/core/framework/local_rendezvous.cc:421] Local rendezvous recv item cancelled. Key hash: 13235151253668179877\n",
      "2024-05-09 19:26:12.572669: I tensorflow/core/framework/local_rendezvous.cc:421] Local rendezvous recv item cancelled. Key hash: 312023397125322854\n",
      "2024-05-09 19:26:12.572674: I tensorflow/core/framework/local_rendezvous.cc:421] Local rendezvous recv item cancelled. Key hash: 15405501027766204862\n",
      "2024-05-09 19:26:12.572679: I tensorflow/core/framework/local_rendezvous.cc:421] Local rendezvous recv item cancelled. Key hash: 202633834928808924\n",
      "2024-05-09 19:26:12.572683: I tensorflow/core/framework/local_rendezvous.cc:421] Local rendezvous recv item cancelled. Key hash: 837399822698458242\n"
     ]
    },
    {
     "data": {
      "text/plain": [
       "[0.31185975670814514, 0.8600800037384033]"
      ]
     },
     "execution_count": 14,
     "metadata": {},
     "output_type": "execute_result"
    }
   ],
   "source": [
    "pd.DataFrame(history.history).plot() \n",
    "plt.grid(True)\n",
    "plt.show()\n",
    "model.evaluate(test_data.shuffle(10000).batch(512),verbose=2)"
   ]
  },
  {
   "cell_type": "code",
   "execution_count": null,
   "id": "19a880d6-13f8-4fd8-849c-fa912882264d",
   "metadata": {},
   "outputs": [],
   "source": []
  }
 ],
 "metadata": {
  "kernelspec": {
   "display_name": "Python 3 (ipykernel)",
   "language": "python",
   "name": "python3"
  },
  "language_info": {
   "codemirror_mode": {
    "name": "ipython",
    "version": 3
   },
   "file_extension": ".py",
   "mimetype": "text/x-python",
   "name": "python",
   "nbconvert_exporter": "python",
   "pygments_lexer": "ipython3",
   "version": "3.10.12"
  }
 },
 "nbformat": 4,
 "nbformat_minor": 5
}
