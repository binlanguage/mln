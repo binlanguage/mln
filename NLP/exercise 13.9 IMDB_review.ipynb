{
 "cells": [
  {
   "cell_type": "code",
   "execution_count": 2,
   "id": "fdc4e3a4",
   "metadata": {
    "ExecuteTime": {
     "end_time": "2024-03-08T00:08:52.296514Z",
     "start_time": "2024-03-08T00:08:52.293514Z"
    }
   },
   "outputs": [],
   "source": [
    "# exercise 13.9\n",
    "#下载 Large Movie Review Dataset，它包含 50000 条 IMDB 的影评。数据分为两个目录，train和test，\n",
    "#每个包含 12500 条正面评价和 12500 条负面评价。每条评价都存在独立的文本文件中。\n",
    "\n",
    "import matplotlib.pyplot as plt\n",
    "import os\n",
    "import re\n",
    "import shutil\n",
    "import string\n",
    "import tensorflow as tf\n",
    "import keras\n",
    "import numpy as np\n",
    "import pandas as pd\n",
    "from tensorflow.keras import layers\n",
    "from tensorflow.keras import losses"
   ]
  },
  {
   "cell_type": "markdown",
   "id": "0d456f31-0cf3-4029-8fc4-d1757fad1c98",
   "metadata": {},
   "source": [
    "# IMDB review"
   ]
  },
  {
   "cell_type": "code",
   "execution_count": 25,
   "id": "b9e61f72",
   "metadata": {
    "ExecuteTime": {
     "end_time": "2024-03-08T00:09:00.975363Z",
     "start_time": "2024-03-08T00:09:00.970359Z"
    },
    "run_control": {
     "marked": true
    }
   },
   "outputs": [
    {
     "data": {
      "text/plain": [
       "['imdbEr.txt', 'imdb.vocab', 'test', 'train', 'README']"
      ]
     },
     "execution_count": 25,
     "metadata": {},
     "output_type": "execute_result"
    }
   ],
   "source": [
    "url = \"https://ai.stanford.edu/~amaas/data/sentiment/aclImdb_v1.tar.gz\"\n",
    "\n",
    "dataset = tf.keras.utils.get_file(\"aclImdb_v1\", url,\n",
    "                                    untar=True, cache_dir='.',\n",
    "                                    cache_subdir='')\n",
    "\n",
    "dataset_dir = os.path.join(os.path.dirname(dataset), 'aclImdb')\n",
    "\n",
    "#获取目录结构\n",
    "os.listdir(dataset_dir)"
   ]
  },
  {
   "cell_type": "code",
   "execution_count": 26,
   "id": "7fc5c053",
   "metadata": {
    "ExecuteTime": {
     "end_time": "2024-03-08T00:09:10.164333Z",
     "start_time": "2024-03-08T00:09:10.159324Z"
    }
   },
   "outputs": [
    {
     "data": {
      "text/plain": [
       "['labeledBow.feat',\n",
       " 'neg',\n",
       " 'unsupBow.feat',\n",
       " 'urls_pos.txt',\n",
       " 'pos',\n",
       " 'urls_neg.txt',\n",
       " 'urls_unsup.txt',\n",
       " 'unsup']"
      ]
     },
     "execution_count": 26,
     "metadata": {},
     "output_type": "execute_result"
    }
   ],
   "source": [
    "#train目录结构\n",
    "train_dir = os.path.join(dataset_dir, 'train')\n",
    "os.listdir(train_dir)"
   ]
  },
  {
   "cell_type": "code",
   "execution_count": 19,
   "id": "13ef33e8",
   "metadata": {
    "ExecuteTime": {
     "end_time": "2024-03-07T06:17:46.820130Z",
     "start_time": "2024-03-07T06:17:46.813134Z"
    }
   },
   "outputs": [
    {
     "name": "stdout",
     "output_type": "stream",
     "text": [
      "Rachel Griffiths writes and directs this award winning short film. A heartwarming story about coping with grief and cherishing the memory of those we've loved and lost. Although, only 15 minutes long, Griffiths manages to capture so much emotion and truth onto film in the short space of time. Bud Tingwell gives a touching performance as Will, a widower struggling to cope with his wife's death. Will is confronted by the harsh reality of loneliness and helplessness as he proceeds to take care of Ruth's pet cow, Tulip. The film displays the grief and responsibility one feels for those they have loved and lost. Good cinematography, great direction, and superbly acted. It will bring tears to all those who have lost a loved one, and survived.\n"
     ]
    }
   ],
   "source": [
    "#随机读取一条评论\n",
    "sample_file = os.path.join(train_dir, 'pos/1181_9.txt')\n",
    "with open(sample_file) as f:\n",
    "    print(f.read())"
   ]
  },
  {
   "cell_type": "code",
   "execution_count": 27,
   "id": "e0e54267",
   "metadata": {
    "ExecuteTime": {
     "end_time": "2024-03-07T06:19:42.184423Z",
     "start_time": "2024-03-07T06:19:42.045417Z"
    }
   },
   "outputs": [],
   "source": [
    "\n",
    "# 正面负面评论分别位于  aclImdb/train/pos 和 aclImdb/train/neg\n",
    "# 删除unsup \n",
    "remove_dir = os.path.join(train_dir, 'unsup')\n",
    "shutil.rmtree(remove_dir)"
   ]
  },
  {
   "cell_type": "code",
   "execution_count": 28,
   "id": "66be9329",
   "metadata": {
    "ExecuteTime": {
     "end_time": "2024-03-07T06:19:59.877917Z",
     "start_time": "2024-03-07T06:19:59.873916Z"
    }
   },
   "outputs": [
    {
     "data": {
      "text/plain": [
       "['labeledBow.feat',\n",
       " 'neg',\n",
       " 'unsupBow.feat',\n",
       " 'urls_pos.txt',\n",
       " 'pos',\n",
       " 'urls_neg.txt',\n",
       " 'urls_unsup.txt']"
      ]
     },
     "execution_count": 28,
     "metadata": {},
     "output_type": "execute_result"
    }
   ],
   "source": [
    "#没有unsup文件夹了\n",
    "os.listdir(train_dir)"
   ]
  },
  {
   "cell_type": "code",
   "execution_count": 29,
   "id": "e7d50331",
   "metadata": {
    "ExecuteTime": {
     "end_time": "2024-03-08T00:09:27.728753Z",
     "start_time": "2024-03-08T00:09:26.391187Z"
    }
   },
   "outputs": [
    {
     "name": "stdout",
     "output_type": "stream",
     "text": [
      "Found 25000 files belonging to 2 classes.\n",
      "Using 20000 files for training.\n"
     ]
    }
   ],
   "source": [
    "#文件夹有train test数据集，缺少valid数据集\n",
    "#通过validation_split 参数，使用 80:20 拆分训练数据来创建验证集。\n",
    "#使用 text_dataset_from_directory 工具进行二元分类，不同文件夹的文本即对应不同标签\n",
    "batch_size = 32\n",
    "seed = 42\n",
    "\n",
    "raw_train_ds = tf.keras.utils.text_dataset_from_directory(\n",
    "    train_dir, \n",
    "    batch_size=batch_size, \n",
    "    validation_split=0.2, \n",
    "    subset='training', \n",
    "    seed=seed)"
   ]
  },
  {
   "cell_type": "code",
   "execution_count": 30,
   "id": "d90e3c81",
   "metadata": {
    "ExecuteTime": {
     "end_time": "2024-03-07T06:26:01.477379Z",
     "start_time": "2024-03-07T06:26:01.219301Z"
    },
    "scrolled": true
   },
   "outputs": [
    {
     "name": "stdout",
     "output_type": "stream",
     "text": [
      "Review b\"Mild Spoilers<br /><br />In the near future, Arnold stars as Ben Richards, a wrongly convicted man coerced into playing 'The Running Man', a deadly TV game show where people have to keep moving to try and escape brutal deaths at the hands of the 'Stalkers'. Of course, people are expected to die eventually and its up to Arnold to prove the system wrong.<br /><br />I haven't read the Stephen King book, but this is a great film regardless, one of Arnold's best. He does what he does best in the action man role, delivering death with unforgettable one-liners. Classics are probably the 'He was a real pain in the neck' after strangling a guy with barb wire, and 'He had to split!', referring to whereabouts he just chain sawed someone vertically. Dawson is perfectly irritating as the TV presenter, and all the 'Stalkers' are suitably camp. The action is violent, but its an action film. That's the point. The film is fast paced, and at 90 minutes it doesn't overstay its welcome. <br /><br />With Starsky and Hutch's Paul Michael Glaser at the helm, and made in the wake of the success of The Terminator, previously this film was probably seen as just another mindless action vehicle for Arnold, and very far fetched. But today, anyone who watches a lot of TV could see how the film is getting closer to reality. I wouldn't be surprised if I turn on the TV in the 'near future' and see a show not to far from this.<br /><br />On that depressing note, I must however recommend 'The Running Man' to anyone who likes the 80s, Arnold, ridiculous acts or violence or just a good action film. 9. 5 / 10\"\n",
      "Label 1\n",
      "Review b\"To get in touch with the beauty of this film pay close attention to the sound track, not only the music, but the way all sounds help to weave the imagery. How beautifully the opening scene leading to the expulsion of Gino establishes the theme of moral ambiguity! Note the way music introduces the characters as we are led inside Giovanna's marriage. Don't expect to find much here of the political life of Italy in 1943. That's not what this is about. On the other hand, if you are susceptible to the music of images and sounds, you will be led into a word that reaches beyond neo-realism. By the end of the film we there are moments Antonioni-like landscape that has more to do with the inner life of the characters than with real places. This is one of my favorite Visconti films.\"\n",
      "Label 1\n",
      "Review b'It is rare that one comes across a movie as flawless as this. It\\'s truly one of the best acted, most tightly structured films I\\'ve ever seen. Every line of dialogue can be interpreted in several ways, relating to each of the three main characters differently. The film weaves an intrinsic web of motivations and double crosses that snare you and refuse to let go. Add to this that the slow-burning romance between Kevin and Faye is as moving as anything that\\'s ever been committed to celluloid and you have the ingredients for a perfect film. It exposes the romance of movies such as \"Titanic\" as the trite cliches they are. If you\\'re looking for a movie to watch while you fold laundry, this isn\\'t it. You have to commit yourself to this film. You can\\'t have a conversation while running in and out of the room. This movie demands your attention. Treat it with the respect you deserve and you\\'ll get a lot out of it. Unless you think \"Titanic\" is the greatest film ever.'\n",
      "Label 1\n"
     ]
    }
   ],
   "source": [
    "#取一批raw_train 数据（32个），打印三个\n",
    "for text_batch, label_batch in raw_train_ds.take(1):\n",
    "    for i in range(3):\n",
    "        print(\"Review\", text_batch.numpy()[i])\n",
    "        print(\"Label\", label_batch.numpy()[i])"
   ]
  },
  {
   "cell_type": "code",
   "execution_count": 31,
   "id": "0141d1a7",
   "metadata": {
    "ExecuteTime": {
     "end_time": "2024-03-07T06:28:15.577461Z",
     "start_time": "2024-03-07T06:28:15.573460Z"
    }
   },
   "outputs": [
    {
     "data": {
      "text/plain": [
       "['neg', 'pos']"
      ]
     },
     "execution_count": 31,
     "metadata": {},
     "output_type": "execute_result"
    }
   ],
   "source": [
    "#通过文件名和label名，确定label 0 表示 neg，label 1 表示 pos\n",
    "raw_train_ds.class_names"
   ]
  },
  {
   "cell_type": "code",
   "execution_count": 32,
   "id": "5b53f597",
   "metadata": {
    "ExecuteTime": {
     "end_time": "2024-03-08T00:10:12.814097Z",
     "start_time": "2024-03-08T00:10:11.495886Z"
    }
   },
   "outputs": [
    {
     "name": "stdout",
     "output_type": "stream",
     "text": [
      "Found 25000 files belonging to 2 classes.\n",
      "Using 5000 files for validation.\n"
     ]
    }
   ],
   "source": [
    "#取验证集,确保和之前获取训练集函数使用一样的seed\n",
    "raw_val_ds = tf.keras.utils.text_dataset_from_directory(\n",
    "    train_dir, \n",
    "    batch_size=batch_size, \n",
    "    validation_split=0.2, \n",
    "    subset='validation', \n",
    "    seed=seed)"
   ]
  },
  {
   "cell_type": "code",
   "execution_count": 33,
   "id": "06a4ec43",
   "metadata": {
    "ExecuteTime": {
     "end_time": "2024-03-08T00:10:16.085551Z",
     "start_time": "2024-03-08T00:10:14.756472Z"
    }
   },
   "outputs": [
    {
     "name": "stdout",
     "output_type": "stream",
     "text": [
      "Found 25000 files belonging to 2 classes.\n"
     ]
    }
   ],
   "source": [
    "#测试集 25000个\n",
    "test_dir=os.path.join(dataset_dir,\"test\")\n",
    "raw_test_ds = tf.keras.utils.text_dataset_from_directory(\n",
    "    test_dir, \n",
    "    batch_size=batch_size)"
   ]
  },
  {
   "cell_type": "code",
   "execution_count": 34,
   "id": "519de24d",
   "metadata": {
    "ExecuteTime": {
     "end_time": "2024-03-08T00:10:17.993000Z",
     "start_time": "2024-03-08T00:10:17.988001Z"
    }
   },
   "outputs": [],
   "source": [
    "# 使用tf.keras.layers.TextVectorization 层对数据进行标准化、词例化和向量化\n",
    "# 为在训练和测试时间对数据进行相同的预处理，将 TextVectorization 层直接包含在模型中\n",
    "# 定义标准输入函数，处理大小写和换行符\n",
    "\n",
    "def custom_standardization(input_data):\n",
    "    lowercase = tf.strings.lower(input_data) #小写处理\n",
    "    stripped_html = tf.strings.regex_replace(lowercase, '<br />', ' ') #把<br /> 替换为空格\n",
    "    return tf.strings.regex_replace(stripped_html,\n",
    "                                    '[%s]' % re.escape(string.punctuation),'')\n",
    "\n",
    "#最后一行表示将所有标点符号正则转译为空符号"
   ]
  },
  {
   "cell_type": "code",
   "execution_count": 35,
   "id": "f21f2825",
   "metadata": {
    "ExecuteTime": {
     "end_time": "2024-03-08T00:11:07.604047Z",
     "start_time": "2024-03-08T00:11:07.597044Z"
    }
   },
   "outputs": [],
   "source": [
    "#创建一个 TextVectorization 层，该层对我们的数据进行标准化、词例化和向量化。\n",
    "#调用了之前定义的标准化函数\n",
    "#将 output_mode 设置为 int 以便为每个词例创建唯一的整数索引。\n",
    "\n",
    "max_features = 10000\n",
    "sequence_length = 250\n",
    "\n",
    "vectorize_layer = layers.TextVectorization(\n",
    "    standardize=custom_standardization,\n",
    "    max_tokens=max_features,\n",
    "    output_mode='int',\n",
    "    output_sequence_length=sequence_length)"
   ]
  },
  {
   "cell_type": "code",
   "execution_count": 36,
   "id": "7d3a1920",
   "metadata": {
    "ExecuteTime": {
     "end_time": "2024-03-08T00:11:25.544471Z",
     "start_time": "2024-03-08T00:11:11.043329Z"
    }
   },
   "outputs": [],
   "source": [
    "#调用 adapt 以使预处理层的状态适合数据集。使模型构建字符串到整数的索引。\n",
    "#对raw_train_ds 做map，去除标签\n",
    "train_text = raw_train_ds.map(lambda x, y: x)\n",
    "vectorize_layer.adapt(train_text)"
   ]
  },
  {
   "cell_type": "code",
   "execution_count": 37,
   "id": "b2b44b32",
   "metadata": {
    "ExecuteTime": {
     "end_time": "2024-03-08T00:13:57.763998Z",
     "start_time": "2024-03-08T00:13:57.524990Z"
    },
    "run_control": {
     "marked": true
    }
   },
   "outputs": [
    {
     "name": "stdout",
     "output_type": "stream",
     "text": [
      "Review tf.Tensor(b'This picture seemed way to slanted, it\\'s almost as bad as the drum beating of the right wing kooks who say everything is rosy in Iraq. It paints a picture so unredeemable that I can\\'t help but wonder about it\\'s legitimacy and bias. Also it seemed to meander from being about the murderous carnage of our troops to the lack of health care in the states for PTSD. To me the subject matter seemed confused, it only cared about portraying the military in a bad light, as A) an organzation that uses mind control to turn ordinary peace loving civilians into baby killers and B) an organization that once having used and spent the bodies of it\\'s soldiers then discards them to the despotic bureacracy of the V.A. This is a legitimate argument, but felt off topic for me, almost like a movie in and of itself. I felt that \"The War Tapes\" and \"Blood of my Brother\" were much more fair and let the viewer draw some conclusions of their own rather than be beaten over the head with the film makers viewpoint. F-', shape=(), dtype=string)\n",
      "Label neg\n"
     ]
    }
   ],
   "source": [
    "#创建一个函数来查看使用该层预处理一些数据的结果\n",
    "def vectorize_text(text, label):\n",
    "    text = tf.expand_dims(text, -1) #原始数据加一个维度\n",
    "    return vectorize_layer(text), label #多出来的维度就是label\n",
    "\n",
    "#每次执行下一个batch ，32个review加label\n",
    "text_batch, label_batch = next(iter(raw_train_ds))\n",
    "first_review, first_label = text_batch[0], label_batch[0]\n",
    "print(\"Review\", first_review)\n",
    "print(\"Label\", raw_train_ds.class_names[first_label])\n"
   ]
  },
  {
   "cell_type": "code",
   "execution_count": 30,
   "id": "050cf7a4",
   "metadata": {
    "ExecuteTime": {
     "end_time": "2024-03-07T07:03:38.822905Z",
     "start_time": "2024-03-07T07:03:38.814904Z"
    }
   },
   "outputs": [
    {
     "name": "stdout",
     "output_type": "stream",
     "text": [
      "Vectorized review (<tf.Tensor: shape=(1, 250), dtype=int64, numpy=\n",
      "array([[   2,    1,    7,    4,   73, 7844, 4199,  200,  188, 1397, 2232,\n",
      "           3,    4,   49,  111,    8,  695,    1,   71,  821,    4, 2324,\n",
      "         312,  215,   16,  452, 1038,   18,   71,   89,   61,   67,   93,\n",
      "          71,   77,  821,    2,   63,    5,  440,  100,   14,    4,  321,\n",
      "           1,   33,    1, 1528, 2032,    3,    4, 1560,    8, 2503,    2,\n",
      "        7382,    7,   40, 2735,    8,    2,   83, 9141,   71,   67,   46,\n",
      "         647,    5,    2, 2503,  329,    8,  188,    2,  136,    2,  357,\n",
      "        4745,  144,  368,  114,    2,  229,   28, 1752,    9,  501,   46,\n",
      "          58,  101,  725,  167,    4,  112,  743,   20,   48,  553,    8,\n",
      "         776,    2,    1, 4199,  200,    7,    4,  219,   67,   21,   61,\n",
      "          15, 6115, 9349,   18,   15,  302,   16,  112, 3496,   42,    2,\n",
      "        2936,    0,    0,    0,    0,    0,    0,    0,    0,    0,    0,\n",
      "           0,    0,    0,    0,    0,    0,    0,    0,    0,    0,    0,\n",
      "           0,    0,    0,    0,    0,    0,    0,    0,    0,    0,    0,\n",
      "           0,    0,    0,    0,    0,    0,    0,    0,    0,    0,    0,\n",
      "           0,    0,    0,    0,    0,    0,    0,    0,    0,    0,    0,\n",
      "           0,    0,    0,    0,    0,    0,    0,    0,    0,    0,    0,\n",
      "           0,    0,    0,    0,    0,    0,    0,    0,    0,    0,    0,\n",
      "           0,    0,    0,    0,    0,    0,    0,    0,    0,    0,    0,\n",
      "           0,    0,    0,    0,    0,    0,    0,    0,    0,    0,    0,\n",
      "           0,    0,    0,    0,    0,    0,    0,    0,    0,    0,    0,\n",
      "           0,    0,    0,    0,    0,    0,    0,    0,    0,    0,    0,\n",
      "           0,    0,    0,    0,    0,    0,    0,    0]])>, <tf.Tensor: shape=(), dtype=int32, numpy=1>)\n"
     ]
    }
   ],
   "source": [
    "print(\"Vectorized review\", vectorize_text(first_review, first_label))"
   ]
  },
  {
   "cell_type": "code",
   "execution_count": 31,
   "id": "9255628d",
   "metadata": {
    "ExecuteTime": {
     "end_time": "2024-03-07T07:04:46.379384Z",
     "start_time": "2024-03-07T07:04:46.359386Z"
    }
   },
   "outputs": [
    {
     "data": {
      "text/plain": [
       "'silent'"
      ]
     },
     "execution_count": 31,
     "metadata": {},
     "output_type": "execute_result"
    }
   ],
   "source": [
    "#该层上调用 .get_vocabulary() 来查找每个整数对应的词例（字符串）\n",
    "vectorize_layer.get_vocabulary()[1287]"
   ]
  },
  {
   "cell_type": "code",
   "execution_count": 32,
   "id": "f5fb192d",
   "metadata": {
    "ExecuteTime": {
     "end_time": "2024-03-07T07:05:24.817453Z",
     "start_time": "2024-03-07T07:05:24.796453Z"
    }
   },
   "outputs": [
    {
     "data": {
      "text/plain": [
       "10000"
      ]
     },
     "execution_count": 32,
     "metadata": {},
     "output_type": "execute_result"
    }
   ],
   "source": [
    "#一共一万个词汇，对应vectorize_layer 的max_feature\n",
    "len(vectorize_layer.get_vocabulary())"
   ]
  },
  {
   "cell_type": "code",
   "execution_count": 38,
   "id": "5d567547",
   "metadata": {
    "ExecuteTime": {
     "end_time": "2024-03-08T00:16:20.619077Z",
     "start_time": "2024-03-08T00:16:20.502069Z"
    }
   },
   "outputs": [],
   "source": [
    "#转换训练集，验证集，测试集\n",
    "\n",
    "train_ds = raw_train_ds.map(vectorize_text)\n",
    "val_ds = raw_val_ds.map(vectorize_text)\n",
    "test_ds = raw_test_ds.map(vectorize_text)"
   ]
  },
  {
   "cell_type": "code",
   "execution_count": 39,
   "id": "1851e19c",
   "metadata": {
    "ExecuteTime": {
     "end_time": "2024-03-08T00:16:22.894166Z",
     "start_time": "2024-03-08T00:16:22.886163Z"
    },
    "run_control": {
     "marked": false
    }
   },
   "outputs": [],
   "source": [
    "#加buffersize，将数据保存在可用内存中\n",
    "\n",
    "AUTOTUNE = tf.data.AUTOTUNE\n",
    "\n",
    "train_ds = train_ds.cache().prefetch(buffer_size=AUTOTUNE)\n",
    "val_ds = val_ds.cache().prefetch(buffer_size=AUTOTUNE)\n",
    "test_ds = test_ds.cache().prefetch(buffer_size=AUTOTUNE)"
   ]
  },
  {
   "cell_type": "markdown",
   "id": "c96d7de8-8347-4532-bf81-3a9b9293fa57",
   "metadata": {},
   "source": [
    "## CNN+dense"
   ]
  },
  {
   "cell_type": "code",
   "execution_count": 40,
   "id": "12e3ca36",
   "metadata": {
    "ExecuteTime": {
     "end_time": "2024-03-08T01:37:35.935426Z",
     "start_time": "2024-03-08T01:37:35.892421Z"
    }
   },
   "outputs": [
    {
     "name": "stdout",
     "output_type": "stream",
     "text": [
      "Model: \"sequential_1\"\n",
      "_________________________________________________________________\n",
      " Layer (type)                Output Shape              Param #   \n",
      "=================================================================\n",
      " embedding (Embedding)       (None, None, 64)          640064    \n",
      "                                                                 \n",
      " dropout (Dropout)           (None, None, 64)          0         \n",
      "                                                                 \n",
      " conv1d (Conv1D)             (None, None, 64)          20544     \n",
      "                                                                 \n",
      " global_max_pooling1d (Glob  (None, 64)                0         \n",
      " alMaxPooling1D)                                                 \n",
      "                                                                 \n",
      " dropout_1 (Dropout)         (None, 64)                0         \n",
      "                                                                 \n",
      " dense (Dense)               (None, 1)                 65        \n",
      "                                                                 \n",
      "=================================================================\n",
      "Total params: 660673 (2.52 MB)\n",
      "Trainable params: 660673 (2.52 MB)\n",
      "Non-trainable params: 0 (0.00 Byte)\n",
      "_________________________________________________________________\n"
     ]
    }
   ],
   "source": [
    "#创建模型\n",
    "#Embedding 层。此层采用整数编码的评论，并查找每个单词索引的嵌入向量。\n",
    "#这些向量是通过模型训练学习到的。向量向输出数组增加了一个维度\n",
    "#得到的维度为：(batch, sequence, embedding)\n",
    "\n",
    "#GlobalAveragePooling1D 将通过对序列维度求平均值来为每个样本返回一个定长输出向量\n",
    "#这允许模型以尽可能最简单的方式处理变长输入\n",
    "\n",
    "embedding_dim = 64\n",
    "model = tf.keras.Sequential([\n",
    "    layers.Embedding(max_features + 1, embedding_dim),\n",
    "    layers.Dropout(0.2),\n",
    "    layers.Conv1D(64,5,padding=\"valid\",activation=\"relu\",strides=2),\n",
    "    layers.GlobalMaxPool1D(),\n",
    "    layers.Dropout(0.2),\n",
    "    layers.Dense(1)\n",
    "])\n",
    "model.summary()"
   ]
  },
  {
   "cell_type": "code",
   "execution_count": 42,
   "id": "d444229f",
   "metadata": {
    "ExecuteTime": {
     "end_time": "2024-03-08T01:44:41.385294Z",
     "start_time": "2024-03-08T01:43:54.005755Z"
    },
    "scrolled": true
   },
   "outputs": [
    {
     "name": "stdout",
     "output_type": "stream",
     "text": [
      "Epoch 1/5\n",
      "625/625 [==============================] - 33s 52ms/step - loss: 0.2061 - binary_accuracy: 0.8186 - val_loss: 0.6267 - val_binary_accuracy: 0.7938\n",
      "Epoch 2/5\n",
      "625/625 [==============================] - 11s 17ms/step - loss: 0.1478 - binary_accuracy: 0.8753 - val_loss: 0.7082 - val_binary_accuracy: 0.7930\n",
      "Epoch 3/5\n",
      "625/625 [==============================] - 10s 16ms/step - loss: 0.1124 - binary_accuracy: 0.9003 - val_loss: 0.7670 - val_binary_accuracy: 0.8150\n",
      "Epoch 4/5\n",
      "625/625 [==============================] - 10s 17ms/step - loss: 0.0814 - binary_accuracy: 0.9332 - val_loss: 0.8409 - val_binary_accuracy: 0.8198\n",
      "Epoch 5/5\n",
      "625/625 [==============================] - 10s 17ms/step - loss: 0.1046 - binary_accuracy: 0.9179 - val_loss: 0.9232 - val_binary_accuracy: 0.8304\n"
     ]
    }
   ],
   "source": [
    "keras.backend.clear_session()\n",
    "tf.random.set_seed(42)\n",
    "np.random.seed(42)\n",
    " \n",
    "optimizer = keras.optimizers.Adam()\n",
    "\n",
    "model.compile(loss=losses.BinaryCrossentropy(from_logits=False), #二元交叉熵\n",
    "              optimizer=optimizer,\n",
    "              metrics=tf.metrics.BinaryAccuracy(threshold=0.0))\n",
    "    \n",
    "early_stopping_cb = keras.callbacks.EarlyStopping(patience=10,restore_best_weights=True)\n",
    "\n",
    "callbacks = [early_stopping_cb]\n",
    "\n",
    "epochs = 5\n",
    "history = model.fit(\n",
    "    train_ds,\n",
    "    validation_data=val_ds,\n",
    "    epochs=epochs)#, callbacks=callbacks)"
   ]
  },
  {
   "cell_type": "code",
   "execution_count": 43,
   "id": "1b90d027",
   "metadata": {
    "ExecuteTime": {
     "end_time": "2024-03-08T01:44:57.056525Z",
     "start_time": "2024-03-08T01:44:56.191405Z"
    }
   },
   "outputs": [
    {
     "data": {
      "image/png": "[encoded data removed]",
      "text/plain": [
       "<Figure size 640x480 with 1 Axes>"
      ]
     },
     "metadata": {},
     "output_type": "display_data"
    },
    {
     "name": "stdout",
     "output_type": "stream",
     "text": [
      "782/782 - 4s - loss: 1.0537 - binary_accuracy: 0.8280 - 4s/epoch - 6ms/step\n"
     ]
    },
    {
     "data": {
      "text/plain": [
       "[1.0537110567092896, 0.8279600143432617]"
      ]
     },
     "execution_count": 43,
     "metadata": {},
     "output_type": "execute_result"
    }
   ],
   "source": [
    "pd.DataFrame(history.history).plot() \n",
    "plt.grid(True)\n",
    "plt.show()\n",
    "model.evaluate(test_ds,verbose=2)"
   ]
  },
  {
   "cell_type": "code",
   "execution_count": null,
   "id": "738c9545-f0b0-46c4-9806-2f64ff970272",
   "metadata": {
    "ExecuteTime": {
     "end_time": "2024-03-07T07:53:11.209568Z",
     "start_time": "2024-03-07T07:52:52.877500Z"
    }
   },
   "outputs": [],
   "source": [
    "#原有模型基础上，改造为能直接处理原始字符的模型\n",
    "#将vectorize_layer加入原有模型的最上层\n",
    "\n",
    "export_model = tf.keras.Sequential([\n",
    "    vectorize_layer,\n",
    "    model,\n",
    "    layers.Activation('sigmoid')\n",
    "])\n",
    "\n",
    "\n",
    "# bce 概率值值域范围 [0, 1]\n",
    "#则应该设置为 from_logits=False，否则设置为True\n",
    "\n",
    "export_model.compile(\n",
    "    loss=losses.BinaryCrossentropy(from_logits=False), optimizer=\"nadam\", metrics=['accuracy']\n",
    ")\n",
    "\n",
    "# 直接评估，无需拟合，使用raw数据集\n",
    "export_model.evaluate(raw_test_ds)\n",
    "\n",
    "\n",
    "examples = [\n",
    "  \"The movie was great!\",\n",
    "  \"The movie was okay.\",\n",
    "  \"The movie was terrible...\"\n",
    "]\n",
    "\n",
    "export_model.predict(examples)"
   ]
  },
  {
   "cell_type": "markdown",
   "id": "7310622f-9a4b-4a80-b7f9-c3abb31dcfb8",
   "metadata": {},
   "source": [
    "## RNN"
   ]
  },
  {
   "cell_type": "code",
   "execution_count": 49,
   "id": "9526fa86-f1b4-48a1-8944-d4b014129272",
   "metadata": {},
   "outputs": [
    {
     "name": "stdout",
     "output_type": "stream",
     "text": [
      "Model: \"sequential_3\"\n",
      "_________________________________________________________________\n",
      " Layer (type)                Output Shape              Param #   \n",
      "=================================================================\n",
      " embedding_2 (Embedding)     (None, None, 64)          640064    \n",
      "                                                                 \n",
      " bidirectional_2 (Bidirecti  (None, 128)               66048     \n",
      " onal)                                                           \n",
      "                                                                 \n",
      " dense_4 (Dense)             (None, 64)                8256      \n",
      "                                                                 \n",
      " dense_5 (Dense)             (None, 1)                 65        \n",
      "                                                                 \n",
      "=================================================================\n",
      "Total params: 714433 (2.73 MB)\n",
      "Trainable params: 714433 (2.73 MB)\n",
      "Non-trainable params: 0 (0.00 Byte)\n",
      "_________________________________________________________________\n"
     ]
    }
   ],
   "source": [
    "rnn_model = tf.keras.Sequential([\n",
    "    layers.Embedding(max_features + 1, embedding_dim,mask_zero=True),\n",
    "    layers.Bidirectional(layers.LSTM(64)),\n",
    "    layers.Dense(64,activation=\"relu\"),\n",
    "    layers.Dense(1)\n",
    "])\n",
    "rnn_model.summary()"
   ]
  },
  {
   "cell_type": "code",
   "execution_count": 52,
   "id": "e959fd51-188b-4833-aa34-698bf853eba0",
   "metadata": {},
   "outputs": [
    {
     "name": "stdout",
     "output_type": "stream",
     "text": [
      "Epoch 1/10\n",
      "625/625 [==============================] - 60s 88ms/step - loss: 0.5852 - accuracy: 0.6247 - val_loss: 0.3895 - val_accuracy: 0.8164\n",
      "Epoch 2/10\n",
      "625/625 [==============================] - 32s 51ms/step - loss: 0.3225 - accuracy: 0.8658 - val_loss: 0.3257 - val_accuracy: 0.8560\n",
      "Epoch 3/10\n",
      "625/625 [==============================] - 32s 51ms/step - loss: 0.2374 - accuracy: 0.9100 - val_loss: 0.3470 - val_accuracy: 0.8642\n",
      "Epoch 4/10\n",
      "625/625 [==============================] - 32s 51ms/step - loss: 0.1890 - accuracy: 0.9318 - val_loss: 0.3387 - val_accuracy: 0.8704\n",
      "Epoch 5/10\n",
      "625/625 [==============================] - 32s 51ms/step - loss: 0.1552 - accuracy: 0.9455 - val_loss: 0.3686 - val_accuracy: 0.8714\n",
      "Epoch 6/10\n",
      "625/625 [==============================] - 32s 51ms/step - loss: 0.1359 - accuracy: 0.9536 - val_loss: 0.3683 - val_accuracy: 0.8734\n",
      "Epoch 7/10\n",
      "625/625 [==============================] - 32s 52ms/step - loss: 0.1248 - accuracy: 0.9581 - val_loss: 0.4016 - val_accuracy: 0.8670\n",
      "Epoch 8/10\n",
      "625/625 [==============================] - 32s 51ms/step - loss: 0.1111 - accuracy: 0.9636 - val_loss: 0.4602 - val_accuracy: 0.8578\n",
      "Epoch 9/10\n",
      "625/625 [==============================] - 32s 51ms/step - loss: 0.0944 - accuracy: 0.9694 - val_loss: 0.4756 - val_accuracy: 0.8576\n",
      "Epoch 10/10\n",
      "625/625 [==============================] - 32s 51ms/step - loss: 0.0869 - accuracy: 0.9714 - val_loss: 0.4910 - val_accuracy: 0.8594\n"
     ]
    }
   ],
   "source": [
    "keras.backend.clear_session()\n",
    "tf.random.set_seed(42)\n",
    "np.random.seed(42)\n",
    " \n",
    "optimizer = keras.optimizers.Adam(learning_rate=1e-4)\n",
    "\n",
    "rnn_model.compile(loss=losses.BinaryCrossentropy(from_logits=True), #二元交叉熵\n",
    "              optimizer=optimizer,\n",
    "              metrics=['accuracy'])\n",
    "    \n",
    "history = rnn_model.fit(\n",
    "    train_ds,\n",
    "    validation_data=val_ds,\n",
    "    epochs=10)  "
   ]
  },
  {
   "cell_type": "code",
   "execution_count": 54,
   "id": "4af0a4bb-e6b7-499c-9d5a-a51b44756f78",
   "metadata": {},
   "outputs": [
    {
     "name": "stdout",
     "output_type": "stream",
     "text": [
      "782/782 [==============================] - 7s 9ms/step - loss: 0.4482 - accuracy: 0.8280\n",
      "1/1 [==============================] - 2s 2s/step\n"
     ]
    },
    {
     "data": {
      "text/plain": [
       "array([[0.70606035],\n",
       "       [0.20145966],\n",
       "       [0.1363936 ]], dtype=float32)"
      ]
     },
     "execution_count": 54,
     "metadata": {},
     "output_type": "execute_result"
    }
   ],
   "source": [
    "export_rnnmodel = tf.keras.Sequential([\n",
    "    vectorize_layer,\n",
    "    rnn_model,\n",
    "    layers.Activation('sigmoid')\n",
    "])\n",
    "\n",
    "\n",
    "# bce 概率值值域范围 [0, 1]\n",
    "#则应该设置为 from_logits=False，否则设置为True\n",
    "\n",
    "export_rnnmodel.compile(\n",
    "    loss=losses.BinaryCrossentropy(from_logits=True), optimizer=optimizer, metrics=['accuracy']\n",
    ")\n",
    "\n",
    "# 直接评估，无需拟合，使用raw数据集\n",
    "export_model.evaluate(raw_test_ds)\n",
    "\n",
    "examples = [\n",
    "  \"The movie was great!\",\n",
    "  \"The movie was okay.\",\n",
    "  \"The movie was terrible...\"\n",
    "]\n",
    "\n",
    "export_rnnmodel.predict(examples)"
   ]
  },
  {
   "cell_type": "markdown",
   "id": "e9e1366c",
   "metadata": {},
   "source": [
    "## TF HUB"
   ]
  },
  {
   "cell_type": "code",
   "execution_count": 1,
   "id": "91339ebf",
   "metadata": {
    "ExecuteTime": {
     "end_time": "2024-03-07T08:59:28.348477Z",
     "start_time": "2024-03-07T08:59:27.514254Z"
    }
   },
   "outputs": [
    {
     "name": "stderr",
     "output_type": "stream",
     "text": [
      "2024-05-13 17:55:15.772923: E external/local_xla/xla/stream_executor/cuda/cuda_dnn.cc:9261] Unable to register cuDNN factory: Attempting to register factory for plugin cuDNN when one has already been registered\n",
      "2024-05-13 17:55:15.772973: E external/local_xla/xla/stream_executor/cuda/cuda_fft.cc:607] Unable to register cuFFT factory: Attempting to register factory for plugin cuFFT when one has already been registered\n",
      "2024-05-13 17:55:15.773734: E external/local_xla/xla/stream_executor/cuda/cuda_blas.cc:1515] Unable to register cuBLAS factory: Attempting to register factory for plugin cuBLAS when one has already been registered\n",
      "2024-05-13 17:55:15.778130: I tensorflow/core/platform/cpu_feature_guard.cc:182] This TensorFlow binary is optimized to use available CPU instructions in performance-critical operations.\n",
      "To enable the following instructions: AVX2 FMA, in other operations, rebuild TensorFlow with the appropriate compiler flags.\n",
      "2024-05-13 17:55:16.437200: W tensorflow/compiler/tf2tensorrt/utils/py_utils.cc:38] TF-TRT Warning: Could not find TensorRT\n",
      "/tmp/tf-venv/lib/python3.10/site-packages/tqdm/auto.py:21: TqdmWarning: IProgress not found. Please update jupyter and ipywidgets. See https://ipywidgets.readthedocs.io/en/stable/user_install.html\n",
      "  from .autonotebook import tqdm as notebook_tqdm\n"
     ]
    }
   ],
   "source": [
    "#用TF_hub 处理embedding \n",
    "\n",
    "import os\n",
    "import numpy as np\n",
    "\n",
    "import tensorflow as tf\n",
    "import tensorflow_hub as hub\n",
    "import tensorflow_datasets as tfds"
   ]
  },
  {
   "cell_type": "code",
   "execution_count": 63,
   "id": "3f82fbae",
   "metadata": {
    "ExecuteTime": {
     "end_time": "2024-03-07T08:59:29.325134Z",
     "start_time": "2024-03-07T08:59:29.318133Z"
    }
   },
   "outputs": [
    {
     "name": "stdout",
     "output_type": "stream",
     "text": [
      "GPU is available\n"
     ]
    }
   ],
   "source": [
    "print(\"GPU is\", \"available\" if tf.config.list_physical_devices(\"GPU\") else \"NOT AVAILABLE\")"
   ]
  },
  {
   "cell_type": "code",
   "execution_count": 3,
   "id": "bfc11903",
   "metadata": {
    "ExecuteTime": {
     "end_time": "2024-03-08T00:19:51.536814Z",
     "start_time": "2024-03-08T00:19:51.417805Z"
    }
   },
   "outputs": [
    {
     "name": "stderr",
     "output_type": "stream",
     "text": [
      "2024-05-13 17:55:25.377408: I external/local_xla/xla/stream_executor/cuda/cuda_executor.cc:887] could not open file to read NUMA node: /sys/bus/pci/devices/0000:01:00.0/numa_node\n",
      "Your kernel may have been built without NUMA support.\n",
      "2024-05-13 17:55:25.396474: I external/local_xla/xla/stream_executor/cuda/cuda_executor.cc:887] could not open file to read NUMA node: /sys/bus/pci/devices/0000:01:00.0/numa_node\n",
      "Your kernel may have been built without NUMA support.\n",
      "2024-05-13 17:55:25.397312: I external/local_xla/xla/stream_executor/cuda/cuda_executor.cc:887] could not open file to read NUMA node: /sys/bus/pci/devices/0000:01:00.0/numa_node\n",
      "Your kernel may have been built without NUMA support.\n",
      "2024-05-13 17:55:25.399674: I external/local_xla/xla/stream_executor/cuda/cuda_executor.cc:887] could not open file to read NUMA node: /sys/bus/pci/devices/0000:01:00.0/numa_node\n",
      "Your kernel may have been built without NUMA support.\n",
      "2024-05-13 17:55:25.400533: I external/local_xla/xla/stream_executor/cuda/cuda_executor.cc:887] could not open file to read NUMA node: /sys/bus/pci/devices/0000:01:00.0/numa_node\n",
      "Your kernel may have been built without NUMA support.\n",
      "2024-05-13 17:55:25.401343: I external/local_xla/xla/stream_executor/cuda/cuda_executor.cc:887] could not open file to read NUMA node: /sys/bus/pci/devices/0000:01:00.0/numa_node\n",
      "Your kernel may have been built without NUMA support.\n",
      "2024-05-13 17:55:27.008981: I external/local_xla/xla/stream_executor/cuda/cuda_executor.cc:887] could not open file to read NUMA node: /sys/bus/pci/devices/0000:01:00.0/numa_node\n",
      "Your kernel may have been built without NUMA support.\n",
      "2024-05-13 17:55:27.009717: I external/local_xla/xla/stream_executor/cuda/cuda_executor.cc:887] could not open file to read NUMA node: /sys/bus/pci/devices/0000:01:00.0/numa_node\n",
      "Your kernel may have been built without NUMA support.\n",
      "2024-05-13 17:55:27.009734: I tensorflow/core/common_runtime/gpu/gpu_device.cc:2022] Could not identify NUMA node of platform GPU id 0, defaulting to 0.  Your kernel may not have been built with NUMA support.\n",
      "2024-05-13 17:55:27.010321: I external/local_xla/xla/stream_executor/cuda/cuda_executor.cc:887] could not open file to read NUMA node: /sys/bus/pci/devices/0000:01:00.0/numa_node\n",
      "Your kernel may have been built without NUMA support.\n",
      "2024-05-13 17:55:27.010343: I tensorflow/core/common_runtime/gpu/gpu_device.cc:1929] Created device /job:localhost/replica:0/task:0/device:GPU:0 with 5383 MB memory:  -> device: 0, name: NVIDIA GeForce RTX 3070 Ti, pci bus id: 0000:01:00.0, compute capability: 8.6\n",
      "WARNING:absl:options.experimental_threading is deprecated. Use options.threading instead.\n",
      "WARNING:absl:options.experimental_threading is deprecated. Use options.threading instead.\n",
      "WARNING:absl:options.experimental_threading is deprecated. Use options.threading instead.\n",
      "WARNING:absl:options.experimental_threading is deprecated. Use options.threading instead.\n",
      "WARNING:absl:options.experimental_threading is deprecated. Use options.threading instead.\n",
      "WARNING:absl:options.experimental_threading is deprecated. Use options.threading instead.\n"
     ]
    }
   ],
   "source": [
    "#使用标准数据集\n",
    "\n",
    "train_data, validation_data, test_data = tfds.load(\n",
    "    name=\"imdb_reviews\", \n",
    "    split=('train[:60%]', 'train[60%:]', 'test'),\n",
    "    as_supervised=True)"
   ]
  },
  {
   "cell_type": "code",
   "execution_count": 4,
   "id": "1dad4ef3",
   "metadata": {
    "ExecuteTime": {
     "end_time": "2024-03-07T08:59:33.424717Z",
     "start_time": "2024-03-07T08:59:33.359713Z"
    }
   },
   "outputs": [],
   "source": [
    "batch_size=128\n",
    "train_data=train_data.shuffle(10000).batch(batch_size)\n",
    "validation_data=validation_data.shuffle(10000).batch(batch_size)\n",
    "test_data=test_data.shuffle(10000).batch(batch_size)\n",
    "\n",
    "AUTOTUNE = tf.data.AUTOTUNE\n",
    "\n",
    "train_data = train_data.cache().prefetch(buffer_size=AUTOTUNE)\n",
    "validation_data = validation_data.cache().prefetch(buffer_size=AUTOTUNE)\n",
    "test_data = test_data.cache().prefetch(buffer_size=AUTOTUNE)"
   ]
  },
  {
   "cell_type": "markdown",
   "id": "db925c16",
   "metadata": {},
   "source": [
    "google/nnlm-en-dim50/2 可将句子拆分为词例，嵌入每个词例，然后组合嵌入向量\n",
    "\n",
    "google/nnlm-en-dim128/2 - 基于与 google/nnlm-en-dim50/2 相同的数据并使用相同的 NNLM 架构进行训练，但具有更大的嵌入向量维度。\n",
    "\n",
    "google/nnlm-en-dim128-with-normalization/2 - 与 google/nnlm-en-dim128/2 相同，但具有额外的文本归一化，例如移除标点符号。如果文本包含附加字符或标点符号，这会有所帮助。\n",
    "\n",
    "google/universal-sentence-encoder/4 - 一个可产生 512 维嵌入向量的大得多的模型，使用深度平均网络 (DAN) 编码器训练。\n",
    "\n",
    "embeding更大维度的嵌入向量可以改进任务，但可能需要更长的时间来训练模型。"
   ]
  },
  {
   "cell_type": "code",
   "execution_count": 5,
   "id": "7b09ec43",
   "metadata": {
    "ExecuteTime": {
     "end_time": "2024-03-07T09:14:04.568664Z",
     "start_time": "2024-03-07T09:14:03.932624Z"
    },
    "scrolled": true
   },
   "outputs": [],
   "source": [
    "embedding = \"https://tfhub.dev/google/nnlm-en-dim128-with-normalization/2\"\n",
    "hub_layer = hub.KerasLayer(embedding, input_shape=[], \n",
    "                           dtype=tf.string, trainable=True)\n"
   ]
  },
  {
   "cell_type": "code",
   "execution_count": 6,
   "id": "a9fef4d8",
   "metadata": {
    "ExecuteTime": {
     "end_time": "2024-03-08T01:45:32.206410Z",
     "start_time": "2024-03-08T01:45:32.159402Z"
    }
   },
   "outputs": [
    {
     "name": "stdout",
     "output_type": "stream",
     "text": [
      "Model: \"sequential\"\n",
      "_________________________________________________________________\n",
      " Layer (type)                Output Shape              Param #   \n",
      "=================================================================\n",
      " keras_layer (KerasLayer)    (None, 128)               124642688 \n",
      "                                                                 \n",
      " dropout (Dropout)           (None, 128)               0         \n",
      "                                                                 \n",
      " dense (Dense)               (None, 16)                2064      \n",
      "                                                                 \n",
      " dropout_1 (Dropout)         (None, 16)                0         \n",
      "                                                                 \n",
      " dense_1 (Dense)             (None, 1)                 17        \n",
      "                                                                 \n",
      "=================================================================\n",
      "Total params: 124644769 (475.48 MB)\n",
      "Trainable params: 124644769 (475.48 MB)\n",
      "Non-trainable params: 0 (0.00 Byte)\n",
      "_________________________________________________________________\n"
     ]
    }
   ],
   "source": [
    "model = tf.keras.Sequential()\n",
    "model.add(hub_layer)\n",
    "model.add(tf.keras.layers.Dropout(rate=0.2))\n",
    "model.add(tf.keras.layers.Dense(16))\n",
    "model.add(tf.keras.layers.Dropout(rate=0.2))\n",
    "model.add(tf.keras.layers.Dense(1, activation=\"sigmoid\"))\n",
    "\n",
    "model.summary()"
   ]
  },
  {
   "cell_type": "code",
   "execution_count": 7,
   "id": "4689f837",
   "metadata": {
    "ExecuteTime": {
     "end_time": "2024-03-08T01:49:08.205759Z",
     "start_time": "2024-03-08T01:45:36.073938Z"
    },
    "scrolled": true
   },
   "outputs": [
    {
     "name": "stdout",
     "output_type": "stream",
     "text": [
      "Epoch 1/20\n"
     ]
    },
    {
     "name": "stderr",
     "output_type": "stream",
     "text": [
      "2024-05-13 17:55:30.757832: I external/local_tsl/tsl/platform/default/subprocess.cc:304] Start cannot spawn child process: No such file or directory\n",
      "2024-05-13 17:55:33.511407: I external/local_xla/xla/service/service.cc:168] XLA service 0x7f529f070690 initialized for platform CUDA (this does not guarantee that XLA will be used). Devices:\n",
      "2024-05-13 17:55:33.511443: I external/local_xla/xla/service/service.cc:176]   StreamExecutor device (0): NVIDIA GeForce RTX 3070 Ti, Compute Capability 8.6\n",
      "2024-05-13 17:55:33.522787: I tensorflow/compiler/mlir/tensorflow/utils/dump_mlir_util.cc:269] disabling MLIR crash reproducer, set env var `MLIR_CRASH_REPRODUCER_DIRECTORY` to enable.\n",
      "2024-05-13 17:55:33.901850: I external/local_xla/xla/stream_executor/cuda/cuda_dnn.cc:454] Loaded cuDNN version 8907\n",
      "WARNING: All log messages before absl::InitializeLog() is called are written to STDERR\n",
      "I0000 00:00:1715594134.042079    8677 device_compiler.h:186] Compiled cluster using XLA!  This line is logged at most once for the lifetime of the process.\n"
     ]
    },
    {
     "name": "stdout",
     "output_type": "stream",
     "text": [
      "    118/Unknown - 22s 142ms/step - loss: 0.4847 - accuracy: 0.7716"
     ]
    },
    {
     "name": "stderr",
     "output_type": "stream",
     "text": [
      "2024-05-13 17:55:51.161131: I tensorflow/core/framework/local_rendezvous.cc:421] Local rendezvous recv item cancelled. Key hash: 8655504592911414377\n",
      "2024-05-13 17:55:51.161188: I tensorflow/core/framework/local_rendezvous.cc:421] Local rendezvous recv item cancelled. Key hash: 13129616213231508747\n",
      "2024-05-13 17:55:51.161197: I tensorflow/core/framework/local_rendezvous.cc:425] Local rendezvous send item cancelled. Key hash: 16606468093483628033\n",
      "2024-05-13 17:55:51.161202: I tensorflow/core/framework/local_rendezvous.cc:421] Local rendezvous recv item cancelled. Key hash: 13478886873540707594\n",
      "2024-05-13 17:55:52.721306: I tensorflow/core/framework/local_rendezvous.cc:421] Local rendezvous recv item cancelled. Key hash: 1509845957437982729\n",
      "2024-05-13 17:55:52.721362: I tensorflow/core/framework/local_rendezvous.cc:421] Local rendezvous recv item cancelled. Key hash: 18128827967002548081\n",
      "2024-05-13 17:55:52.721380: I tensorflow/core/framework/local_rendezvous.cc:421] Local rendezvous recv item cancelled. Key hash: 5532300076074167113\n",
      "2024-05-13 17:55:52.721390: I tensorflow/core/framework/local_rendezvous.cc:421] Local rendezvous recv item cancelled. Key hash: 18085342249381031109\n",
      "2024-05-13 17:55:52.721396: I tensorflow/core/framework/local_rendezvous.cc:425] Local rendezvous send item cancelled. Key hash: 12448760190528382815\n",
      "2024-05-13 17:55:52.721404: I tensorflow/core/framework/local_rendezvous.cc:421] Local rendezvous recv item cancelled. Key hash: 14023969779746580514\n",
      "2024-05-13 17:55:52.721411: I tensorflow/core/framework/local_rendezvous.cc:421] Local rendezvous recv item cancelled. Key hash: 8338941231305072710\n"
     ]
    },
    {
     "name": "stdout",
     "output_type": "stream",
     "text": [
      "118/118 [==============================] - 24s 160ms/step - loss: 0.4847 - accuracy: 0.7716 - val_loss: 0.3181 - val_accuracy: 0.8755\n",
      "Epoch 2/20\n",
      "118/118 [==============================] - 5s 45ms/step - loss: 0.2214 - accuracy: 0.9175 - val_loss: 0.2653 - val_accuracy: 0.8906\n",
      "Epoch 3/20\n",
      "118/118 [==============================] - 5s 40ms/step - loss: 0.1170 - accuracy: 0.9621 - val_loss: 0.2732 - val_accuracy: 0.8920\n",
      "Epoch 4/20\n",
      "118/118 [==============================] - 5s 41ms/step - loss: 0.0584 - accuracy: 0.9850 - val_loss: 0.2989 - val_accuracy: 0.8897\n",
      "Epoch 5/20\n",
      "118/118 [==============================] - 5s 41ms/step - loss: 0.0276 - accuracy: 0.9951 - val_loss: 0.3378 - val_accuracy: 0.8881\n",
      "Epoch 6/20\n",
      "118/118 [==============================] - 5s 41ms/step - loss: 0.0135 - accuracy: 0.9985 - val_loss: 0.4039 - val_accuracy: 0.8828\n",
      "Epoch 7/20\n",
      "118/118 [==============================] - 5s 41ms/step - loss: 0.0075 - accuracy: 0.9996 - val_loss: 0.4024 - val_accuracy: 0.8863\n",
      "Epoch 8/20\n",
      "118/118 [==============================] - 5s 41ms/step - loss: 0.0046 - accuracy: 0.9998 - val_loss: 0.4259 - val_accuracy: 0.8861\n",
      "Epoch 9/20\n",
      "118/118 [==============================] - 5s 40ms/step - loss: 0.0031 - accuracy: 1.0000 - val_loss: 0.4529 - val_accuracy: 0.8856\n",
      "Epoch 10/20\n",
      "118/118 [==============================] - 5s 41ms/step - loss: 0.0019 - accuracy: 1.0000 - val_loss: 0.4699 - val_accuracy: 0.8850\n",
      "Epoch 11/20\n",
      "118/118 [==============================] - 5s 41ms/step - loss: 0.0016 - accuracy: 1.0000 - val_loss: 0.4860 - val_accuracy: 0.8853\n",
      "Epoch 12/20\n",
      "118/118 [==============================] - 5s 43ms/step - loss: 0.0012 - accuracy: 1.0000 - val_loss: 0.5047 - val_accuracy: 0.8844\n"
     ]
    },
    {
     "data": {
      "text/plain": [
       "<keras.src.callbacks.History at 0x7f54311e7c70>"
      ]
     },
     "execution_count": 7,
     "metadata": {},
     "output_type": "execute_result"
    }
   ],
   "source": [
    "keras.backend.clear_session()\n",
    "tf.random.set_seed(42)\n",
    "np.random.seed(42)\n",
    "\n",
    "model.compile(optimizer='nadam',\n",
    "              loss=\"binary_crossentropy\",\n",
    "              metrics=['accuracy'])\n",
    "\n",
    "early_stopping_cb = keras.callbacks.EarlyStopping(patience=10,restore_best_weights=True)\n",
    "\n",
    "callbacks = [early_stopping_cb]\n",
    "\n",
    "model.fit(train_data,epochs=20,validation_data=validation_data,callbacks=callbacks)\n"
   ]
  },
  {
   "cell_type": "code",
   "execution_count": 8,
   "id": "a9667851-d231-45f3-9acc-bc8bac4f824f",
   "metadata": {
    "ExecuteTime": {
     "end_time": "2024-03-07T07:53:11.209568Z",
     "start_time": "2024-03-07T07:52:52.877500Z"
    }
   },
   "outputs": [
    {
     "name": "stdout",
     "output_type": "stream",
     "text": [
      "1/1 [==============================] - 0s 144ms/step\n"
     ]
    },
    {
     "data": {
      "text/plain": [
       "array([[0.91712916],\n",
       "       [0.03847715],\n",
       "       [0.02303125]], dtype=float32)"
      ]
     },
     "execution_count": 8,
     "metadata": {},
     "output_type": "execute_result"
    }
   ],
   "source": [
    "examples = [\n",
    "  \"The movie was great!\",\n",
    "  \"The movie was okay.\",\n",
    "  \"The movie was terrible...\"\n",
    "]\n",
    "\n",
    "model.predict(examples)"
   ]
  },
  {
   "cell_type": "code",
   "execution_count": 5,
   "id": "ea011c82-0fc2-4883-9bdc-2c0d6d893db0",
   "metadata": {},
   "outputs": [
    {
     "name": "stdout",
     "output_type": "stream",
     "text": [
      "Epoch 1/10\n"
     ]
    },
    {
     "name": "stderr",
     "output_type": "stream",
     "text": [
      "2024-05-13 17:45:02.520464: I external/local_tsl/tsl/platform/default/subprocess.cc:304] Start cannot spawn child process: No such file or directory\n",
      "2024-05-13 17:45:06.719282: I external/local_xla/xla/service/service.cc:168] XLA service 0x7f57d8820fe0 initialized for platform CUDA (this does not guarantee that XLA will be used). Devices:\n",
      "2024-05-13 17:45:06.719326: I external/local_xla/xla/service/service.cc:176]   StreamExecutor device (0): NVIDIA GeForce RTX 3070 Ti, Compute Capability 8.6\n",
      "2024-05-13 17:45:06.728605: I tensorflow/compiler/mlir/tensorflow/utils/dump_mlir_util.cc:269] disabling MLIR crash reproducer, set env var `MLIR_CRASH_REPRODUCER_DIRECTORY` to enable.\n",
      "2024-05-13 17:45:07.124385: I external/local_xla/xla/stream_executor/cuda/cuda_dnn.cc:454] Loaded cuDNN version 8907\n",
      "WARNING: All log messages before absl::InitializeLog() is called are written to STDERR\n",
      "I0000 00:00:1715593507.215452    5043 device_compiler.h:186] Compiled cluster using XLA!  This line is logged at most once for the lifetime of the process.\n"
     ]
    },
    {
     "name": "stdout",
     "output_type": "stream",
     "text": [
      "     30/Unknown - 18s 368ms/step - loss: 0.6422 - accuracy: 0.7447"
     ]
    },
    {
     "name": "stderr",
     "output_type": "stream",
     "text": [
      "2024-05-13 17:45:18.186639: I tensorflow/core/framework/local_rendezvous.cc:421] Local rendezvous recv item cancelled. Key hash: 557259374750571018\n",
      "2024-05-13 17:45:18.186689: I tensorflow/core/framework/local_rendezvous.cc:421] Local rendezvous recv item cancelled. Key hash: 216895997430162184\n",
      "2024-05-13 17:45:18.186698: I tensorflow/core/framework/local_rendezvous.cc:421] Local rendezvous recv item cancelled. Key hash: 8705431586155211878\n",
      "2024-05-13 17:45:18.186702: I tensorflow/core/framework/local_rendezvous.cc:421] Local rendezvous recv item cancelled. Key hash: 4628808811377923572\n",
      "2024-05-13 17:45:18.186707: I tensorflow/core/framework/local_rendezvous.cc:421] Local rendezvous recv item cancelled. Key hash: 9277601249586903393\n",
      "2024-05-13 17:45:18.186711: I tensorflow/core/framework/local_rendezvous.cc:421] Local rendezvous recv item cancelled. Key hash: 2171447169088281305\n",
      "2024-05-13 17:45:18.186715: I tensorflow/core/framework/local_rendezvous.cc:421] Local rendezvous recv item cancelled. Key hash: 16432864432670096609\n"
     ]
    },
    {
     "name": "stdout",
     "output_type": "stream",
     "text": [
      "30/30 [==============================] - 26s 658ms/step - loss: 0.6422 - accuracy: 0.7447 - val_loss: 0.5631 - val_accuracy: 0.8163\n",
      "Epoch 2/10\n"
     ]
    },
    {
     "name": "stderr",
     "output_type": "stream",
     "text": [
      "2024-05-13 17:45:26.566990: I tensorflow/core/framework/local_rendezvous.cc:421] Local rendezvous recv item cancelled. Key hash: 12119825626211117688\n",
      "2024-05-13 17:45:26.567039: I tensorflow/core/framework/local_rendezvous.cc:421] Local rendezvous recv item cancelled. Key hash: 10659778076354316836\n",
      "2024-05-13 17:45:26.567048: I tensorflow/core/framework/local_rendezvous.cc:421] Local rendezvous recv item cancelled. Key hash: 16618862722038125782\n",
      "2024-05-13 17:45:26.567052: I tensorflow/core/framework/local_rendezvous.cc:421] Local rendezvous recv item cancelled. Key hash: 14705137502618824216\n",
      "2024-05-13 17:45:26.567056: I tensorflow/core/framework/local_rendezvous.cc:421] Local rendezvous recv item cancelled. Key hash: 10310341642964228473\n",
      "2024-05-13 17:45:26.567060: I tensorflow/core/framework/local_rendezvous.cc:425] Local rendezvous send item cancelled. Key hash: 15119955862671645257\n",
      "2024-05-13 17:45:26.567063: I tensorflow/core/framework/local_rendezvous.cc:421] Local rendezvous recv item cancelled. Key hash: 8339494769992934661\n",
      "2024-05-13 17:45:26.567069: I tensorflow/core/framework/local_rendezvous.cc:421] Local rendezvous recv item cancelled. Key hash: 327124843647119305\n"
     ]
    },
    {
     "name": "stdout",
     "output_type": "stream",
     "text": [
      "30/30 [==============================] - 19s 638ms/step - loss: 0.4995 - accuracy: 0.8241 - val_loss: 0.4424 - val_accuracy: 0.8306\n",
      "Epoch 3/10\n",
      "30/30 [==============================] - 19s 641ms/step - loss: 0.4073 - accuracy: 0.8401 - val_loss: 0.3841 - val_accuracy: 0.8433\n",
      "Epoch 4/10\n",
      "30/30 [==============================] - 19s 640ms/step - loss: 0.3646 - accuracy: 0.8511 - val_loss: 0.3587 - val_accuracy: 0.8485\n",
      "Epoch 5/10\n",
      "30/30 [==============================] - 19s 633ms/step - loss: 0.3444 - accuracy: 0.8569 - val_loss: 0.3463 - val_accuracy: 0.8512\n",
      "Epoch 6/10\n",
      "30/30 [==============================] - 19s 649ms/step - loss: 0.3336 - accuracy: 0.8595 - val_loss: 0.3395 - val_accuracy: 0.8521\n",
      "Epoch 7/10\n",
      "30/30 [==============================] - 19s 630ms/step - loss: 0.3270 - accuracy: 0.8607 - val_loss: 0.3356 - val_accuracy: 0.8536\n",
      "Epoch 8/10\n",
      "30/30 [==============================] - 18s 622ms/step - loss: 0.3227 - accuracy: 0.8623 - val_loss: 0.3333 - val_accuracy: 0.8541\n",
      "Epoch 9/10\n",
      "30/30 [==============================] - 19s 640ms/step - loss: 0.3197 - accuracy: 0.8644 - val_loss: 0.3318 - val_accuracy: 0.8542\n",
      "Epoch 10/10\n",
      "30/30 [==============================] - 18s 619ms/step - loss: 0.3175 - accuracy: 0.8655 - val_loss: 0.3308 - val_accuracy: 0.8547\n"
     ]
    },
    {
     "data": {
      "text/plain": [
       "<keras.src.callbacks.History at 0x7f58f80f8c40>"
      ]
     },
     "execution_count": 5,
     "metadata": {},
     "output_type": "execute_result"
    }
   ],
   "source": [
    "#使用谷歌最大的自然语言模型,模型过大训练太慢\n",
    "model = tf.keras.Sequential([\n",
    "    hub.KerasLayer(\"https://tfhub.dev/google/universal-sentence-encoder/4\",\n",
    "                   trainable=False, dtype=tf.string, input_shape=[]),\n",
    "    tf.keras.layers.Dense(64, activation=\"relu\"),\n",
    "    tf.keras.layers.Dense(1, activation=\"sigmoid\")\n",
    "])\n",
    "\n",
    "model.compile(loss=\"binary_crossentropy\", optimizer=\"nadam\",\n",
    "              metrics=[\"accuracy\"])\n",
    "\n",
    "model.fit(train_data,epochs=10,validation_data=validation_data)"
   ]
  },
  {
   "cell_type": "code",
   "execution_count": 7,
   "id": "b69096f3-e441-4dd9-8dd4-35e2f626667c",
   "metadata": {},
   "outputs": [
    {
     "name": "stdout",
     "output_type": "stream",
     "text": [
      "1/1 [==============================] - 0s 77ms/step\n"
     ]
    },
    {
     "data": {
      "text/plain": [
       "array([[0.29867086]], dtype=float32)"
      ]
     },
     "execution_count": 7,
     "metadata": {},
     "output_type": "execute_result"
    }
   ],
   "source": [
    "model.predict([\n",
    "  \"The movie was wonderfulllll !!!\"\n",
    "])"
   ]
  },
  {
   "cell_type": "markdown",
   "id": "8b0d5e78-73ac-4a6e-9178-3409b7e59cb8",
   "metadata": {},
   "source": [
    "## BERT"
   ]
  },
  {
   "cell_type": "code",
   "execution_count": null,
   "id": "09024848-01d6-47b7-b4d0-110020bb47ff",
   "metadata": {},
   "outputs": [],
   "source": []
  }
 ],
 "metadata": {
  "kernelspec": {
   "display_name": "Python 3 (ipykernel)",
   "language": "python",
   "name": "python3"
  },
  "language_info": {
   "codemirror_mode": {
    "name": "ipython",
    "version": 3
   },
   "file_extension": ".py",
   "mimetype": "text/x-python",
   "name": "python",
   "nbconvert_exporter": "python",
   "pygments_lexer": "ipython3",
   "version": "3.10.12"
  }
 },
 "nbformat": 4,
 "nbformat_minor": 5
}
