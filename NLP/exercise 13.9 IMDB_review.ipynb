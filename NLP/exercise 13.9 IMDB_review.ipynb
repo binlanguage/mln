{
 "cells": [
  {
   "cell_type": "code",
   "execution_count": 24,
   "id": "fdc4e3a4",
   "metadata": {
    "ExecuteTime": {
     "end_time": "2024-03-08T00:08:52.296514Z",
     "start_time": "2024-03-08T00:08:52.293514Z"
    }
   },
   "outputs": [],
   "source": [
    "# exercise 13.9\n",
    "#下载 Large Movie Review Dataset，它包含 50000 条 IMDB 的影评。数据分为两个目录，train和test，\n",
    "#每个包含 12500 条正面评价和 12500 条负面评价。每条评价都存在独立的文本文件中。\n",
    "\n",
    "import matplotlib.pyplot as plt\n",
    "import os\n",
    "import re\n",
    "import shutil\n",
    "import string\n",
    "import tensorflow as tf\n",
    "import keras\n",
    "import numpy as np\n",
    "import pandas as pd\n",
    "from tensorflow.keras import layers\n",
    "from tensorflow.keras import losses"
   ]
  },
  {
   "cell_type": "markdown",
   "id": "0d456f31-0cf3-4029-8fc4-d1757fad1c98",
   "metadata": {},
   "source": [
    "# IMDB review"
   ]
  },
  {
   "cell_type": "code",
   "execution_count": 25,
   "id": "b9e61f72",
   "metadata": {
    "ExecuteTime": {
     "end_time": "2024-03-08T00:09:00.975363Z",
     "start_time": "2024-03-08T00:09:00.970359Z"
    },
    "run_control": {
     "marked": true
    }
   },
   "outputs": [
    {
     "data": {
      "text/plain": [
       "['imdbEr.txt', 'imdb.vocab', 'test', 'train', 'README']"
      ]
     },
     "execution_count": 25,
     "metadata": {},
     "output_type": "execute_result"
    }
   ],
   "source": [
    "url = \"https://ai.stanford.edu/~amaas/data/sentiment/aclImdb_v1.tar.gz\"\n",
    "\n",
    "dataset = tf.keras.utils.get_file(\"aclImdb_v1\", url,\n",
    "                                    untar=True, cache_dir='.',\n",
    "                                    cache_subdir='')\n",
    "\n",
    "dataset_dir = os.path.join(os.path.dirname(dataset), 'aclImdb')\n",
    "\n",
    "#获取目录结构\n",
    "os.listdir(dataset_dir)"
   ]
  },
  {
   "cell_type": "code",
   "execution_count": 26,
   "id": "7fc5c053",
   "metadata": {
    "ExecuteTime": {
     "end_time": "2024-03-08T00:09:10.164333Z",
     "start_time": "2024-03-08T00:09:10.159324Z"
    }
   },
   "outputs": [
    {
     "data": {
      "text/plain": [
       "['labeledBow.feat',\n",
       " 'neg',\n",
       " 'unsupBow.feat',\n",
       " 'urls_pos.txt',\n",
       " 'pos',\n",
       " 'urls_neg.txt',\n",
       " 'urls_unsup.txt',\n",
       " 'unsup']"
      ]
     },
     "execution_count": 26,
     "metadata": {},
     "output_type": "execute_result"
    }
   ],
   "source": [
    "#train目录结构\n",
    "train_dir = os.path.join(dataset_dir, 'train')\n",
    "os.listdir(train_dir)"
   ]
  },
  {
   "cell_type": "code",
   "execution_count": 19,
   "id": "13ef33e8",
   "metadata": {
    "ExecuteTime": {
     "end_time": "2024-03-07T06:17:46.820130Z",
     "start_time": "2024-03-07T06:17:46.813134Z"
    }
   },
   "outputs": [
    {
     "name": "stdout",
     "output_type": "stream",
     "text": [
      "Rachel Griffiths writes and directs this award winning short film. A heartwarming story about coping with grief and cherishing the memory of those we've loved and lost. Although, only 15 minutes long, Griffiths manages to capture so much emotion and truth onto film in the short space of time. Bud Tingwell gives a touching performance as Will, a widower struggling to cope with his wife's death. Will is confronted by the harsh reality of loneliness and helplessness as he proceeds to take care of Ruth's pet cow, Tulip. The film displays the grief and responsibility one feels for those they have loved and lost. Good cinematography, great direction, and superbly acted. It will bring tears to all those who have lost a loved one, and survived.\n"
     ]
    }
   ],
   "source": [
    "#随机读取一条评论\n",
    "sample_file = os.path.join(train_dir, 'pos/1181_9.txt')\n",
    "with open(sample_file) as f:\n",
    "    print(f.read())"
   ]
  },
  {
   "cell_type": "code",
   "execution_count": 27,
   "id": "e0e54267",
   "metadata": {
    "ExecuteTime": {
     "end_time": "2024-03-07T06:19:42.184423Z",
     "start_time": "2024-03-07T06:19:42.045417Z"
    }
   },
   "outputs": [],
   "source": [
    "\n",
    "# 正面负面评论分别位于  aclImdb/train/pos 和 aclImdb/train/neg\n",
    "# 删除unsup \n",
    "remove_dir = os.path.join(train_dir, 'unsup')\n",
    "shutil.rmtree(remove_dir)"
   ]
  },
  {
   "cell_type": "code",
   "execution_count": 28,
   "id": "66be9329",
   "metadata": {
    "ExecuteTime": {
     "end_time": "2024-03-07T06:19:59.877917Z",
     "start_time": "2024-03-07T06:19:59.873916Z"
    }
   },
   "outputs": [
    {
     "data": {
      "text/plain": [
       "['labeledBow.feat',\n",
       " 'neg',\n",
       " 'unsupBow.feat',\n",
       " 'urls_pos.txt',\n",
       " 'pos',\n",
       " 'urls_neg.txt',\n",
       " 'urls_unsup.txt']"
      ]
     },
     "execution_count": 28,
     "metadata": {},
     "output_type": "execute_result"
    }
   ],
   "source": [
    "#没有unsup文件夹了\n",
    "os.listdir(train_dir)"
   ]
  },
  {
   "cell_type": "code",
   "execution_count": 29,
   "id": "e7d50331",
   "metadata": {
    "ExecuteTime": {
     "end_time": "2024-03-08T00:09:27.728753Z",
     "start_time": "2024-03-08T00:09:26.391187Z"
    }
   },
   "outputs": [
    {
     "name": "stdout",
     "output_type": "stream",
     "text": [
      "Found 25000 files belonging to 2 classes.\n",
      "Using 20000 files for training.\n"
     ]
    }
   ],
   "source": [
    "#文件夹有train test数据集，缺少valid数据集\n",
    "#通过validation_split 参数，使用 80:20 拆分训练数据来创建验证集。\n",
    "#使用 text_dataset_from_directory 工具进行二元分类，不同文件夹的文本即对应不同标签\n",
    "batch_size = 32\n",
    "seed = 42\n",
    "\n",
    "raw_train_ds = tf.keras.utils.text_dataset_from_directory(\n",
    "    train_dir, \n",
    "    batch_size=batch_size, \n",
    "    validation_split=0.2, \n",
    "    subset='training', \n",
    "    seed=seed)"
   ]
  },
  {
   "cell_type": "code",
   "execution_count": 30,
   "id": "d90e3c81",
   "metadata": {
    "ExecuteTime": {
     "end_time": "2024-03-07T06:26:01.477379Z",
     "start_time": "2024-03-07T06:26:01.219301Z"
    },
    "scrolled": true
   },
   "outputs": [
    {
     "name": "stdout",
     "output_type": "stream",
     "text": [
      "Review b\"Mild Spoilers<br /><br />In the near future, Arnold stars as Ben Richards, a wrongly convicted man coerced into playing 'The Running Man', a deadly TV game show where people have to keep moving to try and escape brutal deaths at the hands of the 'Stalkers'. Of course, people are expected to die eventually and its up to Arnold to prove the system wrong.<br /><br />I haven't read the Stephen King book, but this is a great film regardless, one of Arnold's best. He does what he does best in the action man role, delivering death with unforgettable one-liners. Classics are probably the 'He was a real pain in the neck' after strangling a guy with barb wire, and 'He had to split!', referring to whereabouts he just chain sawed someone vertically. Dawson is perfectly irritating as the TV presenter, and all the 'Stalkers' are suitably camp. The action is violent, but its an action film. That's the point. The film is fast paced, and at 90 minutes it doesn't overstay its welcome. <br /><br />With Starsky and Hutch's Paul Michael Glaser at the helm, and made in the wake of the success of The Terminator, previously this film was probably seen as just another mindless action vehicle for Arnold, and very far fetched. But today, anyone who watches a lot of TV could see how the film is getting closer to reality. I wouldn't be surprised if I turn on the TV in the 'near future' and see a show not to far from this.<br /><br />On that depressing note, I must however recommend 'The Running Man' to anyone who likes the 80s, Arnold, ridiculous acts or violence or just a good action film. 9. 5 / 10\"\n",
      "Label 1\n",
      "Review b\"To get in touch with the beauty of this film pay close attention to the sound track, not only the music, but the way all sounds help to weave the imagery. How beautifully the opening scene leading to the expulsion of Gino establishes the theme of moral ambiguity! Note the way music introduces the characters as we are led inside Giovanna's marriage. Don't expect to find much here of the political life of Italy in 1943. That's not what this is about. On the other hand, if you are susceptible to the music of images and sounds, you will be led into a word that reaches beyond neo-realism. By the end of the film we there are moments Antonioni-like landscape that has more to do with the inner life of the characters than with real places. This is one of my favorite Visconti films.\"\n",
      "Label 1\n",
      "Review b'It is rare that one comes across a movie as flawless as this. It\\'s truly one of the best acted, most tightly structured films I\\'ve ever seen. Every line of dialogue can be interpreted in several ways, relating to each of the three main characters differently. The film weaves an intrinsic web of motivations and double crosses that snare you and refuse to let go. Add to this that the slow-burning romance between Kevin and Faye is as moving as anything that\\'s ever been committed to celluloid and you have the ingredients for a perfect film. It exposes the romance of movies such as \"Titanic\" as the trite cliches they are. If you\\'re looking for a movie to watch while you fold laundry, this isn\\'t it. You have to commit yourself to this film. You can\\'t have a conversation while running in and out of the room. This movie demands your attention. Treat it with the respect you deserve and you\\'ll get a lot out of it. Unless you think \"Titanic\" is the greatest film ever.'\n",
      "Label 1\n"
     ]
    }
   ],
   "source": [
    "#取一批raw_train 数据（32个），打印三个\n",
    "for text_batch, label_batch in raw_train_ds.take(1):\n",
    "    for i in range(3):\n",
    "        print(\"Review\", text_batch.numpy()[i])\n",
    "        print(\"Label\", label_batch.numpy()[i])"
   ]
  },
  {
   "cell_type": "code",
   "execution_count": 31,
   "id": "0141d1a7",
   "metadata": {
    "ExecuteTime": {
     "end_time": "2024-03-07T06:28:15.577461Z",
     "start_time": "2024-03-07T06:28:15.573460Z"
    }
   },
   "outputs": [
    {
     "data": {
      "text/plain": [
       "['neg', 'pos']"
      ]
     },
     "execution_count": 31,
     "metadata": {},
     "output_type": "execute_result"
    }
   ],
   "source": [
    "#通过文件名和label名，确定label 0 表示 neg，label 1 表示 pos\n",
    "raw_train_ds.class_names"
   ]
  },
  {
   "cell_type": "code",
   "execution_count": 32,
   "id": "5b53f597",
   "metadata": {
    "ExecuteTime": {
     "end_time": "2024-03-08T00:10:12.814097Z",
     "start_time": "2024-03-08T00:10:11.495886Z"
    }
   },
   "outputs": [
    {
     "name": "stdout",
     "output_type": "stream",
     "text": [
      "Found 25000 files belonging to 2 classes.\n",
      "Using 5000 files for validation.\n"
     ]
    }
   ],
   "source": [
    "#取验证集,确保和之前获取训练集函数使用一样的seed\n",
    "raw_val_ds = tf.keras.utils.text_dataset_from_directory(\n",
    "    train_dir, \n",
    "    batch_size=batch_size, \n",
    "    validation_split=0.2, \n",
    "    subset='validation', \n",
    "    seed=seed)"
   ]
  },
  {
   "cell_type": "code",
   "execution_count": 33,
   "id": "06a4ec43",
   "metadata": {
    "ExecuteTime": {
     "end_time": "2024-03-08T00:10:16.085551Z",
     "start_time": "2024-03-08T00:10:14.756472Z"
    }
   },
   "outputs": [
    {
     "name": "stdout",
     "output_type": "stream",
     "text": [
      "Found 25000 files belonging to 2 classes.\n"
     ]
    }
   ],
   "source": [
    "#测试集 25000个\n",
    "test_dir=os.path.join(dataset_dir,\"test\")\n",
    "raw_test_ds = tf.keras.utils.text_dataset_from_directory(\n",
    "    test_dir, \n",
    "    batch_size=batch_size)"
   ]
  },
  {
   "cell_type": "code",
   "execution_count": 34,
   "id": "519de24d",
   "metadata": {
    "ExecuteTime": {
     "end_time": "2024-03-08T00:10:17.993000Z",
     "start_time": "2024-03-08T00:10:17.988001Z"
    }
   },
   "outputs": [],
   "source": [
    "# 使用tf.keras.layers.TextVectorization 层对数据进行标准化、词例化和向量化\n",
    "# 为在训练和测试时间对数据进行相同的预处理，将 TextVectorization 层直接包含在模型中\n",
    "# 定义标准输入函数，处理大小写和换行符\n",
    "\n",
    "def custom_standardization(input_data):\n",
    "    lowercase = tf.strings.lower(input_data) #小写处理\n",
    "    stripped_html = tf.strings.regex_replace(lowercase, '<br />', ' ') #把<br /> 替换为空格\n",
    "    return tf.strings.regex_replace(stripped_html,\n",
    "                                    '[%s]' % re.escape(string.punctuation),'')\n",
    "\n",
    "#最后一行表示将所有标点符号正则转译为空符号"
   ]
  },
  {
   "cell_type": "code",
   "execution_count": 35,
   "id": "f21f2825",
   "metadata": {
    "ExecuteTime": {
     "end_time": "2024-03-08T00:11:07.604047Z",
     "start_time": "2024-03-08T00:11:07.597044Z"
    }
   },
   "outputs": [],
   "source": [
    "#创建一个 TextVectorization 层，该层对我们的数据进行标准化、词例化和向量化。\n",
    "#调用了之前定义的标准化函数\n",
    "#将 output_mode 设置为 int 以便为每个词例创建唯一的整数索引。\n",
    "\n",
    "max_features = 10000\n",
    "sequence_length = 250\n",
    "\n",
    "vectorize_layer = layers.TextVectorization(\n",
    "    standardize=custom_standardization,\n",
    "    max_tokens=max_features,\n",
    "    output_mode='int',\n",
    "    output_sequence_length=sequence_length)"
   ]
  },
  {
   "cell_type": "code",
   "execution_count": 36,
   "id": "7d3a1920",
   "metadata": {
    "ExecuteTime": {
     "end_time": "2024-03-08T00:11:25.544471Z",
     "start_time": "2024-03-08T00:11:11.043329Z"
    }
   },
   "outputs": [],
   "source": [
    "#调用 adapt 以使预处理层的状态适合数据集。使模型构建字符串到整数的索引。\n",
    "#对raw_train_ds 做map，去除标签\n",
    "train_text = raw_train_ds.map(lambda x, y: x)\n",
    "vectorize_layer.adapt(train_text)"
   ]
  },
  {
   "cell_type": "code",
   "execution_count": 37,
   "id": "b2b44b32",
   "metadata": {
    "ExecuteTime": {
     "end_time": "2024-03-08T00:13:57.763998Z",
     "start_time": "2024-03-08T00:13:57.524990Z"
    },
    "run_control": {
     "marked": true
    }
   },
   "outputs": [
    {
     "name": "stdout",
     "output_type": "stream",
     "text": [
      "Review tf.Tensor(b'This picture seemed way to slanted, it\\'s almost as bad as the drum beating of the right wing kooks who say everything is rosy in Iraq. It paints a picture so unredeemable that I can\\'t help but wonder about it\\'s legitimacy and bias. Also it seemed to meander from being about the murderous carnage of our troops to the lack of health care in the states for PTSD. To me the subject matter seemed confused, it only cared about portraying the military in a bad light, as A) an organzation that uses mind control to turn ordinary peace loving civilians into baby killers and B) an organization that once having used and spent the bodies of it\\'s soldiers then discards them to the despotic bureacracy of the V.A. This is a legitimate argument, but felt off topic for me, almost like a movie in and of itself. I felt that \"The War Tapes\" and \"Blood of my Brother\" were much more fair and let the viewer draw some conclusions of their own rather than be beaten over the head with the film makers viewpoint. F-', shape=(), dtype=string)\n",
      "Label neg\n"
     ]
    }
   ],
   "source": [
    "#创建一个函数来查看使用该层预处理一些数据的结果\n",
    "def vectorize_text(text, label):\n",
    "    text = tf.expand_dims(text, -1) #原始数据加一个维度\n",
    "    return vectorize_layer(text), label #多出来的维度就是label\n",
    "\n",
    "#每次执行下一个batch ，32个review加label\n",
    "text_batch, label_batch = next(iter(raw_train_ds))\n",
    "first_review, first_label = text_batch[0], label_batch[0]\n",
    "print(\"Review\", first_review)\n",
    "print(\"Label\", raw_train_ds.class_names[first_label])\n"
   ]
  },
  {
   "cell_type": "code",
   "execution_count": 30,
   "id": "050cf7a4",
   "metadata": {
    "ExecuteTime": {
     "end_time": "2024-03-07T07:03:38.822905Z",
     "start_time": "2024-03-07T07:03:38.814904Z"
    }
   },
   "outputs": [
    {
     "name": "stdout",
     "output_type": "stream",
     "text": [
      "Vectorized review (<tf.Tensor: shape=(1, 250), dtype=int64, numpy=\n",
      "array([[   2,    1,    7,    4,   73, 7844, 4199,  200,  188, 1397, 2232,\n",
      "           3,    4,   49,  111,    8,  695,    1,   71,  821,    4, 2324,\n",
      "         312,  215,   16,  452, 1038,   18,   71,   89,   61,   67,   93,\n",
      "          71,   77,  821,    2,   63,    5,  440,  100,   14,    4,  321,\n",
      "           1,   33,    1, 1528, 2032,    3,    4, 1560,    8, 2503,    2,\n",
      "        7382,    7,   40, 2735,    8,    2,   83, 9141,   71,   67,   46,\n",
      "         647,    5,    2, 2503,  329,    8,  188,    2,  136,    2,  357,\n",
      "        4745,  144,  368,  114,    2,  229,   28, 1752,    9,  501,   46,\n",
      "          58,  101,  725,  167,    4,  112,  743,   20,   48,  553,    8,\n",
      "         776,    2,    1, 4199,  200,    7,    4,  219,   67,   21,   61,\n",
      "          15, 6115, 9349,   18,   15,  302,   16,  112, 3496,   42,    2,\n",
      "        2936,    0,    0,    0,    0,    0,    0,    0,    0,    0,    0,\n",
      "           0,    0,    0,    0,    0,    0,    0,    0,    0,    0,    0,\n",
      "           0,    0,    0,    0,    0,    0,    0,    0,    0,    0,    0,\n",
      "           0,    0,    0,    0,    0,    0,    0,    0,    0,    0,    0,\n",
      "           0,    0,    0,    0,    0,    0,    0,    0,    0,    0,    0,\n",
      "           0,    0,    0,    0,    0,    0,    0,    0,    0,    0,    0,\n",
      "           0,    0,    0,    0,    0,    0,    0,    0,    0,    0,    0,\n",
      "           0,    0,    0,    0,    0,    0,    0,    0,    0,    0,    0,\n",
      "           0,    0,    0,    0,    0,    0,    0,    0,    0,    0,    0,\n",
      "           0,    0,    0,    0,    0,    0,    0,    0,    0,    0,    0,\n",
      "           0,    0,    0,    0,    0,    0,    0,    0,    0,    0,    0,\n",
      "           0,    0,    0,    0,    0,    0,    0,    0]])>, <tf.Tensor: shape=(), dtype=int32, numpy=1>)\n"
     ]
    }
   ],
   "source": [
    "print(\"Vectorized review\", vectorize_text(first_review, first_label))"
   ]
  },
  {
   "cell_type": "code",
   "execution_count": 31,
   "id": "9255628d",
   "metadata": {
    "ExecuteTime": {
     "end_time": "2024-03-07T07:04:46.379384Z",
     "start_time": "2024-03-07T07:04:46.359386Z"
    }
   },
   "outputs": [
    {
     "data": {
      "text/plain": [
       "'silent'"
      ]
     },
     "execution_count": 31,
     "metadata": {},
     "output_type": "execute_result"
    }
   ],
   "source": [
    "#该层上调用 .get_vocabulary() 来查找每个整数对应的词例（字符串）\n",
    "vectorize_layer.get_vocabulary()[1287]"
   ]
  },
  {
   "cell_type": "code",
   "execution_count": 32,
   "id": "f5fb192d",
   "metadata": {
    "ExecuteTime": {
     "end_time": "2024-03-07T07:05:24.817453Z",
     "start_time": "2024-03-07T07:05:24.796453Z"
    }
   },
   "outputs": [
    {
     "data": {
      "text/plain": [
       "10000"
      ]
     },
     "execution_count": 32,
     "metadata": {},
     "output_type": "execute_result"
    }
   ],
   "source": [
    "#一共一万个词汇，对应vectorize_layer 的max_feature\n",
    "len(vectorize_layer.get_vocabulary())"
   ]
  },
  {
   "cell_type": "code",
   "execution_count": 38,
   "id": "5d567547",
   "metadata": {
    "ExecuteTime": {
     "end_time": "2024-03-08T00:16:20.619077Z",
     "start_time": "2024-03-08T00:16:20.502069Z"
    }
   },
   "outputs": [],
   "source": [
    "#转换训练集，验证集，测试集\n",
    "\n",
    "train_ds = raw_train_ds.map(vectorize_text)\n",
    "val_ds = raw_val_ds.map(vectorize_text)\n",
    "test_ds = raw_test_ds.map(vectorize_text)"
   ]
  },
  {
   "cell_type": "code",
   "execution_count": 39,
   "id": "1851e19c",
   "metadata": {
    "ExecuteTime": {
     "end_time": "2024-03-08T00:16:22.894166Z",
     "start_time": "2024-03-08T00:16:22.886163Z"
    },
    "run_control": {
     "marked": false
    }
   },
   "outputs": [],
   "source": [
    "#加buffersize，将数据保存在可用内存中\n",
    "\n",
    "AUTOTUNE = tf.data.AUTOTUNE\n",
    "\n",
    "train_ds = train_ds.cache().prefetch(buffer_size=AUTOTUNE)\n",
    "val_ds = val_ds.cache().prefetch(buffer_size=AUTOTUNE)\n",
    "test_ds = test_ds.cache().prefetch(buffer_size=AUTOTUNE)"
   ]
  },
  {
   "cell_type": "markdown",
   "id": "c96d7de8-8347-4532-bf81-3a9b9293fa57",
   "metadata": {},
   "source": [
    "## CNN+dense"
   ]
  },
  {
   "cell_type": "code",
   "execution_count": 40,
   "id": "12e3ca36",
   "metadata": {
    "ExecuteTime": {
     "end_time": "2024-03-08T01:37:35.935426Z",
     "start_time": "2024-03-08T01:37:35.892421Z"
    }
   },
   "outputs": [
    {
     "name": "stdout",
     "output_type": "stream",
     "text": [
      "Model: \"sequential_1\"\n",
      "_________________________________________________________________\n",
      " Layer (type)                Output Shape              Param #   \n",
      "=================================================================\n",
      " embedding (Embedding)       (None, None, 64)          640064    \n",
      "                                                                 \n",
      " dropout (Dropout)           (None, None, 64)          0         \n",
      "                                                                 \n",
      " conv1d (Conv1D)             (None, None, 64)          20544     \n",
      "                                                                 \n",
      " global_max_pooling1d (Glob  (None, 64)                0         \n",
      " alMaxPooling1D)                                                 \n",
      "                                                                 \n",
      " dropout_1 (Dropout)         (None, 64)                0         \n",
      "                                                                 \n",
      " dense (Dense)               (None, 1)                 65        \n",
      "                                                                 \n",
      "=================================================================\n",
      "Total params: 660673 (2.52 MB)\n",
      "Trainable params: 660673 (2.52 MB)\n",
      "Non-trainable params: 0 (0.00 Byte)\n",
      "_________________________________________________________________\n"
     ]
    }
   ],
   "source": [
    "#创建模型\n",
    "#Embedding 层。此层采用整数编码的评论，并查找每个单词索引的嵌入向量。\n",
    "#这些向量是通过模型训练学习到的。向量向输出数组增加了一个维度\n",
    "#得到的维度为：(batch, sequence, embedding)\n",
    "\n",
    "#GlobalAveragePooling1D 将通过对序列维度求平均值来为每个样本返回一个定长输出向量\n",
    "#这允许模型以尽可能最简单的方式处理变长输入\n",
    "\n",
    "embedding_dim = 64\n",
    "model = tf.keras.Sequential([\n",
    "    layers.Embedding(max_features + 1, embedding_dim),\n",
    "    layers.Dropout(0.2),\n",
    "    layers.Conv1D(64,5,padding=\"valid\",activation=\"relu\",strides=2),\n",
    "    layers.GlobalMaxPool1D(),\n",
    "    layers.Dropout(0.2),\n",
    "    layers.Dense(1)\n",
    "])\n",
    "model.summary()"
   ]
  },
  {
   "cell_type": "code",
   "execution_count": 42,
   "id": "d444229f",
   "metadata": {
    "ExecuteTime": {
     "end_time": "2024-03-08T01:44:41.385294Z",
     "start_time": "2024-03-08T01:43:54.005755Z"
    },
    "scrolled": true
   },
   "outputs": [
    {
     "name": "stdout",
     "output_type": "stream",
     "text": [
      "Epoch 1/5\n",
      "625/625 [==============================] - 33s 52ms/step - loss: 0.2061 - binary_accuracy: 0.8186 - val_loss: 0.6267 - val_binary_accuracy: 0.7938\n",
      "Epoch 2/5\n",
      "625/625 [==============================] - 11s 17ms/step - loss: 0.1478 - binary_accuracy: 0.8753 - val_loss: 0.7082 - val_binary_accuracy: 0.7930\n",
      "Epoch 3/5\n",
      "625/625 [==============================] - 10s 16ms/step - loss: 0.1124 - binary_accuracy: 0.9003 - val_loss: 0.7670 - val_binary_accuracy: 0.8150\n",
      "Epoch 4/5\n",
      "625/625 [==============================] - 10s 17ms/step - loss: 0.0814 - binary_accuracy: 0.9332 - val_loss: 0.8409 - val_binary_accuracy: 0.8198\n",
      "Epoch 5/5\n",
      "625/625 [==============================] - 10s 17ms/step - loss: 0.1046 - binary_accuracy: 0.9179 - val_loss: 0.9232 - val_binary_accuracy: 0.8304\n"
     ]
    }
   ],
   "source": [
    "keras.backend.clear_session()\n",
    "tf.random.set_seed(42)\n",
    "np.random.seed(42)\n",
    " \n",
    "optimizer = keras.optimizers.Adam()\n",
    "\n",
    "model.compile(loss=losses.BinaryCrossentropy(from_logits=False), #二元交叉熵\n",
    "              optimizer=optimizer,\n",
    "              metrics=tf.metrics.BinaryAccuracy(threshold=0.0))\n",
    "    \n",
    "early_stopping_cb = keras.callbacks.EarlyStopping(patience=10,restore_best_weights=True)\n",
    "\n",
    "callbacks = [early_stopping_cb]\n",
    "\n",
    "epochs = 5\n",
    "history = model.fit(\n",
    "    train_ds,\n",
    "    validation_data=val_ds,\n",
    "    epochs=epochs)#, callbacks=callbacks)"
   ]
  },
  {
   "cell_type": "code",
   "execution_count": 43,
   "id": "1b90d027",
   "metadata": {
    "ExecuteTime": {
     "end_time": "2024-03-08T01:44:57.056525Z",
     "start_time": "2024-03-08T01:44:56.191405Z"
    }
   },
   "outputs": [
    {
     "data": {
      "image/png": "[encoded data removed]",
      "text/plain": [
       "<Figure size 640x480 with 1 Axes>"
      ]
     },
     "metadata": {},
     "output_type": "display_data"
    },
    {
     "name": "stdout",
     "output_type": "stream",
     "text": [
      "782/782 - 4s - loss: 1.0537 - binary_accuracy: 0.8280 - 4s/epoch - 6ms/step\n"
     ]
    },
    {
     "data": {
      "text/plain": [
       "[1.0537110567092896, 0.8279600143432617]"
      ]
     },
     "execution_count": 43,
     "metadata": {},
     "output_type": "execute_result"
    }
   ],
   "source": [
    "pd.DataFrame(history.history).plot() \n",
    "plt.grid(True)\n",
    "plt.show()\n",
    "model.evaluate(test_ds,verbose=2)"
   ]
  },
  {
   "cell_type": "code",
   "execution_count": null,
   "id": "738c9545-f0b0-46c4-9806-2f64ff970272",
   "metadata": {
    "ExecuteTime": {
     "end_time": "2024-03-07T07:53:11.209568Z",
     "start_time": "2024-03-07T07:52:52.877500Z"
    }
   },
   "outputs": [],
   "source": [
    "#原有模型基础上，改造为能直接处理原始字符的模型\n",
    "#将vectorize_layer加入原有模型的最上层\n",
    "\n",
    "export_model = tf.keras.Sequential([\n",
    "    vectorize_layer,\n",
    "    model,\n",
    "    layers.Activation('sigmoid')\n",
    "])\n",
    "\n",
    "\n",
    "# bce 概率值值域范围 [0, 1]\n",
    "#则应该设置为 from_logits=False，否则设置为True\n",
    "\n",
    "export_model.compile(\n",
    "    loss=losses.BinaryCrossentropy(from_logits=False), optimizer=\"nadam\", metrics=['accuracy']\n",
    ")\n",
    "\n",
    "# 直接评估，无需拟合，使用raw数据集\n",
    "export_model.evaluate(raw_test_ds)\n",
    "\n",
    "\n",
    "examples = [\n",
    "  \"The movie was great!\",\n",
    "  \"The movie was okay.\",\n",
    "  \"The movie was terrible...\"\n",
    "]\n",
    "\n",
    "export_model.predict(examples)"
   ]
  },
  {
   "cell_type": "markdown",
   "id": "7310622f-9a4b-4a80-b7f9-c3abb31dcfb8",
   "metadata": {},
   "source": [
    "## RNN"
   ]
  },
  {
   "cell_type": "code",
   "execution_count": 49,
   "id": "9526fa86-f1b4-48a1-8944-d4b014129272",
   "metadata": {},
   "outputs": [
    {
     "name": "stdout",
     "output_type": "stream",
     "text": [
      "Model: \"sequential_3\"\n",
      "_________________________________________________________________\n",
      " Layer (type)                Output Shape              Param #   \n",
      "=================================================================\n",
      " embedding_2 (Embedding)     (None, None, 64)          640064    \n",
      "                                                                 \n",
      " bidirectional_2 (Bidirecti  (None, 128)               66048     \n",
      " onal)                                                           \n",
      "                                                                 \n",
      " dense_4 (Dense)             (None, 64)                8256      \n",
      "                                                                 \n",
      " dense_5 (Dense)             (None, 1)                 65        \n",
      "                                                                 \n",
      "=================================================================\n",
      "Total params: 714433 (2.73 MB)\n",
      "Trainable params: 714433 (2.73 MB)\n",
      "Non-trainable params: 0 (0.00 Byte)\n",
      "_________________________________________________________________\n"
     ]
    }
   ],
   "source": [
    "rnn_model = tf.keras.Sequential([\n",
    "    layers.Embedding(max_features + 1, embedding_dim,mask_zero=True),\n",
    "    layers.Bidirectional(layers.LSTM(64)),\n",
    "    layers.Dense(64,activation=\"relu\"),\n",
    "    layers.Dense(1)\n",
    "])\n",
    "rnn_model.summary()"
   ]
  },
  {
   "cell_type": "code",
   "execution_count": 52,
   "id": "e959fd51-188b-4833-aa34-698bf853eba0",
   "metadata": {},
   "outputs": [
    {
     "name": "stdout",
     "output_type": "stream",
     "text": [
      "Epoch 1/10\n",
      "625/625 [==============================] - 60s 88ms/step - loss: 0.5852 - accuracy: 0.6247 - val_loss: 0.3895 - val_accuracy: 0.8164\n",
      "Epoch 2/10\n",
      "625/625 [==============================] - 32s 51ms/step - loss: 0.3225 - accuracy: 0.8658 - val_loss: 0.3257 - val_accuracy: 0.8560\n",
      "Epoch 3/10\n",
      "625/625 [==============================] - 32s 51ms/step - loss: 0.2374 - accuracy: 0.9100 - val_loss: 0.3470 - val_accuracy: 0.8642\n",
      "Epoch 4/10\n",
      "625/625 [==============================] - 32s 51ms/step - loss: 0.1890 - accuracy: 0.9318 - val_loss: 0.3387 - val_accuracy: 0.8704\n",
      "Epoch 5/10\n",
      "625/625 [==============================] - 32s 51ms/step - loss: 0.1552 - accuracy: 0.9455 - val_loss: 0.3686 - val_accuracy: 0.8714\n",
      "Epoch 6/10\n",
      "625/625 [==============================] - 32s 51ms/step - loss: 0.1359 - accuracy: 0.9536 - val_loss: 0.3683 - val_accuracy: 0.8734\n",
      "Epoch 7/10\n",
      "625/625 [==============================] - 32s 52ms/step - loss: 0.1248 - accuracy: 0.9581 - val_loss: 0.4016 - val_accuracy: 0.8670\n",
      "Epoch 8/10\n",
      "625/625 [==============================] - 32s 51ms/step - loss: 0.1111 - accuracy: 0.9636 - val_loss: 0.4602 - val_accuracy: 0.8578\n",
      "Epoch 9/10\n",
      "625/625 [==============================] - 32s 51ms/step - loss: 0.0944 - accuracy: 0.9694 - val_loss: 0.4756 - val_accuracy: 0.8576\n",
      "Epoch 10/10\n",
      "625/625 [==============================] - 32s 51ms/step - loss: 0.0869 - accuracy: 0.9714 - val_loss: 0.4910 - val_accuracy: 0.8594\n"
     ]
    }
   ],
   "source": [
    "keras.backend.clear_session()\n",
    "tf.random.set_seed(42)\n",
    "np.random.seed(42)\n",
    " \n",
    "optimizer = keras.optimizers.Adam(learning_rate=1e-4)\n",
    "\n",
    "rnn_model.compile(loss=losses.BinaryCrossentropy(from_logits=True), #二元交叉熵\n",
    "              optimizer=optimizer,\n",
    "              metrics=['accuracy'])\n",
    "    \n",
    "history = rnn_model.fit(\n",
    "    train_ds,\n",
    "    validation_data=val_ds,\n",
    "    epochs=10)  "
   ]
  },
  {
   "cell_type": "code",
   "execution_count": 54,
   "id": "4af0a4bb-e6b7-499c-9d5a-a51b44756f78",
   "metadata": {},
   "outputs": [
    {
     "name": "stdout",
     "output_type": "stream",
     "text": [
      "782/782 [==============================] - 7s 9ms/step - loss: 0.4482 - accuracy: 0.8280\n",
      "1/1 [==============================] - 2s 2s/step\n"
     ]
    },
    {
     "data": {
      "text/plain": [
       "array([[0.70606035],\n",
       "       [0.20145966],\n",
       "       [0.1363936 ]], dtype=float32)"
      ]
     },
     "execution_count": 54,
     "metadata": {},
     "output_type": "execute_result"
    }
   ],
   "source": [
    "export_rnnmodel = tf.keras.Sequential([\n",
    "    vectorize_layer,\n",
    "    rnn_model,\n",
    "    layers.Activation('sigmoid')\n",
    "])\n",
    "\n",
    "\n",
    "# bce 概率值值域范围 [0, 1]\n",
    "#则应该设置为 from_logits=False，否则设置为True\n",
    "\n",
    "export_rnnmodel.compile(\n",
    "    loss=losses.BinaryCrossentropy(from_logits=True), optimizer=optimizer, metrics=['accuracy']\n",
    ")\n",
    "\n",
    "# 直接评估，无需拟合，使用raw数据集\n",
    "export_model.evaluate(raw_test_ds)\n",
    "\n",
    "examples = [\n",
    "  \"The movie was great!\",\n",
    "  \"The movie was okay.\",\n",
    "  \"The movie was terrible...\"\n",
    "]\n",
    "\n",
    "export_rnnmodel.predict(examples)"
   ]
  },
  {
   "cell_type": "markdown",
   "id": "e9e1366c",
   "metadata": {},
   "source": [
    "## TF HUB"
   ]
  },
  {
   "cell_type": "code",
   "execution_count": 62,
   "id": "91339ebf",
   "metadata": {
    "ExecuteTime": {
     "end_time": "2024-03-07T08:59:28.348477Z",
     "start_time": "2024-03-07T08:59:27.514254Z"
    }
   },
   "outputs": [],
   "source": [
    "#用TF_hub 处理embedding \n",
    "\n",
    "import os\n",
    "import numpy as np\n",
    "\n",
    "import tensorflow as tf\n",
    "import tensorflow_hub as hub\n",
    "import tensorflow_datasets as tfds"
   ]
  },
  {
   "cell_type": "code",
   "execution_count": 63,
   "id": "3f82fbae",
   "metadata": {
    "ExecuteTime": {
     "end_time": "2024-03-07T08:59:29.325134Z",
     "start_time": "2024-03-07T08:59:29.318133Z"
    }
   },
   "outputs": [
    {
     "name": "stdout",
     "output_type": "stream",
     "text": [
      "GPU is available\n"
     ]
    }
   ],
   "source": [
    "print(\"GPU is\", \"available\" if tf.config.list_physical_devices(\"GPU\") else \"NOT AVAILABLE\")"
   ]
  },
  {
   "cell_type": "code",
   "execution_count": 64,
   "id": "bfc11903",
   "metadata": {
    "ExecuteTime": {
     "end_time": "2024-03-08T00:19:51.536814Z",
     "start_time": "2024-03-08T00:19:51.417805Z"
    }
   },
   "outputs": [
    {
     "name": "stderr",
     "output_type": "stream",
     "text": [
      "WARNING:absl:options.experimental_threading is deprecated. Use options.threading instead.\n",
      "WARNING:absl:options.experimental_threading is deprecated. Use options.threading instead.\n",
      "WARNING:absl:options.experimental_threading is deprecated. Use options.threading instead.\n",
      "WARNING:absl:options.experimental_threading is deprecated. Use options.threading instead.\n",
      "WARNING:absl:options.experimental_threading is deprecated. Use options.threading instead.\n",
      "WARNING:absl:options.experimental_threading is deprecated. Use options.threading instead.\n"
     ]
    }
   ],
   "source": [
    "#使用标准数据集\n",
    "\n",
    "train_data, validation_data, test_data = tfds.load(\n",
    "    name=\"imdb_reviews\", \n",
    "    split=('train[:60%]', 'train[60%:]', 'test'),\n",
    "    as_supervised=True)"
   ]
  },
  {
   "cell_type": "code",
   "execution_count": 65,
   "id": "1dad4ef3",
   "metadata": {
    "ExecuteTime": {
     "end_time": "2024-03-07T08:59:33.424717Z",
     "start_time": "2024-03-07T08:59:33.359713Z"
    }
   },
   "outputs": [
    {
     "data": {
      "text/plain": [
       "<tf.Tensor: shape=(10,), dtype=int64, numpy=array([0, 0, 0, 1, 1, 1, 0, 0, 0, 0])>"
      ]
     },
     "execution_count": 65,
     "metadata": {},
     "output_type": "execute_result"
    }
   ],
   "source": [
    "train_examples_batch, train_labels_batch = next(iter(train_data.batch(10)))\n",
    "\n",
    "AUTOTUNE = tf.data.AUTOTUNE\n",
    "\n",
    "train_data = train_data.cache().prefetch(buffer_size=AUTOTUNE)\n",
    "validation_data = validation_data.cache().prefetch(buffer_size=AUTOTUNE)\n",
    "test_data = test_data.cache().prefetch(buffer_size=AUTOTUNE)\n",
    "\n",
    "train_labels_batch"
   ]
  },
  {
   "cell_type": "markdown",
   "id": "db925c16",
   "metadata": {},
   "source": [
    "google/nnlm-en-dim50/2 可将句子拆分为词例，嵌入每个词例，然后组合嵌入向量\n",
    "\n",
    "google/nnlm-en-dim128/2 - 基于与 google/nnlm-en-dim50/2 相同的数据并使用相同的 NNLM 架构进行训练，但具有更大的嵌入向量维度。\n",
    "\n",
    "google/nnlm-en-dim128-with-normalization/2 - 与 google/nnlm-en-dim128/2 相同，但具有额外的文本归一化，例如移除标点符号。如果文本包含附加字符或标点符号，这会有所帮助。\n",
    "\n",
    "google/universal-sentence-encoder/4 - 一个可产生 512 维嵌入向量的大得多的模型，使用深度平均网络 (DAN) 编码器训练。\n",
    "\n",
    "embeding更大维度的嵌入向量可以改进任务，但可能需要更长的时间来训练模型。"
   ]
  },
  {
   "cell_type": "code",
   "execution_count": 66,
   "id": "7b09ec43",
   "metadata": {
    "ExecuteTime": {
     "end_time": "2024-03-07T09:14:04.568664Z",
     "start_time": "2024-03-07T09:14:03.932624Z"
    },
    "scrolled": true
   },
   "outputs": [
    {
     "data": {
      "text/plain": [
       "<tf.Tensor: shape=(3, 128), dtype=float32, numpy=\n",
       "array([[ 1.15015066e+00,  7.80130103e-02,  9.26615447e-02,\n",
       "         2.83361435e-01,  9.67164431e-03, -1.49186060e-01,\n",
       "         3.35665733e-01, -3.50244790e-01, -8.28830618e-03,\n",
       "        -1.87714081e-02, -3.33069824e-02, -6.33094192e-01,\n",
       "        -3.75421256e-01, -2.77732849e-01, -9.66175571e-02,\n",
       "         1.72553629e-01, -1.33676574e-01,  3.80765870e-02,\n",
       "        -2.75138199e-01,  4.94762301e-01,  3.93051840e-02,\n",
       "         1.34496227e-01, -2.70728230e-01,  1.78942848e-02,\n",
       "        -2.41071522e-01,  2.71089785e-02,  1.02333419e-01,\n",
       "        -1.06628530e-01,  5.24298586e-02,  1.19170472e-01,\n",
       "        -6.67077256e-03,  3.39231521e-01,  1.13014966e-01,\n",
       "         1.06842585e-01,  3.91571134e-01, -1.89536288e-01,\n",
       "        -1.74000353e-01, -1.06444150e-01, -1.34200439e-01,\n",
       "         1.73583925e-01, -2.77695060e-01, -4.33591381e-02,\n",
       "        -3.91500629e-02, -1.98340893e-01,  2.74854712e-02,\n",
       "         2.76702970e-01,  1.40702844e-01, -3.14256102e-01,\n",
       "         2.47569270e-02, -1.67308271e-01,  8.21740180e-02,\n",
       "        -9.56841931e-02, -2.57335782e-01,  3.72914791e-01,\n",
       "        -2.21059948e-01, -2.14436904e-01, -5.83256371e-02,\n",
       "         1.50036931e-01, -1.67723849e-01, -8.02809969e-02,\n",
       "        -2.11373478e-01, -3.98310134e-03,  6.34767562e-02,\n",
       "         6.65169135e-02,  9.25245956e-02,  1.13278836e-01,\n",
       "        -1.00958914e-01, -2.20176265e-01,  3.49875271e-01,\n",
       "         4.98270988e-02, -1.59279123e-01,  2.82199979e-01,\n",
       "         4.36919406e-02,  1.83730368e-02, -7.30237504e-03,\n",
       "         1.22521020e-01, -5.63407578e-02, -2.07715452e-01,\n",
       "        -2.37706840e-01,  1.89738169e-01,  1.00460403e-01,\n",
       "        -2.07205519e-01, -2.70957381e-01,  3.19231898e-02,\n",
       "        -5.62466234e-02,  3.81587483e-02, -1.47694111e-01,\n",
       "         1.41778007e-01,  9.03146207e-01,  8.36536646e-01,\n",
       "        -2.31574401e-01,  2.83275247e-01,  1.09397285e-01,\n",
       "        -2.45359987e-01,  8.62814263e-02,  2.20005468e-01,\n",
       "         1.32306606e-01,  1.03527168e-02,  1.06135800e-01,\n",
       "        -5.05982805e-03, -4.26607914e-02, -1.62250139e-02,\n",
       "         3.30362767e-01,  2.33826548e-01,  9.50708613e-02,\n",
       "        -3.50534409e-01, -1.20180815e-01,  6.44739494e-02,\n",
       "        -2.22685337e-01,  7.50750676e-02, -2.80554742e-01,\n",
       "        -1.96979865e-02, -2.63545483e-01, -3.05303425e-01,\n",
       "        -4.47771885e-02, -2.46705145e-01,  1.19343020e-01,\n",
       "         8.74264613e-02, -2.25616526e-02,  1.70262560e-01,\n",
       "         7.61279315e-02, -3.06843042e-01, -5.01325391e-02,\n",
       "         3.45908701e-01, -1.52095477e-03, -2.55828023e-01,\n",
       "         1.65855348e-01, -2.58007646e-02],\n",
       "       [ 1.52354681e+00,  3.32376845e-02,  1.66283786e-01,\n",
       "         3.49779069e-01,  1.16703980e-01, -1.37402400e-01,\n",
       "         2.24335313e-01, -2.52213806e-01,  6.18566684e-02,\n",
       "         1.49286509e-01,  2.26167157e-01, -4.01730150e-01,\n",
       "        -3.85119438e-01, -1.24227524e-01, -2.31498361e-01,\n",
       "         1.82310224e-01, -8.79664347e-02, -3.30210887e-02,\n",
       "        -3.57700974e-01,  6.12851739e-01,  2.80654997e-01,\n",
       "         1.88463345e-01, -9.48799923e-02, -6.51391596e-03,\n",
       "        -4.95846197e-02, -1.12557530e-01,  2.30208546e-01,\n",
       "        -2.94450019e-02, -1.71247810e-01,  5.84451742e-02,\n",
       "        -7.85206407e-02,  1.85191795e-01,  1.74413934e-01,\n",
       "         4.44407575e-02,  2.35947460e-01,  7.82060176e-02,\n",
       "        -1.22543544e-01, -4.02029991e-01,  3.57941315e-02,\n",
       "         2.91599393e-01, -1.16091929e-01, -5.04460782e-02,\n",
       "        -1.24564804e-02, -1.52101457e-01,  4.88304086e-02,\n",
       "         2.45040268e-01,  1.88039511e-01,  5.93084991e-02,\n",
       "        -1.52169779e-01,  1.44652352e-01,  1.41917989e-01,\n",
       "         1.01835154e-01, -6.39419258e-02,  1.74528375e-01,\n",
       "        -3.32837850e-01, -2.24371374e-01, -1.61553305e-02,\n",
       "        -5.11539355e-02,  2.01643839e-01,  7.71175101e-02,\n",
       "        -1.81447983e-01,  7.32667968e-02,  2.72182435e-01,\n",
       "        -1.49451241e-01, -4.97367680e-02,  7.49207288e-02,\n",
       "         5.87207219e-03, -1.47187814e-01,  2.22975716e-01,\n",
       "        -1.18601754e-01, -3.09471488e-01,  1.94988668e-01,\n",
       "         4.72114161e-02, -1.37738690e-01, -1.47181541e-01,\n",
       "         1.92691281e-01, -2.37557683e-02, -3.08101147e-01,\n",
       "         6.72790557e-02,  8.87041166e-02,  2.61804104e-01,\n",
       "        -4.71980534e-02,  5.65208010e-02, -4.13714685e-02,\n",
       "         9.23642050e-03, -6.09218925e-02, -4.92727429e-01,\n",
       "         1.33994892e-01,  1.11824167e+00,  5.58933198e-01,\n",
       "        -3.65284905e-02,  1.47231638e-01, -4.77895103e-02,\n",
       "        -1.74497068e-01,  1.81616247e-01,  8.93370286e-02,\n",
       "         1.38356417e-01, -1.68069720e-01, -7.78260604e-02,\n",
       "         8.74290168e-02,  1.35343811e-02,  6.48171380e-02,\n",
       "         3.71694893e-01,  9.74644721e-02,  6.03579469e-02,\n",
       "        -1.52941838e-01, -2.27041915e-01,  1.17899261e-01,\n",
       "        -3.28250021e-01,  1.63627818e-01, -5.73002875e-01,\n",
       "        -2.16464903e-02, -2.74008632e-01, -2.00568393e-01,\n",
       "        -4.26811650e-02, -4.34408396e-01, -4.22911607e-02,\n",
       "        -8.21549166e-03, -1.38496226e-02,  9.50264409e-02,\n",
       "         2.34699517e-01, -2.57590443e-01,  1.18056901e-01,\n",
       "         1.75433099e-01, -6.00582622e-02, -2.59853303e-01,\n",
       "         5.85031174e-02,  5.13857305e-02],\n",
       "       [ 1.03975034e+00, -7.72260502e-02,  2.05223799e-01,\n",
       "         1.54514685e-01,  1.17602721e-01, -4.73863035e-02,\n",
       "         4.12470140e-02, -1.53671829e-02, -9.24506783e-02,\n",
       "        -2.16789823e-02,  6.67373613e-02, -2.43153378e-01,\n",
       "        -2.22204477e-01, -3.11305940e-01, -1.81535244e-01,\n",
       "         1.72068905e-02, -3.29752535e-01, -1.44480420e-02,\n",
       "        -1.42682299e-01,  9.24719095e-01, -9.42482799e-02,\n",
       "         2.44870290e-01, -5.73925488e-03,  1.79381445e-01,\n",
       "         5.30688874e-02, -8.69900882e-02, -4.91938107e-02,\n",
       "        -1.58877820e-01,  3.49446423e-02,  6.05077632e-02,\n",
       "         7.57769346e-02, -9.34731439e-02,  2.20445365e-01,\n",
       "         5.70709147e-02,  1.56069279e-01, -9.64625403e-02,\n",
       "        -6.01739921e-02, -2.20777780e-01, -2.50988882e-02,\n",
       "         1.89113796e-01,  9.18956622e-02, -6.30337000e-02,\n",
       "        -1.31969795e-01,  1.51280746e-01,  5.45298904e-02,\n",
       "         9.53609217e-03,  9.16176885e-02,  6.85973316e-02,\n",
       "         3.23405825e-02, -1.08352326e-01,  8.81479308e-02,\n",
       "         1.21273868e-01,  1.30856603e-01,  3.43390673e-01,\n",
       "         3.14019062e-02, -2.42935047e-01, -1.69348821e-01,\n",
       "         1.71476305e-01,  1.80512920e-01,  1.14522185e-02,\n",
       "        -3.34674299e-01,  9.32157412e-02, -1.13504425e-01,\n",
       "         7.02534243e-02, -8.03108960e-02,  3.71657349e-02,\n",
       "        -9.59925726e-02,  1.11907676e-01,  3.27881962e-01,\n",
       "        -1.34251207e-01, -3.07931434e-02, -1.62432209e-01,\n",
       "         5.62633686e-02,  6.59982935e-02, -8.46172124e-02,\n",
       "         2.69845605e-01,  2.46733859e-01, -1.07384622e-01,\n",
       "        -2.94824084e-03,  9.82785150e-02,  1.91690549e-01,\n",
       "        -2.52420548e-03, -7.64007568e-02, -6.55274242e-02,\n",
       "         3.64099517e-02, -1.93919808e-01, -3.17655057e-01,\n",
       "        -5.13524972e-02,  5.24596512e-01,  7.87500739e-02,\n",
       "        -6.81840107e-02,  1.64156541e-01,  6.18895032e-02,\n",
       "        -1.24722071e-01,  2.36907050e-01,  1.63341358e-01,\n",
       "         3.27721745e-01,  1.30028114e-01,  2.49234304e-01,\n",
       "         5.66367805e-02,  2.63878852e-01, -2.12772384e-01,\n",
       "         1.84145927e-01,  1.33621454e-01,  1.05241783e-01,\n",
       "        -1.52703486e-02,  1.91373602e-02,  1.48221329e-01,\n",
       "        -3.00121695e-01, -1.87495336e-01, -3.24985869e-02,\n",
       "         7.47555271e-02, -1.38561845e-01, -4.58047241e-02,\n",
       "         1.79673463e-01, -1.05470836e-01,  1.44995064e-01,\n",
       "        -7.56355468e-04,  1.19935170e-01,  1.95416082e-02,\n",
       "        -7.95775950e-02, -4.10803050e-01,  3.79540361e-02,\n",
       "        -1.09539656e-02, -1.40515938e-01, -3.37521046e-01,\n",
       "         5.34588434e-02, -5.96690811e-02]], dtype=float32)>"
      ]
     },
     "execution_count": 66,
     "metadata": {},
     "output_type": "execute_result"
    }
   ],
   "source": [
    "embedding = \"https://tfhub.dev/google/nnlm-en-dim128-with-normalization/2\"\n",
    "hub_layer = hub.KerasLayer(embedding, input_shape=[], \n",
    "                           dtype=tf.string, trainable=True)\n",
    "hub_layer(train_examples_batch[:3]) #输出前三个训练集对应的向量"
   ]
  },
  {
   "cell_type": "code",
   "execution_count": 67,
   "id": "a9fef4d8",
   "metadata": {
    "ExecuteTime": {
     "end_time": "2024-03-08T01:45:32.206410Z",
     "start_time": "2024-03-08T01:45:32.159402Z"
    }
   },
   "outputs": [
    {
     "name": "stdout",
     "output_type": "stream",
     "text": [
      "Model: \"sequential\"\n",
      "_________________________________________________________________\n",
      " Layer (type)                Output Shape              Param #   \n",
      "=================================================================\n",
      " keras_layer (KerasLayer)    (None, 128)               124642688 \n",
      "                                                                 \n",
      " dropout (Dropout)           (None, 128)               0         \n",
      "                                                                 \n",
      " dense (Dense)               (None, 16)                2064      \n",
      "                                                                 \n",
      " dropout_1 (Dropout)         (None, 16)                0         \n",
      "                                                                 \n",
      " dense_1 (Dense)             (None, 1)                 17        \n",
      "                                                                 \n",
      "=================================================================\n",
      "Total params: 124644769 (475.48 MB)\n",
      "Trainable params: 124644769 (475.48 MB)\n",
      "Non-trainable params: 0 (0.00 Byte)\n",
      "_________________________________________________________________\n"
     ]
    }
   ],
   "source": [
    "model = tf.keras.Sequential()\n",
    "model.add(hub_layer)\n",
    "model.add(tf.keras.layers.Dropout(rate=0.2))\n",
    "model.add(tf.keras.layers.Dense(16))\n",
    "model.add(tf.keras.layers.Dropout(rate=0.2))\n",
    "model.add(tf.keras.layers.Dense(1))\n",
    "\n",
    "model.summary()"
   ]
  },
  {
   "cell_type": "code",
   "execution_count": 70,
   "id": "4689f837",
   "metadata": {
    "ExecuteTime": {
     "end_time": "2024-03-08T01:49:08.205759Z",
     "start_time": "2024-03-08T01:45:36.073938Z"
    },
    "scrolled": true
   },
   "outputs": [
    {
     "name": "stdout",
     "output_type": "stream",
     "text": [
      "Epoch 1/100\n",
      "      3/Unknown - 2s 232ms/step - loss: 0.3872 - accuracy: 0.8413"
     ]
    },
    {
     "name": "stderr",
     "output_type": "stream",
     "text": [
      "2024-05-10 09:39:24.657731: I tensorflow/core/framework/local_rendezvous.cc:425] Local rendezvous send item cancelled. Key hash: 4637219471125113632\n",
      "2024-05-10 09:39:24.657814: I tensorflow/core/framework/local_rendezvous.cc:421] Local rendezvous recv item cancelled. Key hash: 12459467790092081591\n",
      "2024-05-10 09:39:25.267840: I tensorflow/core/framework/local_rendezvous.cc:421] Local rendezvous recv item cancelled. Key hash: 15800009020104730561\n",
      "2024-05-10 09:39:25.267910: I tensorflow/core/framework/local_rendezvous.cc:421] Local rendezvous recv item cancelled. Key hash: 13786762544085915445\n",
      "2024-05-10 09:39:25.267918: I tensorflow/core/framework/local_rendezvous.cc:421] Local rendezvous recv item cancelled. Key hash: 809090100706205683\n",
      "2024-05-10 09:39:25.267926: I tensorflow/core/framework/local_rendezvous.cc:421] Local rendezvous recv item cancelled. Key hash: 17391157207960847508\n",
      "2024-05-10 09:39:25.267930: I tensorflow/core/framework/local_rendezvous.cc:421] Local rendezvous recv item cancelled. Key hash: 13578972892190623138\n",
      "2024-05-10 09:39:25.267935: I tensorflow/core/framework/local_rendezvous.cc:421] Local rendezvous recv item cancelled. Key hash: 6397023494027007752\n",
      "2024-05-10 09:39:25.267939: I tensorflow/core/framework/local_rendezvous.cc:421] Local rendezvous recv item cancelled. Key hash: 16010284365670579500\n",
      "2024-05-10 09:39:25.267943: I tensorflow/core/framework/local_rendezvous.cc:421] Local rendezvous recv item cancelled. Key hash: 1474900066681835440\n"
     ]
    },
    {
     "name": "stdout",
     "output_type": "stream",
     "text": [
      "3/3 [==============================] - 3s 805ms/step - loss: 0.3872 - accuracy: 0.8413 - val_loss: 0.4332 - val_accuracy: 0.8026\n",
      "Epoch 2/100\n",
      "3/3 [==============================] - 1s 562ms/step - loss: 0.3826 - accuracy: 0.8449 - val_loss: 0.4309 - val_accuracy: 0.8044\n",
      "Epoch 3/100\n",
      "3/3 [==============================] - 1s 603ms/step - loss: 0.3808 - accuracy: 0.8465 - val_loss: 0.4285 - val_accuracy: 0.8063\n",
      "Epoch 4/100\n",
      "3/3 [==============================] - 1s 580ms/step - loss: 0.3768 - accuracy: 0.8477 - val_loss: 0.4261 - val_accuracy: 0.8079\n",
      "Epoch 5/100\n",
      "3/3 [==============================] - 1s 529ms/step - loss: 0.3754 - accuracy: 0.8477 - val_loss: 0.4238 - val_accuracy: 0.8090\n",
      "Epoch 6/100\n",
      "3/3 [==============================] - 2s 626ms/step - loss: 0.3714 - accuracy: 0.8504 - val_loss: 0.4214 - val_accuracy: 0.8105\n",
      "Epoch 7/100\n",
      "3/3 [==============================] - 1s 574ms/step - loss: 0.3696 - accuracy: 0.8529 - val_loss: 0.4191 - val_accuracy: 0.8134\n",
      "Epoch 8/100\n",
      "3/3 [==============================] - 1s 544ms/step - loss: 0.3652 - accuracy: 0.8548 - val_loss: 0.4169 - val_accuracy: 0.8154\n",
      "Epoch 9/100\n",
      "3/3 [==============================] - 1s 562ms/step - loss: 0.3614 - accuracy: 0.8593 - val_loss: 0.4146 - val_accuracy: 0.8158\n",
      "Epoch 10/100\n",
      "3/3 [==============================] - 1s 586ms/step - loss: 0.3596 - accuracy: 0.8593 - val_loss: 0.4124 - val_accuracy: 0.8178\n",
      "Epoch 11/100\n",
      "3/3 [==============================] - 1s 548ms/step - loss: 0.3537 - accuracy: 0.8625 - val_loss: 0.4101 - val_accuracy: 0.8196\n",
      "Epoch 12/100\n",
      "3/3 [==============================] - 1s 580ms/step - loss: 0.3534 - accuracy: 0.8651 - val_loss: 0.4079 - val_accuracy: 0.8201\n",
      "Epoch 13/100\n",
      "3/3 [==============================] - 2s 597ms/step - loss: 0.3499 - accuracy: 0.8656 - val_loss: 0.4058 - val_accuracy: 0.8216\n",
      "Epoch 14/100\n",
      "3/3 [==============================] - 1s 527ms/step - loss: 0.3475 - accuracy: 0.8671 - val_loss: 0.4037 - val_accuracy: 0.8235\n",
      "Epoch 15/100\n",
      "3/3 [==============================] - 1s 598ms/step - loss: 0.3452 - accuracy: 0.8661 - val_loss: 0.4015 - val_accuracy: 0.8251\n",
      "Epoch 16/100\n",
      "3/3 [==============================] - 2s 607ms/step - loss: 0.3424 - accuracy: 0.8677 - val_loss: 0.3995 - val_accuracy: 0.8275\n",
      "Epoch 17/100\n",
      "3/3 [==============================] - 1s 563ms/step - loss: 0.3386 - accuracy: 0.8747 - val_loss: 0.3974 - val_accuracy: 0.8295\n",
      "Epoch 18/100\n",
      "3/3 [==============================] - 1s 578ms/step - loss: 0.3363 - accuracy: 0.8749 - val_loss: 0.3954 - val_accuracy: 0.8309\n",
      "Epoch 19/100\n",
      "3/3 [==============================] - 2s 600ms/step - loss: 0.3334 - accuracy: 0.8767 - val_loss: 0.3934 - val_accuracy: 0.8317\n",
      "Epoch 20/100\n",
      "3/3 [==============================] - 1s 524ms/step - loss: 0.3302 - accuracy: 0.8768 - val_loss: 0.3914 - val_accuracy: 0.8317\n",
      "Epoch 21/100\n",
      "3/3 [==============================] - 1s 585ms/step - loss: 0.3274 - accuracy: 0.8803 - val_loss: 0.3894 - val_accuracy: 0.8320\n",
      "Epoch 22/100\n",
      "3/3 [==============================] - 1s 578ms/step - loss: 0.3256 - accuracy: 0.8813 - val_loss: 0.3875 - val_accuracy: 0.8335\n",
      "Epoch 23/100\n",
      "3/3 [==============================] - 1s 551ms/step - loss: 0.3229 - accuracy: 0.8832 - val_loss: 0.3856 - val_accuracy: 0.8358\n",
      "Epoch 24/100\n",
      "3/3 [==============================] - 1s 576ms/step - loss: 0.3206 - accuracy: 0.8855 - val_loss: 0.3837 - val_accuracy: 0.8372\n",
      "Epoch 25/100\n",
      "3/3 [==============================] - 1s 593ms/step - loss: 0.3161 - accuracy: 0.8878 - val_loss: 0.3818 - val_accuracy: 0.8378\n",
      "Epoch 26/100\n",
      "3/3 [==============================] - 1s 549ms/step - loss: 0.3149 - accuracy: 0.8861 - val_loss: 0.3800 - val_accuracy: 0.8382\n",
      "Epoch 27/100\n",
      "3/3 [==============================] - 2s 619ms/step - loss: 0.3116 - accuracy: 0.8895 - val_loss: 0.3782 - val_accuracy: 0.8387\n",
      "Epoch 28/100\n",
      "3/3 [==============================] - 1s 572ms/step - loss: 0.3090 - accuracy: 0.8899 - val_loss: 0.3764 - val_accuracy: 0.8389\n",
      "Epoch 29/100\n",
      "3/3 [==============================] - 1s 514ms/step - loss: 0.3069 - accuracy: 0.8889 - val_loss: 0.3746 - val_accuracy: 0.8395\n",
      "Epoch 30/100\n",
      "3/3 [==============================] - 1s 560ms/step - loss: 0.3037 - accuracy: 0.8919 - val_loss: 0.3729 - val_accuracy: 0.8406\n",
      "Epoch 31/100\n",
      "3/3 [==============================] - 1s 591ms/step - loss: 0.2999 - accuracy: 0.8929 - val_loss: 0.3712 - val_accuracy: 0.8414\n",
      "Epoch 32/100\n",
      "3/3 [==============================] - 1s 524ms/step - loss: 0.2989 - accuracy: 0.8927 - val_loss: 0.3695 - val_accuracy: 0.8421\n",
      "Epoch 33/100\n",
      "3/3 [==============================] - 1s 565ms/step - loss: 0.2970 - accuracy: 0.8945 - val_loss: 0.3678 - val_accuracy: 0.8427\n",
      "Epoch 34/100\n",
      "3/3 [==============================] - 1s 550ms/step - loss: 0.2916 - accuracy: 0.8959 - val_loss: 0.3662 - val_accuracy: 0.8438\n",
      "Epoch 35/100\n",
      "3/3 [==============================] - 1s 529ms/step - loss: 0.2914 - accuracy: 0.8965 - val_loss: 0.3645 - val_accuracy: 0.8454\n",
      "Epoch 36/100\n",
      "3/3 [==============================] - 1s 539ms/step - loss: 0.2893 - accuracy: 0.8983 - val_loss: 0.3630 - val_accuracy: 0.8465\n",
      "Epoch 37/100\n",
      "3/3 [==============================] - 1s 562ms/step - loss: 0.2859 - accuracy: 0.9011 - val_loss: 0.3614 - val_accuracy: 0.8464\n",
      "Epoch 38/100\n",
      "3/3 [==============================] - 1s 542ms/step - loss: 0.2848 - accuracy: 0.8995 - val_loss: 0.3598 - val_accuracy: 0.8474\n",
      "Epoch 39/100\n",
      "3/3 [==============================] - 1s 561ms/step - loss: 0.2821 - accuracy: 0.9000 - val_loss: 0.3583 - val_accuracy: 0.8479\n",
      "Epoch 40/100\n",
      "3/3 [==============================] - 1s 576ms/step - loss: 0.2794 - accuracy: 0.9030 - val_loss: 0.3568 - val_accuracy: 0.8489\n",
      "Epoch 41/100\n",
      "3/3 [==============================] - 1s 534ms/step - loss: 0.2773 - accuracy: 0.9037 - val_loss: 0.3553 - val_accuracy: 0.8498\n",
      "Epoch 42/100\n",
      "3/3 [==============================] - 1s 575ms/step - loss: 0.2754 - accuracy: 0.9082 - val_loss: 0.3538 - val_accuracy: 0.8506\n",
      "Epoch 43/100\n",
      "3/3 [==============================] - 1s 594ms/step - loss: 0.2734 - accuracy: 0.9065 - val_loss: 0.3524 - val_accuracy: 0.8514\n",
      "Epoch 44/100\n",
      "3/3 [==============================] - 1s 534ms/step - loss: 0.2708 - accuracy: 0.9078 - val_loss: 0.3509 - val_accuracy: 0.8522\n",
      "Epoch 45/100\n",
      "3/3 [==============================] - 1s 571ms/step - loss: 0.2691 - accuracy: 0.9095 - val_loss: 0.3495 - val_accuracy: 0.8523\n",
      "Epoch 46/100\n",
      "3/3 [==============================] - 2s 592ms/step - loss: 0.2673 - accuracy: 0.9087 - val_loss: 0.3481 - val_accuracy: 0.8524\n",
      "Epoch 47/100\n",
      "3/3 [==============================] - 1s 532ms/step - loss: 0.2633 - accuracy: 0.9125 - val_loss: 0.3467 - val_accuracy: 0.8528\n",
      "Epoch 48/100\n",
      "3/3 [==============================] - 1s 582ms/step - loss: 0.2617 - accuracy: 0.9113 - val_loss: 0.3454 - val_accuracy: 0.8541\n",
      "Epoch 49/100\n",
      "3/3 [==============================] - 1s 605ms/step - loss: 0.2609 - accuracy: 0.9133 - val_loss: 0.3440 - val_accuracy: 0.8552\n",
      "Epoch 50/100\n",
      "3/3 [==============================] - 1s 529ms/step - loss: 0.2579 - accuracy: 0.9154 - val_loss: 0.3427 - val_accuracy: 0.8560\n",
      "Epoch 51/100\n",
      "3/3 [==============================] - 1s 576ms/step - loss: 0.2559 - accuracy: 0.9150 - val_loss: 0.3414 - val_accuracy: 0.8559\n",
      "Epoch 52/100\n",
      "3/3 [==============================] - 1s 559ms/step - loss: 0.2530 - accuracy: 0.9174 - val_loss: 0.3401 - val_accuracy: 0.8566\n",
      "Epoch 53/100\n",
      "3/3 [==============================] - 1s 536ms/step - loss: 0.2495 - accuracy: 0.9185 - val_loss: 0.3388 - val_accuracy: 0.8570\n",
      "Epoch 54/100\n",
      "3/3 [==============================] - 1s 549ms/step - loss: 0.2487 - accuracy: 0.9181 - val_loss: 0.3376 - val_accuracy: 0.8572\n",
      "Epoch 55/100\n",
      "3/3 [==============================] - 2s 605ms/step - loss: 0.2485 - accuracy: 0.9176 - val_loss: 0.3364 - val_accuracy: 0.8574\n",
      "Epoch 56/100\n",
      "3/3 [==============================] - 1s 567ms/step - loss: 0.2456 - accuracy: 0.9184 - val_loss: 0.3352 - val_accuracy: 0.8581\n",
      "Epoch 57/100\n",
      "3/3 [==============================] - 1s 559ms/step - loss: 0.2419 - accuracy: 0.9225 - val_loss: 0.3340 - val_accuracy: 0.8583\n",
      "Epoch 58/100\n",
      "3/3 [==============================] - 1s 575ms/step - loss: 0.2407 - accuracy: 0.9221 - val_loss: 0.3328 - val_accuracy: 0.8592\n",
      "Epoch 59/100\n",
      "3/3 [==============================] - 1s 556ms/step - loss: 0.2381 - accuracy: 0.9239 - val_loss: 0.3316 - val_accuracy: 0.8594\n",
      "Epoch 60/100\n",
      "3/3 [==============================] - 1s 577ms/step - loss: 0.2375 - accuracy: 0.9229 - val_loss: 0.3305 - val_accuracy: 0.8598\n",
      "Epoch 61/100\n",
      "3/3 [==============================] - 2s 614ms/step - loss: 0.2355 - accuracy: 0.9242 - val_loss: 0.3294 - val_accuracy: 0.8601\n",
      "Epoch 62/100\n",
      "3/3 [==============================] - 1s 585ms/step - loss: 0.2321 - accuracy: 0.9249 - val_loss: 0.3283 - val_accuracy: 0.8607\n",
      "Epoch 63/100\n",
      "3/3 [==============================] - 1s 530ms/step - loss: 0.2322 - accuracy: 0.9244 - val_loss: 0.3272 - val_accuracy: 0.8604\n",
      "Epoch 64/100\n",
      "3/3 [==============================] - 1s 577ms/step - loss: 0.2288 - accuracy: 0.9254 - val_loss: 0.3261 - val_accuracy: 0.8611\n",
      "Epoch 65/100\n",
      "3/3 [==============================] - 1s 536ms/step - loss: 0.2264 - accuracy: 0.9298 - val_loss: 0.3250 - val_accuracy: 0.8615\n",
      "Epoch 66/100\n",
      "3/3 [==============================] - 2s 613ms/step - loss: 0.2266 - accuracy: 0.9277 - val_loss: 0.3240 - val_accuracy: 0.8626\n",
      "Epoch 67/100\n",
      "3/3 [==============================] - 1s 569ms/step - loss: 0.2242 - accuracy: 0.9296 - val_loss: 0.3230 - val_accuracy: 0.8627\n",
      "Epoch 68/100\n",
      "3/3 [==============================] - 1s 567ms/step - loss: 0.2225 - accuracy: 0.9290 - val_loss: 0.3220 - val_accuracy: 0.8626\n",
      "Epoch 69/100\n",
      "3/3 [==============================] - 1s 538ms/step - loss: 0.2214 - accuracy: 0.9308 - val_loss: 0.3210 - val_accuracy: 0.8631\n",
      "Epoch 70/100\n",
      "3/3 [==============================] - 1s 581ms/step - loss: 0.2180 - accuracy: 0.9314 - val_loss: 0.3200 - val_accuracy: 0.8639\n",
      "Epoch 71/100\n",
      "3/3 [==============================] - 1s 567ms/step - loss: 0.2171 - accuracy: 0.9319 - val_loss: 0.3190 - val_accuracy: 0.8653\n",
      "Epoch 72/100\n",
      "3/3 [==============================] - 1s 530ms/step - loss: 0.2133 - accuracy: 0.9336 - val_loss: 0.3181 - val_accuracy: 0.8665\n",
      "Epoch 73/100\n",
      "3/3 [==============================] - 1s 564ms/step - loss: 0.2131 - accuracy: 0.9341 - val_loss: 0.3171 - val_accuracy: 0.8667\n",
      "Epoch 74/100\n",
      "3/3 [==============================] - 1s 546ms/step - loss: 0.2121 - accuracy: 0.9352 - val_loss: 0.3162 - val_accuracy: 0.8665\n",
      "Epoch 75/100\n",
      "3/3 [==============================] - 1s 540ms/step - loss: 0.2113 - accuracy: 0.9344 - val_loss: 0.3152 - val_accuracy: 0.8663\n",
      "Epoch 76/100\n",
      "3/3 [==============================] - 1s 547ms/step - loss: 0.2091 - accuracy: 0.9352 - val_loss: 0.3143 - val_accuracy: 0.8668\n",
      "Epoch 77/100\n",
      "3/3 [==============================] - 2s 578ms/step - loss: 0.2075 - accuracy: 0.9353 - val_loss: 0.3135 - val_accuracy: 0.8671\n",
      "Epoch 78/100\n",
      "3/3 [==============================] - 1s 545ms/step - loss: 0.2035 - accuracy: 0.9355 - val_loss: 0.3126 - val_accuracy: 0.8683\n",
      "Epoch 79/100\n",
      "3/3 [==============================] - 1s 585ms/step - loss: 0.2037 - accuracy: 0.9371 - val_loss: 0.3117 - val_accuracy: 0.8686\n",
      "Epoch 80/100\n",
      "3/3 [==============================] - 1s 567ms/step - loss: 0.2006 - accuracy: 0.9385 - val_loss: 0.3109 - val_accuracy: 0.8688\n",
      "Epoch 81/100\n",
      "3/3 [==============================] - 1s 546ms/step - loss: 0.1995 - accuracy: 0.9399 - val_loss: 0.3101 - val_accuracy: 0.8691\n",
      "Epoch 82/100\n",
      "3/3 [==============================] - 1s 583ms/step - loss: 0.1973 - accuracy: 0.9408 - val_loss: 0.3092 - val_accuracy: 0.8691\n",
      "Epoch 83/100\n",
      "3/3 [==============================] - 1s 579ms/step - loss: 0.1967 - accuracy: 0.9398 - val_loss: 0.3084 - val_accuracy: 0.8689\n",
      "Epoch 84/100\n",
      "3/3 [==============================] - 1s 537ms/step - loss: 0.1950 - accuracy: 0.9399 - val_loss: 0.3076 - val_accuracy: 0.8695\n",
      "Epoch 85/100\n",
      "3/3 [==============================] - 2s 596ms/step - loss: 0.1938 - accuracy: 0.9402 - val_loss: 0.3068 - val_accuracy: 0.8699\n",
      "Epoch 86/100\n",
      "3/3 [==============================] - 2s 617ms/step - loss: 0.1917 - accuracy: 0.9433 - val_loss: 0.3061 - val_accuracy: 0.8711\n",
      "Epoch 87/100\n",
      "3/3 [==============================] - 1s 550ms/step - loss: 0.1905 - accuracy: 0.9437 - val_loss: 0.3053 - val_accuracy: 0.8713\n",
      "Epoch 88/100\n",
      "3/3 [==============================] - 1s 572ms/step - loss: 0.1891 - accuracy: 0.9450 - val_loss: 0.3046 - val_accuracy: 0.8722\n",
      "Epoch 89/100\n",
      "3/3 [==============================] - 1s 566ms/step - loss: 0.1886 - accuracy: 0.9436 - val_loss: 0.3038 - val_accuracy: 0.8719\n",
      "Epoch 90/100\n",
      "3/3 [==============================] - 1s 546ms/step - loss: 0.1864 - accuracy: 0.9444 - val_loss: 0.3030 - val_accuracy: 0.8714\n",
      "Epoch 91/100\n",
      "3/3 [==============================] - 1s 551ms/step - loss: 0.1848 - accuracy: 0.9430 - val_loss: 0.3023 - val_accuracy: 0.8714\n",
      "Epoch 92/100\n",
      "3/3 [==============================] - 1s 553ms/step - loss: 0.1819 - accuracy: 0.9460 - val_loss: 0.3016 - val_accuracy: 0.8717\n",
      "Epoch 93/100\n",
      "3/3 [==============================] - 1s 535ms/step - loss: 0.1814 - accuracy: 0.9470 - val_loss: 0.3009 - val_accuracy: 0.8723\n",
      "Epoch 94/100\n",
      "3/3 [==============================] - 1s 536ms/step - loss: 0.1800 - accuracy: 0.9476 - val_loss: 0.3003 - val_accuracy: 0.8725\n",
      "Epoch 95/100\n",
      "3/3 [==============================] - 1s 583ms/step - loss: 0.1787 - accuracy: 0.9476 - val_loss: 0.2996 - val_accuracy: 0.8727\n",
      "Epoch 96/100\n",
      "3/3 [==============================] - 1s 521ms/step - loss: 0.1770 - accuracy: 0.9493 - val_loss: 0.2989 - val_accuracy: 0.8727\n",
      "Epoch 97/100\n",
      "3/3 [==============================] - 1s 566ms/step - loss: 0.1747 - accuracy: 0.9485 - val_loss: 0.2982 - val_accuracy: 0.8724\n",
      "Epoch 98/100\n",
      "3/3 [==============================] - 1s 572ms/step - loss: 0.1724 - accuracy: 0.9503 - val_loss: 0.2976 - val_accuracy: 0.8723\n",
      "Epoch 99/100\n",
      "3/3 [==============================] - 1s 533ms/step - loss: 0.1733 - accuracy: 0.9481 - val_loss: 0.2970 - val_accuracy: 0.8728\n",
      "Epoch 100/100\n",
      "3/3 [==============================] - 1s 541ms/step - loss: 0.1719 - accuracy: 0.9505 - val_loss: 0.2964 - val_accuracy: 0.8732\n"
     ]
    }
   ],
   "source": [
    "keras.backend.clear_session()\n",
    "tf.random.set_seed(42)\n",
    "np.random.seed(42)\n",
    "\n",
    "optimizer = keras.optimizers.Adam(learning_rate=1e-4)\n",
    "model.compile(optimizer=optimizer,\n",
    "              loss=tf.keras.losses.BinaryCrossentropy(from_logits=True),\n",
    "              metrics=['accuracy'])\n",
    "\n",
    "early_stopping_cb = keras.callbacks.EarlyStopping(patience=10,restore_best_weights=True)\n",
    "\n",
    "callbacks = [early_stopping_cb]\n",
    "\n",
    "history = model.fit(train_data.shuffle(10000).batch(5000),\n",
    "                    epochs=200,\n",
    "                    validation_data=validation_data.batch(512),\n",
    "                    callbacks=callbacks)\n"
   ]
  },
  {
   "cell_type": "code",
   "execution_count": 71,
   "id": "3c07d4b0",
   "metadata": {
    "ExecuteTime": {
     "end_time": "2024-03-08T01:49:24.879771Z",
     "start_time": "2024-03-08T01:49:19.563430Z"
    },
    "scrolled": true
   },
   "outputs": [
    {
     "data": {
      "image/png": "[encoded data removed]",
      "text/plain": [
       "<Figure size 640x480 with 1 Axes>"
      ]
     },
     "metadata": {},
     "output_type": "display_data"
    },
    {
     "name": "stdout",
     "output_type": "stream",
     "text": [
      "49/49 - 2s - loss: 0.3275 - accuracy: 0.8483 - 2s/epoch - 33ms/step\n"
     ]
    },
    {
     "name": "stderr",
     "output_type": "stream",
     "text": [
      "2024-05-10 09:41:56.645749: I tensorflow/core/framework/local_rendezvous.cc:421] Local rendezvous recv item cancelled. Key hash: 15800009020104730561\n",
      "2024-05-10 09:41:56.645808: I tensorflow/core/framework/local_rendezvous.cc:421] Local rendezvous recv item cancelled. Key hash: 809090100706205683\n",
      "2024-05-10 09:41:56.645858: I tensorflow/core/framework/local_rendezvous.cc:421] Local rendezvous recv item cancelled. Key hash: 6397023494027007752\n",
      "2024-05-10 09:41:56.645886: I tensorflow/core/framework/local_rendezvous.cc:425] Local rendezvous send item cancelled. Key hash: 4980854101343738682\n",
      "2024-05-10 09:41:56.645898: I tensorflow/core/framework/local_rendezvous.cc:421] Local rendezvous recv item cancelled. Key hash: 17391157207960847508\n",
      "2024-05-10 09:41:56.645903: I tensorflow/core/framework/local_rendezvous.cc:421] Local rendezvous recv item cancelled. Key hash: 16010284365670579500\n",
      "2024-05-10 09:41:56.645908: I tensorflow/core/framework/local_rendezvous.cc:421] Local rendezvous recv item cancelled. Key hash: 13578972892190623138\n",
      "2024-05-10 09:41:56.645913: I tensorflow/core/framework/local_rendezvous.cc:421] Local rendezvous recv item cancelled. Key hash: 1474900066681835440\n"
     ]
    },
    {
     "data": {
      "text/plain": [
       "[0.32749587297439575, 0.8483200073242188]"
      ]
     },
     "execution_count": 71,
     "metadata": {},
     "output_type": "execute_result"
    }
   ],
   "source": [
    "pd.DataFrame(history.history).plot() \n",
    "plt.grid(True)\n",
    "plt.show()\n",
    "model.evaluate(test_data.shuffle(10000).batch(512),verbose=2)"
   ]
  },
  {
   "cell_type": "code",
   "execution_count": 72,
   "id": "a9667851-d231-45f3-9acc-bc8bac4f824f",
   "metadata": {
    "ExecuteTime": {
     "end_time": "2024-03-07T07:53:11.209568Z",
     "start_time": "2024-03-07T07:52:52.877500Z"
    }
   },
   "outputs": [
    {
     "ename": "TypeError",
     "evalue": "Exception encountered when calling layer 'keras_layer' (type KerasLayer).\n\nin user code:\n\n    File \"/tmp/tf-venv/lib/python3.10/site-packages/tensorflow_hub/keras_layer.py\", line 242, in call  *\n        result = f()\n\n    TypeError: Binding inputs to tf.function failed due to `Can not cast TensorSpec(shape=(None, 250), dtype=tf.string, name=None) to TensorSpec(shape=(None,), dtype=tf.string, name=None)`. Received args: (<tf.Tensor 'sequential/Cast:0' shape=(None, 250) dtype=string>,) and kwargs: {} for signature: (sentences: TensorSpec(shape=(None,), dtype=tf.string, name=None)).\n\n\nCall arguments received by layer 'keras_layer' (type KerasLayer):\n  • inputs=tf.Tensor(shape=(None, 250), dtype=string)\n  • training=None",
     "output_type": "error",
     "traceback": [
      "\u001b[0;31m---------------------------------------------------------------------------\u001b[0m",
      "\u001b[0;31mTypeError\u001b[0m                                 Traceback (most recent call last)",
      "Cell \u001b[0;32mIn[72], line 1\u001b[0m\n\u001b[0;32m----> 1\u001b[0m export_model \u001b[38;5;241m=\u001b[39m \u001b[43mtf\u001b[49m\u001b[38;5;241;43m.\u001b[39;49m\u001b[43mkeras\u001b[49m\u001b[38;5;241;43m.\u001b[39;49m\u001b[43mSequential\u001b[49m\u001b[43m(\u001b[49m\u001b[43m[\u001b[49m\n\u001b[1;32m      2\u001b[0m \u001b[43m    \u001b[49m\u001b[43mvectorize_layer\u001b[49m\u001b[43m,\u001b[49m\n\u001b[1;32m      3\u001b[0m \u001b[43m    \u001b[49m\u001b[43mmodel\u001b[49m\u001b[43m,\u001b[49m\n\u001b[1;32m      4\u001b[0m \u001b[43m    \u001b[49m\u001b[43mlayers\u001b[49m\u001b[38;5;241;43m.\u001b[39;49m\u001b[43mActivation\u001b[49m\u001b[43m(\u001b[49m\u001b[38;5;124;43m'\u001b[39;49m\u001b[38;5;124;43msigmoid\u001b[39;49m\u001b[38;5;124;43m'\u001b[39;49m\u001b[43m)\u001b[49m\n\u001b[1;32m      5\u001b[0m \u001b[43m]\u001b[49m\u001b[43m)\u001b[49m\n\u001b[1;32m      8\u001b[0m \u001b[38;5;66;03m# bce 概率值值域范围 [0, 1]\u001b[39;00m\n\u001b[1;32m      9\u001b[0m \u001b[38;5;66;03m#则应该设置为 from_logits=False，否则设置为True\u001b[39;00m\n\u001b[1;32m     11\u001b[0m export_model\u001b[38;5;241m.\u001b[39mcompile(\n\u001b[1;32m     12\u001b[0m     loss\u001b[38;5;241m=\u001b[39mlosses\u001b[38;5;241m.\u001b[39mBinaryCrossentropy(from_logits\u001b[38;5;241m=\u001b[39m\u001b[38;5;28;01mTrue\u001b[39;00m), optimizer\u001b[38;5;241m=\u001b[39moptimizer, metrics\u001b[38;5;241m=\u001b[39m[\u001b[38;5;124m'\u001b[39m\u001b[38;5;124maccuracy\u001b[39m\u001b[38;5;124m'\u001b[39m]\n\u001b[1;32m     13\u001b[0m )\n",
      "File \u001b[0;32m/tmp/tf-venv/lib/python3.10/site-packages/tensorflow/python/trackable/base.py:204\u001b[0m, in \u001b[0;36mno_automatic_dependency_tracking.<locals>._method_wrapper\u001b[0;34m(self, *args, **kwargs)\u001b[0m\n\u001b[1;32m    202\u001b[0m \u001b[38;5;28mself\u001b[39m\u001b[38;5;241m.\u001b[39m_self_setattr_tracking \u001b[38;5;241m=\u001b[39m \u001b[38;5;28;01mFalse\u001b[39;00m  \u001b[38;5;66;03m# pylint: disable=protected-access\u001b[39;00m\n\u001b[1;32m    203\u001b[0m \u001b[38;5;28;01mtry\u001b[39;00m:\n\u001b[0;32m--> 204\u001b[0m   result \u001b[38;5;241m=\u001b[39m \u001b[43mmethod\u001b[49m\u001b[43m(\u001b[49m\u001b[38;5;28;43mself\u001b[39;49m\u001b[43m,\u001b[49m\u001b[43m \u001b[49m\u001b[38;5;241;43m*\u001b[39;49m\u001b[43margs\u001b[49m\u001b[43m,\u001b[49m\u001b[43m \u001b[49m\u001b[38;5;241;43m*\u001b[39;49m\u001b[38;5;241;43m*\u001b[39;49m\u001b[43mkwargs\u001b[49m\u001b[43m)\u001b[49m\n\u001b[1;32m    205\u001b[0m \u001b[38;5;28;01mfinally\u001b[39;00m:\n\u001b[1;32m    206\u001b[0m   \u001b[38;5;28mself\u001b[39m\u001b[38;5;241m.\u001b[39m_self_setattr_tracking \u001b[38;5;241m=\u001b[39m previous_value  \u001b[38;5;66;03m# pylint: disable=protected-access\u001b[39;00m\n",
      "File \u001b[0;32m/tmp/tf-venv/lib/python3.10/site-packages/keras/src/utils/traceback_utils.py:70\u001b[0m, in \u001b[0;36mfilter_traceback.<locals>.error_handler\u001b[0;34m(*args, **kwargs)\u001b[0m\n\u001b[1;32m     67\u001b[0m     filtered_tb \u001b[38;5;241m=\u001b[39m _process_traceback_frames(e\u001b[38;5;241m.\u001b[39m__traceback__)\n\u001b[1;32m     68\u001b[0m     \u001b[38;5;66;03m# To get the full stack trace, call:\u001b[39;00m\n\u001b[1;32m     69\u001b[0m     \u001b[38;5;66;03m# `tf.debugging.disable_traceback_filtering()`\u001b[39;00m\n\u001b[0;32m---> 70\u001b[0m     \u001b[38;5;28;01mraise\u001b[39;00m e\u001b[38;5;241m.\u001b[39mwith_traceback(filtered_tb) \u001b[38;5;28;01mfrom\u001b[39;00m \u001b[38;5;28;01mNone\u001b[39;00m\n\u001b[1;32m     71\u001b[0m \u001b[38;5;28;01mfinally\u001b[39;00m:\n\u001b[1;32m     72\u001b[0m     \u001b[38;5;28;01mdel\u001b[39;00m filtered_tb\n",
      "File \u001b[0;32m/tmp/__autograph_generated_file07_8xdwm.py:74\u001b[0m, in \u001b[0;36mouter_factory.<locals>.inner_factory.<locals>.tf__call\u001b[0;34m(self, inputs, training)\u001b[0m\n\u001b[1;32m     72\u001b[0m     result \u001b[38;5;241m=\u001b[39m ag__\u001b[38;5;241m.\u001b[39mconverted_call(ag__\u001b[38;5;241m.\u001b[39mld(smart_cond)\u001b[38;5;241m.\u001b[39msmart_cond, (ag__\u001b[38;5;241m.\u001b[39mld(training), ag__\u001b[38;5;241m.\u001b[39mautograph_artifact(\u001b[38;5;28;01mlambda\u001b[39;00m : ag__\u001b[38;5;241m.\u001b[39mconverted_call(ag__\u001b[38;5;241m.\u001b[39mld(f), (), \u001b[38;5;28mdict\u001b[39m(training\u001b[38;5;241m=\u001b[39m\u001b[38;5;28;01mTrue\u001b[39;00m), fscope)), ag__\u001b[38;5;241m.\u001b[39mautograph_artifact(\u001b[38;5;28;01mlambda\u001b[39;00m : ag__\u001b[38;5;241m.\u001b[39mconverted_call(ag__\u001b[38;5;241m.\u001b[39mld(f), (), \u001b[38;5;28mdict\u001b[39m(training\u001b[38;5;241m=\u001b[39m\u001b[38;5;28;01mFalse\u001b[39;00m), fscope))), \u001b[38;5;28;01mNone\u001b[39;00m, fscope)\n\u001b[1;32m     73\u001b[0m result \u001b[38;5;241m=\u001b[39m ag__\u001b[38;5;241m.\u001b[39mUndefined(\u001b[38;5;124m'\u001b[39m\u001b[38;5;124mresult\u001b[39m\u001b[38;5;124m'\u001b[39m)\n\u001b[0;32m---> 74\u001b[0m \u001b[43mag__\u001b[49m\u001b[38;5;241;43m.\u001b[39;49m\u001b[43mif_stmt\u001b[49m\u001b[43m(\u001b[49m\u001b[43mag__\u001b[49m\u001b[38;5;241;43m.\u001b[39;49m\u001b[43mnot_\u001b[49m\u001b[43m(\u001b[49m\u001b[43mag__\u001b[49m\u001b[38;5;241;43m.\u001b[39;49m\u001b[43mld\u001b[49m\u001b[43m(\u001b[49m\u001b[38;5;28;43mself\u001b[39;49m\u001b[43m)\u001b[49m\u001b[38;5;241;43m.\u001b[39;49m\u001b[43m_has_training_argument\u001b[49m\u001b[43m)\u001b[49m\u001b[43m,\u001b[49m\u001b[43m \u001b[49m\u001b[43mif_body_3\u001b[49m\u001b[43m,\u001b[49m\u001b[43m \u001b[49m\u001b[43melse_body_3\u001b[49m\u001b[43m,\u001b[49m\u001b[43m \u001b[49m\u001b[43mget_state_3\u001b[49m\u001b[43m,\u001b[49m\u001b[43m \u001b[49m\u001b[43mset_state_3\u001b[49m\u001b[43m,\u001b[49m\u001b[43m \u001b[49m\u001b[43m(\u001b[49m\u001b[38;5;124;43m'\u001b[39;49m\u001b[38;5;124;43mresult\u001b[39;49m\u001b[38;5;124;43m'\u001b[39;49m\u001b[43m,\u001b[49m\u001b[43m \u001b[49m\u001b[38;5;124;43m'\u001b[39;49m\u001b[38;5;124;43mtraining\u001b[39;49m\u001b[38;5;124;43m'\u001b[39;49m\u001b[43m)\u001b[49m\u001b[43m,\u001b[49m\u001b[43m \u001b[49m\u001b[38;5;241;43m1\u001b[39;49m\u001b[43m)\u001b[49m\n\u001b[1;32m     76\u001b[0m \u001b[38;5;28;01mdef\u001b[39;00m \u001b[38;5;21mget_state_6\u001b[39m():\n\u001b[1;32m     77\u001b[0m     \u001b[38;5;28;01mreturn\u001b[39;00m (result,)\n",
      "File \u001b[0;32m/tmp/__autograph_generated_file07_8xdwm.py:37\u001b[0m, in \u001b[0;36mouter_factory.<locals>.inner_factory.<locals>.tf__call.<locals>.if_body_3\u001b[0;34m()\u001b[0m\n\u001b[1;32m     35\u001b[0m \u001b[38;5;28;01mdef\u001b[39;00m \u001b[38;5;21mif_body_3\u001b[39m():\n\u001b[1;32m     36\u001b[0m     \u001b[38;5;28;01mnonlocal\u001b[39;00m training, result\n\u001b[0;32m---> 37\u001b[0m     result \u001b[38;5;241m=\u001b[39m \u001b[43mag__\u001b[49m\u001b[38;5;241;43m.\u001b[39;49m\u001b[43mconverted_call\u001b[49m\u001b[43m(\u001b[49m\u001b[43mag__\u001b[49m\u001b[38;5;241;43m.\u001b[39;49m\u001b[43mld\u001b[49m\u001b[43m(\u001b[49m\u001b[43mf\u001b[49m\u001b[43m)\u001b[49m\u001b[43m,\u001b[49m\u001b[43m \u001b[49m\u001b[43m(\u001b[49m\u001b[43m)\u001b[49m\u001b[43m,\u001b[49m\u001b[43m \u001b[49m\u001b[38;5;28;43;01mNone\u001b[39;49;00m\u001b[43m,\u001b[49m\u001b[43m \u001b[49m\u001b[43mfscope\u001b[49m\u001b[43m)\u001b[49m\n",
      "\u001b[0;31mTypeError\u001b[0m: Exception encountered when calling layer 'keras_layer' (type KerasLayer).\n\nin user code:\n\n    File \"/tmp/tf-venv/lib/python3.10/site-packages/tensorflow_hub/keras_layer.py\", line 242, in call  *\n        result = f()\n\n    TypeError: Binding inputs to tf.function failed due to `Can not cast TensorSpec(shape=(None, 250), dtype=tf.string, name=None) to TensorSpec(shape=(None,), dtype=tf.string, name=None)`. Received args: (<tf.Tensor 'sequential/Cast:0' shape=(None, 250) dtype=string>,) and kwargs: {} for signature: (sentences: TensorSpec(shape=(None,), dtype=tf.string, name=None)).\n\n\nCall arguments received by layer 'keras_layer' (type KerasLayer):\n  • inputs=tf.Tensor(shape=(None, 250), dtype=string)\n  • training=None"
     ]
    }
   ],
   "source": [
    "export_model = tf.keras.Sequential([\n",
    "    vectorize_layer,\n",
    "    model,\n",
    "    layers.Activation('sigmoid')\n",
    "])\n",
    "\n",
    "\n",
    "# bce 概率值值域范围 [0, 1]\n",
    "#则应该设置为 from_logits=False，否则设置为True\n",
    "\n",
    "export_model.compile(\n",
    "    loss=losses.BinaryCrossentropy(from_logits=True), optimizer=optimizer, metrics=['accuracy']\n",
    ")\n",
    "\n",
    "# 直接评估，无需拟合，使用raw数据集\n",
    "export_model.evaluate(raw_test_ds)\n",
    "\n",
    "\n",
    "examples = [\n",
    "  \"The movie was great!\",\n",
    "  \"The movie was okay.\",\n",
    "  \"The movie was terrible...\"\n",
    "]\n",
    "\n",
    "export_model.predict(examples)"
   ]
  },
  {
   "cell_type": "markdown",
   "id": "8b0d5e78-73ac-4a6e-9178-3409b7e59cb8",
   "metadata": {},
   "source": [
    "## BERT"
   ]
  },
  {
   "cell_type": "code",
   "execution_count": null,
   "id": "09024848-01d6-47b7-b4d0-110020bb47ff",
   "metadata": {},
   "outputs": [],
   "source": []
  }
 ],
 "metadata": {
  "kernelspec": {
   "display_name": "Python 3 (ipykernel)",
   "language": "python",
   "name": "python3"
  },
  "language_info": {
   "codemirror_mode": {
    "name": "ipython",
    "version": 3
   },
   "file_extension": ".py",
   "mimetype": "text/x-python",
   "name": "python",
   "nbconvert_exporter": "python",
   "pygments_lexer": "ipython3",
   "version": "3.10.12"
  }
 },
 "nbformat": 4,
 "nbformat_minor": 5
}
